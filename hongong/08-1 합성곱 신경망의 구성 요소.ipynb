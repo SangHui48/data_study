{
 "cells": [
  {
   "cell_type": "markdown",
   "metadata": {},
   "source": [
    "# 합성곱 신경망의 구성 요소\n",
    "#### 핵심 키워드: 합성곱, 필터, 특성 맵, 패딩, 스트라이드, 풀링"
   ]
  },
  {
   "cell_type": "code",
   "execution_count": null,
   "metadata": {},
   "outputs": [],
   "source": [
    "from tensorflow import keras\n",
    "keras.layers.Conv2D(10, kernel_size=(3,3), activation='relu')"
   ]
  },
  {
   "cell_type": "code",
   "execution_count": null,
   "metadata": {},
   "outputs": [],
   "source": [
    "keras.layers.Conv2D(10, kernel_size=(3, 3), activation='relu', padding='same')"
   ]
  },
  {
   "cell_type": "markdown",
   "metadata": {},
   "source": [
    "* **합성곱**은 밀집층과 비슷하게 입력과 가중치를 곱하고 절편을 더하는 선형 계산이다. 하지만 밀집층과 달리 각 합성곱은 입력 전체가 아니라 일부만 사용하여 선형 계산을 수행한다.\n",
    "* 합성곱 층의 **필터**는 밀집층의 뉴런에 해당한다. 필터의 가중치와 절편을 종종 커널이라고 부른다. 자주 사용되는 커널의 크기는 (3,3) 또는 (5,5)이다. 커널의 깊이는 입력의 깊이와 같다.\n",
    "* **특성 맵**은 합성곱 층이나 풀링 층의 출력 배열을 의미한다. 필터 하나가 하나의 특성 맵을 만든다. 합성곱 층에서 5개의 필터를 적용하면 5개의 특성 맵이 만들어진다.\n",
    "* **패딩**은 합성곱 층의 입력 주위에 추가한 0으로 채워진 픽셀이다. 패딩을 사용하지 않는 것을 밸리드 패딩이라고 한다. 합성곱 층의 출력 크기를 입력과 동일하게 만들기 위해 입력에 패딩을 추가하는 것을 세임 패딩이라고 한다.\n",
    "* **스트라이드**는 합성곱 층에서 필터가 입력 위를 이동하는 크기이다. 일반적으로 스트라이드는 1픽셀을 사용한다.\n",
    "* **풀링**은 가중치가 없고 특성 맵의 가로세로 크기를 줄이는 역할을 수행한다. 대표적으로 최대풀링과 평균풀링이 있으며 (2,2) 풀링으로 입력을 절반으로 줄인다."
   ]
  },
  {
   "cell_type": "markdown",
   "metadata": {},
   "source": []
  }
 ],
 "metadata": {
  "kernelspec": {
   "display_name": "Python 3.8.13 ('hongong')",
   "language": "python",
   "name": "python3"
  },
  "language_info": {
   "codemirror_mode": {
    "name": "ipython",
    "version": 3
   },
   "file_extension": ".py",
   "mimetype": "text/x-python",
   "name": "python",
   "nbconvert_exporter": "python",
   "pygments_lexer": "ipython3",
   "version": "3.8.13"
  },
  "orig_nbformat": 4,
  "vscode": {
   "interpreter": {
    "hash": "47060db7b4131a050c116dcb884f3b6d5803ef221a5d5ec6d93aa64695a9c85b"
   }
  }
 },
 "nbformat": 4,
 "nbformat_minor": 2
}
