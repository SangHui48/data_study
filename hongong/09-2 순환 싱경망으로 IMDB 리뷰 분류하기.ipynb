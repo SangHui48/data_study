{
 "cells": [
  {
   "cell_type": "markdown",
   "metadata": {},
   "source": [
    "# 순환 싱경망으로 IMDB 리뷰 분류하기\n",
    "#### 핵심 키워드: 말뭉치, 토큰, 원-핫 인코딩, 단어 임배딩"
   ]
  },
  {
   "cell_type": "code",
   "execution_count": 1,
   "metadata": {},
   "outputs": [],
   "source": [
    "from tensorflow.keras.datasets import imdb\n",
    "(train_input, train_target), (test_input, test_target) = imdb.load_data(num_words=500)"
   ]
  },
  {
   "cell_type": "code",
   "execution_count": 2,
   "metadata": {},
   "outputs": [
    {
     "name": "stdout",
     "output_type": "stream",
     "text": [
      "(25000,) (25000,)\n"
     ]
    }
   ],
   "source": [
    "print(train_input.shape, test_input.shape)"
   ]
  },
  {
   "cell_type": "code",
   "execution_count": 3,
   "metadata": {},
   "outputs": [
    {
     "name": "stdout",
     "output_type": "stream",
     "text": [
      "218\n"
     ]
    }
   ],
   "source": [
    "print(len(train_input[0]))"
   ]
  },
  {
   "cell_type": "code",
   "execution_count": 4,
   "metadata": {},
   "outputs": [
    {
     "name": "stdout",
     "output_type": "stream",
     "text": [
      "189\n"
     ]
    }
   ],
   "source": [
    "print(len(train_input[1]))"
   ]
  },
  {
   "cell_type": "code",
   "execution_count": 5,
   "metadata": {},
   "outputs": [
    {
     "name": "stdout",
     "output_type": "stream",
     "text": [
      "[1, 14, 22, 16, 43, 2, 2, 2, 2, 65, 458, 2, 66, 2, 4, 173, 36, 256, 5, 25, 100, 43, 2, 112, 50, 2, 2, 9, 35, 480, 284, 5, 150, 4, 172, 112, 167, 2, 336, 385, 39, 4, 172, 2, 2, 17, 2, 38, 13, 447, 4, 192, 50, 16, 6, 147, 2, 19, 14, 22, 4, 2, 2, 469, 4, 22, 71, 87, 12, 16, 43, 2, 38, 76, 15, 13, 2, 4, 22, 17, 2, 17, 12, 16, 2, 18, 2, 5, 62, 386, 12, 8, 316, 8, 106, 5, 4, 2, 2, 16, 480, 66, 2, 33, 4, 130, 12, 16, 38, 2, 5, 25, 124, 51, 36, 135, 48, 25, 2, 33, 6, 22, 12, 215, 28, 77, 52, 5, 14, 407, 16, 82, 2, 8, 4, 107, 117, 2, 15, 256, 4, 2, 7, 2, 5, 2, 36, 71, 43, 2, 476, 26, 400, 317, 46, 7, 4, 2, 2, 13, 104, 88, 4, 381, 15, 297, 98, 32, 2, 56, 26, 141, 6, 194, 2, 18, 4, 226, 22, 21, 134, 476, 26, 480, 5, 144, 30, 2, 18, 51, 36, 28, 224, 92, 25, 104, 4, 226, 65, 16, 38, 2, 88, 12, 16, 283, 5, 16, 2, 113, 103, 32, 15, 16, 2, 19, 178, 32]\n"
     ]
    }
   ],
   "source": [
    "print(train_input[0])"
   ]
  },
  {
   "cell_type": "code",
   "execution_count": 6,
   "metadata": {},
   "outputs": [
    {
     "name": "stdout",
     "output_type": "stream",
     "text": [
      "[1 0 0 1 0 0 1 0 1 0 1 0 0 0 0 0 1 1 0 1]\n"
     ]
    }
   ],
   "source": [
    "print(train_target[:20])"
   ]
  },
  {
   "cell_type": "code",
   "execution_count": 7,
   "metadata": {},
   "outputs": [],
   "source": [
    "from sklearn.model_selection import train_test_split\n",
    "train_input, val_input, train_target, val_target = train_test_split(train_input, train_target, test_size=0.2, random_state=42)"
   ]
  },
  {
   "cell_type": "code",
   "execution_count": 8,
   "metadata": {},
   "outputs": [],
   "source": [
    "import numpy as np\n",
    "lengths = np.array([len(x) for x in train_input])"
   ]
  },
  {
   "cell_type": "code",
   "execution_count": 9,
   "metadata": {},
   "outputs": [
    {
     "name": "stdout",
     "output_type": "stream",
     "text": [
      "239.00925 178.0\n"
     ]
    }
   ],
   "source": [
    "print(np.mean(lengths), np.median(lengths))"
   ]
  },
  {
   "cell_type": "code",
   "execution_count": 10,
   "metadata": {},
   "outputs": [
    {
     "data": {
      "image/png": "[encoded data removed]",
      "text/plain": [
       "<Figure size 432x288 with 1 Axes>"
      ]
     },
     "metadata": {
      "needs_background": "light"
     },
     "output_type": "display_data"
    }
   ],
   "source": [
    "import matplotlib.pyplot as plt\n",
    "plt.hist(lengths)\n",
    "plt.xlabel('length')\n",
    "plt.ylabel('frequency')\n",
    "plt.show()"
   ]
  },
  {
   "cell_type": "code",
   "execution_count": 11,
   "metadata": {},
   "outputs": [],
   "source": [
    "from tensorflow.keras.preprocessing.sequence import pad_sequences\n",
    "train_seq = pad_sequences(train_input, maxlen=100)"
   ]
  },
  {
   "cell_type": "code",
   "execution_count": 12,
   "metadata": {},
   "outputs": [
    {
     "name": "stdout",
     "output_type": "stream",
     "text": [
      "(20000, 100)\n"
     ]
    }
   ],
   "source": [
    "print(train_seq.shape)"
   ]
  },
  {
   "cell_type": "code",
   "execution_count": 13,
   "metadata": {},
   "outputs": [
    {
     "name": "stdout",
     "output_type": "stream",
     "text": [
      "[ 10   4  20   9   2 364 352   5  45   6   2   2  33 269   8   2 142   2\n",
      "   5   2  17  73  17 204   5   2  19  55   2   2  92  66 104  14  20  93\n",
      "  76   2 151  33   4  58  12 188   2 151  12 215  69 224 142  73 237   6\n",
      "   2   7   2   2 188   2 103  14  31  10  10 451   7   2   5   2  80  91\n",
      "   2  30   2  34  14  20 151  50  26 131  49   2  84  46  50  37  80  79\n",
      "   6   2  46   7  14  20  10  10 470 158]\n"
     ]
    }
   ],
   "source": [
    "print(train_seq[0])"
   ]
  },
  {
   "cell_type": "code",
   "execution_count": 14,
   "metadata": {},
   "outputs": [
    {
     "name": "stdout",
     "output_type": "stream",
     "text": [
      "[6, 2, 46, 7, 14, 20, 10, 10, 470, 158]\n"
     ]
    }
   ],
   "source": [
    "print(train_input[0][-10:])"
   ]
  },
  {
   "cell_type": "code",
   "execution_count": 15,
   "metadata": {},
   "outputs": [
    {
     "name": "stdout",
     "output_type": "stream",
     "text": [
      "[  0   0   0   0   1   2 195  19  49   2   2 190   4   2 352   2 183  10\n",
      "  10  13  82  79   4   2  36  71 269   8   2  25  19  49   7   4   2   2\n",
      "   2   2   2  10  10  48  25  40   2  11   2   2  40   2   2   5   4   2\n",
      "   2  95  14 238  56 129   2  10  10  21   2  94 364 352   2   2  11 190\n",
      "  24 484   2   7  94 205 405  10  10  87   2  34  49   2   7   2   2   2\n",
      "   2   2 290   2  46  48  64  18   4   2]\n"
     ]
    }
   ],
   "source": [
    "print(train_seq[5])"
   ]
  },
  {
   "cell_type": "code",
   "execution_count": 16,
   "metadata": {},
   "outputs": [],
   "source": [
    "val_seq = pad_sequences(val_input, maxlen=100)"
   ]
  },
  {
   "cell_type": "code",
   "execution_count": 17,
   "metadata": {},
   "outputs": [],
   "source": [
    "from tensorflow import keras\n",
    "model = keras.Sequential()\n",
    "model.add(keras.layers.SimpleRNN(8, input_shape=(100, 500)))\n",
    "model.add(keras.layers.Dense(1, activation='sigmoid'))"
   ]
  },
  {
   "cell_type": "code",
   "execution_count": 18,
   "metadata": {},
   "outputs": [],
   "source": [
    "train_oh = keras.utils.to_categorical(train_seq)"
   ]
  },
  {
   "cell_type": "code",
   "execution_count": 19,
   "metadata": {},
   "outputs": [
    {
     "name": "stdout",
     "output_type": "stream",
     "text": [
      "(20000, 100, 500)\n"
     ]
    }
   ],
   "source": [
    "print(train_oh.shape)"
   ]
  },
  {
   "cell_type": "code",
   "execution_count": 20,
   "metadata": {},
   "outputs": [
    {
     "name": "stdout",
     "output_type": "stream",
     "text": [
      "[0. 0. 0. 0. 0. 0. 0. 0. 0. 0. 1. 0.]\n"
     ]
    }
   ],
   "source": [
    "print(train_oh[0][0][:12])"
   ]
  },
  {
   "cell_type": "code",
   "execution_count": 21,
   "metadata": {},
   "outputs": [
    {
     "name": "stdout",
     "output_type": "stream",
     "text": [
      "1.0\n"
     ]
    }
   ],
   "source": [
    "print(np.sum(train_oh[0][0]))"
   ]
  },
  {
   "cell_type": "code",
   "execution_count": 22,
   "metadata": {},
   "outputs": [],
   "source": [
    "val_oh = keras.utils.to_categorical(val_seq)"
   ]
  },
  {
   "cell_type": "code",
   "execution_count": 23,
   "metadata": {},
   "outputs": [
    {
     "name": "stdout",
     "output_type": "stream",
     "text": [
      "Model: \"sequential\"\n",
      "_________________________________________________________________\n",
      " Layer (type)                Output Shape              Param #   \n",
      "=================================================================\n",
      " simple_rnn (SimpleRNN)      (None, 8)                 4072      \n",
      "                                                                 \n",
      " dense (Dense)               (None, 1)                 9         \n",
      "                                                                 \n",
      "=================================================================\n",
      "Total params: 4,081\n",
      "Trainable params: 4,081\n",
      "Non-trainable params: 0\n",
      "_________________________________________________________________\n"
     ]
    }
   ],
   "source": [
    "model.summary()"
   ]
  },
  {
   "cell_type": "code",
   "execution_count": 24,
   "metadata": {},
   "outputs": [
    {
     "name": "stdout",
     "output_type": "stream",
     "text": [
      "Epoch 1/100\n",
      "313/313 [==============================] - 11s 27ms/step - loss: 0.6994 - accuracy: 0.4944 - val_loss: 0.6990 - val_accuracy: 0.4924\n",
      "Epoch 2/100\n",
      "313/313 [==============================] - 9s 28ms/step - loss: 0.6955 - accuracy: 0.5013 - val_loss: 0.6969 - val_accuracy: 0.4918\n",
      "Epoch 3/100\n",
      "313/313 [==============================] - 8s 26ms/step - loss: 0.6933 - accuracy: 0.5120 - val_loss: 0.6956 - val_accuracy: 0.4988\n",
      "Epoch 4/100\n",
      "313/313 [==============================] - 8s 26ms/step - loss: 0.6916 - accuracy: 0.5193 - val_loss: 0.6944 - val_accuracy: 0.5014\n",
      "Epoch 5/100\n",
      "313/313 [==============================] - 8s 25ms/step - loss: 0.6900 - accuracy: 0.5255 - val_loss: 0.6935 - val_accuracy: 0.5078\n",
      "Epoch 6/100\n",
      "313/313 [==============================] - 7s 21ms/step - loss: 0.6884 - accuracy: 0.5354 - val_loss: 0.6925 - val_accuracy: 0.5122\n",
      "Epoch 7/100\n",
      "313/313 [==============================] - 7s 21ms/step - loss: 0.6867 - accuracy: 0.5414 - val_loss: 0.6917 - val_accuracy: 0.5160\n",
      "Epoch 8/100\n",
      "313/313 [==============================] - 8s 27ms/step - loss: 0.6850 - accuracy: 0.5494 - val_loss: 0.6908 - val_accuracy: 0.5208\n",
      "Epoch 9/100\n",
      "313/313 [==============================] - 7s 22ms/step - loss: 0.6831 - accuracy: 0.5574 - val_loss: 0.6899 - val_accuracy: 0.5282\n",
      "Epoch 10/100\n",
      "313/313 [==============================] - 7s 24ms/step - loss: 0.6811 - accuracy: 0.5639 - val_loss: 0.6888 - val_accuracy: 0.5322\n",
      "Epoch 11/100\n",
      "313/313 [==============================] - 8s 26ms/step - loss: 0.6787 - accuracy: 0.5692 - val_loss: 0.6873 - val_accuracy: 0.5398\n",
      "Epoch 12/100\n",
      "313/313 [==============================] - 7s 23ms/step - loss: 0.6743 - accuracy: 0.5825 - val_loss: 0.6808 - val_accuracy: 0.5586\n",
      "Epoch 13/100\n",
      "313/313 [==============================] - 7s 21ms/step - loss: 0.6622 - accuracy: 0.6163 - val_loss: 0.6669 - val_accuracy: 0.6046\n",
      "Epoch 14/100\n",
      "313/313 [==============================] - 7s 21ms/step - loss: 0.6473 - accuracy: 0.6486 - val_loss: 0.6533 - val_accuracy: 0.6294\n",
      "Epoch 15/100\n",
      "313/313 [==============================] - 8s 25ms/step - loss: 0.6329 - accuracy: 0.6710 - val_loss: 0.6410 - val_accuracy: 0.6488\n",
      "Epoch 16/100\n",
      "313/313 [==============================] - 7s 22ms/step - loss: 0.6185 - accuracy: 0.6856 - val_loss: 0.6253 - val_accuracy: 0.6760\n",
      "Epoch 17/100\n",
      "313/313 [==============================] - 7s 21ms/step - loss: 0.6039 - accuracy: 0.7003 - val_loss: 0.6113 - val_accuracy: 0.6902\n",
      "Epoch 18/100\n",
      "313/313 [==============================] - 7s 21ms/step - loss: 0.5901 - accuracy: 0.7095 - val_loss: 0.5978 - val_accuracy: 0.7006\n",
      "Epoch 19/100\n",
      "313/313 [==============================] - 7s 21ms/step - loss: 0.5754 - accuracy: 0.7200 - val_loss: 0.5862 - val_accuracy: 0.7102\n",
      "Epoch 20/100\n",
      "313/313 [==============================] - 7s 21ms/step - loss: 0.5618 - accuracy: 0.7272 - val_loss: 0.5740 - val_accuracy: 0.7126\n",
      "Epoch 21/100\n",
      "313/313 [==============================] - 7s 22ms/step - loss: 0.5503 - accuracy: 0.7358 - val_loss: 0.5680 - val_accuracy: 0.7198\n",
      "Epoch 22/100\n",
      "313/313 [==============================] - 8s 24ms/step - loss: 0.5402 - accuracy: 0.7434 - val_loss: 0.5563 - val_accuracy: 0.7350\n",
      "Epoch 23/100\n",
      "313/313 [==============================] - 7s 21ms/step - loss: 0.5300 - accuracy: 0.7512 - val_loss: 0.5484 - val_accuracy: 0.7372\n",
      "Epoch 24/100\n",
      "313/313 [==============================] - 7s 21ms/step - loss: 0.5204 - accuracy: 0.7582 - val_loss: 0.5410 - val_accuracy: 0.7410\n",
      "Epoch 25/100\n",
      "313/313 [==============================] - 7s 21ms/step - loss: 0.5108 - accuracy: 0.7631 - val_loss: 0.5343 - val_accuracy: 0.7424\n",
      "Epoch 26/100\n",
      "313/313 [==============================] - 7s 21ms/step - loss: 0.5026 - accuracy: 0.7685 - val_loss: 0.5274 - val_accuracy: 0.7484\n",
      "Epoch 27/100\n",
      "313/313 [==============================] - 7s 21ms/step - loss: 0.4947 - accuracy: 0.7722 - val_loss: 0.5200 - val_accuracy: 0.7538\n",
      "Epoch 28/100\n",
      "313/313 [==============================] - 6s 21ms/step - loss: 0.4877 - accuracy: 0.7775 - val_loss: 0.5149 - val_accuracy: 0.7584\n",
      "Epoch 29/100\n",
      "313/313 [==============================] - 7s 21ms/step - loss: 0.4806 - accuracy: 0.7811 - val_loss: 0.5110 - val_accuracy: 0.7566\n",
      "Epoch 30/100\n",
      "313/313 [==============================] - 7s 21ms/step - loss: 0.4740 - accuracy: 0.7844 - val_loss: 0.5058 - val_accuracy: 0.7602\n",
      "Epoch 31/100\n",
      "313/313 [==============================] - 7s 21ms/step - loss: 0.4674 - accuracy: 0.7890 - val_loss: 0.5005 - val_accuracy: 0.7656\n",
      "Epoch 32/100\n",
      "313/313 [==============================] - 7s 21ms/step - loss: 0.4623 - accuracy: 0.7919 - val_loss: 0.4971 - val_accuracy: 0.7654\n",
      "Epoch 33/100\n",
      "313/313 [==============================] - 7s 21ms/step - loss: 0.4567 - accuracy: 0.7944 - val_loss: 0.4935 - val_accuracy: 0.7694\n",
      "Epoch 34/100\n",
      "313/313 [==============================] - 7s 21ms/step - loss: 0.4519 - accuracy: 0.7992 - val_loss: 0.4900 - val_accuracy: 0.7722\n",
      "Epoch 35/100\n",
      "313/313 [==============================] - 7s 21ms/step - loss: 0.4481 - accuracy: 0.7997 - val_loss: 0.4848 - val_accuracy: 0.7746\n",
      "Epoch 36/100\n",
      "313/313 [==============================] - 7s 21ms/step - loss: 0.4438 - accuracy: 0.8034 - val_loss: 0.4818 - val_accuracy: 0.7772\n",
      "Epoch 37/100\n",
      "313/313 [==============================] - 7s 21ms/step - loss: 0.4405 - accuracy: 0.8054 - val_loss: 0.4809 - val_accuracy: 0.7772\n",
      "Epoch 38/100\n",
      "313/313 [==============================] - 7s 21ms/step - loss: 0.4370 - accuracy: 0.8067 - val_loss: 0.4781 - val_accuracy: 0.7780\n",
      "Epoch 39/100\n",
      "313/313 [==============================] - 7s 21ms/step - loss: 0.4341 - accuracy: 0.8084 - val_loss: 0.4751 - val_accuracy: 0.7792\n",
      "Epoch 40/100\n",
      "313/313 [==============================] - 7s 21ms/step - loss: 0.4312 - accuracy: 0.8081 - val_loss: 0.4727 - val_accuracy: 0.7822\n",
      "Epoch 41/100\n",
      "313/313 [==============================] - 7s 21ms/step - loss: 0.4283 - accuracy: 0.8105 - val_loss: 0.4792 - val_accuracy: 0.7732\n",
      "Epoch 42/100\n",
      "313/313 [==============================] - 7s 21ms/step - loss: 0.4262 - accuracy: 0.8124 - val_loss: 0.4682 - val_accuracy: 0.7836\n",
      "Epoch 43/100\n",
      "313/313 [==============================] - 7s 21ms/step - loss: 0.4239 - accuracy: 0.8134 - val_loss: 0.4668 - val_accuracy: 0.7838\n",
      "Epoch 44/100\n",
      "313/313 [==============================] - 7s 21ms/step - loss: 0.4209 - accuracy: 0.8158 - val_loss: 0.4687 - val_accuracy: 0.7848\n",
      "Epoch 45/100\n",
      "313/313 [==============================] - 7s 21ms/step - loss: 0.4192 - accuracy: 0.8157 - val_loss: 0.4667 - val_accuracy: 0.7854\n",
      "Epoch 46/100\n",
      "313/313 [==============================] - 6s 21ms/step - loss: 0.4172 - accuracy: 0.8168 - val_loss: 0.4640 - val_accuracy: 0.7864\n",
      "Epoch 47/100\n",
      "313/313 [==============================] - 7s 21ms/step - loss: 0.4155 - accuracy: 0.8171 - val_loss: 0.4622 - val_accuracy: 0.7864\n",
      "Epoch 48/100\n",
      "313/313 [==============================] - 7s 21ms/step - loss: 0.4140 - accuracy: 0.8183 - val_loss: 0.4610 - val_accuracy: 0.7878\n",
      "Epoch 49/100\n",
      "313/313 [==============================] - 7s 21ms/step - loss: 0.4120 - accuracy: 0.8195 - val_loss: 0.4601 - val_accuracy: 0.7886\n",
      "Epoch 50/100\n",
      "313/313 [==============================] - 7s 21ms/step - loss: 0.4105 - accuracy: 0.8185 - val_loss: 0.4597 - val_accuracy: 0.7878\n",
      "Epoch 51/100\n",
      "313/313 [==============================] - 6s 21ms/step - loss: 0.4085 - accuracy: 0.8216 - val_loss: 0.4597 - val_accuracy: 0.7886\n",
      "Epoch 52/100\n",
      "313/313 [==============================] - 7s 21ms/step - loss: 0.4070 - accuracy: 0.8220 - val_loss: 0.4589 - val_accuracy: 0.7892\n",
      "Epoch 53/100\n",
      "313/313 [==============================] - 7s 21ms/step - loss: 0.4054 - accuracy: 0.8224 - val_loss: 0.4772 - val_accuracy: 0.7812\n",
      "Epoch 54/100\n",
      "313/313 [==============================] - 7s 21ms/step - loss: 0.4047 - accuracy: 0.8234 - val_loss: 0.4585 - val_accuracy: 0.7892\n",
      "Epoch 55/100\n",
      "313/313 [==============================] - 6s 21ms/step - loss: 0.4031 - accuracy: 0.8240 - val_loss: 0.4584 - val_accuracy: 0.7886\n",
      "Epoch 56/100\n",
      "313/313 [==============================] - 7s 21ms/step - loss: 0.4014 - accuracy: 0.8238 - val_loss: 0.4658 - val_accuracy: 0.7876\n",
      "Epoch 57/100\n",
      "313/313 [==============================] - 7s 21ms/step - loss: 0.4003 - accuracy: 0.8249 - val_loss: 0.4572 - val_accuracy: 0.7894\n",
      "Epoch 58/100\n",
      "313/313 [==============================] - 7s 21ms/step - loss: 0.3987 - accuracy: 0.8256 - val_loss: 0.4572 - val_accuracy: 0.7862\n",
      "Epoch 59/100\n",
      "313/313 [==============================] - 7s 21ms/step - loss: 0.3979 - accuracy: 0.8260 - val_loss: 0.4588 - val_accuracy: 0.7852\n",
      "Epoch 60/100\n",
      "313/313 [==============================] - 7s 22ms/step - loss: 0.3963 - accuracy: 0.8262 - val_loss: 0.4570 - val_accuracy: 0.7900\n",
      "Epoch 61/100\n",
      "313/313 [==============================] - 7s 22ms/step - loss: 0.3949 - accuracy: 0.8262 - val_loss: 0.4570 - val_accuracy: 0.7888\n",
      "Epoch 62/100\n",
      "313/313 [==============================] - 7s 21ms/step - loss: 0.3942 - accuracy: 0.8278 - val_loss: 0.4681 - val_accuracy: 0.7868\n",
      "Epoch 63/100\n",
      "313/313 [==============================] - 7s 21ms/step - loss: 0.3927 - accuracy: 0.8277 - val_loss: 0.4617 - val_accuracy: 0.7878\n"
     ]
    }
   ],
   "source": [
    "rmsprop = keras.optimizers.RMSprop(learning_rate=1e-4)\n",
    "model.compile(optimizer=rmsprop, loss='binary_crossentropy', metrics=['accuracy'])\n",
    "checkpoint_cb = keras.callbacks.ModelCheckpoint('best-simplernn-model.h5')\n",
    "early_stopping_cb = keras.callbacks.EarlyStopping(patience=3, restore_best_weights=True)\n",
    "history = model.fit(train_oh, train_target, epochs=100, batch_size=64, validation_data=(val_oh, val_target), callbacks=[checkpoint_cb, early_stopping_cb])"
   ]
  },
  {
   "cell_type": "code",
   "execution_count": 25,
   "metadata": {},
   "outputs": [
    {
     "data": {
      "image/png": "[encoded data removed]",
      "text/plain": [
       "<Figure size 432x288 with 1 Axes>"
      ]
     },
     "metadata": {
      "needs_background": "light"
     },
     "output_type": "display_data"
    }
   ],
   "source": [
    "plt.plot(history.history['loss'])\n",
    "plt.plot(history.history['val_loss'])\n",
    "plt.xlabel('epoch')\n",
    "plt.ylabel('loss')\n",
    "plt.legend(['train', 'val'])\n",
    "plt.show()"
   ]
  },
  {
   "cell_type": "code",
   "execution_count": 26,
   "metadata": {},
   "outputs": [
    {
     "name": "stdout",
     "output_type": "stream",
     "text": [
      "8000000 4000000000\n"
     ]
    }
   ],
   "source": [
    "print(train_seq.nbytes, train_oh.nbytes)"
   ]
  },
  {
   "cell_type": "code",
   "execution_count": 28,
   "metadata": {},
   "outputs": [],
   "source": [
    "model2 = keras.Sequential()\n",
    "model2.add(keras.layers.Embedding(500, 16, input_length=100))\n",
    "model2.add(keras.layers.SimpleRNN(8))\n",
    "model2.add(keras.layers.Dense(1, activation='sigmoid'))"
   ]
  },
  {
   "cell_type": "code",
   "execution_count": 30,
   "metadata": {},
   "outputs": [
    {
     "name": "stdout",
     "output_type": "stream",
     "text": [
      "Model: \"sequential_2\"\n",
      "_________________________________________________________________\n",
      " Layer (type)                Output Shape              Param #   \n",
      "=================================================================\n",
      " embedding_1 (Embedding)     (None, 100, 16)           8000      \n",
      "                                                                 \n",
      " simple_rnn_2 (SimpleRNN)    (None, 8)                 200       \n",
      "                                                                 \n",
      " dense_1 (Dense)             (None, 1)                 9         \n",
      "                                                                 \n",
      "=================================================================\n",
      "Total params: 8,209\n",
      "Trainable params: 8,209\n",
      "Non-trainable params: 0\n",
      "_________________________________________________________________\n"
     ]
    }
   ],
   "source": [
    "model2.summary()"
   ]
  },
  {
   "cell_type": "code",
   "execution_count": 31,
   "metadata": {},
   "outputs": [
    {
     "name": "stdout",
     "output_type": "stream",
     "text": [
      "Epoch 1/100\n",
      "313/313 [==============================] - 7s 17ms/step - loss: 0.6777 - accuracy: 0.5814 - val_loss: 0.6584 - val_accuracy: 0.6480\n",
      "Epoch 2/100\n",
      "313/313 [==============================] - 5s 16ms/step - loss: 0.6462 - accuracy: 0.6784 - val_loss: 0.6331 - val_accuracy: 0.7032\n",
      "Epoch 3/100\n",
      "313/313 [==============================] - 6s 19ms/step - loss: 0.6233 - accuracy: 0.7177 - val_loss: 0.6167 - val_accuracy: 0.7244\n",
      "Epoch 4/100\n",
      "313/313 [==============================] - 6s 18ms/step - loss: 0.6038 - accuracy: 0.7390 - val_loss: 0.5977 - val_accuracy: 0.7414\n",
      "Epoch 5/100\n",
      "313/313 [==============================] - 5s 16ms/step - loss: 0.5868 - accuracy: 0.7517 - val_loss: 0.5879 - val_accuracy: 0.7472\n",
      "Epoch 6/100\n",
      "313/313 [==============================] - 5s 16ms/step - loss: 0.5720 - accuracy: 0.7632 - val_loss: 0.5710 - val_accuracy: 0.7638\n",
      "Epoch 7/100\n",
      "313/313 [==============================] - 5s 17ms/step - loss: 0.5576 - accuracy: 0.7707 - val_loss: 0.5591 - val_accuracy: 0.7708\n",
      "Epoch 8/100\n",
      "313/313 [==============================] - 5s 18ms/step - loss: 0.5457 - accuracy: 0.7764 - val_loss: 0.5494 - val_accuracy: 0.7664\n",
      "Epoch 9/100\n",
      "313/313 [==============================] - 5s 17ms/step - loss: 0.5344 - accuracy: 0.7811 - val_loss: 0.5417 - val_accuracy: 0.7628\n",
      "Epoch 10/100\n",
      "313/313 [==============================] - 5s 17ms/step - loss: 0.5229 - accuracy: 0.7865 - val_loss: 0.5305 - val_accuracy: 0.7790\n",
      "Epoch 11/100\n",
      "313/313 [==============================] - 5s 17ms/step - loss: 0.5136 - accuracy: 0.7901 - val_loss: 0.5259 - val_accuracy: 0.7748\n",
      "Epoch 12/100\n",
      "313/313 [==============================] - 5s 16ms/step - loss: 0.5044 - accuracy: 0.7934 - val_loss: 0.5165 - val_accuracy: 0.7752\n",
      "Epoch 13/100\n",
      "313/313 [==============================] - 5s 16ms/step - loss: 0.4958 - accuracy: 0.7972 - val_loss: 0.5102 - val_accuracy: 0.7772\n",
      "Epoch 14/100\n",
      "313/313 [==============================] - 5s 16ms/step - loss: 0.4881 - accuracy: 0.7980 - val_loss: 0.5046 - val_accuracy: 0.7774\n",
      "Epoch 15/100\n",
      "313/313 [==============================] - 5s 16ms/step - loss: 0.4805 - accuracy: 0.8018 - val_loss: 0.5019 - val_accuracy: 0.7774\n",
      "Epoch 16/100\n",
      "313/313 [==============================] - 5s 16ms/step - loss: 0.4741 - accuracy: 0.8019 - val_loss: 0.4959 - val_accuracy: 0.7784\n",
      "Epoch 17/100\n",
      "313/313 [==============================] - 5s 16ms/step - loss: 0.4682 - accuracy: 0.8040 - val_loss: 0.4956 - val_accuracy: 0.7798\n",
      "Epoch 18/100\n",
      "313/313 [==============================] - 5s 16ms/step - loss: 0.4628 - accuracy: 0.8047 - val_loss: 0.4917 - val_accuracy: 0.7778\n",
      "Epoch 19/100\n",
      "313/313 [==============================] - 5s 16ms/step - loss: 0.4568 - accuracy: 0.8077 - val_loss: 0.4916 - val_accuracy: 0.7770\n",
      "Epoch 20/100\n",
      "313/313 [==============================] - 5s 16ms/step - loss: 0.4518 - accuracy: 0.8088 - val_loss: 0.4850 - val_accuracy: 0.7818\n",
      "Epoch 21/100\n",
      "313/313 [==============================] - 5s 16ms/step - loss: 0.4487 - accuracy: 0.8091 - val_loss: 0.4798 - val_accuracy: 0.7834\n",
      "Epoch 22/100\n",
      "313/313 [==============================] - 5s 16ms/step - loss: 0.4438 - accuracy: 0.8112 - val_loss: 0.4769 - val_accuracy: 0.7858\n",
      "Epoch 23/100\n",
      "313/313 [==============================] - 5s 16ms/step - loss: 0.4391 - accuracy: 0.8146 - val_loss: 0.4757 - val_accuracy: 0.7852\n",
      "Epoch 24/100\n",
      "313/313 [==============================] - 5s 16ms/step - loss: 0.4350 - accuracy: 0.8145 - val_loss: 0.4816 - val_accuracy: 0.7748\n",
      "Epoch 25/100\n",
      "313/313 [==============================] - 5s 16ms/step - loss: 0.4313 - accuracy: 0.8168 - val_loss: 0.4705 - val_accuracy: 0.7894\n",
      "Epoch 26/100\n",
      "313/313 [==============================] - 5s 16ms/step - loss: 0.4280 - accuracy: 0.8176 - val_loss: 0.4724 - val_accuracy: 0.7854\n",
      "Epoch 27/100\n",
      "313/313 [==============================] - 5s 17ms/step - loss: 0.4246 - accuracy: 0.8213 - val_loss: 0.4694 - val_accuracy: 0.7874\n",
      "Epoch 28/100\n",
      "313/313 [==============================] - 6s 18ms/step - loss: 0.4221 - accuracy: 0.8206 - val_loss: 0.4681 - val_accuracy: 0.7880\n",
      "Epoch 29/100\n",
      "313/313 [==============================] - 5s 17ms/step - loss: 0.4180 - accuracy: 0.8223 - val_loss: 0.4687 - val_accuracy: 0.7844\n",
      "Epoch 30/100\n",
      "313/313 [==============================] - 5s 17ms/step - loss: 0.4158 - accuracy: 0.8229 - val_loss: 0.4682 - val_accuracy: 0.7830\n",
      "Epoch 31/100\n",
      "313/313 [==============================] - 5s 17ms/step - loss: 0.4127 - accuracy: 0.8238 - val_loss: 0.4687 - val_accuracy: 0.7844\n"
     ]
    }
   ],
   "source": [
    "rmsprop = keras.optimizers.RMSprop(learning_rate=1e-4)\n",
    "model2.compile(optimizer=rmsprop, loss='binary_crossentropy', metrics=['accuracy'])\n",
    "checkpoint_cb = keras.callbacks.ModelCheckpoint('best-embedding-model.h5')\n",
    "early_stopping_cb = keras.callbacks.EarlyStopping(patience=3, restore_best_weights=True)\n",
    "history = model2.fit(train_seq, train_target, epochs=100, batch_size=64, validation_data=(val_seq, val_target), callbacks=[checkpoint_cb, early_stopping_cb])"
   ]
  },
  {
   "cell_type": "code",
   "execution_count": 32,
   "metadata": {},
   "outputs": [
    {
     "data": {
      "image/png": "[encoded data removed]",
      "text/plain": [
       "<Figure size 432x288 with 1 Axes>"
      ]
     },
     "metadata": {
      "needs_background": "light"
     },
     "output_type": "display_data"
    }
   ],
   "source": [
    "plt.plot(history.history['loss'])\n",
    "plt.plot(history.history['val_loss'])\n",
    "plt.xlabel('epoch')\n",
    "plt.ylabel('loss')\n",
    "plt.legend(['train', 'val'])\n",
    "plt.show()"
   ]
  },
  {
   "cell_type": "markdown",
   "metadata": {},
   "source": [
    "* **말뭉치**는 자연어 처리에서 사용하는 텍스트 데이터의 모음, 즉 훈련 데이터셋을 일컫습니다.\n",
    "* **토큰**은 텍스트에서 공백으로 구분되는 문자열을 말한다. 종종 소문자로 변환하고 구둣점은 삭제한다.\n",
    "* **원-핫 인코딩**은 어떤 클래스에 해당하는 원소만 1이고 나머지는 모두 0인 벡터이다. 정수로 변환된 토큰을 원-핫 인코딩으로 변환하려면 어휘 사전 크기의 벡터가 만들어진다.\n",
    "* **단어 임베딩**은 정수로 변환된 토큰을 비교적 작은 크기의 실수 밀집 벡터로 변환한다. 이런 밀집 벡터는 단어 사이의 관계를 표현할 수 있기 때문에 자연어 처리에서 좋은 성능을 발휘한다."
   ]
  }
 ],
 "metadata": {
  "kernelspec": {
   "display_name": "Python 3.8.13 ('hongong')",
   "language": "python",
   "name": "python3"
  },
  "language_info": {
   "codemirror_mode": {
    "name": "ipython",
    "version": 3
   },
   "file_extension": ".py",
   "mimetype": "text/x-python",
   "name": "python",
   "nbconvert_exporter": "python",
   "pygments_lexer": "ipython3",
   "version": "3.8.13"
  },
  "orig_nbformat": 4,
  "vscode": {
   "interpreter": {
    "hash": "47060db7b4131a050c116dcb884f3b6d5803ef221a5d5ec6d93aa64695a9c85b"
   }
  }
 },
 "nbformat": 4,
 "nbformat_minor": 2
}
