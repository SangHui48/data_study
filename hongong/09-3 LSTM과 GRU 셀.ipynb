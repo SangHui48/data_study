{
 "cells": [
  {
   "cell_type": "markdown",
   "metadata": {},
   "source": [
    "# LSTM과 GRU 셀\n",
    "#### 핵심키워드: LSTM, 셀 상태, GRU"
   ]
  },
  {
   "cell_type": "code",
   "execution_count": 1,
   "metadata": {},
   "outputs": [],
   "source": [
    "from tensorflow.keras.datasets import imdb\n",
    "from sklearn.model_selection import train_test_split\n",
    "\n",
    "(train_input, train_target), (test_input, test_target) = imdb.load_data(num_words=500)\n",
    "\n",
    "train_input, val_input, train_target, val_target = train_test_split(train_input, train_target, test_size=0.2, random_state=42)"
   ]
  },
  {
   "cell_type": "code",
   "execution_count": 2,
   "metadata": {},
   "outputs": [],
   "source": [
    "from tensorflow.keras.preprocessing.sequence import pad_sequences\n",
    "\n",
    "train_seq = pad_sequences(train_input, maxlen=100)\n",
    "val_seq = pad_sequences(val_input, maxlen=100)"
   ]
  },
  {
   "cell_type": "code",
   "execution_count": 3,
   "metadata": {},
   "outputs": [],
   "source": [
    "from tensorflow import keras\n",
    "model = keras.Sequential()\n",
    "model.add(keras.layers.Embedding(500, 16, input_length=100))\n",
    "model.add(keras.layers.LSTM(8))\n",
    "model.add(keras.layers.Dense(1, activation='sigmoid'))"
   ]
  },
  {
   "cell_type": "code",
   "execution_count": 5,
   "metadata": {},
   "outputs": [
    {
     "name": "stdout",
     "output_type": "stream",
     "text": [
      "Model: \"sequential\"\n",
      "_________________________________________________________________\n",
      " Layer (type)                Output Shape              Param #   \n",
      "=================================================================\n",
      " embedding (Embedding)       (None, 100, 16)           8000      \n",
      "                                                                 \n",
      " lstm (LSTM)                 (None, 8)                 800       \n",
      "                                                                 \n",
      " dense (Dense)               (None, 1)                 9         \n",
      "                                                                 \n",
      "=================================================================\n",
      "Total params: 8,809\n",
      "Trainable params: 8,809\n",
      "Non-trainable params: 0\n",
      "_________________________________________________________________\n"
     ]
    }
   ],
   "source": [
    "model.summary()"
   ]
  },
  {
   "cell_type": "code",
   "execution_count": 6,
   "metadata": {},
   "outputs": [
    {
     "name": "stdout",
     "output_type": "stream",
     "text": [
      "Epoch 1/100\n",
      "313/313 [==============================] - 11s 27ms/step - loss: 0.6914 - accuracy: 0.5483 - val_loss: 0.6891 - val_accuracy: 0.5912\n",
      "Epoch 2/100\n",
      "313/313 [==============================] - 8s 26ms/step - loss: 0.6847 - accuracy: 0.6262 - val_loss: 0.6777 - val_accuracy: 0.6604\n",
      "Epoch 3/100\n",
      "313/313 [==============================] - 8s 26ms/step - loss: 0.6505 - accuracy: 0.6881 - val_loss: 0.6044 - val_accuracy: 0.7094\n",
      "Epoch 4/100\n",
      "313/313 [==============================] - 8s 26ms/step - loss: 0.5710 - accuracy: 0.7240 - val_loss: 0.5552 - val_accuracy: 0.7290\n",
      "Epoch 5/100\n",
      "313/313 [==============================] - 8s 27ms/step - loss: 0.5370 - accuracy: 0.7470 - val_loss: 0.5356 - val_accuracy: 0.7450\n",
      "Epoch 6/100\n",
      "313/313 [==============================] - 8s 26ms/step - loss: 0.5149 - accuracy: 0.7652 - val_loss: 0.5152 - val_accuracy: 0.7584\n",
      "Epoch 7/100\n",
      "313/313 [==============================] - 8s 26ms/step - loss: 0.4976 - accuracy: 0.7754 - val_loss: 0.5038 - val_accuracy: 0.7654\n",
      "Epoch 8/100\n",
      "313/313 [==============================] - 8s 25ms/step - loss: 0.4836 - accuracy: 0.7848 - val_loss: 0.4919 - val_accuracy: 0.7696\n",
      "Epoch 9/100\n",
      "313/313 [==============================] - 8s 25ms/step - loss: 0.4722 - accuracy: 0.7907 - val_loss: 0.4815 - val_accuracy: 0.7780\n",
      "Epoch 10/100\n",
      "313/313 [==============================] - 8s 25ms/step - loss: 0.4622 - accuracy: 0.7962 - val_loss: 0.4725 - val_accuracy: 0.7774\n",
      "Epoch 11/100\n",
      "313/313 [==============================] - 8s 25ms/step - loss: 0.4540 - accuracy: 0.7987 - val_loss: 0.4642 - val_accuracy: 0.7866\n",
      "Epoch 12/100\n",
      "313/313 [==============================] - 8s 25ms/step - loss: 0.4473 - accuracy: 0.8024 - val_loss: 0.4580 - val_accuracy: 0.7908\n",
      "Epoch 13/100\n",
      "313/313 [==============================] - 8s 26ms/step - loss: 0.4411 - accuracy: 0.8048 - val_loss: 0.4525 - val_accuracy: 0.7944\n",
      "Epoch 14/100\n",
      "313/313 [==============================] - 8s 25ms/step - loss: 0.4353 - accuracy: 0.8061 - val_loss: 0.4480 - val_accuracy: 0.7942\n",
      "Epoch 15/100\n",
      "313/313 [==============================] - 8s 27ms/step - loss: 0.4314 - accuracy: 0.8084 - val_loss: 0.4449 - val_accuracy: 0.7980\n",
      "Epoch 16/100\n",
      "313/313 [==============================] - 9s 29ms/step - loss: 0.4277 - accuracy: 0.8102 - val_loss: 0.4465 - val_accuracy: 0.7940\n",
      "Epoch 17/100\n",
      "313/313 [==============================] - 9s 30ms/step - loss: 0.4244 - accuracy: 0.8109 - val_loss: 0.4441 - val_accuracy: 0.7952\n",
      "Epoch 18/100\n",
      "313/313 [==============================] - 10s 31ms/step - loss: 0.4222 - accuracy: 0.8105 - val_loss: 0.4384 - val_accuracy: 0.8004\n",
      "Epoch 19/100\n",
      "313/313 [==============================] - 10s 31ms/step - loss: 0.4201 - accuracy: 0.8112 - val_loss: 0.4366 - val_accuracy: 0.8012\n",
      "Epoch 20/100\n",
      "313/313 [==============================] - 10s 31ms/step - loss: 0.4182 - accuracy: 0.8121 - val_loss: 0.4348 - val_accuracy: 0.8024\n",
      "Epoch 21/100\n",
      "313/313 [==============================] - 10s 31ms/step - loss: 0.4165 - accuracy: 0.8127 - val_loss: 0.4344 - val_accuracy: 0.8000\n",
      "Epoch 22/100\n",
      "313/313 [==============================] - 9s 30ms/step - loss: 0.4155 - accuracy: 0.8123 - val_loss: 0.4345 - val_accuracy: 0.8018\n",
      "Epoch 23/100\n",
      "313/313 [==============================] - 9s 29ms/step - loss: 0.4141 - accuracy: 0.8121 - val_loss: 0.4353 - val_accuracy: 0.8028\n",
      "Epoch 24/100\n",
      "313/313 [==============================] - 9s 28ms/step - loss: 0.4133 - accuracy: 0.8127 - val_loss: 0.4347 - val_accuracy: 0.8042\n"
     ]
    }
   ],
   "source": [
    "rmsprop = keras.optimizers.RMSprop(learning_rate=1e-4)\n",
    "model.compile(optimizer=rmsprop, loss='binary_crossentropy', metrics=['accuracy'])\n",
    "checkpoint_cb = keras.callbacks.ModelCheckpoint('best-lstm-model.h5')\n",
    "early_stopping_cb = keras.callbacks.EarlyStopping(patience=3, restore_best_weights=True)\n",
    "history = model.fit(train_seq, train_target, epochs=100, batch_size=64, validation_data=(val_seq, val_target), callbacks=[checkpoint_cb, early_stopping_cb])\n"
   ]
  },
  {
   "cell_type": "code",
   "execution_count": 7,
   "metadata": {},
   "outputs": [
    {
     "data": {
      "image/png": "[encoded data removed]",
      "text/plain": [
       "<Figure size 432x288 with 1 Axes>"
      ]
     },
     "metadata": {
      "needs_background": "light"
     },
     "output_type": "display_data"
    }
   ],
   "source": [
    "import matplotlib.pyplot as plt\n",
    "plt.plot(history.history['loss'])\n",
    "plt.plot(history.history['val_loss'])\n",
    "plt.xlabel('epoch')\n",
    "plt.ylabel('loss')\n",
    "plt.legend(['train', 'loss'])\n",
    "plt.show()"
   ]
  },
  {
   "cell_type": "code",
   "execution_count": 8,
   "metadata": {},
   "outputs": [],
   "source": [
    "model2 = keras.Sequential()\n",
    "model2.add(keras.layers.Embedding(500, 16, input_length=100))\n",
    "model2.add(keras.layers.LSTM(8, dropout=0.3))\n",
    "model2.add(keras.layers.Dense(1, activation='sigmoid'))"
   ]
  },
  {
   "cell_type": "code",
   "execution_count": 9,
   "metadata": {},
   "outputs": [
    {
     "name": "stdout",
     "output_type": "stream",
     "text": [
      "Epoch 1/100\n",
      "313/313 [==============================] - 11s 28ms/step - loss: 0.6927 - accuracy: 0.5152 - val_loss: 0.6922 - val_accuracy: 0.5306\n",
      "Epoch 2/100\n",
      "313/313 [==============================] - 8s 26ms/step - loss: 0.6902 - accuracy: 0.5691 - val_loss: 0.6888 - val_accuracy: 0.5846\n",
      "Epoch 3/100\n",
      "313/313 [==============================] - 8s 26ms/step - loss: 0.6845 - accuracy: 0.6208 - val_loss: 0.6803 - val_accuracy: 0.6418\n",
      "Epoch 4/100\n",
      "313/313 [==============================] - 8s 26ms/step - loss: 0.6640 - accuracy: 0.6841 - val_loss: 0.6345 - val_accuracy: 0.7190\n",
      "Epoch 5/100\n",
      "313/313 [==============================] - 8s 27ms/step - loss: 0.5945 - accuracy: 0.7173 - val_loss: 0.5748 - val_accuracy: 0.7240\n",
      "Epoch 6/100\n",
      "313/313 [==============================] - 8s 26ms/step - loss: 0.5643 - accuracy: 0.7319 - val_loss: 0.5527 - val_accuracy: 0.7394\n",
      "Epoch 7/100\n",
      "313/313 [==============================] - 8s 26ms/step - loss: 0.5434 - accuracy: 0.7475 - val_loss: 0.5348 - val_accuracy: 0.7568\n",
      "Epoch 8/100\n",
      "313/313 [==============================] - 8s 26ms/step - loss: 0.5231 - accuracy: 0.7620 - val_loss: 0.5137 - val_accuracy: 0.7694\n",
      "Epoch 9/100\n",
      "313/313 [==============================] - 8s 26ms/step - loss: 0.5065 - accuracy: 0.7691 - val_loss: 0.4974 - val_accuracy: 0.7802\n",
      "Epoch 10/100\n",
      "313/313 [==============================] - 8s 26ms/step - loss: 0.4914 - accuracy: 0.7779 - val_loss: 0.4891 - val_accuracy: 0.7772\n",
      "Epoch 11/100\n",
      "313/313 [==============================] - 8s 26ms/step - loss: 0.4769 - accuracy: 0.7868 - val_loss: 0.4731 - val_accuracy: 0.7896\n",
      "Epoch 12/100\n",
      "313/313 [==============================] - 8s 26ms/step - loss: 0.4677 - accuracy: 0.7905 - val_loss: 0.4662 - val_accuracy: 0.7908\n",
      "Epoch 13/100\n",
      "313/313 [==============================] - 8s 26ms/step - loss: 0.4599 - accuracy: 0.7933 - val_loss: 0.4596 - val_accuracy: 0.7938\n",
      "Epoch 14/100\n",
      "313/313 [==============================] - 8s 26ms/step - loss: 0.4533 - accuracy: 0.7969 - val_loss: 0.4558 - val_accuracy: 0.7954\n",
      "Epoch 15/100\n",
      "313/313 [==============================] - 9s 28ms/step - loss: 0.4499 - accuracy: 0.7972 - val_loss: 0.4527 - val_accuracy: 0.7960\n",
      "Epoch 16/100\n",
      "313/313 [==============================] - 10s 31ms/step - loss: 0.4440 - accuracy: 0.7995 - val_loss: 0.4517 - val_accuracy: 0.7958\n",
      "Epoch 17/100\n",
      "313/313 [==============================] - 10s 33ms/step - loss: 0.4413 - accuracy: 0.8018 - val_loss: 0.4469 - val_accuracy: 0.7970\n",
      "Epoch 18/100\n",
      "313/313 [==============================] - 11s 34ms/step - loss: 0.4374 - accuracy: 0.8008 - val_loss: 0.4455 - val_accuracy: 0.7968\n",
      "Epoch 19/100\n",
      "313/313 [==============================] - 10s 33ms/step - loss: 0.4364 - accuracy: 0.8011 - val_loss: 0.4429 - val_accuracy: 0.7994\n",
      "Epoch 20/100\n",
      "313/313 [==============================] - 10s 32ms/step - loss: 0.4343 - accuracy: 0.8046 - val_loss: 0.4419 - val_accuracy: 0.7986\n",
      "Epoch 21/100\n",
      "313/313 [==============================] - 10s 31ms/step - loss: 0.4323 - accuracy: 0.8041 - val_loss: 0.4415 - val_accuracy: 0.7970\n",
      "Epoch 22/100\n",
      "313/313 [==============================] - 10s 31ms/step - loss: 0.4294 - accuracy: 0.8034 - val_loss: 0.4398 - val_accuracy: 0.7964\n",
      "Epoch 23/100\n",
      "313/313 [==============================] - 9s 30ms/step - loss: 0.4293 - accuracy: 0.8043 - val_loss: 0.4393 - val_accuracy: 0.7982\n",
      "Epoch 24/100\n",
      "313/313 [==============================] - 9s 28ms/step - loss: 0.4274 - accuracy: 0.8044 - val_loss: 0.4382 - val_accuracy: 0.8002\n",
      "Epoch 25/100\n",
      "313/313 [==============================] - 9s 28ms/step - loss: 0.4268 - accuracy: 0.8052 - val_loss: 0.4372 - val_accuracy: 0.8018\n",
      "Epoch 26/100\n",
      "313/313 [==============================] - 9s 29ms/step - loss: 0.4243 - accuracy: 0.8067 - val_loss: 0.4399 - val_accuracy: 0.7970\n",
      "Epoch 27/100\n",
      "313/313 [==============================] - 9s 28ms/step - loss: 0.4250 - accuracy: 0.8044 - val_loss: 0.4372 - val_accuracy: 0.8004\n",
      "Epoch 28/100\n",
      "313/313 [==============================] - 9s 28ms/step - loss: 0.4242 - accuracy: 0.8067 - val_loss: 0.4356 - val_accuracy: 0.7986\n",
      "Epoch 29/100\n",
      "313/313 [==============================] - 9s 28ms/step - loss: 0.4227 - accuracy: 0.8073 - val_loss: 0.4351 - val_accuracy: 0.7978\n",
      "Epoch 30/100\n",
      "313/313 [==============================] - 9s 28ms/step - loss: 0.4237 - accuracy: 0.8067 - val_loss: 0.4360 - val_accuracy: 0.7962\n",
      "Epoch 31/100\n",
      "313/313 [==============================] - 9s 28ms/step - loss: 0.4209 - accuracy: 0.8068 - val_loss: 0.4366 - val_accuracy: 0.7956\n",
      "Epoch 32/100\n",
      "313/313 [==============================] - 9s 28ms/step - loss: 0.4194 - accuracy: 0.8087 - val_loss: 0.4348 - val_accuracy: 0.7974\n",
      "Epoch 33/100\n",
      "313/313 [==============================] - 9s 28ms/step - loss: 0.4222 - accuracy: 0.8063 - val_loss: 0.4343 - val_accuracy: 0.7984\n",
      "Epoch 34/100\n",
      "313/313 [==============================] - 9s 28ms/step - loss: 0.4202 - accuracy: 0.8079 - val_loss: 0.4345 - val_accuracy: 0.8034\n",
      "Epoch 35/100\n",
      "313/313 [==============================] - 9s 28ms/step - loss: 0.4198 - accuracy: 0.8070 - val_loss: 0.4333 - val_accuracy: 0.7982\n",
      "Epoch 36/100\n",
      "313/313 [==============================] - 9s 28ms/step - loss: 0.4179 - accuracy: 0.8081 - val_loss: 0.4334 - val_accuracy: 0.8008\n",
      "Epoch 37/100\n",
      "313/313 [==============================] - 9s 28ms/step - loss: 0.4175 - accuracy: 0.8090 - val_loss: 0.4345 - val_accuracy: 0.7998\n",
      "Epoch 38/100\n",
      "313/313 [==============================] - 9s 28ms/step - loss: 0.4188 - accuracy: 0.8080 - val_loss: 0.4331 - val_accuracy: 0.8014\n",
      "Epoch 39/100\n",
      "313/313 [==============================] - 9s 29ms/step - loss: 0.4163 - accuracy: 0.8102 - val_loss: 0.4323 - val_accuracy: 0.7978\n",
      "Epoch 40/100\n",
      "313/313 [==============================] - 9s 29ms/step - loss: 0.4162 - accuracy: 0.8104 - val_loss: 0.4321 - val_accuracy: 0.7984\n",
      "Epoch 41/100\n",
      "313/313 [==============================] - 10s 30ms/step - loss: 0.4158 - accuracy: 0.8084 - val_loss: 0.4323 - val_accuracy: 0.7962\n",
      "Epoch 42/100\n",
      "313/313 [==============================] - 9s 29ms/step - loss: 0.4170 - accuracy: 0.8081 - val_loss: 0.4319 - val_accuracy: 0.7984\n",
      "Epoch 43/100\n",
      "313/313 [==============================] - 10s 31ms/step - loss: 0.4155 - accuracy: 0.8114 - val_loss: 0.4326 - val_accuracy: 0.7966\n",
      "Epoch 44/100\n",
      "313/313 [==============================] - 10s 34ms/step - loss: 0.4153 - accuracy: 0.8083 - val_loss: 0.4320 - val_accuracy: 0.8010\n",
      "Epoch 45/100\n",
      "313/313 [==============================] - 10s 31ms/step - loss: 0.4140 - accuracy: 0.8117 - val_loss: 0.4323 - val_accuracy: 0.8024\n"
     ]
    }
   ],
   "source": [
    "rmsprop = keras.optimizers.RMSprop(learning_rate=1e-4)\n",
    "model2.compile(optimizer=rmsprop, loss='binary_crossentropy', metrics=['accuracy'])\n",
    "checkpoint_cb = keras.callbacks.ModelCheckpoint('best-dropout-model.h5')\n",
    "early_stopping_cb = keras.callbacks.EarlyStopping(patience=3, restore_best_weights=True)\n",
    "history = model2.fit(train_seq, train_target, epochs=100, batch_size=64, validation_data = (val_seq, val_target), callbacks=[checkpoint_cb, early_stopping_cb])"
   ]
  },
  {
   "cell_type": "code",
   "execution_count": 10,
   "metadata": {},
   "outputs": [
    {
     "data": {
      "image/png": "[encoded data removed]",
      "text/plain": [
       "<Figure size 432x288 with 1 Axes>"
      ]
     },
     "metadata": {
      "needs_background": "light"
     },
     "output_type": "display_data"
    }
   ],
   "source": [
    "plt.plot(history.history['loss'])\n",
    "plt.plot(history.history['val_loss'])\n",
    "plt.xlabel('epoch')\n",
    "plt.ylabel('loss')\n",
    "plt.legend(['train', 'val'])\n",
    "plt.show()"
   ]
  },
  {
   "cell_type": "code",
   "execution_count": 11,
   "metadata": {},
   "outputs": [],
   "source": [
    "model3 = keras.Sequential()\n",
    "model3.add(keras.layers.Embedding(500, 16, input_length=100))\n",
    "model3.add(keras.layers.LSTM(8, dropout=0.3, return_sequences=True))\n",
    "model3.add(keras.layers.LSTM(8, dropout=0.3))\n",
    "model3.add(keras.layers.Dense(1, activation='sigmoid'))"
   ]
  },
  {
   "cell_type": "code",
   "execution_count": 12,
   "metadata": {},
   "outputs": [
    {
     "name": "stdout",
     "output_type": "stream",
     "text": [
      "Model: \"sequential_2\"\n",
      "_________________________________________________________________\n",
      " Layer (type)                Output Shape              Param #   \n",
      "=================================================================\n",
      " embedding_2 (Embedding)     (None, 100, 16)           8000      \n",
      "                                                                 \n",
      " lstm_2 (LSTM)               (None, 100, 8)            800       \n",
      "                                                                 \n",
      " lstm_3 (LSTM)               (None, 8)                 544       \n",
      "                                                                 \n",
      " dense_2 (Dense)             (None, 1)                 9         \n",
      "                                                                 \n",
      "=================================================================\n",
      "Total params: 9,353\n",
      "Trainable params: 9,353\n",
      "Non-trainable params: 0\n",
      "_________________________________________________________________\n"
     ]
    }
   ],
   "source": [
    "model3.summary()"
   ]
  },
  {
   "cell_type": "code",
   "execution_count": 13,
   "metadata": {},
   "outputs": [],
   "source": [
    "model4 = keras.Sequential()\n",
    "model4.add(keras.layers.Embedding(500, 16, input_length=100))\n",
    "model4.add(keras.layers.GRU(8))\n",
    "model4.add(keras.layers.Dense(1, activation='sigmoid'))"
   ]
  },
  {
   "cell_type": "code",
   "execution_count": 15,
   "metadata": {},
   "outputs": [
    {
     "name": "stdout",
     "output_type": "stream",
     "text": [
      "Model: \"sequential_3\"\n",
      "_________________________________________________________________\n",
      " Layer (type)                Output Shape              Param #   \n",
      "=================================================================\n",
      " embedding_3 (Embedding)     (None, 100, 16)           8000      \n",
      "                                                                 \n",
      " gru (GRU)                   (None, 8)                 624       \n",
      "                                                                 \n",
      " dense_3 (Dense)             (None, 1)                 9         \n",
      "                                                                 \n",
      "=================================================================\n",
      "Total params: 8,633\n",
      "Trainable params: 8,633\n",
      "Non-trainable params: 0\n",
      "_________________________________________________________________\n"
     ]
    }
   ],
   "source": [
    "model4.summary()"
   ]
  },
  {
   "cell_type": "code",
   "execution_count": 16,
   "metadata": {},
   "outputs": [
    {
     "name": "stdout",
     "output_type": "stream",
     "text": [
      "Epoch 1/100\n",
      "313/313 [==============================] - 14s 36ms/step - loss: 0.6926 - accuracy: 0.5347 - val_loss: 0.6920 - val_accuracy: 0.5490\n",
      "Epoch 2/100\n",
      "313/313 [==============================] - 10s 34ms/step - loss: 0.6908 - accuracy: 0.5899 - val_loss: 0.6901 - val_accuracy: 0.5794\n",
      "Epoch 3/100\n",
      "313/313 [==============================] - 11s 35ms/step - loss: 0.6879 - accuracy: 0.6065 - val_loss: 0.6867 - val_accuracy: 0.5972\n",
      "Epoch 4/100\n",
      "313/313 [==============================] - 11s 35ms/step - loss: 0.6832 - accuracy: 0.6237 - val_loss: 0.6814 - val_accuracy: 0.6102\n",
      "Epoch 5/100\n",
      "313/313 [==============================] - 11s 34ms/step - loss: 0.6755 - accuracy: 0.6366 - val_loss: 0.6723 - val_accuracy: 0.6218\n",
      "Epoch 6/100\n",
      "313/313 [==============================] - 11s 35ms/step - loss: 0.6630 - accuracy: 0.6489 - val_loss: 0.6579 - val_accuracy: 0.6402\n",
      "Epoch 7/100\n",
      "313/313 [==============================] - 11s 35ms/step - loss: 0.6424 - accuracy: 0.6687 - val_loss: 0.6331 - val_accuracy: 0.6676\n",
      "Epoch 8/100\n",
      "313/313 [==============================] - 11s 35ms/step - loss: 0.6052 - accuracy: 0.6968 - val_loss: 0.5875 - val_accuracy: 0.7078\n",
      "Epoch 9/100\n",
      "313/313 [==============================] - 11s 35ms/step - loss: 0.5472 - accuracy: 0.7387 - val_loss: 0.5421 - val_accuracy: 0.7360\n",
      "Epoch 10/100\n",
      "313/313 [==============================] - 11s 36ms/step - loss: 0.5175 - accuracy: 0.7534 - val_loss: 0.5247 - val_accuracy: 0.7460\n",
      "Epoch 11/100\n",
      "313/313 [==============================] - 11s 36ms/step - loss: 0.5017 - accuracy: 0.7652 - val_loss: 0.5133 - val_accuracy: 0.7514\n",
      "Epoch 12/100\n",
      "313/313 [==============================] - 11s 37ms/step - loss: 0.4905 - accuracy: 0.7710 - val_loss: 0.5014 - val_accuracy: 0.7642\n",
      "Epoch 13/100\n",
      "313/313 [==============================] - 12s 38ms/step - loss: 0.4800 - accuracy: 0.7790 - val_loss: 0.4994 - val_accuracy: 0.7572\n",
      "Epoch 14/100\n",
      "313/313 [==============================] - 13s 41ms/step - loss: 0.4717 - accuracy: 0.7849 - val_loss: 0.4860 - val_accuracy: 0.7744\n",
      "Epoch 15/100\n",
      "313/313 [==============================] - 13s 40ms/step - loss: 0.4637 - accuracy: 0.7895 - val_loss: 0.4805 - val_accuracy: 0.7730\n",
      "Epoch 16/100\n",
      "313/313 [==============================] - 13s 40ms/step - loss: 0.4571 - accuracy: 0.7932 - val_loss: 0.4768 - val_accuracy: 0.7734\n",
      "Epoch 17/100\n",
      "313/313 [==============================] - 12s 38ms/step - loss: 0.4513 - accuracy: 0.7972 - val_loss: 0.4730 - val_accuracy: 0.7772\n",
      "Epoch 18/100\n",
      "313/313 [==============================] - 12s 38ms/step - loss: 0.4476 - accuracy: 0.7984 - val_loss: 0.4683 - val_accuracy: 0.7812\n",
      "Epoch 19/100\n",
      "313/313 [==============================] - 12s 37ms/step - loss: 0.4436 - accuracy: 0.8000 - val_loss: 0.4672 - val_accuracy: 0.7820\n",
      "Epoch 20/100\n",
      "313/313 [==============================] - 11s 37ms/step - loss: 0.4398 - accuracy: 0.8025 - val_loss: 0.4625 - val_accuracy: 0.7840\n",
      "Epoch 21/100\n",
      "313/313 [==============================] - 11s 36ms/step - loss: 0.4367 - accuracy: 0.8041 - val_loss: 0.4602 - val_accuracy: 0.7860\n",
      "Epoch 22/100\n",
      "313/313 [==============================] - 11s 36ms/step - loss: 0.4336 - accuracy: 0.8058 - val_loss: 0.4574 - val_accuracy: 0.7878\n",
      "Epoch 23/100\n",
      "313/313 [==============================] - 11s 36ms/step - loss: 0.4309 - accuracy: 0.8084 - val_loss: 0.4558 - val_accuracy: 0.7892\n",
      "Epoch 24/100\n",
      "313/313 [==============================] - 11s 36ms/step - loss: 0.4286 - accuracy: 0.8092 - val_loss: 0.4548 - val_accuracy: 0.7876\n",
      "Epoch 25/100\n",
      "313/313 [==============================] - 11s 35ms/step - loss: 0.4271 - accuracy: 0.8089 - val_loss: 0.4525 - val_accuracy: 0.7894\n",
      "Epoch 26/100\n",
      "313/313 [==============================] - 11s 35ms/step - loss: 0.4253 - accuracy: 0.8119 - val_loss: 0.4512 - val_accuracy: 0.7896\n",
      "Epoch 27/100\n",
      "313/313 [==============================] - 11s 35ms/step - loss: 0.4232 - accuracy: 0.8123 - val_loss: 0.4503 - val_accuracy: 0.7894\n",
      "Epoch 28/100\n",
      "313/313 [==============================] - 11s 35ms/step - loss: 0.4222 - accuracy: 0.8131 - val_loss: 0.4487 - val_accuracy: 0.7910\n",
      "Epoch 29/100\n",
      "313/313 [==============================] - 11s 35ms/step - loss: 0.4207 - accuracy: 0.8127 - val_loss: 0.4483 - val_accuracy: 0.7916\n",
      "Epoch 30/100\n",
      "313/313 [==============================] - 11s 35ms/step - loss: 0.4196 - accuracy: 0.8152 - val_loss: 0.4495 - val_accuracy: 0.7914\n",
      "Epoch 31/100\n",
      "313/313 [==============================] - 11s 35ms/step - loss: 0.4186 - accuracy: 0.8156 - val_loss: 0.4456 - val_accuracy: 0.7912\n",
      "Epoch 32/100\n",
      "313/313 [==============================] - 11s 35ms/step - loss: 0.4175 - accuracy: 0.8168 - val_loss: 0.4467 - val_accuracy: 0.7932\n",
      "Epoch 33/100\n",
      "313/313 [==============================] - 11s 35ms/step - loss: 0.4164 - accuracy: 0.8153 - val_loss: 0.4460 - val_accuracy: 0.7928\n",
      "Epoch 34/100\n",
      "313/313 [==============================] - 11s 35ms/step - loss: 0.4157 - accuracy: 0.8162 - val_loss: 0.4432 - val_accuracy: 0.7940\n",
      "Epoch 35/100\n",
      "313/313 [==============================] - 11s 35ms/step - loss: 0.4148 - accuracy: 0.8171 - val_loss: 0.4452 - val_accuracy: 0.7930\n",
      "Epoch 36/100\n",
      "313/313 [==============================] - 11s 36ms/step - loss: 0.4140 - accuracy: 0.8173 - val_loss: 0.4451 - val_accuracy: 0.7928\n",
      "Epoch 37/100\n",
      "313/313 [==============================] - 11s 35ms/step - loss: 0.4133 - accuracy: 0.8170 - val_loss: 0.4403 - val_accuracy: 0.7962\n",
      "Epoch 38/100\n",
      "313/313 [==============================] - 11s 35ms/step - loss: 0.4124 - accuracy: 0.8177 - val_loss: 0.4411 - val_accuracy: 0.7954\n",
      "Epoch 39/100\n",
      "313/313 [==============================] - 11s 35ms/step - loss: 0.4119 - accuracy: 0.8180 - val_loss: 0.4389 - val_accuracy: 0.7984\n",
      "Epoch 40/100\n",
      "313/313 [==============================] - 11s 35ms/step - loss: 0.4112 - accuracy: 0.8169 - val_loss: 0.4401 - val_accuracy: 0.7962\n",
      "Epoch 41/100\n",
      "313/313 [==============================] - 11s 35ms/step - loss: 0.4107 - accuracy: 0.8185 - val_loss: 0.4377 - val_accuracy: 0.7980\n",
      "Epoch 42/100\n",
      "313/313 [==============================] - 11s 35ms/step - loss: 0.4103 - accuracy: 0.8187 - val_loss: 0.4376 - val_accuracy: 0.7978\n",
      "Epoch 43/100\n",
      "313/313 [==============================] - 11s 35ms/step - loss: 0.4093 - accuracy: 0.8194 - val_loss: 0.4409 - val_accuracy: 0.7958\n",
      "Epoch 44/100\n",
      "313/313 [==============================] - 11s 35ms/step - loss: 0.4089 - accuracy: 0.8173 - val_loss: 0.4373 - val_accuracy: 0.7966\n",
      "Epoch 45/100\n",
      "313/313 [==============================] - 11s 35ms/step - loss: 0.4086 - accuracy: 0.8185 - val_loss: 0.4354 - val_accuracy: 0.8006\n",
      "Epoch 46/100\n",
      "313/313 [==============================] - 11s 35ms/step - loss: 0.4080 - accuracy: 0.8181 - val_loss: 0.4365 - val_accuracy: 0.7976\n",
      "Epoch 47/100\n",
      "313/313 [==============================] - 11s 35ms/step - loss: 0.4074 - accuracy: 0.8191 - val_loss: 0.4432 - val_accuracy: 0.7958\n",
      "Epoch 48/100\n",
      "313/313 [==============================] - 11s 35ms/step - loss: 0.4073 - accuracy: 0.8202 - val_loss: 0.4360 - val_accuracy: 0.7974\n"
     ]
    }
   ],
   "source": [
    "rmsprop = keras.optimizers.RMSprop(learning_rate=1e-4)\n",
    "model4.compile(optimizer=rmsprop, loss='binary_crossentropy', metrics=['accuracy'])\n",
    "checkpoint_cb = keras.callbacks.ModelCheckpoint('best-gru-model.h5')\n",
    "early_stopping_cb = keras.callbacks.EarlyStopping(patience=3, restore_best_weights=True)\n",
    "history = model4.fit(train_seq, train_target, epochs=100, batch_size=64, validation_data=(val_seq, val_target), callbacks=[checkpoint_cb, early_stopping_cb])"
   ]
  },
  {
   "cell_type": "code",
   "execution_count": 17,
   "metadata": {},
   "outputs": [
    {
     "data": {
      "image/png": "[encoded data removed]",
      "text/plain": [
       "<Figure size 432x288 with 1 Axes>"
      ]
     },
     "metadata": {
      "needs_background": "light"
     },
     "output_type": "display_data"
    }
   ],
   "source": [
    "plt.plot(history.history['loss'])\n",
    "plt.plot(history.history['val_loss'])\n",
    "plt.xlabel('epoch')\n",
    "plt.ylabel('loss')\n",
    "plt.legend(['train', 'val'])\n",
    "plt.show()"
   ]
  },
  {
   "cell_type": "markdown",
   "metadata": {},
   "source": [
    "* **LSTM** 셀은 타임스텝이 긴 데이터를 효과적으로 학습하기 위해 고안된 순환층이다. 입력게이트, 삭제게이트, 출력게이트 역할을 하는 작은 셀이 포함되어 있다.\n",
    "* LSTM 셀은 은닉 상태 외에 **셀 상태**를 출력한다. 셀 상태는 다음 층으로 전달되지 않으며 현재 셀에서만 순환된다.\n",
    "* **GRU** 셀은 LSTM 셀의 간소화 버전으로 생각할 수 있지만 LSTM 셀에 못지않는 성능을 낸다."
   ]
  }
 ],
 "metadata": {
  "kernelspec": {
   "display_name": "Python 3.8.13 ('hongong')",
   "language": "python",
   "name": "python3"
  },
  "language_info": {
   "codemirror_mode": {
    "name": "ipython",
    "version": 3
   },
   "file_extension": ".py",
   "mimetype": "text/x-python",
   "name": "python",
   "nbconvert_exporter": "python",
   "pygments_lexer": "ipython3",
   "version": "3.8.13"
  },
  "orig_nbformat": 4,
  "vscode": {
   "interpreter": {
    "hash": "47060db7b4131a050c116dcb884f3b6d5803ef221a5d5ec6d93aa64695a9c85b"
   }
  }
 },
 "nbformat": 4,
 "nbformat_minor": 2
}
