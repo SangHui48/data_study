{
 "cells": [
  {
   "cell_type": "markdown",
   "metadata": {},
   "source": [
    "# 인공 신경망\n",
    "#### 핵심 키워드: 인공 신경망, 텐서플로, 밀집층, 원-핫 인코딩"
   ]
  },
  {
   "cell_type": "code",
   "execution_count": null,
   "metadata": {},
   "outputs": [],
   "source": []
  }
 ],
 "metadata": {
  "kernelspec": {
   "display_name": "Python 3.8.13 ('hongong')",
   "language": "python",
   "name": "python3"
  },
  "language_info": {
   "name": "python",
   "version": "3.8.13"
  },
  "orig_nbformat": 4,
  "vscode": {
   "interpreter": {
    "hash": "47060db7b4131a050c116dcb884f3b6d5803ef221a5d5ec6d93aa64695a9c85b"
   }
  }
 },
 "nbformat": 4,
 "nbformat_minor": 2
}
