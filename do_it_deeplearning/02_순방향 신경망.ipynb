{
 "cells": [
  {
   "cell_type": "markdown",
   "metadata": {},
   "source": [
    "## 2.1 순방향 신경망"
   ]
  },
  {
   "cell_type": "markdown",
   "metadata": {},
   "source": [
    "* 현대에 들어와 다층 퍼셉트론은 **순방향 신경망**, 퍼셉트론은 **인공 뉴런**이라고 불린다.\n",
    "  \n",
    "* 특징을 추춘하는 뉴런 구조  \n",
    "뉴런은 데이터에 내재한 특징을 추출하기 위해 가중 합산과 활성 함수를 순차적으로 실행한다. 가중 합산은 추출할 특징에 중요한 영향을 미치는 데이터를 선택하는 과정이고. 활성 함수는 원하는 형태로 특징을 추출하기 위해 데이터를 **비선형**으로 변환하는 과정이다.  \n",
    "  \n",
    "* 실함수와 벡터 함수  \n",
    "신경망은 입력과 출력이 벡터인 벡터 함수이며 동시에 각 계층이 정의하는 벡터 함수를 순차적으로 실행하는 합성 함수이다.\n",
    "  \n",
    "* 범용 근사 정리  \n",
    "신경망은 얼마나 광범위한 함수를 표현할 수 있을까? 신경망은 n차원 공간의 임의의 연속 함수를 근사하는 능력이 있다."
   ]
  },
  {
   "cell_type": "markdown",
   "metadata": {},
   "source": [
    "## 2.2 분류와 회귀"
   ]
  },
  {
   "cell_type": "markdown",
   "metadata": {},
   "source": []
  }
 ],
 "metadata": {
  "kernelspec": {
   "display_name": "Python 3.8.13 ('myenv1')",
   "language": "python",
   "name": "python3"
  },
  "language_info": {
   "name": "python",
   "version": "3.8.13"
  },
  "orig_nbformat": 4,
  "vscode": {
   "interpreter": {
    "hash": "e1acd79579433d099a774017ba86d1314ddef5b0bdc137c47399c89169a3fec8"
   }
  }
 },
 "nbformat": 4,
 "nbformat_minor": 2
}
