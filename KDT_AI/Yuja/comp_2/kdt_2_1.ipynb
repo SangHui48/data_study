{
  "nbformat": 4,
  "nbformat_minor": 0,
  "metadata": {
    "colab": {
      "provenance": [],
      "machine_shape": "hm",
      "gpuType": "A100"
    },
    "kernelspec": {
      "name": "python3",
      "display_name": "Python 3"
    },
    "language_info": {
      "name": "python"
    },
    "accelerator": "GPU",
    "gpuClass": "standard"
  },
  "cells": [
    {
      "cell_type": "code",
      "source": [
        "# 이전 참고: https://pytorch.org/tutorials/beginner/text_sentiment_ngrams_tutorial.html(실패)"
      ],
      "metadata": {
        "id": "vSm7b9iI2d5V"
      },
      "execution_count": 1,
      "outputs": []
    },
    {
      "cell_type": "code",
      "execution_count": 2,
      "metadata": {
        "colab": {
          "base_uri": "https://localhost:8080/"
        },
        "id": "eQ0bCLG2t6Gf",
        "outputId": "9ff985d8-16ed-43a5-ce8b-3b394e673acf"
      },
      "outputs": [
        {
          "output_type": "stream",
          "name": "stdout",
          "text": [
            "Mounted at /content/drive\n"
          ]
        }
      ],
      "source": [
        "from google.colab import drive\n",
        "drive.mount('/content/drive', force_remount=True)"
      ]
    },
    {
      "cell_type": "code",
      "source": [
        "import shutil\n",
        "\n",
        "filename = 'open-korean-text-2.1.0.jar'\n",
        "src = '/content/drive/MyDrive/data/'\n",
        "dir = '/usr/local/lib/python3.10/dist-packages/konlpy/java/'\n",
        "shutil.copy(src + filename, dir + filename)"
      ],
      "metadata": {
        "colab": {
          "base_uri": "https://localhost:8080/",
          "height": 35
        },
        "id": "z5og03Eh_Zss",
        "outputId": "ba46142f-4990-41ec-b548-e49a1d4934a2"
      },
      "execution_count": 3,
      "outputs": [
        {
          "output_type": "execute_result",
          "data": {
            "text/plain": [
              "'/usr/local/lib/python3.10/dist-packages/konlpy/java/open-korean-text-2.1.0.jar'"
            ],
            "application/vnd.google.colaboratory.intrinsic+json": {
              "type": "string"
            }
          },
          "metadata": {},
          "execution_count": 3
        }
      ]
    },
    {
      "cell_type": "markdown",
      "source": [
        "# Requirement load"
      ],
      "metadata": {
        "id": "PhLFM-Qf0Bxa"
      }
    },
    {
      "cell_type": "code",
      "source": [
        "import numpy as np\n",
        "import pandas as pd\n",
        "import os\n",
        "import re\n",
        "import random\n",
        "import shutil\n",
        "\n",
        "from tqdm import tqdm\n",
        "\n",
        "# Data preprocessing\n",
        "from konlpy.tag import Okt\n",
        "from gensim.models import FastText # https://wikidocs.net/22883\n",
        "\n",
        "# Neural Network\n",
        "import torch\n",
        "import torch.nn as nn\n",
        "import torch.nn.functional as F\n",
        "from torch.utils.data import Dataset, random_split, DataLoader\n",
        "\n",
        "import matplotlib.pyplot as plt\n",
        "%matplotlib inline"
      ],
      "metadata": {
        "id": "fBa-1WM3yAKo"
      },
      "execution_count": 4,
      "outputs": []
    },
    {
      "cell_type": "code",
      "source": [
        "path = '/content/drive/MyDrive/data/programmers_ai/yujatea/comp_2/'"
      ],
      "metadata": {
        "id": "LKh8Z3M7zEcA"
      },
      "execution_count": 5,
      "outputs": []
    },
    {
      "cell_type": "code",
      "source": [
        "train_df = pd.read_csv(os.path.join(path, 'train.csv'))\n",
        "test_df = pd.read_csv(os.path.join(path, 'test.csv'))"
      ],
      "metadata": {
        "id": "hCHkaQiD0fYr"
      },
      "execution_count": 6,
      "outputs": []
    },
    {
      "cell_type": "markdown",
      "source": [
        "# Okt 사용자 정의 사전 등록"
      ],
      "metadata": {
        "id": "q10H5KLiEJxI"
      }
    },
    {
      "cell_type": "code",
      "source": [
        "# 임시 폴더에 Okt 사전 파일 압축 풀기\n",
        "os.chdir('/usr/local/lib/python3.10/dist-packages/konlpy/java')\n",
        "os.getcwd()\n",
        "\n",
        "!pwd"
      ],
      "metadata": {
        "colab": {
          "base_uri": "https://localhost:8080/"
        },
        "id": "cz3Rmn0cENk_",
        "outputId": "43799a57-9e06-4983-cc7e-ef4da8a9d776"
      },
      "execution_count": 7,
      "outputs": [
        {
          "output_type": "stream",
          "name": "stdout",
          "text": [
            "/usr/local/lib/python3.10/dist-packages/konlpy/java\n"
          ]
        }
      ]
    },
    {
      "cell_type": "code",
      "source": [
        "filename = 'open-korean-text-2.1.0.jar'\n",
        "src = '/content/drive/MyDrive/data/'\n",
        "dir = '/usr/local/lib/python3.10/dist-packages/konlpy/java/'\n",
        "shutil.copy(src + filename, dir + filename)"
      ],
      "metadata": {
        "colab": {
          "base_uri": "https://localhost:8080/",
          "height": 35
        },
        "id": "jHUijdYDEQf4",
        "outputId": "969a8375-a52c-4f9f-fe13-7e2e26c04280"
      },
      "execution_count": 8,
      "outputs": [
        {
          "output_type": "execute_result",
          "data": {
            "text/plain": [
              "'/usr/local/lib/python3.10/dist-packages/konlpy/java/open-korean-text-2.1.0.jar'"
            ],
            "application/vnd.google.colaboratory.intrinsic+json": {
              "type": "string"
            }
          },
          "metadata": {},
          "execution_count": 8
        }
      ]
    },
    {
      "cell_type": "markdown",
      "source": [
        "## csv 파일에 정의한 예외 처리 단어 목록 불러오기"
      ],
      "metadata": {
        "id": "YmxuygE-_160"
      }
    },
    {
      "cell_type": "code",
      "source": [
        "vocab = pd.read_csv(os.path.join(path, 'vocab.csv'))"
      ],
      "metadata": {
        "id": "6M7EGi_7__R_"
      },
      "execution_count": 9,
      "outputs": []
    },
    {
      "cell_type": "markdown",
      "source": [
        "# Data preprocess"
      ],
      "metadata": {
        "id": "FMUf5UIu-2za"
      }
    },
    {
      "cell_type": "code",
      "source": [
        "okt = Okt()"
      ],
      "metadata": {
        "id": "Rx37S513_pHR"
      },
      "execution_count": 10,
      "outputs": []
    },
    {
      "cell_type": "code",
      "source": [
        "def tokenize(text):\n",
        "  result = list()\n",
        "  # 사용자 정의 지정 표현 수동으로 변환시켜주기\n",
        "  for key, replace in zip(vocab['key'].values, vocab['replace'].values):\n",
        "    try:\n",
        "      text = re.sub(key, replace, text)\n",
        "    except:\n",
        "      continue\n",
        "  # ') 깨문', '병@(#%^신' 처리\n",
        "  text =re.sub(r'\\) 깨문', '대깨문', text)\n",
        "  text =re.sub(r'병[@#%^]?\\(*\\)?.*?신', \"병신\", text)\n",
        "  text = re.sub(\"[^가-힣ㄱ-ㅎㅏ-ㅣ]\",\" \", text) # 한글 아니면 전부 삭제\n",
        "  text = re.sub('[ㄱ-ㅎ]+', '', text) # 자음으로만 이루어진 경우 삭제\n",
        "  text = re.sub('[ㅏ-ㅣ]+', '', text) # 모음으로만 이루어진 경우 삭제\n",
        "  # tokenize\n",
        "  text = okt.pos(text, norm=True, stem=True)\n",
        "  for txt, tag in text:\n",
        "    result.append(txt)\n",
        "  return result"
      ],
      "metadata": {
        "id": "5KCDVdjK_qhD"
      },
      "execution_count": 13,
      "outputs": []
    },
    {
      "cell_type": "code",
      "source": [
        "clean_train_text = [ tokenize(text) for text in train_df['text']]\n",
        "clean_test_text = [ tokenize(text) for text in test_df['text']]\n",
        "clean_full_text = clean_train_text + clean_test_text"
      ],
      "metadata": {
        "id": "cVs0_FZnCvWS"
      },
      "execution_count": 14,
      "outputs": []
    },
    {
      "cell_type": "code",
      "source": [
        "clean_train_label = train_df['label']\n",
        "\n",
        "clean_train_text[:5]"
      ],
      "metadata": {
        "colab": {
          "base_uri": "https://localhost:8080/"
        },
        "id": "luQqwTqrC27c",
        "outputId": "96285f9d-1191-4651-de54-363634fbbca1"
      },
      "execution_count": 15,
      "outputs": [
        {
          "output_type": "execute_result",
          "data": {
            "text/plain": [
              "[['유소영', '비호감', '성형', '아줌마'],\n",
              " ['나오다', '썅'],\n",
              " ['식상하다', '지긋지긋하다', '자다', '끝나다', '오예', '소리', '벗다', '빤스', '지르다'],\n",
              " ['성희롱', '당하다', '얼굴', '이', '아니다'],\n",
              " ['끝', '까지', '해보다', '쪽바리', '원숭이', '자유', '한국', '당', '쓰레기']]"
            ]
          },
          "metadata": {},
          "execution_count": 15
        }
      ]
    },
    {
      "cell_type": "code",
      "source": [
        "from collections import Counter\n",
        "\n",
        "clean_train_text_len = [ len(text) for text in clean_train_text ]\n",
        "len_counter = Counter(clean_train_text_len)\n",
        "plt.bar(len_counter.keys(), len_counter.values())\n",
        "plt.show()"
      ],
      "metadata": {
        "colab": {
          "base_uri": "https://localhost:8080/",
          "height": 430
        },
        "id": "wMlf7cT6ExbZ",
        "outputId": "6bdd535d-ce50-4f85-b438-5da35874e82f"
      },
      "execution_count": 16,
      "outputs": [
        {
          "output_type": "display_data",
          "data": {
            "text/plain": [
              "<Figure size 640x480 with 1 Axes>"
            ],
            "image/png": "[encoded data removed]"
          },
          "metadata": {}
        }
      ]
    },
    {
      "cell_type": "markdown",
      "source": [
        "# Embedding"
      ],
      "metadata": {
        "id": "RdG_02EoE82r"
      }
    },
    {
      "cell_type": "code",
      "source": [
        "import logging\n",
        "fast_text_model = FastText(vector_size=120, window=3, min_count=1, sentences=clean_full_text, epochs=20)"
      ],
      "metadata": {
        "id": "dfnRtZI1G7Xj"
      },
      "execution_count": 17,
      "outputs": []
    },
    {
      "cell_type": "code",
      "source": [
        "fast_text_model.wv.most_similar(\"문재인\")"
      ],
      "metadata": {
        "colab": {
          "base_uri": "https://localhost:8080/"
        },
        "id": "YGnzClpKHQse",
        "outputId": "d9d8bfee-c359-4b39-d9f9-0e86a0d8887d"
      },
      "execution_count": 19,
      "outputs": [
        {
          "output_type": "execute_result",
          "data": {
            "text/plain": [
              "[('문재잉', 0.9467929005622864),\n",
              " ('황동주', 0.8938043713569641),\n",
              " ('뮨재인', 0.8861815333366394),\n",
              " ('빼버리긔', 0.8825953602790833),\n",
              " ('문재앙', 0.8272093534469604),\n",
              " ('김재인', 0.8190740346908569),\n",
              " ('조재인', 0.8182359337806702),\n",
              " ('장재인', 0.8119896650314331),\n",
              " ('문죄인', 0.7361934781074524),\n",
              " ('문죄잉', 0.6976813077926636)]"
            ]
          },
          "metadata": {},
          "execution_count": 19
        }
      ]
    },
    {
      "cell_type": "code",
      "source": [
        "fast_text_model.wv.most_similar(\"씨발\")"
      ],
      "metadata": {
        "colab": {
          "base_uri": "https://localhost:8080/"
        },
        "id": "W2zuEiKqHsVq",
        "outputId": "ed30c853-2978-4bf0-e67e-7c6acd07f8f1"
      },
      "execution_count": 24,
      "outputs": [
        {
          "output_type": "execute_result",
          "data": {
            "text/plain": [
              "[('썅', 0.5715916752815247),\n",
              " ('싴기', 0.5332481265068054),\n",
              " ('찐따뇨', 0.5120573043823242),\n",
              " ('씨레기', 0.5108450651168823),\n",
              " ('스레기', 0.5107702016830444),\n",
              " ('시발련', 0.5101162791252136),\n",
              " ('홍영푲', 0.5086449980735779),\n",
              " ('찐따섀기', 0.5085848569869995),\n",
              " ('기레기', 0.5082160234451294),\n",
              " ('기레', 0.5068423748016357)]"
            ]
          },
          "metadata": {},
          "execution_count": 24
        }
      ]
    },
    {
      "cell_type": "code",
      "source": [
        "fast_text_model.wv.most_similar(\"짱깨\")"
      ],
      "metadata": {
        "colab": {
          "base_uri": "https://localhost:8080/"
        },
        "id": "XQNZrghVHz3d",
        "outputId": "c3f0e1c4-f916-4d60-c895-07de939c3faf"
      },
      "execution_count": 25,
      "outputs": [
        {
          "output_type": "execute_result",
          "data": {
            "text/plain": [
              "[('짱깨샠', 0.9778093099594116),\n",
              " ('죳짱깨', 0.9775723218917847),\n",
              " ('짱깨몽', 0.9064358472824097),\n",
              " ('짱개', 0.8943709135055542),\n",
              " ('짱개몽', 0.8879253268241882),\n",
              " ('짱개쌩쑈', 0.8073437809944153),\n",
              " ('짱개헥히', 0.7696648240089417),\n",
              " ('짱깨빠이러스', 0.7437090873718262),\n",
              " ('중국사', 0.725451648235321),\n",
              " ('중국', 0.7107359766960144)]"
            ]
          },
          "metadata": {},
          "execution_count": 25
        }
      ]
    },
    {
      "cell_type": "code",
      "source": [
        "fast_text_model.wv.most_similar(\"쪽빠리\")"
      ],
      "metadata": {
        "colab": {
          "base_uri": "https://localhost:8080/"
        },
        "id": "357YbNxFIAp6",
        "outputId": "1f62b5fd-171d-40f5-cdb6-2eadcc07d356"
      },
      "execution_count": 26,
      "outputs": [
        {
          "output_type": "execute_result",
          "data": {
            "text/plain": [
              "[('빠리', 0.9945275187492371),\n",
              " ('셐키들', 0.7714641690254211),\n",
              " ('슬람이들', 0.7528343796730042),\n",
              " ('엨', 0.750158965587616),\n",
              " ('히로히토', 0.7497159838676453),\n",
              " ('박세리', 0.7495067715644836),\n",
              " ('첩룐', 0.7494397163391113),\n",
              " ('기리', 0.7472346425056458),\n",
              " ('죽죽', 0.7467224597930908),\n",
              " ('읊어야', 0.7461003065109253)]"
            ]
          },
          "metadata": {},
          "execution_count": 26
        }
      ]
    },
    {
      "cell_type": "code",
      "source": [
        "similar_dict = dict()\n",
        "similar_set = set()\n",
        "for txt in clean_full_text :\n",
        "    similar_set = similar_set.union(set(txt))\n",
        "\n",
        "for key in similar_set:\n",
        "    val = fast_text_model.wv.most_similar(key, topn=3)[-1][0]\n",
        "    similar_dict[key] = fast_text_model.wv[val]"
      ],
      "metadata": {
        "id": "u_Ks9tWcIEhV"
      },
      "execution_count": 35,
      "outputs": []
    },
    {
      "cell_type": "code",
      "source": [
        "del similar_set"
      ],
      "metadata": {
        "id": "qygN0fV8JBaL"
      },
      "execution_count": 36,
      "outputs": []
    },
    {
      "cell_type": "code",
      "source": [],
      "metadata": {
        "id": "1iE545T6MJSr"
      },
      "execution_count": null,
      "outputs": []
    }
  ]
}