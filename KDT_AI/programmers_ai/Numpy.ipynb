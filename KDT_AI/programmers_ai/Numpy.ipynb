{
  "nbformat": 4,
  "nbformat_minor": 0,
  "metadata": {
    "colab": {
      "provenance": []
    },
    "kernelspec": {
      "name": "python3",
      "display_name": "Python 3"
    },
    "language_info": {
      "name": "python"
    }
  },
  "cells": [
    {
      "cell_type": "code",
      "execution_count": null,
      "metadata": {
        "id": "bHBRjSElNBh0"
      },
      "outputs": [],
      "source": [
        "import numpy as np"
      ]
    },
    {
      "cell_type": "code",
      "source": [
        "arr = np.array([1, 2, 3])\n",
        "arr"
      ],
      "metadata": {
        "colab": {
          "base_uri": "https://localhost:8080/"
        },
        "id": "_an8ykkGNLIn",
        "outputId": "e848387c-784b-4af8-af11-c017345731dd"
      },
      "execution_count": null,
      "outputs": [
        {
          "output_type": "execute_result",
          "data": {
            "text/plain": [
              "array([1, 2, 3])"
            ]
          },
          "metadata": {},
          "execution_count": 2
        }
      ]
    },
    {
      "cell_type": "code",
      "source": [
        "arr_2d = np.array([[1,2,3], [4,5,6], [7,8,9]])\n",
        "arr_2d"
      ],
      "metadata": {
        "colab": {
          "base_uri": "https://localhost:8080/"
        },
        "id": "-hbZLqZzNOIS",
        "outputId": "37d0f74b-2f27-40af-a798-a30a986f2435"
      },
      "execution_count": null,
      "outputs": [
        {
          "output_type": "execute_result",
          "data": {
            "text/plain": [
              "array([[1, 2, 3],\n",
              "       [4, 5, 6],\n",
              "       [7, 8, 9]])"
            ]
          },
          "metadata": {},
          "execution_count": 4
        }
      ]
    },
    {
      "cell_type": "code",
      "source": [
        "arr.shape, arr_2d.shape"
      ],
      "metadata": {
        "colab": {
          "base_uri": "https://localhost:8080/"
        },
        "id": "Dr_rLBb5NUEC",
        "outputId": "813edf21-4d27-4f8d-9229-2c4b646090ce"
      },
      "execution_count": null,
      "outputs": [
        {
          "output_type": "execute_result",
          "data": {
            "text/plain": [
              "((3,), (3, 3))"
            ]
          },
          "metadata": {},
          "execution_count": 5
        }
      ]
    },
    {
      "cell_type": "code",
      "source": [
        "x = np.array([1,2,3])\n",
        "c = 5\n",
        "\n",
        "print(f'더하기: {x + c}')\n",
        "print(f'빼기: {x - c}')\n",
        "print(f'곱하기: {x * c}')\n",
        "print(f'나누기: {x / c}')"
      ],
      "metadata": {
        "colab": {
          "base_uri": "https://localhost:8080/"
        },
        "id": "6EzKyLVrNYS9",
        "outputId": "e33fa473-bf34-435d-93e5-b4c114080a33"
      },
      "execution_count": null,
      "outputs": [
        {
          "output_type": "stream",
          "name": "stdout",
          "text": [
            "더하기: [6 7 8]\n",
            "빼기: [-4 -3 -2]\n",
            "곱하기: [ 5 10 15]\n",
            "나누기: [0.2 0.4 0.6]\n"
          ]
        }
      ]
    },
    {
      "cell_type": "code",
      "source": [
        "y = np.array([1, 3, 5])\n",
        "z = np.array([2, 9, 20])\n",
        "\n",
        "print(f'더하기: {y + z}')\n",
        "print(f'빼기: {y-z}')\n",
        "print(f'곱하기: {y*z}')\n",
        "print(f'나누기: {y/z}')"
      ],
      "metadata": {
        "colab": {
          "base_uri": "https://localhost:8080/"
        },
        "id": "btJfdes4OYxy",
        "outputId": "fb23fc5f-6431-4990-9722-63855c27776f"
      },
      "execution_count": null,
      "outputs": [
        {
          "output_type": "stream",
          "name": "stdout",
          "text": [
            "더하기: [ 3 12 25]\n",
            "빼기: [ -1  -6 -15]\n",
            "곱하기: [  2  27 100]\n",
            "나누기: [0.5        0.33333333 0.25      ]\n"
          ]
        }
      ]
    },
    {
      "cell_type": "code",
      "source": [
        "W = np.array([[1,2,3,4], [5,6,7,8], [9,10,11,12]])\n",
        "\n",
        "print(W[0,0]) #1행 1열\n",
        "print(W[2,3]) #3행 4열"
      ],
      "metadata": {
        "colab": {
          "base_uri": "https://localhost:8080/"
        },
        "id": "6hd8tgTyPUrc",
        "outputId": "ea4cd8c6-738f-4cb5-84f2-e7ac53a24032"
      },
      "execution_count": null,
      "outputs": [
        {
          "output_type": "stream",
          "name": "stdout",
          "text": [
            "1\n",
            "12\n"
          ]
        }
      ]
    },
    {
      "cell_type": "code",
      "source": [
        "W = np.array([[1,2,3,4], [5,6,7,8], [9,10,11,12]])\n",
        "print(W[0:2,1:3]) # 행은 1~2행, 열은 2~3열"
      ],
      "metadata": {
        "colab": {
          "base_uri": "https://localhost:8080/"
        },
        "id": "0Feo48a9QMsZ",
        "outputId": "376a60c6-ec18-4796-f6a2-c9453f9c1b45"
      },
      "execution_count": null,
      "outputs": [
        {
          "output_type": "stream",
          "name": "stdout",
          "text": [
            "[[2 3]\n",
            " [6 7]]\n"
          ]
        }
      ]
    },
    {
      "cell_type": "code",
      "source": [
        "a = np.array([[1,2,3], [4,5,6], [7,8,9]])\n",
        "x = np.array([0, 1, 0])\n",
        "x = x[:,None]\n",
        "print(a + x)"
      ],
      "metadata": {
        "colab": {
          "base_uri": "https://localhost:8080/"
        },
        "id": "jT0dHoqKRLxu",
        "outputId": "5fa3fe55-41bc-4be4-abc1-1d85879e6563"
      },
      "execution_count": null,
      "outputs": [
        {
          "output_type": "stream",
          "name": "stdout",
          "text": [
            "[0 1 0]\n",
            "[[1 2 3]\n",
            " [5 6 7]\n",
            " [7 8 9]]\n"
          ]
        }
      ]
    },
    {
      "cell_type": "code",
      "source": [
        "a = np.array([[1,2,3], [4,5,6], [7,8,9]])\n",
        "y = np.array([0, 1, -1])\n",
        "print(a * y)"
      ],
      "metadata": {
        "colab": {
          "base_uri": "https://localhost:8080/"
        },
        "id": "mA4loteSTv1-",
        "outputId": "f4aa93bf-63f2-4a09-9e9a-647d849d555a"
      },
      "execution_count": null,
      "outputs": [
        {
          "output_type": "stream",
          "name": "stdout",
          "text": [
            "[[ 0  2 -3]\n",
            " [ 0  5 -6]\n",
            " [ 0  8 -9]]\n"
          ]
        }
      ]
    },
    {
      "cell_type": "code",
      "source": [
        "t = np.array([[1], [2], [3]])\n",
        "u = np.array([2, 0, -2])\n",
        "\n",
        "print(t + u)"
      ],
      "metadata": {
        "colab": {
          "base_uri": "https://localhost:8080/"
        },
        "id": "vOVu34kpUv0Q",
        "outputId": "331f960a-543c-46ee-f0d9-87e34a90f7b6"
      },
      "execution_count": null,
      "outputs": [
        {
          "output_type": "stream",
          "name": "stdout",
          "text": [
            "[[ 3  1 -1]\n",
            " [ 4  2  0]\n",
            " [ 5  3  1]]\n"
          ]
        }
      ]
    },
    {
      "cell_type": "code",
      "source": [
        "np.zeros(3)[:,None]"
      ],
      "metadata": {
        "colab": {
          "base_uri": "https://localhost:8080/"
        },
        "id": "xoKO34F_Vv8L",
        "outputId": "2312d34c-1ebb-48e5-f496-39e9dd0589a6"
      },
      "execution_count": null,
      "outputs": [
        {
          "output_type": "execute_result",
          "data": {
            "text/plain": [
              "array([[0.],\n",
              "       [0.],\n",
              "       [0.]])"
            ]
          },
          "metadata": {},
          "execution_count": 21
        }
      ]
    },
    {
      "cell_type": "code",
      "source": [
        "np.diag((2, 4))"
      ],
      "metadata": {
        "colab": {
          "base_uri": "https://localhost:8080/"
        },
        "id": "lnaHjwO4WmpI",
        "outputId": "c59444cf-6552-4bc6-841d-12fc1c3e02c4"
      },
      "execution_count": null,
      "outputs": [
        {
          "output_type": "execute_result",
          "data": {
            "text/plain": [
              "array([[2, 0],\n",
              "       [0, 4]])"
            ]
          },
          "metadata": {},
          "execution_count": 22
        }
      ]
    },
    {
      "cell_type": "code",
      "source": [
        "np.eye(2, dtype=int)"
      ],
      "metadata": {
        "colab": {
          "base_uri": "https://localhost:8080/"
        },
        "id": "LvwpCruVXOQp",
        "outputId": "5027b614-eb9f-4463-9136-d23a8ab506ea"
      },
      "execution_count": null,
      "outputs": [
        {
          "output_type": "execute_result",
          "data": {
            "text/plain": [
              "array([[1, 0],\n",
              "       [0, 1]])"
            ]
          },
          "metadata": {},
          "execution_count": 23
        }
      ]
    },
    {
      "cell_type": "code",
      "source": [
        "a = np.array([[1, 4], [2, 3]])\n",
        "b = np.array([[7, 9], [0, 6]])\n",
        "print(a.dot(b))\n",
        "print(a @ b)"
      ],
      "metadata": {
        "colab": {
          "base_uri": "https://localhost:8080/"
        },
        "id": "51AcIpdUYwD9",
        "outputId": "4879a4d0-cc71-4fca-ad2e-bc8db66c14c6"
      },
      "execution_count": null,
      "outputs": [
        {
          "output_type": "stream",
          "name": "stdout",
          "text": [
            "[[ 7 33]\n",
            " [14 36]]\n",
            "[[ 7 33]\n",
            " [14 36]]\n"
          ]
        }
      ]
    },
    {
      "cell_type": "code",
      "source": [
        "arr = np.array([[1,2,3], [4,5,6], [7, 8, 9]])\n",
        "print(arr.trace())\n",
        "print(np.eye(2,dtype=int).trace())"
      ],
      "metadata": {
        "colab": {
          "base_uri": "https://localhost:8080/"
        },
        "id": "Tj73Jqh8Zwm4",
        "outputId": "302b688a-cbe8-4dff-db3c-785ec7b1d7c9"
      },
      "execution_count": null,
      "outputs": [
        {
          "output_type": "stream",
          "name": "stdout",
          "text": [
            "15\n",
            "2\n"
          ]
        }
      ]
    },
    {
      "cell_type": "code",
      "source": [
        "arr = np.array([[2, 3], [1, 6]])\n",
        "print(arr)\n",
        "print(np.linalg.det(arr))"
      ],
      "metadata": {
        "colab": {
          "base_uri": "https://localhost:8080/"
        },
        "id": "5y_4V2kQa9EU",
        "outputId": "cf6bd828-bde4-4cfc-81cd-3ca115eee0fe"
      },
      "execution_count": null,
      "outputs": [
        {
          "output_type": "stream",
          "name": "stdout",
          "text": [
            "[[2 3]\n",
            " [1 6]]\n",
            "9.000000000000002\n"
          ]
        }
      ]
    },
    {
      "cell_type": "code",
      "source": [
        "mat = np.array([[1, 4], [2, 3]])\n",
        "print(mat)\n",
        "mat_inv = np.linalg.inv(mat)\n",
        "print(mat_inv)\n",
        "print(mat @ mat_inv)"
      ],
      "metadata": {
        "colab": {
          "base_uri": "https://localhost:8080/"
        },
        "id": "_NnE1Q9ZbyzT",
        "outputId": "04008099-baff-4b97-c50d-500a47c9126d"
      },
      "execution_count": null,
      "outputs": [
        {
          "output_type": "stream",
          "name": "stdout",
          "text": [
            "[[1 4]\n",
            " [2 3]]\n",
            "[[-0.6  0.8]\n",
            " [ 0.4 -0.2]]\n",
            "[[ 1.00000000e+00  0.00000000e+00]\n",
            " [-1.11022302e-16  1.00000000e+00]]\n"
          ]
        }
      ]
    },
    {
      "cell_type": "code",
      "source": [
        "mat = np.array([[2, 0 ,-2], [1, 1, -2], [0, 0, 1]])\n",
        "print(mat)\n",
        "print(np.linalg.eig(mat))"
      ],
      "metadata": {
        "colab": {
          "base_uri": "https://localhost:8080/"
        },
        "id": "xE40UDSedxTh",
        "outputId": "f6d8914d-ad48-4d24-fd43-de045a056d35"
      },
      "execution_count": null,
      "outputs": [
        {
          "output_type": "stream",
          "name": "stdout",
          "text": [
            "[[ 2  0 -2]\n",
            " [ 1  1 -2]\n",
            " [ 0  0  1]]\n",
            "(array([1., 2., 1.]), array([[0.        , 0.70710678, 0.89442719],\n",
            "       [1.        , 0.70710678, 0.        ],\n",
            "       [0.        , 0.        , 0.4472136 ]]))\n"
          ]
        }
      ]
    },
    {
      "cell_type": "code",
      "source": [
        "a = np.arange(4)\n",
        "\n",
        "def get_L2_norm(arr):\n",
        "  return np.linalg.norm(arr, 2)\n",
        "\n",
        "print(get_L2_norm(a))"
      ],
      "metadata": {
        "colab": {
          "base_uri": "https://localhost:8080/"
        },
        "id": "N3nRkvapf1T1",
        "outputId": "5b234fc3-43ea-4d34-da18-d3d2d5423f2b"
      },
      "execution_count": null,
      "outputs": [
        {
          "output_type": "stream",
          "name": "stdout",
          "text": [
            "3.7416573867739413\n"
          ]
        }
      ]
    },
    {
      "cell_type": "code",
      "source": [
        "arr = np.array([[2, 3], [1, 6]])\n",
        "arr2 = np.array([[3, 2], [3, 2]])\n",
        "def is_singular(arr):\n",
        "  if np.linalg.det(arr) == 0:\n",
        "    return True\n",
        "  return False\n",
        "\n",
        "print(is_singular(arr))\n",
        "print(is_singular(arr2))"
      ],
      "metadata": {
        "colab": {
          "base_uri": "https://localhost:8080/"
        },
        "id": "_n0y68ZYiAIZ",
        "outputId": "4acd5d65-785f-4fee-e692-b58c1bd56215"
      },
      "execution_count": null,
      "outputs": [
        {
          "output_type": "stream",
          "name": "stdout",
          "text": [
            "False\n",
            "True\n"
          ]
        }
      ]
    },
    {
      "cell_type": "code",
      "source": [],
      "metadata": {
        "id": "QLUO9S8qj8fh"
      },
      "execution_count": null,
      "outputs": []
    }
  ]
}