{
  "nbformat": 4,
  "nbformat_minor": 0,
  "metadata": {
    "colab": {
      "provenance": []
    },
    "kernelspec": {
      "name": "python3",
      "display_name": "Python 3"
    },
    "language_info": {
      "name": "python"
    }
  },
  "cells": [
    {
      "cell_type": "code",
      "execution_count": null,
      "metadata": {
        "colab": {
          "base_uri": "https://localhost:8080/"
        },
        "id": "qVr9JyDU_Nif",
        "outputId": "d9a2d3bd-f423-4dd2-8a28-b5e52e8e7b4f"
      },
      "outputs": [
        {
          "output_type": "stream",
          "name": "stdout",
          "text": [
            "Looking in indexes: https://pypi.org/simple, https://us-python.pkg.dev/colab-wheels/public/simple/\n",
            "Requirement already satisfied: beautifulsoup4 in /usr/local/lib/python3.9/dist-packages (4.11.2)\n",
            "Requirement already satisfied: soupsieve>1.2 in /usr/local/lib/python3.9/dist-packages (from beautifulsoup4) (2.4)\n"
          ]
        }
      ],
      "source": [
        "!pip install beautifulsoup4"
      ]
    },
    {
      "cell_type": "code",
      "source": [
        "import requests\n",
        "\n",
        "res = requests.get(\"http://www.example.com\")\n",
        "\n",
        "print(res.text)"
      ],
      "metadata": {
        "colab": {
          "base_uri": "https://localhost:8080/"
        },
        "id": "eyXOlk7e_aGM",
        "outputId": "f9e487d9-14fc-419d-ca7d-278d68f4f2b7"
      },
      "execution_count": null,
      "outputs": [
        {
          "output_type": "stream",
          "name": "stdout",
          "text": [
            "<!doctype html>\n",
            "<html>\n",
            "<head>\n",
            "    <title>Example Domain</title>\n",
            "\n",
            "    <meta charset=\"utf-8\" />\n",
            "    <meta http-equiv=\"Content-type\" content=\"text/html; charset=utf-8\" />\n",
            "    <meta name=\"viewport\" content=\"width=device-width, initial-scale=1\" />\n",
            "    <style type=\"text/css\">\n",
            "    body {\n",
            "        background-color: #f0f0f2;\n",
            "        margin: 0;\n",
            "        padding: 0;\n",
            "        font-family: -apple-system, system-ui, BlinkMacSystemFont, \"Segoe UI\", \"Open Sans\", \"Helvetica Neue\", Helvetica, Arial, sans-serif;\n",
            "        \n",
            "    }\n",
            "    div {\n",
            "        width: 600px;\n",
            "        margin: 5em auto;\n",
            "        padding: 2em;\n",
            "        background-color: #fdfdff;\n",
            "        border-radius: 0.5em;\n",
            "        box-shadow: 2px 3px 7px 2px rgba(0,0,0,0.02);\n",
            "    }\n",
            "    a:link, a:visited {\n",
            "        color: #38488f;\n",
            "        text-decoration: none;\n",
            "    }\n",
            "    @media (max-width: 700px) {\n",
            "        div {\n",
            "            margin: 0 auto;\n",
            "            width: auto;\n",
            "        }\n",
            "    }\n",
            "    </style>    \n",
            "</head>\n",
            "\n",
            "<body>\n",
            "<div>\n",
            "    <h1>Example Domain</h1>\n",
            "    <p>This domain is for use in illustrative examples in documents. You may use this\n",
            "    domain in literature without prior coordination or asking for permission.</p>\n",
            "    <p><a href=\"https://www.iana.org/domains/example\">More information...</a></p>\n",
            "</div>\n",
            "</body>\n",
            "</html>\n",
            "\n"
          ]
        }
      ]
    },
    {
      "cell_type": "code",
      "source": [
        "from bs4 import BeautifulSoup\n",
        "\n",
        "# BeautifulSoup 객체를 만들어본다.\n",
        "# 첫번째 인자로는 reponse의 body를 텍스트로 전달한다.\n",
        "# 두번째 인자로는 \"html\"로 분석한다는 것을 명시해준다.\n",
        "soup = BeautifulSoup(res.text, \"html.parser\")"
      ],
      "metadata": {
        "id": "aqFAExWp_9u1"
      },
      "execution_count": null,
      "outputs": []
    },
    {
      "cell_type": "code",
      "source": [
        "# 객체 soup의 .prettify()를 이용하면 분석된 HTML을 보기 편하게 반환해준다.\n",
        "print(soup.prettify())"
      ],
      "metadata": {
        "colab": {
          "base_uri": "https://localhost:8080/"
        },
        "id": "PajRIkXgA5kn",
        "outputId": "f2a97123-3d38-4e17-cff7-2c36d2cac99f"
      },
      "execution_count": null,
      "outputs": [
        {
          "output_type": "stream",
          "name": "stdout",
          "text": [
            "<!DOCTYPE html>\n",
            "<html>\n",
            " <head>\n",
            "  <title>\n",
            "   Example Domain\n",
            "  </title>\n",
            "  <meta charset=\"utf-8\"/>\n",
            "  <meta content=\"text/html; charset=utf-8\" http-equiv=\"Content-type\"/>\n",
            "  <meta content=\"width=device-width, initial-scale=1\" name=\"viewport\"/>\n",
            "  <style type=\"text/css\">\n",
            "   body {\n",
            "        background-color: #f0f0f2;\n",
            "        margin: 0;\n",
            "        padding: 0;\n",
            "        font-family: -apple-system, system-ui, BlinkMacSystemFont, \"Segoe UI\", \"Open Sans\", \"Helvetica Neue\", Helvetica, Arial, sans-serif;\n",
            "        \n",
            "    }\n",
            "    div {\n",
            "        width: 600px;\n",
            "        margin: 5em auto;\n",
            "        padding: 2em;\n",
            "        background-color: #fdfdff;\n",
            "        border-radius: 0.5em;\n",
            "        box-shadow: 2px 3px 7px 2px rgba(0,0,0,0.02);\n",
            "    }\n",
            "    a:link, a:visited {\n",
            "        color: #38488f;\n",
            "        text-decoration: none;\n",
            "    }\n",
            "    @media (max-width: 700px) {\n",
            "        div {\n",
            "            margin: 0 auto;\n",
            "            width: auto;\n",
            "        }\n",
            "    }\n",
            "  </style>\n",
            " </head>\n",
            " <body>\n",
            "  <div>\n",
            "   <h1>\n",
            "    Example Domain\n",
            "   </h1>\n",
            "   <p>\n",
            "    This domain is for use in illustrative examples in documents. You may use this\n",
            "    domain in literature without prior coordination or asking for permission.\n",
            "   </p>\n",
            "   <p>\n",
            "    <a href=\"https://www.iana.org/domains/example\">\n",
            "     More information...\n",
            "    </a>\n",
            "   </p>\n",
            "  </div>\n",
            " </body>\n",
            "</html>\n",
            "\n"
          ]
        }
      ]
    },
    {
      "cell_type": "code",
      "source": [
        "# title 태그 가져오기\n",
        "soup.title"
      ],
      "metadata": {
        "colab": {
          "base_uri": "https://localhost:8080/"
        },
        "id": "V_NPW_0wBnuc",
        "outputId": "5b7b2907-7759-48b4-f6e0-d17b9a5bef46"
      },
      "execution_count": null,
      "outputs": [
        {
          "output_type": "execute_result",
          "data": {
            "text/plain": [
              "<title>Example Domain</title>"
            ]
          },
          "metadata": {},
          "execution_count": 6
        }
      ]
    },
    {
      "cell_type": "code",
      "source": [
        "# <h1> 태그로 감싸진 요소 하나 찾기\n",
        "soup.find(\"h1\")"
      ],
      "metadata": {
        "colab": {
          "base_uri": "https://localhost:8080/"
        },
        "id": "n8d83U7uCAHU",
        "outputId": "94a28fa3-2cb6-49a9-c222-e84732e5dc35"
      },
      "execution_count": null,
      "outputs": [
        {
          "output_type": "execute_result",
          "data": {
            "text/plain": [
              "<h1>Example Domain</h1>"
            ]
          },
          "metadata": {},
          "execution_count": 7
        }
      ]
    },
    {
      "cell_type": "code",
      "source": [
        "# <p> 태그로 감싸진 요소들 찾기\n",
        "soup.find_all('p')"
      ],
      "metadata": {
        "colab": {
          "base_uri": "https://localhost:8080/"
        },
        "id": "jj2ana_LCZ1I",
        "outputId": "1dee133a-e2c6-444f-8440-4d13b4ea172d"
      },
      "execution_count": null,
      "outputs": [
        {
          "output_type": "execute_result",
          "data": {
            "text/plain": [
              "[<p>This domain is for use in illustrative examples in documents. You may use this\n",
              "     domain in literature without prior coordination or asking for permission.</p>,\n",
              " <p><a href=\"https://www.iana.org/domains/example\">More information...</a></p>]"
            ]
          },
          "metadata": {},
          "execution_count": 9
        }
      ]
    },
    {
      "cell_type": "code",
      "source": [
        "# 태그 이름 가져오기\n",
        "h1 = soup.find('h1')\n",
        "h1.name"
      ],
      "metadata": {
        "colab": {
          "base_uri": "https://localhost:8080/",
          "height": 35
        },
        "id": "pTby_MDCCtks",
        "outputId": "502f37bb-71e4-4e08-d90b-cc6e191dd53c"
      },
      "execution_count": null,
      "outputs": [
        {
          "output_type": "execute_result",
          "data": {
            "text/plain": [
              "'h1'"
            ],
            "application/vnd.google.colaboratory.intrinsic+json": {
              "type": "string"
            }
          },
          "metadata": {},
          "execution_count": 10
        }
      ]
    },
    {
      "cell_type": "code",
      "source": [
        "# 태그 내용 가져오기\n",
        "h1.text"
      ],
      "metadata": {
        "colab": {
          "base_uri": "https://localhost:8080/",
          "height": 35
        },
        "id": "EgeRmV0WDGxR",
        "outputId": "0433a94a-7c63-40a7-a815-25d494c216d2"
      },
      "execution_count": null,
      "outputs": [
        {
          "output_type": "execute_result",
          "data": {
            "text/plain": [
              "'Example Domain'"
            ],
            "application/vnd.google.colaboratory.intrinsic+json": {
              "type": "string"
            }
          },
          "metadata": {},
          "execution_count": 11
        }
      ]
    },
    {
      "cell_type": "code",
      "source": [
        "# http://books.toscrape.com/catalogue/category/books/travel_2/index.html"
      ],
      "metadata": {
        "id": "WNW-4TF_DYWs"
      },
      "execution_count": null,
      "outputs": []
    },
    {
      "cell_type": "code",
      "source": [
        "# 스크래핑에 필요한 라이브러리 불러오기\n",
        "import requests\n",
        "from bs4 import BeautifulSoup"
      ],
      "metadata": {
        "id": "vt9DRIksKltm"
      },
      "execution_count": null,
      "outputs": []
    },
    {
      "cell_type": "code",
      "source": [
        "# 예시 사이트에 요청을 보내고, 응답을 바탕으로 BeautifulSoup 객체를 생성한다.\n",
        "res = requests.get(\"http://books.toscrape.com/catalogue/category/books/travel_2/index.html\")\n",
        "soup = BeautifulSoup(res.text, \"html.parser\")"
      ],
      "metadata": {
        "id": "h6enqbELKvrA"
      },
      "execution_count": null,
      "outputs": []
    },
    {
      "cell_type": "code",
      "source": [
        "# <h3> 태그에 해당하는 요소를 하나 찾아보기\n",
        "soup.find('h3')"
      ],
      "metadata": {
        "id": "tdWaALuxLXBL",
        "colab": {
          "base_uri": "https://localhost:8080/"
        },
        "outputId": "c2009577-29ca-4542-e3b5-e3986f1482cd"
      },
      "execution_count": 15,
      "outputs": [
        {
          "output_type": "execute_result",
          "data": {
            "text/plain": [
              "<h3><a href=\"../../../its-only-the-himalayas_981/index.html\" title=\"It's Only the Himalayas\">It's Only the Himalayas</a></h3>"
            ]
          },
          "metadata": {},
          "execution_count": 15
        }
      ]
    },
    {
      "cell_type": "code",
      "source": [
        "#<h3> 태그에 해당하는 모든 요소 찾아보기\n",
        "h3_result = soup.find_all('h3')\n",
        "len(h3_result)"
      ],
      "metadata": {
        "colab": {
          "base_uri": "https://localhost:8080/"
        },
        "id": "OBuaiH0KWpXD",
        "outputId": "cea6c046-77d9-476f-f7d7-8ecd68ade760"
      },
      "execution_count": 16,
      "outputs": [
        {
          "output_type": "execute_result",
          "data": {
            "text/plain": [
              "11"
            ]
          },
          "metadata": {},
          "execution_count": 16
        }
      ]
    },
    {
      "cell_type": "code",
      "source": [
        "# book_list에서 우리가 원하는 제목만 추출해보기\n",
        "# for book in h3_result:\n",
        "#   print(book.a.text)\n",
        "for book in h3_result:\n",
        "  print(book.a['title'])"
      ],
      "metadata": {
        "colab": {
          "base_uri": "https://localhost:8080/"
        },
        "id": "LpyTgxYqXLAb",
        "outputId": "2525ccf3-1915-49d2-dc0f-9fdc659a73b4"
      },
      "execution_count": 18,
      "outputs": [
        {
          "output_type": "stream",
          "name": "stdout",
          "text": [
            "It's Only the Himalayas\n",
            "Full Moon over Noahâs Ark: An Odyssey to Mount Ararat and Beyond\n",
            "See America: A Celebration of Our National Parks & Treasured Sites\n",
            "Vagabonding: An Uncommon Guide to the Art of Long-Term World Travel\n",
            "Under the Tuscan Sun\n",
            "A Summer In Europe\n",
            "The Great Railway Bazaar\n",
            "A Year in Provence (Provence #1)\n",
            "The Road to Little Dribbling: Adventures of an American in Britain (Notes From a Small Island #2)\n",
            "Neither Here nor There: Travels in Europe\n",
            "1,000 Places to See Before You Die\n"
          ]
        }
      ]
    },
    {
      "cell_type": "code",
      "source": [
        "# http://example.python-scraping.com/"
      ],
      "metadata": {
        "id": "ppCBYXdrXur9"
      },
      "execution_count": 19,
      "outputs": []
    },
    {
      "cell_type": "code",
      "source": [
        "# 아래 사이트에 요청을 보내고, 이것의 응답을 BeautifulSoup 객체로 만들어본다.\n",
        "res = requests.get('http://example.python-scraping.com/')\n",
        "soup = BeautifulSoup(res.text, \"html.parser\")"
      ],
      "metadata": {
        "colab": {
          "base_uri": "https://localhost:8080/",
          "height": 345
        },
        "id": "nN7vtLYDaMIF",
        "outputId": "5c380a02-909f-4790-8bb1-ede008478bab"
      },
      "execution_count": 20,
      "outputs": [
        {
          "output_type": "error",
          "ename": "KeyboardInterrupt",
          "evalue": "ignored",
          "traceback": [
            "\u001b[0;31m---------------------------------------------------------------------------\u001b[0m",
            "\u001b[0;31mKeyboardInterrupt\u001b[0m                         Traceback (most recent call last)",
            "\u001b[0;32m<ipython-input-20-f0be4daa5ce9>\u001b[0m in \u001b[0;36m<module>\u001b[0;34m\u001b[0m\n\u001b[0;32m----> 1\u001b[0;31m \u001b[0mres\u001b[0m \u001b[0;34m=\u001b[0m \u001b[0mrequests\u001b[0m\u001b[0;34m.\u001b[0m\u001b[0mget\u001b[0m\u001b[0;34m(\u001b[0m\u001b[0;34m'http://example.python-scraping.com/'\u001b[0m\u001b[0;34m)\u001b[0m\u001b[0;34m\u001b[0m\u001b[0;34m\u001b[0m\u001b[0m\n\u001b[0m\u001b[1;32m      2\u001b[0m \u001b[0msoup\u001b[0m \u001b[0;34m=\u001b[0m \u001b[0mBeautifulSoup\u001b[0m\u001b[0;34m(\u001b[0m\u001b[0mres\u001b[0m\u001b[0;34m.\u001b[0m\u001b[0mtext\u001b[0m\u001b[0;34m,\u001b[0m \u001b[0;34m\"html.parser\"\u001b[0m\u001b[0;34m)\u001b[0m\u001b[0;34m\u001b[0m\u001b[0;34m\u001b[0m\u001b[0m\n",
            "\u001b[0;32m/usr/local/lib/python3.9/dist-packages/requests/api.py\u001b[0m in \u001b[0;36mget\u001b[0;34m(url, params, **kwargs)\u001b[0m\n\u001b[1;32m     73\u001b[0m     \"\"\"\n\u001b[1;32m     74\u001b[0m \u001b[0;34m\u001b[0m\u001b[0m\n\u001b[0;32m---> 75\u001b[0;31m     \u001b[0;32mreturn\u001b[0m \u001b[0mrequest\u001b[0m\u001b[0;34m(\u001b[0m\u001b[0;34m'get'\u001b[0m\u001b[0;34m,\u001b[0m \u001b[0murl\u001b[0m\u001b[0;34m,\u001b[0m \u001b[0mparams\u001b[0m\u001b[0;34m=\u001b[0m\u001b[0mparams\u001b[0m\u001b[0;34m,\u001b[0m \u001b[0;34m**\u001b[0m\u001b[0mkwargs\u001b[0m\u001b[0;34m)\u001b[0m\u001b[0;34m\u001b[0m\u001b[0;34m\u001b[0m\u001b[0m\n\u001b[0m\u001b[1;32m     76\u001b[0m \u001b[0;34m\u001b[0m\u001b[0m\n\u001b[1;32m     77\u001b[0m \u001b[0;34m\u001b[0m\u001b[0m\n",
            "\u001b[0;32m/usr/local/lib/python3.9/dist-packages/requests/api.py\u001b[0m in \u001b[0;36mrequest\u001b[0;34m(method, url, **kwargs)\u001b[0m\n\u001b[1;32m     59\u001b[0m     \u001b[0;31m# cases, and look like a memory leak in others.\u001b[0m\u001b[0;34m\u001b[0m\u001b[0;34m\u001b[0m\u001b[0m\n\u001b[1;32m     60\u001b[0m     \u001b[0;32mwith\u001b[0m \u001b[0msessions\u001b[0m\u001b[0;34m.\u001b[0m\u001b[0mSession\u001b[0m\u001b[0;34m(\u001b[0m\u001b[0;34m)\u001b[0m \u001b[0;32mas\u001b[0m \u001b[0msession\u001b[0m\u001b[0;34m:\u001b[0m\u001b[0;34m\u001b[0m\u001b[0;34m\u001b[0m\u001b[0m\n\u001b[0;32m---> 61\u001b[0;31m         \u001b[0;32mreturn\u001b[0m \u001b[0msession\u001b[0m\u001b[0;34m.\u001b[0m\u001b[0mrequest\u001b[0m\u001b[0;34m(\u001b[0m\u001b[0mmethod\u001b[0m\u001b[0;34m=\u001b[0m\u001b[0mmethod\u001b[0m\u001b[0;34m,\u001b[0m \u001b[0murl\u001b[0m\u001b[0;34m=\u001b[0m\u001b[0murl\u001b[0m\u001b[0;34m,\u001b[0m \u001b[0;34m**\u001b[0m\u001b[0mkwargs\u001b[0m\u001b[0;34m)\u001b[0m\u001b[0;34m\u001b[0m\u001b[0;34m\u001b[0m\u001b[0m\n\u001b[0m\u001b[1;32m     62\u001b[0m \u001b[0;34m\u001b[0m\u001b[0m\n\u001b[1;32m     63\u001b[0m \u001b[0;34m\u001b[0m\u001b[0m\n",
            "\u001b[0;32m/usr/local/lib/python3.9/dist-packages/requests/sessions.py\u001b[0m in \u001b[0;36mrequest\u001b[0;34m(self, method, url, params, data, headers, cookies, files, auth, timeout, allow_redirects, proxies, hooks, stream, verify, cert, json)\u001b[0m\n\u001b[1;32m    527\u001b[0m         }\n\u001b[1;32m    528\u001b[0m         \u001b[0msend_kwargs\u001b[0m\u001b[0;34m.\u001b[0m\u001b[0mupdate\u001b[0m\u001b[0;34m(\u001b[0m\u001b[0msettings\u001b[0m\u001b[0;34m)\u001b[0m\u001b[0;34m\u001b[0m\u001b[0;34m\u001b[0m\u001b[0m\n\u001b[0;32m--> 529\u001b[0;31m         \u001b[0mresp\u001b[0m \u001b[0;34m=\u001b[0m \u001b[0mself\u001b[0m\u001b[0;34m.\u001b[0m\u001b[0msend\u001b[0m\u001b[0;34m(\u001b[0m\u001b[0mprep\u001b[0m\u001b[0;34m,\u001b[0m \u001b[0;34m**\u001b[0m\u001b[0msend_kwargs\u001b[0m\u001b[0;34m)\u001b[0m\u001b[0;34m\u001b[0m\u001b[0;34m\u001b[0m\u001b[0m\n\u001b[0m\u001b[1;32m    530\u001b[0m \u001b[0;34m\u001b[0m\u001b[0m\n\u001b[1;32m    531\u001b[0m         \u001b[0;32mreturn\u001b[0m \u001b[0mresp\u001b[0m\u001b[0;34m\u001b[0m\u001b[0;34m\u001b[0m\u001b[0m\n",
            "\u001b[0;32m/usr/local/lib/python3.9/dist-packages/requests/sessions.py\u001b[0m in \u001b[0;36msend\u001b[0;34m(self, request, **kwargs)\u001b[0m\n\u001b[1;32m    643\u001b[0m \u001b[0;34m\u001b[0m\u001b[0m\n\u001b[1;32m    644\u001b[0m         \u001b[0;31m# Send the request\u001b[0m\u001b[0;34m\u001b[0m\u001b[0;34m\u001b[0m\u001b[0m\n\u001b[0;32m--> 645\u001b[0;31m         \u001b[0mr\u001b[0m \u001b[0;34m=\u001b[0m \u001b[0madapter\u001b[0m\u001b[0;34m.\u001b[0m\u001b[0msend\u001b[0m\u001b[0;34m(\u001b[0m\u001b[0mrequest\u001b[0m\u001b[0;34m,\u001b[0m \u001b[0;34m**\u001b[0m\u001b[0mkwargs\u001b[0m\u001b[0;34m)\u001b[0m\u001b[0;34m\u001b[0m\u001b[0;34m\u001b[0m\u001b[0m\n\u001b[0m\u001b[1;32m    646\u001b[0m \u001b[0;34m\u001b[0m\u001b[0m\n\u001b[1;32m    647\u001b[0m         \u001b[0;31m# Total elapsed time of the request (approximately)\u001b[0m\u001b[0;34m\u001b[0m\u001b[0;34m\u001b[0m\u001b[0m\n",
            "\u001b[0;32m/usr/local/lib/python3.9/dist-packages/requests/adapters.py\u001b[0m in \u001b[0;36msend\u001b[0;34m(self, request, stream, timeout, verify, cert, proxies)\u001b[0m\n\u001b[1;32m    438\u001b[0m         \u001b[0;32mtry\u001b[0m\u001b[0;34m:\u001b[0m\u001b[0;34m\u001b[0m\u001b[0;34m\u001b[0m\u001b[0m\n\u001b[1;32m    439\u001b[0m             \u001b[0;32mif\u001b[0m \u001b[0;32mnot\u001b[0m \u001b[0mchunked\u001b[0m\u001b[0;34m:\u001b[0m\u001b[0;34m\u001b[0m\u001b[0;34m\u001b[0m\u001b[0m\n\u001b[0;32m--> 440\u001b[0;31m                 resp = conn.urlopen(\n\u001b[0m\u001b[1;32m    441\u001b[0m                     \u001b[0mmethod\u001b[0m\u001b[0;34m=\u001b[0m\u001b[0mrequest\u001b[0m\u001b[0;34m.\u001b[0m\u001b[0mmethod\u001b[0m\u001b[0;34m,\u001b[0m\u001b[0;34m\u001b[0m\u001b[0;34m\u001b[0m\u001b[0m\n\u001b[1;32m    442\u001b[0m                     \u001b[0murl\u001b[0m\u001b[0;34m=\u001b[0m\u001b[0murl\u001b[0m\u001b[0;34m,\u001b[0m\u001b[0;34m\u001b[0m\u001b[0;34m\u001b[0m\u001b[0m\n",
            "\u001b[0;32m/usr/local/lib/python3.9/dist-packages/urllib3/connectionpool.py\u001b[0m in \u001b[0;36murlopen\u001b[0;34m(self, method, url, body, headers, retries, redirect, assert_same_host, timeout, pool_timeout, release_conn, chunked, body_pos, **response_kw)\u001b[0m\n\u001b[1;32m    701\u001b[0m \u001b[0;34m\u001b[0m\u001b[0m\n\u001b[1;32m    702\u001b[0m             \u001b[0;31m# Make the request on the httplib connection object.\u001b[0m\u001b[0;34m\u001b[0m\u001b[0;34m\u001b[0m\u001b[0m\n\u001b[0;32m--> 703\u001b[0;31m             httplib_response = self._make_request(\n\u001b[0m\u001b[1;32m    704\u001b[0m                 \u001b[0mconn\u001b[0m\u001b[0;34m,\u001b[0m\u001b[0;34m\u001b[0m\u001b[0;34m\u001b[0m\u001b[0m\n\u001b[1;32m    705\u001b[0m                 \u001b[0mmethod\u001b[0m\u001b[0;34m,\u001b[0m\u001b[0;34m\u001b[0m\u001b[0;34m\u001b[0m\u001b[0m\n",
            "\u001b[0;32m/usr/local/lib/python3.9/dist-packages/urllib3/connectionpool.py\u001b[0m in \u001b[0;36m_make_request\u001b[0;34m(self, conn, method, url, timeout, chunked, **httplib_request_kw)\u001b[0m\n\u001b[1;32m    396\u001b[0m                 \u001b[0mconn\u001b[0m\u001b[0;34m.\u001b[0m\u001b[0mrequest_chunked\u001b[0m\u001b[0;34m(\u001b[0m\u001b[0mmethod\u001b[0m\u001b[0;34m,\u001b[0m \u001b[0murl\u001b[0m\u001b[0;34m,\u001b[0m \u001b[0;34m**\u001b[0m\u001b[0mhttplib_request_kw\u001b[0m\u001b[0;34m)\u001b[0m\u001b[0;34m\u001b[0m\u001b[0;34m\u001b[0m\u001b[0m\n\u001b[1;32m    397\u001b[0m             \u001b[0;32melse\u001b[0m\u001b[0;34m:\u001b[0m\u001b[0;34m\u001b[0m\u001b[0;34m\u001b[0m\u001b[0m\n\u001b[0;32m--> 398\u001b[0;31m                 \u001b[0mconn\u001b[0m\u001b[0;34m.\u001b[0m\u001b[0mrequest\u001b[0m\u001b[0;34m(\u001b[0m\u001b[0mmethod\u001b[0m\u001b[0;34m,\u001b[0m \u001b[0murl\u001b[0m\u001b[0;34m,\u001b[0m \u001b[0;34m**\u001b[0m\u001b[0mhttplib_request_kw\u001b[0m\u001b[0;34m)\u001b[0m\u001b[0;34m\u001b[0m\u001b[0;34m\u001b[0m\u001b[0m\n\u001b[0m\u001b[1;32m    399\u001b[0m \u001b[0;34m\u001b[0m\u001b[0m\n\u001b[1;32m    400\u001b[0m         \u001b[0;31m# We are swallowing BrokenPipeError (errno.EPIPE) since the server is\u001b[0m\u001b[0;34m\u001b[0m\u001b[0;34m\u001b[0m\u001b[0m\n",
            "\u001b[0;32m/usr/local/lib/python3.9/dist-packages/urllib3/connection.py\u001b[0m in \u001b[0;36mrequest\u001b[0;34m(self, method, url, body, headers)\u001b[0m\n\u001b[1;32m    242\u001b[0m         \u001b[0;32mif\u001b[0m \u001b[0;34m\"user-agent\"\u001b[0m \u001b[0;32mnot\u001b[0m \u001b[0;32min\u001b[0m \u001b[0;34m(\u001b[0m\u001b[0msix\u001b[0m\u001b[0;34m.\u001b[0m\u001b[0mensure_str\u001b[0m\u001b[0;34m(\u001b[0m\u001b[0mk\u001b[0m\u001b[0;34m.\u001b[0m\u001b[0mlower\u001b[0m\u001b[0;34m(\u001b[0m\u001b[0;34m)\u001b[0m\u001b[0;34m)\u001b[0m \u001b[0;32mfor\u001b[0m \u001b[0mk\u001b[0m \u001b[0;32min\u001b[0m \u001b[0mheaders\u001b[0m\u001b[0;34m)\u001b[0m\u001b[0;34m:\u001b[0m\u001b[0;34m\u001b[0m\u001b[0;34m\u001b[0m\u001b[0m\n\u001b[1;32m    243\u001b[0m             \u001b[0mheaders\u001b[0m\u001b[0;34m[\u001b[0m\u001b[0;34m\"User-Agent\"\u001b[0m\u001b[0;34m]\u001b[0m \u001b[0;34m=\u001b[0m \u001b[0m_get_default_user_agent\u001b[0m\u001b[0;34m(\u001b[0m\u001b[0;34m)\u001b[0m\u001b[0;34m\u001b[0m\u001b[0;34m\u001b[0m\u001b[0m\n\u001b[0;32m--> 244\u001b[0;31m         \u001b[0msuper\u001b[0m\u001b[0;34m(\u001b[0m\u001b[0mHTTPConnection\u001b[0m\u001b[0;34m,\u001b[0m \u001b[0mself\u001b[0m\u001b[0;34m)\u001b[0m\u001b[0;34m.\u001b[0m\u001b[0mrequest\u001b[0m\u001b[0;34m(\u001b[0m\u001b[0mmethod\u001b[0m\u001b[0;34m,\u001b[0m \u001b[0murl\u001b[0m\u001b[0;34m,\u001b[0m \u001b[0mbody\u001b[0m\u001b[0;34m=\u001b[0m\u001b[0mbody\u001b[0m\u001b[0;34m,\u001b[0m \u001b[0mheaders\u001b[0m\u001b[0;34m=\u001b[0m\u001b[0mheaders\u001b[0m\u001b[0;34m)\u001b[0m\u001b[0;34m\u001b[0m\u001b[0;34m\u001b[0m\u001b[0m\n\u001b[0m\u001b[1;32m    245\u001b[0m \u001b[0;34m\u001b[0m\u001b[0m\n\u001b[1;32m    246\u001b[0m     \u001b[0;32mdef\u001b[0m \u001b[0mrequest_chunked\u001b[0m\u001b[0;34m(\u001b[0m\u001b[0mself\u001b[0m\u001b[0;34m,\u001b[0m \u001b[0mmethod\u001b[0m\u001b[0;34m,\u001b[0m \u001b[0murl\u001b[0m\u001b[0;34m,\u001b[0m \u001b[0mbody\u001b[0m\u001b[0;34m=\u001b[0m\u001b[0;32mNone\u001b[0m\u001b[0;34m,\u001b[0m \u001b[0mheaders\u001b[0m\u001b[0;34m=\u001b[0m\u001b[0;32mNone\u001b[0m\u001b[0;34m)\u001b[0m\u001b[0;34m:\u001b[0m\u001b[0;34m\u001b[0m\u001b[0;34m\u001b[0m\u001b[0m\n",
            "\u001b[0;32m/usr/lib/python3.9/http/client.py\u001b[0m in \u001b[0;36mrequest\u001b[0;34m(self, method, url, body, headers, encode_chunked)\u001b[0m\n\u001b[1;32m   1283\u001b[0m                 encode_chunked=False):\n\u001b[1;32m   1284\u001b[0m         \u001b[0;34m\"\"\"Send a complete request to the server.\"\"\"\u001b[0m\u001b[0;34m\u001b[0m\u001b[0;34m\u001b[0m\u001b[0m\n\u001b[0;32m-> 1285\u001b[0;31m         \u001b[0mself\u001b[0m\u001b[0;34m.\u001b[0m\u001b[0m_send_request\u001b[0m\u001b[0;34m(\u001b[0m\u001b[0mmethod\u001b[0m\u001b[0;34m,\u001b[0m \u001b[0murl\u001b[0m\u001b[0;34m,\u001b[0m \u001b[0mbody\u001b[0m\u001b[0;34m,\u001b[0m \u001b[0mheaders\u001b[0m\u001b[0;34m,\u001b[0m \u001b[0mencode_chunked\u001b[0m\u001b[0;34m)\u001b[0m\u001b[0;34m\u001b[0m\u001b[0;34m\u001b[0m\u001b[0m\n\u001b[0m\u001b[1;32m   1286\u001b[0m \u001b[0;34m\u001b[0m\u001b[0m\n\u001b[1;32m   1287\u001b[0m     \u001b[0;32mdef\u001b[0m \u001b[0m_send_request\u001b[0m\u001b[0;34m(\u001b[0m\u001b[0mself\u001b[0m\u001b[0;34m,\u001b[0m \u001b[0mmethod\u001b[0m\u001b[0;34m,\u001b[0m \u001b[0murl\u001b[0m\u001b[0;34m,\u001b[0m \u001b[0mbody\u001b[0m\u001b[0;34m,\u001b[0m \u001b[0mheaders\u001b[0m\u001b[0;34m,\u001b[0m \u001b[0mencode_chunked\u001b[0m\u001b[0;34m)\u001b[0m\u001b[0;34m:\u001b[0m\u001b[0;34m\u001b[0m\u001b[0;34m\u001b[0m\u001b[0m\n",
            "\u001b[0;32m/usr/lib/python3.9/http/client.py\u001b[0m in \u001b[0;36m_send_request\u001b[0;34m(self, method, url, body, headers, encode_chunked)\u001b[0m\n\u001b[1;32m   1329\u001b[0m             \u001b[0;31m# default charset of iso-8859-1.\u001b[0m\u001b[0;34m\u001b[0m\u001b[0;34m\u001b[0m\u001b[0m\n\u001b[1;32m   1330\u001b[0m             \u001b[0mbody\u001b[0m \u001b[0;34m=\u001b[0m \u001b[0m_encode\u001b[0m\u001b[0;34m(\u001b[0m\u001b[0mbody\u001b[0m\u001b[0;34m,\u001b[0m \u001b[0;34m'body'\u001b[0m\u001b[0;34m)\u001b[0m\u001b[0;34m\u001b[0m\u001b[0;34m\u001b[0m\u001b[0m\n\u001b[0;32m-> 1331\u001b[0;31m         \u001b[0mself\u001b[0m\u001b[0;34m.\u001b[0m\u001b[0mendheaders\u001b[0m\u001b[0;34m(\u001b[0m\u001b[0mbody\u001b[0m\u001b[0;34m,\u001b[0m \u001b[0mencode_chunked\u001b[0m\u001b[0;34m=\u001b[0m\u001b[0mencode_chunked\u001b[0m\u001b[0;34m)\u001b[0m\u001b[0;34m\u001b[0m\u001b[0;34m\u001b[0m\u001b[0m\n\u001b[0m\u001b[1;32m   1332\u001b[0m \u001b[0;34m\u001b[0m\u001b[0m\n\u001b[1;32m   1333\u001b[0m     \u001b[0;32mdef\u001b[0m \u001b[0mgetresponse\u001b[0m\u001b[0;34m(\u001b[0m\u001b[0mself\u001b[0m\u001b[0;34m)\u001b[0m\u001b[0;34m:\u001b[0m\u001b[0;34m\u001b[0m\u001b[0;34m\u001b[0m\u001b[0m\n",
            "\u001b[0;32m/usr/lib/python3.9/http/client.py\u001b[0m in \u001b[0;36mendheaders\u001b[0;34m(self, message_body, encode_chunked)\u001b[0m\n\u001b[1;32m   1278\u001b[0m         \u001b[0;32melse\u001b[0m\u001b[0;34m:\u001b[0m\u001b[0;34m\u001b[0m\u001b[0;34m\u001b[0m\u001b[0m\n\u001b[1;32m   1279\u001b[0m             \u001b[0;32mraise\u001b[0m \u001b[0mCannotSendHeader\u001b[0m\u001b[0;34m(\u001b[0m\u001b[0;34m)\u001b[0m\u001b[0;34m\u001b[0m\u001b[0;34m\u001b[0m\u001b[0m\n\u001b[0;32m-> 1280\u001b[0;31m         \u001b[0mself\u001b[0m\u001b[0;34m.\u001b[0m\u001b[0m_send_output\u001b[0m\u001b[0;34m(\u001b[0m\u001b[0mmessage_body\u001b[0m\u001b[0;34m,\u001b[0m \u001b[0mencode_chunked\u001b[0m\u001b[0;34m=\u001b[0m\u001b[0mencode_chunked\u001b[0m\u001b[0;34m)\u001b[0m\u001b[0;34m\u001b[0m\u001b[0;34m\u001b[0m\u001b[0m\n\u001b[0m\u001b[1;32m   1281\u001b[0m \u001b[0;34m\u001b[0m\u001b[0m\n\u001b[1;32m   1282\u001b[0m     def request(self, method, url, body=None, headers={}, *,\n",
            "\u001b[0;32m/usr/lib/python3.9/http/client.py\u001b[0m in \u001b[0;36m_send_output\u001b[0;34m(self, message_body, encode_chunked)\u001b[0m\n\u001b[1;32m   1038\u001b[0m         \u001b[0mmsg\u001b[0m \u001b[0;34m=\u001b[0m \u001b[0;34mb\"\\r\\n\"\u001b[0m\u001b[0;34m.\u001b[0m\u001b[0mjoin\u001b[0m\u001b[0;34m(\u001b[0m\u001b[0mself\u001b[0m\u001b[0;34m.\u001b[0m\u001b[0m_buffer\u001b[0m\u001b[0;34m)\u001b[0m\u001b[0;34m\u001b[0m\u001b[0;34m\u001b[0m\u001b[0m\n\u001b[1;32m   1039\u001b[0m         \u001b[0;32mdel\u001b[0m \u001b[0mself\u001b[0m\u001b[0;34m.\u001b[0m\u001b[0m_buffer\u001b[0m\u001b[0;34m[\u001b[0m\u001b[0;34m:\u001b[0m\u001b[0;34m]\u001b[0m\u001b[0;34m\u001b[0m\u001b[0;34m\u001b[0m\u001b[0m\n\u001b[0;32m-> 1040\u001b[0;31m         \u001b[0mself\u001b[0m\u001b[0;34m.\u001b[0m\u001b[0msend\u001b[0m\u001b[0;34m(\u001b[0m\u001b[0mmsg\u001b[0m\u001b[0;34m)\u001b[0m\u001b[0;34m\u001b[0m\u001b[0;34m\u001b[0m\u001b[0m\n\u001b[0m\u001b[1;32m   1041\u001b[0m \u001b[0;34m\u001b[0m\u001b[0m\n\u001b[1;32m   1042\u001b[0m         \u001b[0;32mif\u001b[0m \u001b[0mmessage_body\u001b[0m \u001b[0;32mis\u001b[0m \u001b[0;32mnot\u001b[0m \u001b[0;32mNone\u001b[0m\u001b[0;34m:\u001b[0m\u001b[0;34m\u001b[0m\u001b[0;34m\u001b[0m\u001b[0m\n",
            "\u001b[0;32m/usr/lib/python3.9/http/client.py\u001b[0m in \u001b[0;36msend\u001b[0;34m(self, data)\u001b[0m\n\u001b[1;32m    978\u001b[0m         \u001b[0;32mif\u001b[0m \u001b[0mself\u001b[0m\u001b[0;34m.\u001b[0m\u001b[0msock\u001b[0m \u001b[0;32mis\u001b[0m \u001b[0;32mNone\u001b[0m\u001b[0;34m:\u001b[0m\u001b[0;34m\u001b[0m\u001b[0;34m\u001b[0m\u001b[0m\n\u001b[1;32m    979\u001b[0m             \u001b[0;32mif\u001b[0m \u001b[0mself\u001b[0m\u001b[0;34m.\u001b[0m\u001b[0mauto_open\u001b[0m\u001b[0;34m:\u001b[0m\u001b[0;34m\u001b[0m\u001b[0;34m\u001b[0m\u001b[0m\n\u001b[0;32m--> 980\u001b[0;31m                 \u001b[0mself\u001b[0m\u001b[0;34m.\u001b[0m\u001b[0mconnect\u001b[0m\u001b[0;34m(\u001b[0m\u001b[0;34m)\u001b[0m\u001b[0;34m\u001b[0m\u001b[0;34m\u001b[0m\u001b[0m\n\u001b[0m\u001b[1;32m    981\u001b[0m             \u001b[0;32melse\u001b[0m\u001b[0;34m:\u001b[0m\u001b[0;34m\u001b[0m\u001b[0;34m\u001b[0m\u001b[0m\n\u001b[1;32m    982\u001b[0m                 \u001b[0;32mraise\u001b[0m \u001b[0mNotConnected\u001b[0m\u001b[0;34m(\u001b[0m\u001b[0;34m)\u001b[0m\u001b[0;34m\u001b[0m\u001b[0;34m\u001b[0m\u001b[0m\n",
            "\u001b[0;32m/usr/local/lib/python3.9/dist-packages/urllib3/connection.py\u001b[0m in \u001b[0;36mconnect\u001b[0;34m(self)\u001b[0m\n\u001b[1;32m    203\u001b[0m \u001b[0;34m\u001b[0m\u001b[0m\n\u001b[1;32m    204\u001b[0m     \u001b[0;32mdef\u001b[0m \u001b[0mconnect\u001b[0m\u001b[0;34m(\u001b[0m\u001b[0mself\u001b[0m\u001b[0;34m)\u001b[0m\u001b[0;34m:\u001b[0m\u001b[0;34m\u001b[0m\u001b[0;34m\u001b[0m\u001b[0m\n\u001b[0;32m--> 205\u001b[0;31m         \u001b[0mconn\u001b[0m \u001b[0;34m=\u001b[0m \u001b[0mself\u001b[0m\u001b[0;34m.\u001b[0m\u001b[0m_new_conn\u001b[0m\u001b[0;34m(\u001b[0m\u001b[0;34m)\u001b[0m\u001b[0;34m\u001b[0m\u001b[0;34m\u001b[0m\u001b[0m\n\u001b[0m\u001b[1;32m    206\u001b[0m         \u001b[0mself\u001b[0m\u001b[0;34m.\u001b[0m\u001b[0m_prepare_conn\u001b[0m\u001b[0;34m(\u001b[0m\u001b[0mconn\u001b[0m\u001b[0;34m)\u001b[0m\u001b[0;34m\u001b[0m\u001b[0;34m\u001b[0m\u001b[0m\n\u001b[1;32m    207\u001b[0m \u001b[0;34m\u001b[0m\u001b[0m\n",
            "\u001b[0;32m/usr/local/lib/python3.9/dist-packages/urllib3/connection.py\u001b[0m in \u001b[0;36m_new_conn\u001b[0;34m(self)\u001b[0m\n\u001b[1;32m    172\u001b[0m \u001b[0;34m\u001b[0m\u001b[0m\n\u001b[1;32m    173\u001b[0m         \u001b[0;32mtry\u001b[0m\u001b[0;34m:\u001b[0m\u001b[0;34m\u001b[0m\u001b[0;34m\u001b[0m\u001b[0m\n\u001b[0;32m--> 174\u001b[0;31m             conn = connection.create_connection(\n\u001b[0m\u001b[1;32m    175\u001b[0m                 \u001b[0;34m(\u001b[0m\u001b[0mself\u001b[0m\u001b[0;34m.\u001b[0m\u001b[0m_dns_host\u001b[0m\u001b[0;34m,\u001b[0m \u001b[0mself\u001b[0m\u001b[0;34m.\u001b[0m\u001b[0mport\u001b[0m\u001b[0;34m)\u001b[0m\u001b[0;34m,\u001b[0m \u001b[0mself\u001b[0m\u001b[0;34m.\u001b[0m\u001b[0mtimeout\u001b[0m\u001b[0;34m,\u001b[0m \u001b[0;34m**\u001b[0m\u001b[0mextra_kw\u001b[0m\u001b[0;34m\u001b[0m\u001b[0;34m\u001b[0m\u001b[0m\n\u001b[1;32m    176\u001b[0m             )\n",
            "\u001b[0;32m/usr/local/lib/python3.9/dist-packages/urllib3/util/connection.py\u001b[0m in \u001b[0;36mcreate_connection\u001b[0;34m(address, timeout, source_address, socket_options)\u001b[0m\n\u001b[1;32m     83\u001b[0m             \u001b[0;32mif\u001b[0m \u001b[0msource_address\u001b[0m\u001b[0;34m:\u001b[0m\u001b[0;34m\u001b[0m\u001b[0;34m\u001b[0m\u001b[0m\n\u001b[1;32m     84\u001b[0m                 \u001b[0msock\u001b[0m\u001b[0;34m.\u001b[0m\u001b[0mbind\u001b[0m\u001b[0;34m(\u001b[0m\u001b[0msource_address\u001b[0m\u001b[0;34m)\u001b[0m\u001b[0;34m\u001b[0m\u001b[0;34m\u001b[0m\u001b[0m\n\u001b[0;32m---> 85\u001b[0;31m             \u001b[0msock\u001b[0m\u001b[0;34m.\u001b[0m\u001b[0mconnect\u001b[0m\u001b[0;34m(\u001b[0m\u001b[0msa\u001b[0m\u001b[0;34m)\u001b[0m\u001b[0;34m\u001b[0m\u001b[0;34m\u001b[0m\u001b[0m\n\u001b[0m\u001b[1;32m     86\u001b[0m             \u001b[0;32mreturn\u001b[0m \u001b[0msock\u001b[0m\u001b[0;34m\u001b[0m\u001b[0;34m\u001b[0m\u001b[0m\n\u001b[1;32m     87\u001b[0m \u001b[0;34m\u001b[0m\u001b[0m\n",
            "\u001b[0;31mKeyboardInterrupt\u001b[0m: "
          ]
        }
      ]
    },
    {
      "cell_type": "code",
      "source": [
        "# id가 result인 div 태그 찾아보기\n",
        "soup.find(\"div\", id='results')"
      ],
      "metadata": {
        "id": "OTBm3ELNaSIj"
      },
      "execution_count": null,
      "outputs": []
    },
    {
      "cell_type": "code",
      "source": [
        "# class가 \"page-header\"인 \"div\" 태그 찾기\n",
        "soup.find(\"div\", \"page-header\")"
      ],
      "metadata": {
        "id": "ZPp1HFIJbGqK"
      },
      "execution_count": null,
      "outputs": []
    },
    {
      "cell_type": "code",
      "source": [
        "user_agent = {\"User-Agent\": \"Mozilla/5.0 (Windows NT 10.0; Win64; x64) AppleWebKit/537.36 (KHTML, like Gecko) Chrome/111.0.0.0 Safari/537.36\"}\n",
        "\n",
        "res = requests.get(\"https://qna.programmers.co.kr/\", user_agent)"
      ],
      "metadata": {
        "id": "ICjcGVFuc8Am"
      },
      "execution_count": 21,
      "outputs": []
    },
    {
      "cell_type": "code",
      "source": [
        "soup = BeautifulSoup(res.text, \"html.parser\")\n",
        "\n",
        "questions = soup.find_all('li', 'question-list-item')\n",
        "\n",
        "for q in questions:\n",
        "  print(q.find(\"div\", \"question\").find(\"div\", \"top\").h4.text)"
      ],
      "metadata": {
        "colab": {
          "base_uri": "https://localhost:8080/"
        },
        "id": "DqpZAPTedUC1",
        "outputId": "8604a866-9621-454d-a153-839f4df5d03e"
      },
      "execution_count": 22,
      "outputs": [
        {
          "output_type": "stream",
          "name": "stdout",
          "text": [
            "[ASP, VB.NET] API 제공 중인데 json 값 앞에 태그가 붙은 이유가 뭘까요?\n",
            "'''로 주석으로 만들었는데 왜 주석을 지우지 않으면 유니코드오류가 왜 나는지 모르겠어여\n",
            "#define 상수 선언떄\n",
            "우분투 vmware 가상머신 오류\n",
            "파이썬 멀티스레딩 질문\n",
            "파이썬 엑셀 파일 읽기\n",
            "머쓱이 스탬프 할때 답보기요\n",
            "BFS를 사용해도 무관한지 궁금합니다!\n",
            "C# 백준 25206 문제 뭐가 문제인지 확인시켜줄 고수분 \n",
            "python 제너레이터화\n",
            "리액트 쿼리에서 useQuery를 어떻게 사용해야하나요\n",
            "html/javascript 로 node.js통해서 아두이노 통신관련\n",
            "Binary search tree\n",
            "Python 정규표현식을 사용한 패턴 추출\n",
            " code: 'MODULE_NOT_FOUND' 좀 도와주세요\n",
            "파이썬 데이터베이스 저장할때 다른방법없을까요?\n",
            "코딩테스트 첫번째 폰켓몬 문제 왜 맞는건가요?\n",
            "좋아요 한 문제만 따로 볼 수 있나요?\n",
            "멀티프로세싱 프로그램 실행시 수십개의 프로그램이 실행됩니다.\n",
            "c언어 왜 소수점을 넣어야 결과가 나오나\n",
            "HTML 전혀 모르는데요\n",
            "QR코드만 이용해서 앱 개발을 하면 많이 힘들까요?\n",
            "(생초보) 파이썬 *매개변수의 개수\n",
            "로지스틱 회귀\n",
            "프로그래머스 코딩테스트 2단계 구명보트에서\n",
            "Java 개인 연습 중 배열에서 오류가 났는데 해결 방법을 모르겠습니다.\n",
            "파이썬 csv 파일을 불러와 구분하는 방법에 대해 질문 드립니다\n",
            "다음의 xarray를 어떻게 'time' series로 변형할 수 있는지 여쭈어봅니다.\n",
            "'xlsx' file을 'nc' format으로 변환 후 저장하는 과정에서 계속 에러가 뜹니다..\n",
            "dayArray[dayOfWeek-1]  이건 어떻게 해석하나요?\n",
            "파이썬 클래스 객체 생성에 관한 질문\n",
            "HashMap에서 equals 재정의할때 들어가는 Object가 뭔지좀 가르쳐주세요\n",
            "파이썬 beautifulsoup 텍스트만 출력하기\n",
            "spy++, inspect가 특정 프로그램의 child windows를 불러오지 못하는 거 같습니다\n",
            "[python질문] i for i in range를 처음보는데 질문있습니다..\n",
            "파이썬 웹크롤링 selenium 공부 중인데 계속 타입에러가 떠서 왜 오류가 이렇게 뜨는지 알  수 있을까요ㅠㅠ\n",
            "c언어 코딩테스트 level0 문제 어디가 문제 있나요?\n",
            "한달 째 고민중인 cpp \"char\" 1byte send/receive 코드 질문 드립니다..ㅠㅠ\n",
            "스킬 체크 테스트 Level.2 문제 2 Java 무한루프 문의드립니다.\n",
            "자바스크립트 저장된 파일 제목으로 날짜 뽑는법 질문드립니다.\n",
            "자바스크립트 세션 스토리지에 slider 발류 저장법\n",
            "Regex로 특정 단어부터 empty lines까지 찾는 법\n",
            "TimSort의 단점이 뭘까요?\n",
            "파이썬 BeautifulSoup4 웹크롤링 관련 질문\n",
            "자바스크립트 분수의 덧셈 질문입니다. 뭐가 문제인지 모르겠어요\n",
            "맥에서 터미널을 킬때 이런 문구가 나옵니다\n",
            "파이썬3 2차원배열 입력하기\n",
            "MFC 마우스 이벤트 처리 관련 질문입니다.\n",
            "자바스크립트 질문있습니다.\n",
            "python의 os 모듈의 listdir함수에 대해 질문있습니다\n"
          ]
        }
      ]
    },
    {
      "cell_type": "code",
      "source": [
        "import time\n",
        "\n",
        "for i in range(1, 3):\n",
        "  res = requests.get(\"https://hashcode.co.kr/?page={}\".format(i), user_agent)\n",
        "  soup = BeautifulSoup(res.text, \"html.parser\")\n",
        "  questions = soup.find_all('li', 'question-list-item')\n",
        "\n",
        "  for q in questions:\n",
        "    print(q.find(\"div\", \"question\").find(\"div\", \"top\").h4.text)\n",
        "  time.sleep(0.5) # 매 반복마다 0.5초의 인터벌 주기\n"
      ],
      "metadata": {
        "colab": {
          "base_uri": "https://localhost:8080/"
        },
        "id": "odEjVcP6en_m",
        "outputId": "9d337a32-aeb1-4251-9ca9-7017e02d6372"
      },
      "execution_count": 23,
      "outputs": [
        {
          "output_type": "stream",
          "name": "stdout",
          "text": [
            "[ASP, VB.NET] API 제공 중인데 json 값 앞에 태그가 붙은 이유가 뭘까요?\n",
            "'''로 주석으로 만들었는데 왜 주석을 지우지 않으면 유니코드오류가 왜 나는지 모르겠어여\n",
            "#define 상수 선언떄\n",
            "우분투 vmware 가상머신 오류\n",
            "파이썬 멀티스레딩 질문\n",
            "파이썬 엑셀 파일 읽기\n",
            "머쓱이 스탬프 할때 답보기요\n",
            "BFS를 사용해도 무관한지 궁금합니다!\n",
            "C# 백준 25206 문제 뭐가 문제인지 확인시켜줄 고수분 \n",
            "python 제너레이터화\n",
            "리액트 쿼리에서 useQuery를 어떻게 사용해야하나요\n",
            "html/javascript 로 node.js통해서 아두이노 통신관련\n",
            "Binary search tree\n",
            "Python 정규표현식을 사용한 패턴 추출\n",
            " code: 'MODULE_NOT_FOUND' 좀 도와주세요\n",
            "파이썬 데이터베이스 저장할때 다른방법없을까요?\n",
            "코딩테스트 첫번째 폰켓몬 문제 왜 맞는건가요?\n",
            "좋아요 한 문제만 따로 볼 수 있나요?\n",
            "멀티프로세싱 프로그램 실행시 수십개의 프로그램이 실행됩니다.\n",
            "c언어 왜 소수점을 넣어야 결과가 나오나\n",
            "HTML 전혀 모르는데요\n",
            "QR코드만 이용해서 앱 개발을 하면 많이 힘들까요?\n",
            "(생초보) 파이썬 *매개변수의 개수\n",
            "로지스틱 회귀\n",
            "프로그래머스 코딩테스트 2단계 구명보트에서\n",
            "Java 개인 연습 중 배열에서 오류가 났는데 해결 방법을 모르겠습니다.\n",
            "파이썬 csv 파일을 불러와 구분하는 방법에 대해 질문 드립니다\n",
            "다음의 xarray를 어떻게 'time' series로 변형할 수 있는지 여쭈어봅니다.\n",
            "'xlsx' file을 'nc' format으로 변환 후 저장하는 과정에서 계속 에러가 뜹니다..\n",
            "dayArray[dayOfWeek-1]  이건 어떻게 해석하나요?\n",
            "파이썬 클래스 객체 생성에 관한 질문\n",
            "HashMap에서 equals 재정의할때 들어가는 Object가 뭔지좀 가르쳐주세요\n",
            "파이썬 beautifulsoup 텍스트만 출력하기\n",
            "spy++, inspect가 특정 프로그램의 child windows를 불러오지 못하는 거 같습니다\n",
            "[python질문] i for i in range를 처음보는데 질문있습니다..\n",
            "파이썬 웹크롤링 selenium 공부 중인데 계속 타입에러가 떠서 왜 오류가 이렇게 뜨는지 알  수 있을까요ㅠㅠ\n",
            "c언어 코딩테스트 level0 문제 어디가 문제 있나요?\n",
            "한달 째 고민중인 cpp \"char\" 1byte send/receive 코드 질문 드립니다..ㅠㅠ\n",
            "스킬 체크 테스트 Level.2 문제 2 Java 무한루프 문의드립니다.\n",
            "자바스크립트 저장된 파일 제목으로 날짜 뽑는법 질문드립니다.\n",
            "자바스크립트 세션 스토리지에 slider 발류 저장법\n",
            "Regex로 특정 단어부터 empty lines까지 찾는 법\n",
            "TimSort의 단점이 뭘까요?\n",
            "파이썬 BeautifulSoup4 웹크롤링 관련 질문\n",
            "자바스크립트 분수의 덧셈 질문입니다. 뭐가 문제인지 모르겠어요\n",
            "맥에서 터미널을 킬때 이런 문구가 나옵니다\n",
            "파이썬3 2차원배열 입력하기\n",
            "MFC 마우스 이벤트 처리 관련 질문입니다.\n",
            "자바스크립트 질문있습니다.\n",
            "python의 os 모듈의 listdir함수에 대해 질문있습니다\n",
            "AttributeError at /admin/r/31/4/ 'NoneType' object has no attribute 'startswith' \n",
            "id.length==0 || id==\"\" 둘다 같은의미아닌가요?\n",
            "자바 iterator 질문이요 \n",
            "파이썬 Django 질문이욧!!!\n",
            "javascript 의 재귀함수 문제\n",
            "c++ class 동적할당 배열 생성자\n",
            "스프링 배치 writer 질문\n",
            "C++ STRCAT 구현부분 질문\n",
            "파이썬 모듈 설치 하기\n",
            "[python3] Lv.1 신고 결과 받기 / 접근 방식 및 딕셔너리 값 관련 문제해결\n",
            "동적배열을 이렇게 선언하면 안되는 이유가 있나요?\n",
            "qt 디자이너 사용해서 프린터와 pdf 저장하기 작성중입니다. 출력시 에러가 발생됩니다.메인 윈도우 창 전체를 프린터 및 pdf로 저장하고 싶습니다.\n",
            "Q&A 게시판 내 작성글 보기\n",
            "서블릿 response관련 기초적인 질문할께요ㅠ\n",
            "[코틀린] private 질문\n",
            "live server 에서는 사진이 나오는데 Netlify로 사이트를 만들면 거기서는 사진이 안나와요\n",
            "자바 코드 관련하여 질문드립니다\n",
            "파이썬으로 서로 다른 두 데이터를 매칭하려 하는데 어떤 방법을 이용해야할지 좋을지 모르겠어요\n",
            "영상을 프레임별 이미지로 변환\n",
            "scanf_s와 switch-case문 오류\n",
            "라즈베리파이에서 사진 캡쳐 후 저장하는 코드를 짰는데 넘버링을 하고 싶습니다.\n",
            "hide(), show() 가 동기적으로 작동하지 않는데 문제점을 모르겠습니다.\n",
            "[VB.NET] POST 방식의 HTTPS 통신 시 에러 문제점\n",
            "자료구조 다항식의 덧셈을 자바로 바꾸는 문제. delTerm 같은 함수들 활용법\n",
            "c언어 간단한 문제 질문 儆儆儆儆儆\n",
            "아코디언 갤러리를 구현하려고 합니다. \n",
            "파이썬 openpyxl 값 좌표 찾는 방법\n",
            "for문을 이용한 json 배열 배치하는 테이블 생성 \n",
            "판다스 read_excel() 소수점 질문\n",
            "c언어로 마방진 짜는 코드 질문이요\n",
            "파이썬 장고(django) 프레임웍 환경에서 자동 로그인 구현하는 방법?\n",
            "파이썬 타이머 버튼이 눌렸을 때 시간이 멈추도록\n",
            "고수님들 파이썬 엑셀파일 만드는 코드좀 부탁드립니다\n",
            "sql 쿼리 : 특정 카테고리 직전 및 직후 구매한 카테고리\n",
            "overfitting 및 예측 data augmentation \n",
            "[판다스] 원천 데이터 프레임의 <>안의 문자만 뽑아 새로운 데이터 프레임 생성\n",
            "파이선 체크박스 저장 & 불러오기 질문\n",
            "파이썬 버블정렬구현\n",
            "dijkstra 최단경로\n",
            "파이썬 이진탐색트리\n",
            "[파이썬] 판다스 중복 컬럼 찾기\n",
            "과제요청 삭제 코딩 왕초보 입니다.... for문과 인덱싱을 활용한 딕셔너리 출력\n",
            "python -m pip install pyautogui 안되는데 이거 왜 그런건가요.\n",
            " linearmodels install 질문\n",
            "컴파일 후 에러 발생\n",
            "pygame 딜레이\n",
            "c언어 파일 출력시 儆儆이러한 문자가 뜨는 이유가 뭔가요?\n",
            "리눅스 아니면 아이텀2에서 fxml파일을 만들려고 하는데\n",
            "html class 선언 코드 질문\n",
            "터미널 alias 등록\n"
          ]
        }
      ]
    },
    {
      "cell_type": "code",
      "source": [],
      "metadata": {
        "id": "r3ynn-lEgV2e"
      },
      "execution_count": null,
      "outputs": []
    }
  ]
}