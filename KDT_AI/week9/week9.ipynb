{
  "cells": [
    {
      "cell_type": "code",
      "execution_count": 1,
      "metadata": {
        "id": "XwqQKYV05dW_"
      },
      "outputs": [],
      "source": [
        "import numpy as np\n",
        "import matplotlib.pyplot as plt\n",
        "from sklearn.datasets import make_classification\n",
        "import seaborn as sns"
      ]
    },
    {
      "cell_type": "code",
      "execution_count": 2,
      "metadata": {
        "colab": {
          "base_uri": "https://localhost:8080/"
        },
        "id": "vbzq6Q-F5dXE",
        "outputId": "f1d919c1-ed3c-4432-f6ed-ff15d04a8b72"
      },
      "outputs": [
        {
          "output_type": "stream",
          "name": "stderr",
          "text": [
            "/usr/local/lib/python3.10/dist-packages/sklearn/datasets/_openml.py:968: FutureWarning: The default value of `parser` will change from `'liac-arff'` to `'auto'` in 1.4. You can set `parser='auto'` to silence this warning. Therefore, an `ImportError` will be raised from 1.4 if the dataset is dense and pandas is not installed. Note that the pandas parser may return different data types. See the Notes Section in fetch_openml's API doc for details.\n",
            "  warn(\n"
          ]
        },
        {
          "output_type": "execute_result",
          "data": {
            "text/plain": [
              "dict_keys(['data', 'target', 'frame', 'categories', 'feature_names', 'target_names', 'DESCR', 'details', 'url'])"
            ]
          },
          "metadata": {},
          "execution_count": 2
        }
      ],
      "source": [
        "from sklearn.datasets import fetch_openml\n",
        "mnist = fetch_openml('mnist_784', version=1, cache=True)\n",
        "mnist.keys()"
      ]
    },
    {
      "cell_type": "code",
      "execution_count": 3,
      "metadata": {
        "id": "X8PMX8Vb5dXF"
      },
      "outputs": [],
      "source": [
        "X, y = mnist[\"data\"], mnist[\"target\"]"
      ]
    },
    {
      "cell_type": "code",
      "source": [
        "X.shape, y.shape"
      ],
      "metadata": {
        "colab": {
          "base_uri": "https://localhost:8080/"
        },
        "id": "nVIxq5G3Id0-",
        "outputId": "bf5cf6ce-983a-4717-ed7c-bc64a7c6de29"
      },
      "execution_count": 4,
      "outputs": [
        {
          "output_type": "execute_result",
          "data": {
            "text/plain": [
              "((70000, 784), (70000,))"
            ]
          },
          "metadata": {},
          "execution_count": 4
        }
      ]
    },
    {
      "cell_type": "code",
      "source": [
        "print(X.iloc[0, :])\n",
        "print(y[:10])"
      ],
      "metadata": {
        "colab": {
          "base_uri": "https://localhost:8080/"
        },
        "id": "boXZtrF_IhJg",
        "outputId": "04d17a31-ac8e-4bb2-b855-0c1d0e70a24b"
      },
      "execution_count": 5,
      "outputs": [
        {
          "output_type": "stream",
          "name": "stdout",
          "text": [
            "pixel1      0.0\n",
            "pixel2      0.0\n",
            "pixel3      0.0\n",
            "pixel4      0.0\n",
            "pixel5      0.0\n",
            "           ... \n",
            "pixel780    0.0\n",
            "pixel781    0.0\n",
            "pixel782    0.0\n",
            "pixel783    0.0\n",
            "pixel784    0.0\n",
            "Name: 0, Length: 784, dtype: float64\n",
            "0    5\n",
            "1    0\n",
            "2    4\n",
            "3    1\n",
            "4    9\n",
            "5    2\n",
            "6    1\n",
            "7    3\n",
            "8    1\n",
            "9    4\n",
            "Name: class, dtype: category\n",
            "Categories (10, object): ['0', '1', '2', '3', ..., '6', '7', '8', '9']\n"
          ]
        }
      ]
    },
    {
      "cell_type": "code",
      "execution_count": 6,
      "metadata": {
        "id": "Vp0pF0En5dXF"
      },
      "outputs": [],
      "source": [
        "y = y.astype(np.uint8)"
      ]
    },
    {
      "cell_type": "code",
      "execution_count": 7,
      "metadata": {
        "id": "TgJT1FAp5dXG"
      },
      "outputs": [],
      "source": [
        "from sklearn.preprocessing import OneHotEncoder\n",
        "enc = OneHotEncoder()"
      ]
    },
    {
      "cell_type": "code",
      "execution_count": 8,
      "metadata": {
        "colab": {
          "base_uri": "https://localhost:8080/",
          "height": 109
        },
        "id": "_H4rb4_i5dXG",
        "outputId": "eb8aafb1-9414-4da4-fd59-dceb5868b0a5"
      },
      "outputs": [
        {
          "output_type": "stream",
          "name": "stderr",
          "text": [
            "<ipython-input-8-78fc683d5810>:1: FutureWarning: Support for multi-dimensional indexing (e.g. `obj[:, None]`) is deprecated and will be removed in a future version.  Convert to a numpy array before indexing instead.\n",
            "  enc.fit(y[:,np.newaxis])\n"
          ]
        },
        {
          "output_type": "execute_result",
          "data": {
            "text/plain": [
              "OneHotEncoder()"
            ],
            "text/html": [
              "<style>#sk-container-id-1 {color: black;background-color: white;}#sk-container-id-1 pre{padding: 0;}#sk-container-id-1 div.sk-toggleable {background-color: white;}#sk-container-id-1 label.sk-toggleable__label {cursor: pointer;display: block;width: 100%;margin-bottom: 0;padding: 0.3em;box-sizing: border-box;text-align: center;}#sk-container-id-1 label.sk-toggleable__label-arrow:before {content: \"▸\";float: left;margin-right: 0.25em;color: #696969;}#sk-container-id-1 label.sk-toggleable__label-arrow:hover:before {color: black;}#sk-container-id-1 div.sk-estimator:hover label.sk-toggleable__label-arrow:before {color: black;}#sk-container-id-1 div.sk-toggleable__content {max-height: 0;max-width: 0;overflow: hidden;text-align: left;background-color: #f0f8ff;}#sk-container-id-1 div.sk-toggleable__content pre {margin: 0.2em;color: black;border-radius: 0.25em;background-color: #f0f8ff;}#sk-container-id-1 input.sk-toggleable__control:checked~div.sk-toggleable__content {max-height: 200px;max-width: 100%;overflow: auto;}#sk-container-id-1 input.sk-toggleable__control:checked~label.sk-toggleable__label-arrow:before {content: \"▾\";}#sk-container-id-1 div.sk-estimator input.sk-toggleable__control:checked~label.sk-toggleable__label {background-color: #d4ebff;}#sk-container-id-1 div.sk-label input.sk-toggleable__control:checked~label.sk-toggleable__label {background-color: #d4ebff;}#sk-container-id-1 input.sk-hidden--visually {border: 0;clip: rect(1px 1px 1px 1px);clip: rect(1px, 1px, 1px, 1px);height: 1px;margin: -1px;overflow: hidden;padding: 0;position: absolute;width: 1px;}#sk-container-id-1 div.sk-estimator {font-family: monospace;background-color: #f0f8ff;border: 1px dotted black;border-radius: 0.25em;box-sizing: border-box;margin-bottom: 0.5em;}#sk-container-id-1 div.sk-estimator:hover {background-color: #d4ebff;}#sk-container-id-1 div.sk-parallel-item::after {content: \"\";width: 100%;border-bottom: 1px solid gray;flex-grow: 1;}#sk-container-id-1 div.sk-label:hover label.sk-toggleable__label {background-color: #d4ebff;}#sk-container-id-1 div.sk-serial::before {content: \"\";position: absolute;border-left: 1px solid gray;box-sizing: border-box;top: 0;bottom: 0;left: 50%;z-index: 0;}#sk-container-id-1 div.sk-serial {display: flex;flex-direction: column;align-items: center;background-color: white;padding-right: 0.2em;padding-left: 0.2em;position: relative;}#sk-container-id-1 div.sk-item {position: relative;z-index: 1;}#sk-container-id-1 div.sk-parallel {display: flex;align-items: stretch;justify-content: center;background-color: white;position: relative;}#sk-container-id-1 div.sk-item::before, #sk-container-id-1 div.sk-parallel-item::before {content: \"\";position: absolute;border-left: 1px solid gray;box-sizing: border-box;top: 0;bottom: 0;left: 50%;z-index: -1;}#sk-container-id-1 div.sk-parallel-item {display: flex;flex-direction: column;z-index: 1;position: relative;background-color: white;}#sk-container-id-1 div.sk-parallel-item:first-child::after {align-self: flex-end;width: 50%;}#sk-container-id-1 div.sk-parallel-item:last-child::after {align-self: flex-start;width: 50%;}#sk-container-id-1 div.sk-parallel-item:only-child::after {width: 0;}#sk-container-id-1 div.sk-dashed-wrapped {border: 1px dashed gray;margin: 0 0.4em 0.5em 0.4em;box-sizing: border-box;padding-bottom: 0.4em;background-color: white;}#sk-container-id-1 div.sk-label label {font-family: monospace;font-weight: bold;display: inline-block;line-height: 1.2em;}#sk-container-id-1 div.sk-label-container {text-align: center;}#sk-container-id-1 div.sk-container {/* jupyter's `normalize.less` sets `[hidden] { display: none; }` but bootstrap.min.css set `[hidden] { display: none !important; }` so we also need the `!important` here to be able to override the default hidden behavior on the sphinx rendered scikit-learn.org. See: https://github.com/scikit-learn/scikit-learn/issues/21755 */display: inline-block !important;position: relative;}#sk-container-id-1 div.sk-text-repr-fallback {display: none;}</style><div id=\"sk-container-id-1\" class=\"sk-top-container\"><div class=\"sk-text-repr-fallback\"><pre>OneHotEncoder()</pre><b>In a Jupyter environment, please rerun this cell to show the HTML representation or trust the notebook. <br />On GitHub, the HTML representation is unable to render, please try loading this page with nbviewer.org.</b></div><div class=\"sk-container\" hidden><div class=\"sk-item\"><div class=\"sk-estimator sk-toggleable\"><input class=\"sk-toggleable__control sk-hidden--visually\" id=\"sk-estimator-id-1\" type=\"checkbox\" checked><label for=\"sk-estimator-id-1\" class=\"sk-toggleable__label sk-toggleable__label-arrow\">OneHotEncoder</label><div class=\"sk-toggleable__content\"><pre>OneHotEncoder()</pre></div></div></div></div></div>"
            ]
          },
          "metadata": {},
          "execution_count": 8
        }
      ],
      "source": [
        "enc.fit(y[:,np.newaxis])"
      ]
    },
    {
      "cell_type": "code",
      "execution_count": 9,
      "metadata": {
        "colab": {
          "base_uri": "https://localhost:8080/"
        },
        "id": "wt2VoOJR5dXH",
        "outputId": "76cd1ac9-9225-4d09-bbec-1f11ad37205b"
      },
      "outputs": [
        {
          "output_type": "stream",
          "name": "stderr",
          "text": [
            "<ipython-input-9-fd377ab0d802>:1: FutureWarning: Support for multi-dimensional indexing (e.g. `obj[:, None]`) is deprecated and will be removed in a future version.  Convert to a numpy array before indexing instead.\n",
            "  Y = enc.transform(y[:,np.newaxis]).toarray()\n"
          ]
        }
      ],
      "source": [
        "Y = enc.transform(y[:,np.newaxis]).toarray()"
      ]
    },
    {
      "cell_type": "code",
      "source": [
        "Y.shape"
      ],
      "metadata": {
        "colab": {
          "base_uri": "https://localhost:8080/"
        },
        "id": "0vpkVlUaJWnJ",
        "outputId": "6bb30023-7ae5-408e-b691-0512cbecd921"
      },
      "execution_count": 10,
      "outputs": [
        {
          "output_type": "execute_result",
          "data": {
            "text/plain": [
              "(70000, 10)"
            ]
          },
          "metadata": {},
          "execution_count": 10
        }
      ]
    },
    {
      "cell_type": "code",
      "execution_count": 11,
      "metadata": {
        "id": "NwvTe6Kn5dXH"
      },
      "outputs": [],
      "source": [
        "X_train, X_test, y_train, y_test = X[:60000], X[60000:], Y[:60000], Y[60000:]"
      ]
    },
    {
      "cell_type": "code",
      "execution_count": 12,
      "metadata": {
        "id": "gGlZ3xbr5dXI"
      },
      "outputs": [],
      "source": [
        "X_train = X_train / 255\n",
        "X_test = X_test / 255"
      ]
    },
    {
      "cell_type": "code",
      "execution_count": 13,
      "metadata": {
        "id": "p5FFLR7o5dXI"
      },
      "outputs": [],
      "source": [
        "def sigmoid(x):\n",
        "    return 1 / (1 + np.exp(-x))"
      ]
    },
    {
      "cell_type": "code",
      "execution_count": 14,
      "metadata": {
        "id": "8oPx6qBW5dXJ"
      },
      "outputs": [],
      "source": [
        "def softmax(X, W):\n",
        "    K = np.size(W, 1)\n",
        "    A = np.exp(X @ W)\n",
        "    B = np.diag(1 / (np.reshape(A @ np.ones((K,1)), -1)))\n",
        "    Y = B @ A\n",
        "    return Y"
      ]
    },
    {
      "cell_type": "code",
      "execution_count": 15,
      "metadata": {
        "id": "biLi5Y3T5dXK"
      },
      "outputs": [],
      "source": [
        "# add L2 regularization\n",
        "def compute_cost(X, T, W, lambda_):\n",
        "    epsilon = 1e-5\n",
        "    N = len(T)\n",
        "    K = np.size(T, 1)\n",
        "    cost = - (1/N) * np.ones((1,N)) @ (np.multiply(np.log(softmax(X, W) + epsilon), T)) @ np.ones((K,1)) + 1 / 2 * lambda_ * np.sum(W ** 2)\n",
        "    return cost"
      ]
    },
    {
      "cell_type": "code",
      "execution_count": 16,
      "metadata": {
        "id": "Gtg3lpoV5dXK"
      },
      "outputs": [],
      "source": [
        "def predict(X, W):\n",
        "    return np.argmax((X @ W), axis=1)"
      ]
    },
    {
      "cell_type": "code",
      "execution_count": 17,
      "metadata": {
        "id": "DCFRXE_n5dXL"
      },
      "outputs": [],
      "source": [
        "def batch_gd(X, T, W, learning_rate, iterations, batch_size, lambda_):\n",
        "    N = len(T)\n",
        "    cost_history = np.zeros((iterations,1))\n",
        "    shuffled_indices = np.random.permutation(N)\n",
        "    X_shuffled = X[shuffled_indices]\n",
        "    T_shuffled = T[shuffled_indices]\n",
        "\n",
        "    for i in range(iterations):\n",
        "        j = i % N\n",
        "        X_batch = X_shuffled[j:j+batch_size]\n",
        "        T_batch = T_shuffled[j:j+batch_size]\n",
        "        # batch가 epoch 경계를 넘어가는 경우, 앞 부분으로 채워줌\n",
        "        if X_batch.shape[0] < batch_size:\n",
        "            X_batch = np.vstack((X_batch, X_shuffled[:(batch_size - X_batch.shape[0])]))\n",
        "            T_batch = np.vstack((T_batch, T_shuffled[:(batch_size - T_batch.shape[0])]))\n",
        "        W = W - (learning_rate/batch_size) * (X_batch.T @ (softmax(X_batch, W) - T_batch))\n",
        "        cost_history[i] = compute_cost(X_batch, T_batch, W, lambda_)\n",
        "        if i % 1000 == 0:\n",
        "            print(f'{i}번째 loss값: {cost_history[i][0]}')\n",
        "\n",
        "    return (cost_history, W)"
      ]
    },
    {
      "cell_type": "code",
      "execution_count": 19,
      "metadata": {
        "id": "f82Ycbgo5dXL",
        "colab": {
          "base_uri": "https://localhost:8080/"
        },
        "outputId": "ef86b177-3c29-452b-a118-fa41541f594d"
      },
      "outputs": [
        {
          "output_type": "stream",
          "name": "stdout",
          "text": [
            "Initial Cost is: 2.302485097993735 \n",
            "\n",
            "0번째 loss값: 2.273356113620958\n",
            "1000번째 loss값: 0.03272103047063302\n",
            "2000번째 loss값: -0.5559448526721471\n",
            "3000번째 loss값: -0.8758760193537798\n",
            "4000번째 loss값: -1.299726469874479\n",
            "5000번째 loss값: -1.6007479100833046\n",
            "6000번째 loss값: -1.6336347487580096\n",
            "7000번째 loss값: -1.7963907981304863\n",
            "8000번째 loss값: -2.027949694857417\n",
            "9000번째 loss값: -2.310551568573728\n",
            "10000번째 loss값: -2.5499766497803042\n",
            "11000번째 loss값: -2.706946522715215\n",
            "12000번째 loss값: -2.823221268682097\n",
            "13000번째 loss값: -2.9456951477801\n",
            "14000번째 loss값: -3.1799186095876237\n",
            "15000번째 loss값: -3.267146127625364\n",
            "16000번째 loss값: -3.276254324175992\n",
            "17000번째 loss값: -3.2957843563640177\n",
            "18000번째 loss값: -3.4282003050680987\n",
            "19000번째 loss값: -3.6999283806000616\n",
            "20000번째 loss값: -3.42745216201437\n",
            "21000번째 loss값: -3.7893615664042284\n",
            "22000번째 loss값: -3.9522519551757913\n",
            "23000번째 loss값: -3.866068581226835\n",
            "24000번째 loss값: -4.019202114595645\n",
            "25000번째 loss값: -4.160311216850454\n",
            "26000번째 loss값: -4.049322421058251\n",
            "27000번째 loss값: -4.209218509628587\n",
            "28000번째 loss값: -4.386617121834784\n",
            "29000번째 loss값: -4.519561002339823\n",
            "30000번째 loss값: -4.289544997724875\n",
            "31000번째 loss값: -4.759616043807\n",
            "32000번째 loss값: -4.736524148865534\n",
            "33000번째 loss값: -4.786327184889006\n",
            "34000번째 loss값: -4.954835872536281\n",
            "35000번째 loss값: -5.072999374742619\n",
            "36000번째 loss값: -5.252432448553324\n",
            "37000번째 loss값: -5.091933917928002\n",
            "38000번째 loss값: -5.343582233432041\n",
            "39000번째 loss값: -5.368784474867012\n",
            "40000번째 loss값: -5.474940440476387\n",
            "41000번째 loss값: -5.4315650372008\n",
            "42000번째 loss값: -5.4696797196812135\n",
            "43000번째 loss값: -5.606700328855411\n",
            "44000번째 loss값: -5.734311156899807\n",
            "45000번째 loss값: -5.822668102434377\n",
            "46000번째 loss값: -5.7779181256956464\n",
            "47000번째 loss값: -5.968417967175837\n",
            "48000번째 loss값: -5.74889612869393\n",
            "49000번째 loss값: -6.002918239358094\n",
            "0번째 loss값: 2.2734326763285244\n",
            "1000번째 loss값: 0.6359394145890679\n",
            "2000번째 loss값: 0.22674910876315735\n",
            "3000번째 loss값: 0.13525077997226478\n",
            "4000번째 loss값: 0.3586912971358032\n",
            "5000번째 loss값: 0.22525031776974724\n",
            "6000번째 loss값: 0.10217208621060836\n",
            "7000번째 loss값: 0.09343611613967662\n",
            "8000번째 loss값: 0.18321120389349785\n",
            "9000번째 loss값: 0.1965604252293266\n",
            "10000번째 loss값: 0.09922235120329215\n",
            "11000번째 loss값: -0.041045985993482886\n",
            "12000번째 loss값: 0.002207154360370167\n",
            "13000번째 loss값: -0.056576451212397516\n",
            "14000번째 loss값: -0.006120350122291562\n",
            "15000번째 loss값: -0.04277726151585376\n",
            "16000번째 loss값: -0.026190548342603925\n",
            "17000번째 loss값: -0.21934864999092277\n",
            "18000번째 loss값: 0.017084852651287674\n",
            "19000번째 loss값: -0.1344029044135568\n",
            "20000번째 loss값: -0.21272707160424167\n",
            "21000번째 loss값: 0.06492027424170088\n",
            "22000번째 loss값: -0.014316326780482613\n",
            "23000번째 loss값: -0.27794015937843897\n",
            "24000번째 loss값: -0.1975883814865694\n",
            "25000번째 loss값: -0.15915418839995654\n",
            "26000번째 loss값: -0.15609291092897065\n",
            "27000번째 loss값: -0.23037954129477772\n",
            "28000번째 loss값: -0.22941905092266038\n",
            "29000번째 loss값: -0.21504459060357778\n",
            "30000번째 loss값: -0.1075350365301384\n",
            "31000번째 loss값: -0.29844752550477116\n",
            "32000번째 loss값: -0.36692189096797456\n",
            "33000번째 loss값: -0.225004121716473\n",
            "34000번째 loss값: 0.052666655646697036\n",
            "35000번째 loss값: -0.31742648210494134\n",
            "36000번째 loss값: -0.19394931828683243\n",
            "37000번째 loss값: -0.2826446926620474\n",
            "38000번째 loss값: -0.11166609263271604\n",
            "39000번째 loss값: -0.285043255556661\n",
            "40000번째 loss값: -0.2348112978953602\n",
            "41000번째 loss값: -0.2427946108194603\n",
            "42000번째 loss값: -0.2037454763769943\n",
            "43000번째 loss값: -0.25898592971349943\n",
            "44000번째 loss값: -0.23052188277554897\n",
            "45000번째 loss값: -0.26889143624554257\n",
            "46000번째 loss값: -0.28014906310389737\n",
            "47000번째 loss값: -0.2682384909925984\n",
            "48000번째 loss값: -0.4058775279852501\n",
            "49000번째 loss값: -0.15164579032872294\n",
            "0번째 loss값: 2.284447806700495\n",
            "1000번째 loss값: 0.5711096759603996\n",
            "2000번째 loss값: 0.54176178475399\n",
            "3000번째 loss값: 0.4225623325770633\n",
            "4000번째 loss값: 0.42995009661940364\n",
            "5000번째 loss값: 0.2528352612571112\n",
            "6000번째 loss값: 0.30183248754703995\n",
            "7000번째 loss값: 0.23727532856974468\n",
            "8000번째 loss값: 0.3344968872905466\n",
            "9000번째 loss값: 0.17815262242382768\n",
            "10000번째 loss값: 0.37599304162459735\n",
            "11000번째 loss값: 0.16545102587301166\n",
            "12000번째 loss값: 0.5054512811122012\n",
            "13000번째 loss값: 0.25199916244216963\n",
            "14000번째 loss값: 0.4022770408406685\n",
            "15000번째 loss값: 0.25947361544631525\n",
            "16000번째 loss값: 0.16227306052387924\n",
            "17000번째 loss값: 0.36477540269319614\n",
            "18000번째 loss값: 0.149009777848457\n",
            "19000번째 loss값: 0.44612048402093374\n",
            "20000번째 loss값: 0.3171771815717778\n",
            "21000번째 loss값: 0.22051132159418496\n",
            "22000번째 loss값: 0.31843287374529305\n",
            "23000번째 loss값: 0.21177313767906933\n",
            "24000번째 loss값: 0.37661185335458147\n",
            "25000번째 loss값: 0.3971698121843455\n",
            "26000번째 loss값: 0.12427895772393499\n",
            "27000번째 loss값: 0.4554239548874017\n",
            "28000번째 loss값: 0.2514795327080678\n",
            "29000번째 loss값: 0.14735544083832253\n",
            "30000번째 loss값: 0.26982759548731017\n",
            "31000번째 loss값: 0.23842084737689445\n",
            "32000번째 loss값: 0.22587938762569976\n",
            "33000번째 loss값: 0.19751402613924932\n",
            "34000번째 loss값: 0.2410924158466093\n",
            "35000번째 loss값: 0.2420374144573957\n",
            "36000번째 loss값: 0.12972603021637685\n",
            "37000번째 loss값: 0.20004401047094866\n",
            "38000번째 loss값: 0.14864204284609206\n",
            "39000번째 loss값: 0.27875608661697576\n",
            "40000번째 loss값: 0.19327521451679983\n",
            "41000번째 loss값: 0.14126097935220666\n",
            "42000번째 loss값: 0.31570634479717596\n",
            "43000번째 loss값: 0.15836440116336886\n",
            "44000번째 loss값: 0.15809584590060702\n",
            "45000번째 loss값: 0.17738173015717498\n",
            "46000번째 loss값: 0.16692345287457042\n",
            "47000번째 loss값: 0.25044757276629165\n",
            "48000번째 loss값: 0.3669585212297183\n",
            "49000번째 loss값: 0.2558643619164515\n",
            "0번째 loss값: 2.2798629916683786\n",
            "1000번째 loss값: 0.4560991712870941\n",
            "2000번째 loss값: 0.4124651133206514\n",
            "3000번째 loss값: 0.3549594788244106\n",
            "4000번째 loss값: 0.41859565697959294\n",
            "5000번째 loss값: 0.27222462412471876\n",
            "6000번째 loss값: 0.4521231847584399\n",
            "7000번째 loss값: 0.2682316080358899\n",
            "8000번째 loss값: 0.22512084729064905\n",
            "9000번째 loss값: 0.2321277000705789\n",
            "10000번째 loss값: 0.2969580475614574\n",
            "11000번째 loss값: 0.32157913389421655\n",
            "12000번째 loss값: 0.31721648415080633\n",
            "13000번째 loss값: 0.31462135921193535\n",
            "14000번째 loss값: 0.2941576354151989\n",
            "15000번째 loss값: 0.4095071852909951\n",
            "16000번째 loss값: 0.43164458285193263\n",
            "17000번째 loss값: 0.417166720508368\n",
            "18000번째 loss값: 0.48732464939954084\n",
            "19000번째 loss값: 0.34594681521202264\n",
            "20000번째 loss값: 0.2750682813751728\n",
            "21000번째 loss값: 0.3544041893609213\n",
            "22000번째 loss값: 0.2821090329167162\n",
            "23000번째 loss값: 0.21825003947334945\n",
            "24000번째 loss값: 0.3211957532225076\n",
            "25000번째 loss값: 0.41495875001855387\n",
            "26000번째 loss값: 0.36118555637685656\n",
            "27000번째 loss값: 0.15916568472418305\n",
            "28000번째 loss값: 0.23488301939794104\n",
            "29000번째 loss값: 0.348410873982094\n",
            "30000번째 loss값: 0.15472949366550653\n",
            "31000번째 loss값: 0.1938646623061061\n",
            "32000번째 loss값: 0.23997543904626153\n",
            "33000번째 loss값: 0.11219010870143695\n",
            "34000번째 loss값: 0.23099019309760607\n",
            "35000번째 loss값: 0.23559912948744102\n",
            "36000번째 loss값: 0.35257764477354525\n",
            "37000번째 loss값: 0.24990744176792976\n",
            "38000번째 loss값: 0.26956361453916305\n",
            "39000번째 loss값: 0.330920757361528\n",
            "40000번째 loss값: 0.33833884294393574\n",
            "41000번째 loss값: 0.1437014382811759\n",
            "42000번째 loss값: 0.31190794333373845\n",
            "43000번째 loss값: 0.5078001527989138\n",
            "44000번째 loss값: 0.2079273272545172\n",
            "45000번째 loss값: 0.37305841197476386\n",
            "46000번째 loss값: 0.3791373231869441\n",
            "47000번째 loss값: 0.10092575127891065\n",
            "48000번째 loss값: 0.19142125200675933\n",
            "49000번째 loss값: 0.18265882686685042\n",
            "0번째 loss값: 2.2738764527722166\n",
            "1000번째 loss값: 0.6488187799361114\n",
            "2000번째 loss값: 0.4211823157992387\n",
            "3000번째 loss값: 0.3064984517127574\n",
            "4000번째 loss값: 0.31706390425634023\n",
            "5000번째 loss값: 0.2988657648236376\n",
            "6000번째 loss값: 0.4670740788037021\n",
            "7000번째 loss값: 0.22781055074188442\n",
            "8000번째 loss값: 0.31544818223455695\n",
            "9000번째 loss값: 0.35850023572764733\n",
            "10000번째 loss값: 0.3814092504262782\n",
            "11000번째 loss값: 0.3468829512045323\n",
            "12000번째 loss값: 0.2776226148384915\n",
            "13000번째 loss값: 0.3503714257775166\n",
            "14000번째 loss값: 0.2782309492312475\n",
            "15000번째 loss값: 0.2483526335956359\n",
            "16000번째 loss값: 0.22463754376247005\n",
            "17000번째 loss값: 0.368004406144815\n",
            "18000번째 loss값: 0.31118590596043794\n",
            "19000번째 loss값: 0.37340817758352124\n",
            "20000번째 loss값: 0.21715609535700475\n",
            "21000번째 loss값: 0.19935929341095632\n",
            "22000번째 loss값: 0.35265499344425677\n",
            "23000번째 loss값: 0.11650323698525408\n",
            "24000번째 loss값: 0.2925273579033733\n",
            "25000번째 loss값: 0.3702317591440983\n",
            "26000번째 loss값: 0.24958573792696848\n",
            "27000번째 loss값: 0.3195486681401616\n",
            "28000번째 loss값: 0.396161704154026\n",
            "29000번째 loss값: 0.4522747946424477\n",
            "30000번째 loss값: 0.570192887790073\n",
            "31000번째 loss값: 0.3491689166432442\n",
            "32000번째 loss값: 0.33873402805932973\n",
            "33000번째 loss값: 0.24669768679598633\n",
            "34000번째 loss값: 0.27678621154396804\n",
            "35000번째 loss값: 0.19757673903291417\n",
            "36000번째 loss값: 0.23082734971712693\n",
            "37000번째 loss값: 0.2406588197595171\n",
            "38000번째 loss값: 0.19619207466943658\n",
            "39000번째 loss값: 0.36364212167536986\n",
            "40000번째 loss값: 0.24555938745326297\n",
            "41000번째 loss값: 0.23607689453998582\n",
            "42000번째 loss값: 0.2292678004161326\n",
            "43000번째 loss값: 0.12460957885120634\n",
            "44000번째 loss값: 0.4746386946422088\n",
            "45000번째 loss값: 0.1799159965154904\n",
            "46000번째 loss값: 0.2072634153303383\n",
            "47000번째 loss값: 0.20191464156587113\n",
            "48000번째 loss값: 0.2918709707383263\n",
            "49000번째 loss값: 0.24403543300668692\n",
            "0번째 loss값: 2.2828904678695165\n",
            "1000번째 loss값: 0.50745030640464\n",
            "2000번째 loss값: 0.4820973840481579\n",
            "3000번째 loss값: 0.44674841222968065\n",
            "4000번째 loss값: 0.4232442416487082\n",
            "5000번째 loss값: 0.35366139315088496\n",
            "6000번째 loss값: 0.2873156265228724\n",
            "7000번째 loss값: 0.332068831891031\n",
            "8000번째 loss값: 0.356339882630934\n",
            "9000번째 loss값: 0.35300869625639264\n",
            "10000번째 loss값: 0.34855053869420954\n",
            "11000번째 loss값: 0.30727819521404476\n",
            "12000번째 loss값: 0.247018191515019\n",
            "13000번째 loss값: 0.2416244570054612\n",
            "14000번째 loss값: 0.1579840827290726\n",
            "15000번째 loss값: 0.30098885232998657\n",
            "16000번째 loss값: 0.2598483068830726\n",
            "17000번째 loss값: 0.3900608783379811\n",
            "18000번째 loss값: 0.26690668931979444\n",
            "19000번째 loss값: 0.18520925890503953\n",
            "20000번째 loss값: 0.17741442563601295\n",
            "21000번째 loss값: 0.2454556433509497\n",
            "22000번째 loss값: 0.194489426200587\n",
            "23000번째 loss값: 0.19134937235167498\n",
            "24000번째 loss값: 0.39563501436737936\n",
            "25000번째 loss값: 0.2196533135950794\n",
            "26000번째 loss값: 0.15500965668924335\n",
            "27000번째 loss값: 0.3285226938503869\n",
            "28000번째 loss값: 0.2745243068236296\n",
            "29000번째 loss값: 0.24280550220927594\n",
            "30000번째 loss값: 0.6062084562767491\n",
            "31000번째 loss값: 0.22953991417484237\n",
            "32000번째 loss값: 0.3471284897169576\n",
            "33000번째 loss값: 0.18496343067823456\n",
            "34000번째 loss값: 0.11632238909758169\n",
            "35000번째 loss값: 0.4075647011739397\n",
            "36000번째 loss값: 0.18502986669691202\n",
            "37000번째 loss값: 0.2665249527126656\n",
            "38000번째 loss값: 0.3249111991043945\n",
            "39000번째 loss값: 0.26093759083912016\n",
            "40000번째 loss값: 0.23996188208544328\n",
            "41000번째 loss값: 0.40875861387658174\n",
            "42000번째 loss값: 0.18560730413995155\n",
            "43000번째 loss값: 0.23493708341628924\n",
            "44000번째 loss값: 0.19111566768667643\n",
            "45000번째 loss값: 0.34953356715580236\n",
            "46000번째 loss값: 0.15890094010192551\n",
            "47000번째 loss값: 0.5896215155484621\n",
            "48000번째 loss값: 0.2185493967956023\n",
            "49000번째 loss값: 0.2575190050346413\n",
            "0번째 loss값: 2.275270918287113\n",
            "1000번째 loss값: 0.6732738184253058\n",
            "2000번째 loss값: 0.4482919622444959\n",
            "3000번째 loss값: 0.27832828967258466\n",
            "4000번째 loss값: 0.28446776251191913\n",
            "5000번째 loss값: 0.2738895681137812\n",
            "6000번째 loss값: 0.5632337248716123\n",
            "7000번째 loss값: 0.3340198684594806\n",
            "8000번째 loss값: 0.2976274533809385\n",
            "9000번째 loss값: 0.30452797005749266\n",
            "10000번째 loss값: 0.2756414719242712\n",
            "11000번째 loss값: 0.19692585381994193\n",
            "12000번째 loss값: 0.25550126896835196\n",
            "13000번째 loss값: 0.1976205408149599\n",
            "14000번째 loss값: 0.3089591251500227\n",
            "15000번째 loss값: 0.14914487311853308\n",
            "16000번째 loss값: 0.2508462011084483\n",
            "17000번째 loss값: 0.36466150291217725\n",
            "18000번째 loss값: 0.39685539511974055\n",
            "19000번째 loss값: 0.28667458409766733\n",
            "20000번째 loss값: 0.4391236859926319\n",
            "21000번째 loss값: 0.1965681289170427\n",
            "22000번째 loss값: 0.23752528836391903\n",
            "23000번째 loss값: 0.1910087739957387\n",
            "24000번째 loss값: 0.25404086017876326\n",
            "25000번째 loss값: 0.31428075358013546\n",
            "26000번째 loss값: 0.5477102419024212\n",
            "27000번째 loss값: 0.4245365255442418\n",
            "28000번째 loss값: 0.31294154098879584\n",
            "29000번째 loss값: 0.2193228572675244\n",
            "30000번째 loss값: 0.44909055094614625\n",
            "31000번째 loss값: 0.2507020322792895\n",
            "32000번째 loss값: 0.26793578504178295\n",
            "33000번째 loss값: 0.227294830130779\n",
            "34000번째 loss값: 0.22936306637902384\n",
            "35000번째 loss값: 0.19785761468451074\n",
            "36000번째 loss값: 0.20616260780266055\n",
            "37000번째 loss값: 0.4230997908840712\n",
            "38000번째 loss값: 0.1303886493019303\n",
            "39000번째 loss값: 0.30830110146990003\n",
            "40000번째 loss값: 0.49651344490224864\n",
            "41000번째 loss값: 0.43852465126338175\n",
            "42000번째 loss값: 0.14652402219306493\n",
            "43000번째 loss값: 0.33882391268689105\n",
            "44000번째 loss값: 0.13453858793380374\n",
            "45000번째 loss값: 0.289168378843175\n",
            "46000번째 loss값: 0.2717367844587324\n",
            "47000번째 loss값: 0.3168138743119313\n",
            "48000번째 loss값: 0.15036346492514385\n",
            "49000번째 loss값: 0.2202571952558317\n",
            "0번째 loss값: 2.281253502453962\n",
            "1000번째 loss값: 0.5216498490146986\n",
            "2000번째 loss값: 0.33831197231398674\n",
            "3000번째 loss값: 0.4074948859806086\n",
            "4000번째 loss값: 0.5962915304018734\n",
            "5000번째 loss값: 0.297354051975291\n",
            "6000번째 loss값: 0.3293012821960725\n",
            "7000번째 loss값: 0.24578262316327307\n",
            "8000번째 loss값: 0.45304784220334055\n",
            "9000번째 loss값: 0.2841095518490419\n",
            "10000번째 loss값: 0.2755632246490599\n",
            "11000번째 loss값: 0.44777199205682133\n",
            "12000번째 loss값: 0.22171358891088142\n",
            "13000번째 loss값: 0.29983757939254857\n",
            "14000번째 loss값: 0.3094332333023053\n",
            "15000번째 loss값: 0.6994268737273652\n",
            "16000번째 loss값: 0.18153339816587605\n",
            "17000번째 loss값: 0.31615674900772894\n",
            "18000번째 loss값: 0.391900651278802\n",
            "19000번째 loss값: 0.29834772881735067\n",
            "20000번째 loss값: 0.12405903094188764\n",
            "21000번째 loss값: 0.43472211550569095\n",
            "22000번째 loss값: 0.3474918490990362\n",
            "23000번째 loss값: 0.4485035020828039\n",
            "24000번째 loss값: 0.5696869516238305\n",
            "25000번째 loss값: 0.22065733467002807\n",
            "26000번째 loss값: 0.22334594526923154\n",
            "27000번째 loss값: 0.23170897292635648\n",
            "28000번째 loss값: 0.17126097942509402\n",
            "29000번째 loss값: 0.3695215672946947\n",
            "30000번째 loss값: 0.23089175962463357\n",
            "31000번째 loss값: 0.19175489464550247\n",
            "32000번째 loss값: 0.3675359493694025\n",
            "33000번째 loss값: 0.1200843796647215\n",
            "34000번째 loss값: 0.2679442442594522\n",
            "35000번째 loss값: 0.24618708794622451\n",
            "36000번째 loss값: 0.3264230250937262\n",
            "37000번째 loss값: 0.15793742911498523\n",
            "38000번째 loss값: 0.23364989413740325\n",
            "39000번째 loss값: 0.16259417973754034\n",
            "40000번째 loss값: 0.3827831474645208\n",
            "41000번째 loss값: 0.19438589920337465\n",
            "42000번째 loss값: 0.27307169713698803\n",
            "43000번째 loss값: 0.18028432755025214\n",
            "44000번째 loss값: 0.26675029788516647\n",
            "45000번째 loss값: 0.32906573080029755\n",
            "46000번째 loss값: 0.1850617286368323\n",
            "47000번째 loss값: 0.29268103601035\n",
            "48000번째 loss값: 0.41920769303724437\n",
            "49000번째 loss값: 0.39826851655292267\n",
            "0번째 loss값: 2.2776725902599066\n",
            "1000번째 loss값: 0.5759372498300006\n",
            "2000번째 loss값: 0.4097930441590962\n",
            "3000번째 loss값: 0.3809632830930638\n",
            "4000번째 loss값: 0.4158279450086562\n",
            "5000번째 loss값: 0.319965524541545\n",
            "6000번째 loss값: 0.3288166092913912\n",
            "7000번째 loss값: 0.2797285328695592\n",
            "8000번째 loss값: 0.18597380699975782\n",
            "9000번째 loss값: 0.2639270539306534\n",
            "10000번째 loss값: 0.36868147758196845\n",
            "11000번째 loss값: 0.23689723099769902\n",
            "12000번째 loss값: 0.19488327719562965\n",
            "13000번째 loss값: 0.3993050676100169\n",
            "14000번째 loss값: 0.3976430180094506\n",
            "15000번째 loss값: 0.35132163260962024\n",
            "16000번째 loss값: 0.22941063060177252\n",
            "17000번째 loss값: 0.23057488277007349\n",
            "18000번째 loss값: 0.25235617064478255\n",
            "19000번째 loss값: 0.5471684913545041\n",
            "20000번째 loss값: 0.4241668856681208\n",
            "21000번째 loss값: 0.2464397826096289\n",
            "22000번째 loss값: 0.23801396277836573\n",
            "23000번째 loss값: 0.25141985323166255\n",
            "24000번째 loss값: 0.24941529450863525\n",
            "25000번째 loss값: 0.4276187733256373\n",
            "26000번째 loss값: 0.3803714858287089\n",
            "27000번째 loss값: 0.22767927198519244\n",
            "28000번째 loss값: 0.6039399159967827\n",
            "29000번째 loss값: 0.3498886419971841\n",
            "30000번째 loss값: 0.237394699264478\n",
            "31000번째 loss값: 0.327894102548303\n",
            "32000번째 loss값: 0.31043371689822696\n",
            "33000번째 loss값: 0.4113404548933471\n",
            "34000번째 loss값: 0.4076107007489376\n",
            "35000번째 loss값: 0.2264466695999827\n",
            "36000번째 loss값: 0.5749567294623332\n",
            "37000번째 loss값: 0.22559652902118213\n",
            "38000번째 loss값: 0.3297322487289194\n",
            "39000번째 loss값: 0.39550559881418884\n",
            "40000번째 loss값: 0.291776351525396\n",
            "41000번째 loss값: 0.24041266597142114\n",
            "42000번째 loss값: 0.23698692104145347\n",
            "43000번째 loss값: 0.24296549120961447\n",
            "44000번째 loss값: 0.2856627872207553\n",
            "45000번째 loss값: 0.33972190721476875\n",
            "46000번째 loss값: 0.33173795498112374\n",
            "47000번째 loss값: 0.21639228617993594\n",
            "48000번째 loss값: 0.35569657491225026\n",
            "49000번째 loss값: 0.44353802296893885\n",
            "0번째 loss값: 2.27850066422443\n",
            "1000번째 loss값: 0.5979913627863267\n",
            "2000번째 loss값: 0.6242310330975936\n",
            "3000번째 loss값: 0.42766424593077895\n",
            "4000번째 loss값: 0.5883551571924222\n",
            "5000번째 loss값: 0.5907110932653347\n",
            "6000번째 loss값: 0.5186591862404986\n",
            "7000번째 loss값: 0.5040550197148541\n",
            "8000번째 loss값: 0.446355927102822\n",
            "9000번째 loss값: 0.5984265807538267\n",
            "10000번째 loss값: 0.46613374274987107\n",
            "11000번째 loss값: 0.790003098959921\n",
            "12000번째 loss값: 0.6572067660948075\n",
            "13000번째 loss값: 0.4984409212521014\n",
            "14000번째 loss값: 0.7632962495545879\n",
            "15000번째 loss값: 0.5822155533179583\n",
            "16000번째 loss값: 0.6067712478503584\n",
            "17000번째 loss값: 0.5817144320181575\n",
            "18000번째 loss값: 0.7180654340278896\n",
            "19000번째 loss값: 0.7690373565542367\n",
            "20000번째 loss값: 0.7303359676991632\n",
            "21000번째 loss값: 0.7912007384842759\n",
            "22000번째 loss값: 0.6691704122999014\n",
            "23000번째 loss값: 0.7604787236158175\n",
            "24000번째 loss값: 0.8084293483426497\n",
            "25000번째 loss값: 0.8626206510710667\n",
            "26000번째 loss값: 0.7459737462104352\n",
            "27000번째 loss값: 0.5765767007640409\n",
            "28000번째 loss값: 0.7813410558916785\n",
            "29000번째 loss값: 0.7669329678543774\n",
            "30000번째 loss값: 0.6496072484176498\n",
            "31000번째 loss값: 0.6126859081619165\n",
            "32000번째 loss값: 0.6358677627227096\n",
            "33000번째 loss값: 0.7377124254684181\n",
            "34000번째 loss값: 0.8952597895229714\n",
            "35000번째 loss값: 0.8237042196950444\n",
            "36000번째 loss값: 0.7898801670496174\n",
            "37000번째 loss값: 0.8654852906185889\n",
            "38000번째 loss값: 0.8034785160395677\n",
            "39000번째 loss값: 1.0259077991372054\n",
            "40000번째 loss값: 0.8451231529812611\n",
            "41000번째 loss값: 0.7872179798627713\n",
            "42000번째 loss값: 0.7631353612961808\n",
            "43000번째 loss값: 0.8023006789710119\n",
            "44000번째 loss값: 0.8485189815179768\n",
            "45000번째 loss값: 0.8334338847261926\n",
            "46000번째 loss값: 0.9419867119645456\n",
            "47000번째 loss값: 0.774771823391398\n",
            "48000번째 loss값: 1.229268293104941\n",
            "49000번째 loss값: 0.9665134167995083\n",
            "0번째 loss값: 2.2770835947874466\n",
            "1000번째 loss값: 1.1633394854666328\n",
            "2000번째 loss값: 1.5228772722591721\n",
            "3000번째 loss값: 1.7474440136114513\n",
            "4000번째 loss값: 1.9311622459358493\n",
            "5000번째 loss값: 2.165455511250824\n",
            "6000번째 loss값: 2.334551311946827\n",
            "7000번째 loss값: 2.6003960117581677\n",
            "8000번째 loss값: 2.700710311138374\n",
            "9000번째 loss값: 3.0582358484243275\n",
            "10000번째 loss값: 3.11946899766831\n",
            "11000번째 loss값: 3.2122360690400504\n",
            "12000번째 loss값: 3.3245318055052664\n",
            "13000번째 loss값: 3.5398584200373926\n",
            "14000번째 loss값: 3.6790374959719183\n",
            "15000번째 loss값: 3.672348679797532\n",
            "16000번째 loss값: 3.773118994339268\n",
            "17000번째 loss값: 3.88256497929319\n",
            "18000번째 loss값: 4.137477758248236\n",
            "19000번째 loss값: 4.049901532131388\n",
            "20000번째 loss값: 4.3384629678699085\n",
            "21000번째 loss값: 4.335323669910475\n",
            "22000번째 loss값: 4.622649275566741\n",
            "23000번째 loss값: 4.395535438810575\n",
            "24000번째 loss값: 4.539463218009967\n",
            "25000번째 loss값: 4.7344134404591465\n",
            "26000번째 loss값: 4.642903380729554\n",
            "27000번째 loss값: 4.8471622283459395\n",
            "28000번째 loss값: 4.933384328829997\n",
            "29000번째 loss값: 4.867355128258874\n",
            "30000번째 loss값: 4.973769827960288\n",
            "31000번째 loss값: 5.304896439548731\n",
            "32000번째 loss값: 5.3532538931846085\n",
            "33000번째 loss값: 5.470780899593111\n",
            "34000번째 loss값: 5.323756885922735\n",
            "35000번째 loss값: 5.4689057872448075\n",
            "36000번째 loss값: 5.583285958401652\n",
            "37000번째 loss값: 5.660609058386963\n",
            "38000번째 loss값: 5.7800272498247285\n",
            "39000번째 loss값: 5.918950097947657\n",
            "40000번째 loss값: 5.719217911457239\n",
            "41000번째 loss값: 5.939183925342121\n",
            "42000번째 loss값: 5.946531429136089\n",
            "43000번째 loss값: 6.117208874302558\n",
            "44000번째 loss값: 6.034531415072779\n",
            "45000번째 loss값: 6.0934606480780955\n",
            "46000번째 loss값: 6.259196133905444\n",
            "47000번째 loss값: 6.163925721063891\n",
            "48000번째 loss값: 6.5394194811891495\n",
            "49000번째 loss값: 6.5277822685855655\n"
          ]
        }
      ],
      "source": [
        "X = np.hstack((np.ones((np.size(X_train, 0),1)),X_train))\n",
        "T = y_train\n",
        "\n",
        "K = np.size(T, 1)\n",
        "M = np.size(X, 1)\n",
        "W = np.zeros((M,K))\n",
        "\n",
        "iterations = 50000\n",
        "learning_rate = 0.01\n",
        "\n",
        "initial_cost = compute_cost(X, T, W, 0)\n",
        "\n",
        "print(\"Initial Cost is: {} \\n\".format(initial_cost[0][0]))\n",
        "\n",
        "scores = []\n",
        "lambda_list = [-0.1, -0.01, -0.001, -0.0001, -0.00001, 0, 0.00001, 0.0001, 0.001, 0.01, 0.1]\n",
        "\n",
        "for lambda_ in lambda_list:\n",
        "  (cost_history, W_optimal) = batch_gd(X, T, W, learning_rate, iterations, 64, lambda_)\n",
        "  y_pred = predict(X, W_optimal)\n",
        "  score = float(sum(y_pred == np.argmax(T, axis=1)))/ float(len(y_pred))\n",
        "  scores.append(score)"
      ]
    },
    {
      "cell_type": "code",
      "source": [
        "plt.figure(figsize=(10,6))\n",
        "plt.plot(np.log10(lambda_list), scores)\n",
        "plt.show()"
      ],
      "metadata": {
        "colab": {
          "base_uri": "https://localhost:8080/",
          "height": 591
        },
        "id": "pmtJ6ORzNWsu",
        "outputId": "63ef0ba4-a444-497e-a6b6-5644a147991c"
      },
      "execution_count": 21,
      "outputs": [
        {
          "output_type": "stream",
          "name": "stderr",
          "text": [
            "<ipython-input-21-6233d9d53a5e>:2: RuntimeWarning: divide by zero encountered in log10\n",
            "  plt.plot(np.log10(lambda_list), scores)\n",
            "<ipython-input-21-6233d9d53a5e>:2: RuntimeWarning: invalid value encountered in log10\n",
            "  plt.plot(np.log10(lambda_list), scores)\n"
          ]
        },
        {
          "output_type": "display_data",
          "data": {
            "text/plain": [
              "<Figure size 1000x600 with 1 Axes>"
            ],
            "image/png": "[encoded data removed]"
          },
          "metadata": {}
        }
      ]
    },
    {
      "cell_type": "code",
      "execution_count": null,
      "metadata": {
        "id": "b9_pN-P-5dXM"
      },
      "outputs": [],
      "source": [
        "## Accuracy\n",
        "X_ = np.hstack((np.ones((np.size(X_test, 0),1)),X_test))\n",
        "T_ = y_test\n",
        "y_pred = predict(X_, W_optimal)\n",
        "score = float(sum(y_pred == np.argmax(T_, axis=1)))/ float(len(y_test))\n",
        "\n",
        "print(score)"
      ]
    }
  ],
  "metadata": {
    "kernelspec": {
      "display_name": "Python 3",
      "language": "python",
      "name": "python3"
    },
    "language_info": {
      "codemirror_mode": {
        "name": "ipython",
        "version": 3
      },
      "file_extension": ".py",
      "mimetype": "text/x-python",
      "name": "python",
      "nbconvert_exporter": "python",
      "pygments_lexer": "ipython3",
      "version": "3.7.8"
    },
    "colab": {
      "provenance": []
    }
  },
  "nbformat": 4,
  "nbformat_minor": 0
}