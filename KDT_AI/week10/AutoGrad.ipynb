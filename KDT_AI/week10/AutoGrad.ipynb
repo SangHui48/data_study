{
  "nbformat": 4,
  "nbformat_minor": 0,
  "metadata": {
    "colab": {
      "provenance": [],
      "machine_shape": "hm",
      "gpuType": "T4"
    },
    "kernelspec": {
      "name": "python3",
      "display_name": "Python 3"
    },
    "language_info": {
      "name": "python"
    },
    "accelerator": "GPU",
    "gpuClass": "standard"
  },
  "cells": [
    {
      "cell_type": "code",
      "execution_count": 1,
      "metadata": {
        "colab": {
          "base_uri": "https://localhost:8080/",
          "height": 35
        },
        "id": "gYZLXJSZPtmI",
        "outputId": "2cf38740-4293-4361-dca5-f9d05c1917da"
      },
      "outputs": [
        {
          "output_type": "execute_result",
          "data": {
            "text/plain": [
              "'2.0.0+cu118'"
            ],
            "application/vnd.google.colaboratory.intrinsic+json": {
              "type": "string"
            }
          },
          "metadata": {},
          "execution_count": 1
        }
      ],
      "source": [
        "import torch\n",
        "torch.__version__"
      ]
    },
    {
      "cell_type": "code",
      "source": [
        "x = torch.ones(2, 2, requires_grad=True)\n",
        "print(x)\n",
        "\n",
        "print(x.grad_fn)"
      ],
      "metadata": {
        "colab": {
          "base_uri": "https://localhost:8080/"
        },
        "id": "N1MMmXIUQphv",
        "outputId": "b99c9862-f434-40b6-8cdd-406905f24d1d"
      },
      "execution_count": 2,
      "outputs": [
        {
          "output_type": "stream",
          "name": "stdout",
          "text": [
            "tensor([[1., 1.],\n",
            "        [1., 1.]], requires_grad=True)\n",
            "None\n"
          ]
        }
      ]
    },
    {
      "cell_type": "code",
      "source": [
        "y = x + 2\n",
        "print(y)"
      ],
      "metadata": {
        "colab": {
          "base_uri": "https://localhost:8080/"
        },
        "id": "98TuICHEQ28E",
        "outputId": "c819e368-2494-4e90-c6ec-534f00d1e322"
      },
      "execution_count": 3,
      "outputs": [
        {
          "output_type": "stream",
          "name": "stdout",
          "text": [
            "tensor([[3., 3.],\n",
            "        [3., 3.]], grad_fn=<AddBackward0>)\n"
          ]
        }
      ]
    },
    {
      "cell_type": "code",
      "source": [
        "z = y * y * 3\n",
        "out = z.mean()"
      ],
      "metadata": {
        "id": "GHhotdIXRAVN"
      },
      "execution_count": 4,
      "outputs": []
    },
    {
      "cell_type": "code",
      "source": [
        "print(z)\n",
        "print(out)"
      ],
      "metadata": {
        "colab": {
          "base_uri": "https://localhost:8080/"
        },
        "id": "z_hV8rxcRL1L",
        "outputId": "cf19df8f-1529-44a3-b430-7681e3ea0b17"
      },
      "execution_count": 5,
      "outputs": [
        {
          "output_type": "stream",
          "name": "stdout",
          "text": [
            "tensor([[27., 27.],\n",
            "        [27., 27.]], grad_fn=<MulBackward0>)\n",
            "tensor(27., grad_fn=<MeanBackward0>)\n"
          ]
        }
      ]
    },
    {
      "cell_type": "code",
      "source": [
        "x = torch.ones(2, 2, requires_grad=True)\n",
        "y = x + 2\n",
        "z = y * y * 3\n",
        "out = z.mean()\n",
        "\n",
        "print(out)\n",
        "\n",
        "y.retain_grad()\n",
        "out.backward(retain_graph=True)\n",
        "\n",
        "print(x.grad)\n",
        "print(y.grad)\n",
        "print(z.grad)\n",
        "print(z.is_leaf)\n",
        "\n",
        "out.backward()\n",
        "print(x.grad)\n",
        "print(y.grad)"
      ],
      "metadata": {
        "colab": {
          "base_uri": "https://localhost:8080/"
        },
        "id": "az0U25dwROq0",
        "outputId": "423e6417-af35-4c46-e242-cdfc5024d014"
      },
      "execution_count": 6,
      "outputs": [
        {
          "output_type": "stream",
          "name": "stdout",
          "text": [
            "tensor(27., grad_fn=<MeanBackward0>)\n",
            "tensor([[4.5000, 4.5000],\n",
            "        [4.5000, 4.5000]])\n",
            "tensor([[4.5000, 4.5000],\n",
            "        [4.5000, 4.5000]])\n",
            "None\n",
            "False\n",
            "tensor([[9., 9.],\n",
            "        [9., 9.]])\n",
            "tensor([[9., 9.],\n",
            "        [9., 9.]])\n"
          ]
        },
        {
          "output_type": "stream",
          "name": "stderr",
          "text": [
            "<ipython-input-6-1f70e90c9618>:13: UserWarning: The .grad attribute of a Tensor that is not a leaf Tensor is being accessed. Its .grad attribute won't be populated during autograd.backward(). If you indeed want the .grad field to be populated for a non-leaf Tensor, use .retain_grad() on the non-leaf Tensor. If you access the non-leaf Tensor by mistake, make sure you access the leaf Tensor instead. See github.com/pytorch/pytorch/pull/30531 for more informations. (Triggered internally at aten/src/ATen/core/TensorBody.h:486.)\n",
            "  print(z.grad)\n"
          ]
        }
      ]
    },
    {
      "cell_type": "code",
      "source": [
        "import pandas as pd\n",
        "\n",
        "from sklearn.datasets import load_iris\n",
        "\n",
        "import torch\n",
        "import torch.nn as nn\n",
        "from torch.utils.data import DataLoader, TensorDataset"
      ],
      "metadata": {
        "id": "1-DecA8tU_Lq"
      },
      "execution_count": 7,
      "outputs": []
    },
    {
      "cell_type": "code",
      "source": [
        "class Net(nn.Module):\n",
        "  def __init__(self):\n",
        "    super(Net, self).__init__()\n",
        "\n",
        "    self.layer0 = nn.Linear(4, 128)\n",
        "    self.layer1 = nn.Linear(128, 64)\n",
        "    self.layer2 = nn.Linear(64, 32)\n",
        "    self.layer3 = nn.Linear(32, 16)\n",
        "    self.layer4 = nn.Linear(16, 3)\n",
        "\n",
        "    self.bn0 = nn.BatchNorm1d(128)\n",
        "    self.bn1 = nn.BatchNorm1d(64)\n",
        "    self.bn2 = nn.BatchNorm1d(32)\n",
        "\n",
        "    self.act = nn.ReLU()\n",
        "\n",
        "  \n",
        "  def forward(self, x):\n",
        "    x = self.act(self.bn0(self.layer0(x)))\n",
        "    x = self.act(self.bn1(self.layer1(x)))\n",
        "    x = self.act(self.bn2(self.layer2(x)))\n",
        "    x = self.act(self.layer3(x))\n",
        "    x = self.layer4(x)\n",
        "\n",
        "    return x"
      ],
      "metadata": {
        "id": "bELoqaGBdp3B"
      },
      "execution_count": 8,
      "outputs": []
    },
    {
      "cell_type": "code",
      "source": [
        "criterion = nn.CrossEntropyLoss()\n",
        "\n",
        "ex_X, ex_y = torch.randn([4, 4]), torch.tensor([1, 0, 2, 0])"
      ],
      "metadata": {
        "id": "W_X0l-cwelUE"
      },
      "execution_count": 9,
      "outputs": []
    },
    {
      "cell_type": "code",
      "source": [
        "net = Net()\n",
        "output = net(ex_X)\n",
        "loss = criterion(output, ex_y)\n",
        "print(loss)"
      ],
      "metadata": {
        "colab": {
          "base_uri": "https://localhost:8080/"
        },
        "id": "pVAYQtGKfGxR",
        "outputId": "5c5a1648-e572-48b1-a9cc-b9d18c5ae5c7"
      },
      "execution_count": 10,
      "outputs": [
        {
          "output_type": "stream",
          "name": "stdout",
          "text": [
            "tensor(1.0338, grad_fn=<NllLossBackward0>)\n"
          ]
        }
      ]
    },
    {
      "cell_type": "code",
      "source": [
        "print(loss.item())"
      ],
      "metadata": {
        "colab": {
          "base_uri": "https://localhost:8080/"
        },
        "id": "j8WRWOJ7fM1N",
        "outputId": "b9e7325c-50fd-4fb1-e663-1a35dbc1db6c"
      },
      "execution_count": 11,
      "outputs": [
        {
          "output_type": "stream",
          "name": "stdout",
          "text": [
            "1.0338054895401\n"
          ]
        }
      ]
    },
    {
      "cell_type": "code",
      "source": [
        "net.zero_grad()"
      ],
      "metadata": {
        "id": "oYiT_EMCfd2a"
      },
      "execution_count": 12,
      "outputs": []
    },
    {
      "cell_type": "code",
      "source": [
        "print(net.layer4.bias.grad)\n",
        "print(net.layer4.bias.is_leaf)"
      ],
      "metadata": {
        "colab": {
          "base_uri": "https://localhost:8080/"
        },
        "id": "1lcS194rgFZU",
        "outputId": "47938549-55bc-4193-dbc5-278292499e64"
      },
      "execution_count": 13,
      "outputs": [
        {
          "output_type": "stream",
          "name": "stdout",
          "text": [
            "None\n",
            "True\n"
          ]
        }
      ]
    },
    {
      "cell_type": "code",
      "source": [
        "loss.backward()"
      ],
      "metadata": {
        "id": "3vCRGP3NgMeM"
      },
      "execution_count": 14,
      "outputs": []
    },
    {
      "cell_type": "code",
      "source": [
        "print(net.layer4.bias.grad)"
      ],
      "metadata": {
        "colab": {
          "base_uri": "https://localhost:8080/"
        },
        "id": "j2MUXMZ9gQB6",
        "outputId": "ddaf90e0-ef35-4a98-88b8-5ad5720e44d6"
      },
      "execution_count": 15,
      "outputs": [
        {
          "output_type": "stream",
          "name": "stdout",
          "text": [
            "tensor([-0.1694,  0.1206,  0.0489])\n"
          ]
        }
      ]
    },
    {
      "cell_type": "code",
      "source": [
        "params = list(net.parameters())"
      ],
      "metadata": {
        "id": "BfdbTZq4gTyH"
      },
      "execution_count": 16,
      "outputs": []
    },
    {
      "cell_type": "code",
      "source": [
        "len(params)"
      ],
      "metadata": {
        "colab": {
          "base_uri": "https://localhost:8080/"
        },
        "id": "gKCfGXsEgzaA",
        "outputId": "85293931-1baf-48eb-8435-968f0c8b87b1"
      },
      "execution_count": 17,
      "outputs": [
        {
          "output_type": "execute_result",
          "data": {
            "text/plain": [
              "16"
            ]
          },
          "metadata": {},
          "execution_count": 17
        }
      ]
    },
    {
      "cell_type": "code",
      "source": [
        "params[0].size()"
      ],
      "metadata": {
        "colab": {
          "base_uri": "https://localhost:8080/"
        },
        "id": "UYVemMuyg0Z8",
        "outputId": "baf9a07b-dffd-43c7-a7a6-013bd2a5788f"
      },
      "execution_count": 18,
      "outputs": [
        {
          "output_type": "execute_result",
          "data": {
            "text/plain": [
              "torch.Size([128, 4])"
            ]
          },
          "metadata": {},
          "execution_count": 18
        }
      ]
    },
    {
      "cell_type": "code",
      "source": [
        "import torch.optim as optim\n",
        "\n",
        "optimizer = optim.SGD(net.parameters(), lr=0.001)\n",
        "\n",
        "optimizer.zero_grad()\n",
        "output = net(ex_X)\n",
        "loss = criterion(output, ex_y)\n",
        "loss.backward()\n",
        "optimizer.step()"
      ],
      "metadata": {
        "id": "4BaDVU30hF_H"
      },
      "execution_count": 19,
      "outputs": []
    },
    {
      "cell_type": "code",
      "source": [
        "dataset = load_iris()\n",
        "\n",
        "type(dataset)"
      ],
      "metadata": {
        "colab": {
          "base_uri": "https://localhost:8080/"
        },
        "id": "Iu0C6pclhdUa",
        "outputId": "096f63d5-b32e-4cff-a772-2522205126fe"
      },
      "execution_count": 20,
      "outputs": [
        {
          "output_type": "execute_result",
          "data": {
            "text/plain": [
              "sklearn.utils._bunch.Bunch"
            ]
          },
          "metadata": {},
          "execution_count": 20
        }
      ]
    },
    {
      "cell_type": "code",
      "source": [
        "data = dataset.data\n",
        "label = dataset.target\n",
        "\n",
        "print(dataset.DESCR)"
      ],
      "metadata": {
        "colab": {
          "base_uri": "https://localhost:8080/"
        },
        "id": "eQNwLAmLhwIM",
        "outputId": "d0deeaff-f7e5-434e-8b7a-98c4a4c527e6"
      },
      "execution_count": 21,
      "outputs": [
        {
          "output_type": "stream",
          "name": "stdout",
          "text": [
            ".. _iris_dataset:\n",
            "\n",
            "Iris plants dataset\n",
            "--------------------\n",
            "\n",
            "**Data Set Characteristics:**\n",
            "\n",
            "    :Number of Instances: 150 (50 in each of three classes)\n",
            "    :Number of Attributes: 4 numeric, predictive attributes and the class\n",
            "    :Attribute Information:\n",
            "        - sepal length in cm\n",
            "        - sepal width in cm\n",
            "        - petal length in cm\n",
            "        - petal width in cm\n",
            "        - class:\n",
            "                - Iris-Setosa\n",
            "                - Iris-Versicolour\n",
            "                - Iris-Virginica\n",
            "                \n",
            "    :Summary Statistics:\n",
            "\n",
            "    ============== ==== ==== ======= ===== ====================\n",
            "                    Min  Max   Mean    SD   Class Correlation\n",
            "    ============== ==== ==== ======= ===== ====================\n",
            "    sepal length:   4.3  7.9   5.84   0.83    0.7826\n",
            "    sepal width:    2.0  4.4   3.05   0.43   -0.4194\n",
            "    petal length:   1.0  6.9   3.76   1.76    0.9490  (high!)\n",
            "    petal width:    0.1  2.5   1.20   0.76    0.9565  (high!)\n",
            "    ============== ==== ==== ======= ===== ====================\n",
            "\n",
            "    :Missing Attribute Values: None\n",
            "    :Class Distribution: 33.3% for each of 3 classes.\n",
            "    :Creator: R.A. Fisher\n",
            "    :Donor: Michael Marshall (MARSHALL%PLU@io.arc.nasa.gov)\n",
            "    :Date: July, 1988\n",
            "\n",
            "The famous Iris database, first used by Sir R.A. Fisher. The dataset is taken\n",
            "from Fisher's paper. Note that it's the same as in R, but not as in the UCI\n",
            "Machine Learning Repository, which has two wrong data points.\n",
            "\n",
            "This is perhaps the best known database to be found in the\n",
            "pattern recognition literature.  Fisher's paper is a classic in the field and\n",
            "is referenced frequently to this day.  (See Duda & Hart, for example.)  The\n",
            "data set contains 3 classes of 50 instances each, where each class refers to a\n",
            "type of iris plant.  One class is linearly separable from the other 2; the\n",
            "latter are NOT linearly separable from each other.\n",
            "\n",
            ".. topic:: References\n",
            "\n",
            "   - Fisher, R.A. \"The use of multiple measurements in taxonomic problems\"\n",
            "     Annual Eugenics, 7, Part II, 179-188 (1936); also in \"Contributions to\n",
            "     Mathematical Statistics\" (John Wiley, NY, 1950).\n",
            "   - Duda, R.O., & Hart, P.E. (1973) Pattern Classification and Scene Analysis.\n",
            "     (Q327.D83) John Wiley & Sons.  ISBN 0-471-22361-1.  See page 218.\n",
            "   - Dasarathy, B.V. (1980) \"Nosing Around the Neighborhood: A New System\n",
            "     Structure and Classification Rule for Recognition in Partially Exposed\n",
            "     Environments\".  IEEE Transactions on Pattern Analysis and Machine\n",
            "     Intelligence, Vol. PAMI-2, No. 1, 67-71.\n",
            "   - Gates, G.W. (1972) \"The Reduced Nearest Neighbor Rule\".  IEEE Transactions\n",
            "     on Information Theory, May 1972, 431-433.\n",
            "   - See also: 1988 MLC Proceedings, 54-64.  Cheeseman et al\"s AUTOCLASS II\n",
            "     conceptual clustering system finds 3 classes in the data.\n",
            "   - Many, many more ...\n"
          ]
        }
      ]
    },
    {
      "cell_type": "code",
      "source": [
        "print(f'shape of data: {data.shape}')\n",
        "print(f'shape of label: {label.shape}')"
      ],
      "metadata": {
        "colab": {
          "base_uri": "https://localhost:8080/"
        },
        "id": "letsuWqhh7R4",
        "outputId": "1f3338a1-6d3e-436c-f751-5d64c852a2a2"
      },
      "execution_count": 22,
      "outputs": [
        {
          "output_type": "stream",
          "name": "stdout",
          "text": [
            "shape of data: (150, 4)\n",
            "shape of label: (150,)\n"
          ]
        }
      ]
    },
    {
      "cell_type": "code",
      "source": [
        "from sklearn.model_selection import train_test_split\n",
        "\n",
        "X_train, X_test, y_train, y_test = train_test_split(data, label, test_size=0.25, stratify=label)\n",
        "print(len(X_train))\n",
        "print(len(X_test))"
      ],
      "metadata": {
        "colab": {
          "base_uri": "https://localhost:8080/"
        },
        "id": "CFNypcxOiUnl",
        "outputId": "264b17c1-cd60-4639-a0f1-ca89365d4df6"
      },
      "execution_count": 23,
      "outputs": [
        {
          "output_type": "stream",
          "name": "stdout",
          "text": [
            "112\n",
            "38\n"
          ]
        }
      ]
    },
    {
      "cell_type": "code",
      "source": [
        "# DataLoader 생성\n",
        "X_train = torch.from_numpy(X_train).float()\n",
        "y_train = torch.from_numpy(y_train).long()\n",
        "\n",
        "X_test = torch.from_numpy(X_test).float()\n",
        "y_test = torch.from_numpy(y_test).long()\n",
        "\n",
        "train_set = TensorDataset(X_train, y_train)\n",
        "\n",
        "train_loader = DataLoader(train_set, batch_size=4, shuffle=True)"
      ],
      "metadata": {
        "id": "2PBjl6MZiv-9"
      },
      "execution_count": 24,
      "outputs": []
    },
    {
      "cell_type": "code",
      "source": [
        "net = Net()"
      ],
      "metadata": {
        "id": "3kT8spDLkDCD"
      },
      "execution_count": 25,
      "outputs": []
    },
    {
      "cell_type": "code",
      "source": [
        "print(net)"
      ],
      "metadata": {
        "colab": {
          "base_uri": "https://localhost:8080/"
        },
        "id": "XJoJD2YmkOuk",
        "outputId": "588c1384-74f8-4b26-b7b1-c5db5142926c"
      },
      "execution_count": 26,
      "outputs": [
        {
          "output_type": "stream",
          "name": "stdout",
          "text": [
            "Net(\n",
            "  (layer0): Linear(in_features=4, out_features=128, bias=True)\n",
            "  (layer1): Linear(in_features=128, out_features=64, bias=True)\n",
            "  (layer2): Linear(in_features=64, out_features=32, bias=True)\n",
            "  (layer3): Linear(in_features=32, out_features=16, bias=True)\n",
            "  (layer4): Linear(in_features=16, out_features=3, bias=True)\n",
            "  (bn0): BatchNorm1d(128, eps=1e-05, momentum=0.1, affine=True, track_running_stats=True)\n",
            "  (bn1): BatchNorm1d(64, eps=1e-05, momentum=0.1, affine=True, track_running_stats=True)\n",
            "  (bn2): BatchNorm1d(32, eps=1e-05, momentum=0.1, affine=True, track_running_stats=True)\n",
            "  (act): ReLU()\n",
            ")\n"
          ]
        }
      ]
    },
    {
      "cell_type": "code",
      "source": [
        "device = 'cuda' if torch.cuda.is_available() else 'cpu'"
      ],
      "metadata": {
        "id": "lsgice9VkPSz"
      },
      "execution_count": 27,
      "outputs": []
    },
    {
      "cell_type": "code",
      "source": [
        "device"
      ],
      "metadata": {
        "colab": {
          "base_uri": "https://localhost:8080/",
          "height": 35
        },
        "id": "K771cn-AkjG9",
        "outputId": "713c7fdb-005c-4dff-c02d-4f2cbb0a74f1"
      },
      "execution_count": 28,
      "outputs": [
        {
          "output_type": "execute_result",
          "data": {
            "text/plain": [
              "'cuda'"
            ],
            "application/vnd.google.colaboratory.intrinsic+json": {
              "type": "string"
            }
          },
          "metadata": {},
          "execution_count": 28
        }
      ]
    },
    {
      "cell_type": "code",
      "source": [
        "net.to(device)"
      ],
      "metadata": {
        "colab": {
          "base_uri": "https://localhost:8080/"
        },
        "id": "mhu-JttPkkOo",
        "outputId": "db745e75-40bf-4cff-d8c9-adcdf0651291"
      },
      "execution_count": 29,
      "outputs": [
        {
          "output_type": "execute_result",
          "data": {
            "text/plain": [
              "Net(\n",
              "  (layer0): Linear(in_features=4, out_features=128, bias=True)\n",
              "  (layer1): Linear(in_features=128, out_features=64, bias=True)\n",
              "  (layer2): Linear(in_features=64, out_features=32, bias=True)\n",
              "  (layer3): Linear(in_features=32, out_features=16, bias=True)\n",
              "  (layer4): Linear(in_features=16, out_features=3, bias=True)\n",
              "  (bn0): BatchNorm1d(128, eps=1e-05, momentum=0.1, affine=True, track_running_stats=True)\n",
              "  (bn1): BatchNorm1d(64, eps=1e-05, momentum=0.1, affine=True, track_running_stats=True)\n",
              "  (bn2): BatchNorm1d(32, eps=1e-05, momentum=0.1, affine=True, track_running_stats=True)\n",
              "  (act): ReLU()\n",
              ")"
            ]
          },
          "metadata": {},
          "execution_count": 29
        }
      ]
    },
    {
      "cell_type": "code",
      "source": [
        "optimizer = torch.optim.SGD(net.parameters(), lr=0.001)\n",
        "criterion = nn.CrossEntropyLoss()\n",
        "epochs = 200"
      ],
      "metadata": {
        "id": "aB21gVd1kmWr"
      },
      "execution_count": 30,
      "outputs": []
    },
    {
      "cell_type": "code",
      "source": [
        "# Train\n",
        "losses = list()\n",
        "accuracies = list()\n",
        "\n",
        "for epoch in range(200):\n",
        "  epoch_loss, epoch_accuracy = 0, 0\n",
        "  for X, y in train_loader:\n",
        "    X = X.to(device)\n",
        "    y = y.to(device)\n",
        "\n",
        "    optimizer.zero_grad()\n",
        "    output = net(X)\n",
        "    loss = criterion(output, y)\n",
        "    loss.backward()\n",
        "    optimizer.step()\n",
        "    _, predicted = torch.max(output, dim=1)\n",
        "    accuracy = (predicted == y).sum().item()\n",
        "    epoch_loss += loss.item()\n",
        "    epoch_accuracy += accuracy\n",
        "  \n",
        "  epoch_loss /= len(train_loader)\n",
        "  epoch_accuracy /= len(X_train)\n",
        "  print(\"epoch: {}, \\tloss: {}, \\taccuracy: {}\".format(str(epoch+1).zfill(3), round(epoch_loss, 4), round(epoch_accuracy,4)))\n",
        "\n",
        "  losses.append(epoch_loss)\n",
        "  accuracies.append(epoch_accuracy)"
      ],
      "metadata": {
        "colab": {
          "base_uri": "https://localhost:8080/"
        },
        "id": "4mskmAmElSc-",
        "outputId": "596dcf48-c482-493b-a1a8-298d8ffb4d18"
      },
      "execution_count": 31,
      "outputs": [
        {
          "output_type": "stream",
          "name": "stdout",
          "text": [
            "epoch: 001, \tloss: 1.1014, \taccuracy: 0.3839\n",
            "epoch: 002, \tloss: 1.0914, \taccuracy: 0.375\n",
            "epoch: 003, \tloss: 1.0714, \taccuracy: 0.4554\n",
            "epoch: 004, \tloss: 1.0532, \taccuracy: 0.5089\n",
            "epoch: 005, \tloss: 1.0341, \taccuracy: 0.6161\n",
            "epoch: 006, \tloss: 1.0229, \taccuracy: 0.6161\n",
            "epoch: 007, \tloss: 1.03, \taccuracy: 0.5536\n",
            "epoch: 008, \tloss: 1.0159, \taccuracy: 0.6071\n",
            "epoch: 009, \tloss: 0.9981, \taccuracy: 0.5536\n",
            "epoch: 010, \tloss: 0.9958, \taccuracy: 0.5804\n",
            "epoch: 011, \tloss: 0.9886, \taccuracy: 0.5804\n",
            "epoch: 012, \tloss: 0.9926, \taccuracy: 0.5893\n",
            "epoch: 013, \tloss: 0.9925, \taccuracy: 0.6339\n",
            "epoch: 014, \tloss: 0.9944, \taccuracy: 0.6071\n",
            "epoch: 015, \tloss: 0.9638, \taccuracy: 0.625\n",
            "epoch: 016, \tloss: 0.9409, \taccuracy: 0.6429\n",
            "epoch: 017, \tloss: 0.9317, \taccuracy: 0.6518\n",
            "epoch: 018, \tloss: 0.9214, \taccuracy: 0.6339\n",
            "epoch: 019, \tloss: 0.9149, \taccuracy: 0.6518\n",
            "epoch: 020, \tloss: 0.8818, \taccuracy: 0.6696\n",
            "epoch: 021, \tloss: 0.9256, \taccuracy: 0.6161\n",
            "epoch: 022, \tloss: 0.9121, \taccuracy: 0.6518\n",
            "epoch: 023, \tloss: 0.8946, \taccuracy: 0.6429\n",
            "epoch: 024, \tloss: 0.902, \taccuracy: 0.6339\n",
            "epoch: 025, \tloss: 0.9084, \taccuracy: 0.6161\n",
            "epoch: 026, \tloss: 0.8795, \taccuracy: 0.6518\n",
            "epoch: 027, \tloss: 0.9093, \taccuracy: 0.5982\n",
            "epoch: 028, \tloss: 0.8528, \taccuracy: 0.6518\n",
            "epoch: 029, \tloss: 0.8616, \taccuracy: 0.6696\n",
            "epoch: 030, \tloss: 0.917, \taccuracy: 0.5982\n",
            "epoch: 031, \tloss: 0.851, \taccuracy: 0.6518\n",
            "epoch: 032, \tloss: 0.8311, \taccuracy: 0.6696\n",
            "epoch: 033, \tloss: 0.828, \taccuracy: 0.6339\n",
            "epoch: 034, \tloss: 0.8448, \taccuracy: 0.6518\n",
            "epoch: 035, \tloss: 0.8508, \taccuracy: 0.6429\n",
            "epoch: 036, \tloss: 0.8387, \taccuracy: 0.6696\n",
            "epoch: 037, \tloss: 0.8461, \taccuracy: 0.6339\n",
            "epoch: 038, \tloss: 0.7927, \taccuracy: 0.6875\n",
            "epoch: 039, \tloss: 0.7727, \taccuracy: 0.6429\n",
            "epoch: 040, \tloss: 0.8359, \taccuracy: 0.6607\n",
            "epoch: 041, \tloss: 0.782, \taccuracy: 0.6786\n",
            "epoch: 042, \tloss: 0.7686, \taccuracy: 0.6607\n",
            "epoch: 043, \tloss: 0.7898, \taccuracy: 0.6696\n",
            "epoch: 044, \tloss: 0.7835, \taccuracy: 0.6696\n",
            "epoch: 045, \tloss: 0.7927, \taccuracy: 0.6696\n",
            "epoch: 046, \tloss: 0.7677, \taccuracy: 0.7143\n",
            "epoch: 047, \tloss: 0.7278, \taccuracy: 0.6964\n",
            "epoch: 048, \tloss: 0.7171, \taccuracy: 0.7232\n",
            "epoch: 049, \tloss: 0.8023, \taccuracy: 0.6339\n",
            "epoch: 050, \tloss: 0.7821, \taccuracy: 0.6786\n",
            "epoch: 051, \tloss: 0.7676, \taccuracy: 0.6964\n",
            "epoch: 052, \tloss: 0.7465, \taccuracy: 0.7232\n",
            "epoch: 053, \tloss: 0.7407, \taccuracy: 0.7321\n",
            "epoch: 054, \tloss: 0.7441, \taccuracy: 0.7143\n",
            "epoch: 055, \tloss: 0.7063, \taccuracy: 0.7143\n",
            "epoch: 056, \tloss: 0.7715, \taccuracy: 0.6786\n",
            "epoch: 057, \tloss: 0.7136, \taccuracy: 0.7589\n",
            "epoch: 058, \tloss: 0.7074, \taccuracy: 0.7232\n",
            "epoch: 059, \tloss: 0.7255, \taccuracy: 0.75\n",
            "epoch: 060, \tloss: 0.7792, \taccuracy: 0.7054\n",
            "epoch: 061, \tloss: 0.717, \taccuracy: 0.7143\n",
            "epoch: 062, \tloss: 0.7532, \taccuracy: 0.7054\n",
            "epoch: 063, \tloss: 0.6249, \taccuracy: 0.8304\n",
            "epoch: 064, \tloss: 0.6549, \taccuracy: 0.7768\n",
            "epoch: 065, \tloss: 0.6971, \taccuracy: 0.7679\n",
            "epoch: 066, \tloss: 0.7727, \taccuracy: 0.6786\n",
            "epoch: 067, \tloss: 0.6686, \taccuracy: 0.8125\n",
            "epoch: 068, \tloss: 0.6915, \taccuracy: 0.7679\n",
            "epoch: 069, \tloss: 0.6281, \taccuracy: 0.7946\n",
            "epoch: 070, \tloss: 0.7762, \taccuracy: 0.7054\n",
            "epoch: 071, \tloss: 0.7392, \taccuracy: 0.6875\n",
            "epoch: 072, \tloss: 0.7026, \taccuracy: 0.7679\n",
            "epoch: 073, \tloss: 0.7005, \taccuracy: 0.7232\n",
            "epoch: 074, \tloss: 0.7425, \taccuracy: 0.7143\n",
            "epoch: 075, \tloss: 0.6283, \taccuracy: 0.8036\n",
            "epoch: 076, \tloss: 0.6702, \taccuracy: 0.7857\n",
            "epoch: 077, \tloss: 0.6869, \taccuracy: 0.7411\n",
            "epoch: 078, \tloss: 0.6771, \taccuracy: 0.7679\n",
            "epoch: 079, \tloss: 0.6752, \taccuracy: 0.7768\n",
            "epoch: 080, \tloss: 0.7375, \taccuracy: 0.6518\n",
            "epoch: 081, \tloss: 0.6287, \taccuracy: 0.8036\n",
            "epoch: 082, \tloss: 0.6418, \taccuracy: 0.8036\n",
            "epoch: 083, \tloss: 0.6262, \taccuracy: 0.7768\n",
            "epoch: 084, \tloss: 0.6921, \taccuracy: 0.75\n",
            "epoch: 085, \tloss: 0.6366, \taccuracy: 0.7946\n",
            "epoch: 086, \tloss: 0.5901, \taccuracy: 0.7946\n",
            "epoch: 087, \tloss: 0.7557, \taccuracy: 0.7054\n",
            "epoch: 088, \tloss: 0.7112, \taccuracy: 0.7054\n",
            "epoch: 089, \tloss: 0.6156, \taccuracy: 0.8214\n",
            "epoch: 090, \tloss: 0.6703, \taccuracy: 0.7411\n",
            "epoch: 091, \tloss: 0.6443, \taccuracy: 0.8036\n",
            "epoch: 092, \tloss: 0.6829, \taccuracy: 0.7589\n",
            "epoch: 093, \tloss: 0.6227, \taccuracy: 0.8214\n",
            "epoch: 094, \tloss: 0.6949, \taccuracy: 0.75\n",
            "epoch: 095, \tloss: 0.6466, \taccuracy: 0.75\n",
            "epoch: 096, \tloss: 0.6145, \taccuracy: 0.8125\n",
            "epoch: 097, \tloss: 0.705, \taccuracy: 0.7321\n",
            "epoch: 098, \tloss: 0.6053, \taccuracy: 0.8036\n",
            "epoch: 099, \tloss: 0.5818, \taccuracy: 0.7946\n",
            "epoch: 100, \tloss: 0.674, \taccuracy: 0.7946\n",
            "epoch: 101, \tloss: 0.6422, \taccuracy: 0.7857\n",
            "epoch: 102, \tloss: 0.6321, \taccuracy: 0.75\n",
            "epoch: 103, \tloss: 0.5753, \taccuracy: 0.7946\n",
            "epoch: 104, \tloss: 0.608, \taccuracy: 0.7768\n",
            "epoch: 105, \tloss: 0.6752, \taccuracy: 0.7589\n",
            "epoch: 106, \tloss: 0.5978, \taccuracy: 0.7946\n",
            "epoch: 107, \tloss: 0.6116, \taccuracy: 0.7857\n",
            "epoch: 108, \tloss: 0.5924, \taccuracy: 0.8214\n",
            "epoch: 109, \tloss: 0.5949, \taccuracy: 0.7857\n",
            "epoch: 110, \tloss: 0.6117, \taccuracy: 0.8214\n",
            "epoch: 111, \tloss: 0.5193, \taccuracy: 0.875\n",
            "epoch: 112, \tloss: 0.6293, \taccuracy: 0.8036\n",
            "epoch: 113, \tloss: 0.5437, \taccuracy: 0.8393\n",
            "epoch: 114, \tloss: 0.6093, \taccuracy: 0.7857\n",
            "epoch: 115, \tloss: 0.5669, \taccuracy: 0.8036\n",
            "epoch: 116, \tloss: 0.5478, \taccuracy: 0.8214\n",
            "epoch: 117, \tloss: 0.6266, \taccuracy: 0.7232\n",
            "epoch: 118, \tloss: 0.6161, \taccuracy: 0.7589\n",
            "epoch: 119, \tloss: 0.6318, \taccuracy: 0.7679\n",
            "epoch: 120, \tloss: 0.6075, \taccuracy: 0.7946\n",
            "epoch: 121, \tloss: 0.5733, \taccuracy: 0.75\n",
            "epoch: 122, \tloss: 0.6213, \taccuracy: 0.7232\n",
            "epoch: 123, \tloss: 0.4882, \taccuracy: 0.8571\n",
            "epoch: 124, \tloss: 0.5464, \taccuracy: 0.8214\n",
            "epoch: 125, \tloss: 0.6179, \taccuracy: 0.75\n",
            "epoch: 126, \tloss: 0.6062, \taccuracy: 0.7857\n",
            "epoch: 127, \tloss: 0.6711, \taccuracy: 0.7321\n",
            "epoch: 128, \tloss: 0.5761, \taccuracy: 0.7857\n",
            "epoch: 129, \tloss: 0.5598, \taccuracy: 0.8214\n",
            "epoch: 130, \tloss: 0.5875, \taccuracy: 0.8036\n",
            "epoch: 131, \tloss: 0.6362, \taccuracy: 0.7321\n",
            "epoch: 132, \tloss: 0.5877, \taccuracy: 0.8214\n",
            "epoch: 133, \tloss: 0.4658, \taccuracy: 0.8661\n",
            "epoch: 134, \tloss: 0.4733, \taccuracy: 0.875\n",
            "epoch: 135, \tloss: 0.4989, \taccuracy: 0.8393\n",
            "epoch: 136, \tloss: 0.5757, \taccuracy: 0.7946\n",
            "epoch: 137, \tloss: 0.5207, \taccuracy: 0.8036\n",
            "epoch: 138, \tloss: 0.5358, \taccuracy: 0.7946\n",
            "epoch: 139, \tloss: 0.5921, \taccuracy: 0.7589\n",
            "epoch: 140, \tloss: 0.624, \taccuracy: 0.7232\n",
            "epoch: 141, \tloss: 0.4926, \taccuracy: 0.8393\n",
            "epoch: 142, \tloss: 0.6042, \taccuracy: 0.7589\n",
            "epoch: 143, \tloss: 0.5615, \taccuracy: 0.7768\n",
            "epoch: 144, \tloss: 0.5026, \taccuracy: 0.8304\n",
            "epoch: 145, \tloss: 0.5316, \taccuracy: 0.8125\n",
            "epoch: 146, \tloss: 0.486, \taccuracy: 0.8393\n",
            "epoch: 147, \tloss: 0.5263, \taccuracy: 0.8125\n",
            "epoch: 148, \tloss: 0.5287, \taccuracy: 0.7946\n",
            "epoch: 149, \tloss: 0.4994, \taccuracy: 0.8125\n",
            "epoch: 150, \tloss: 0.5811, \taccuracy: 0.7679\n",
            "epoch: 151, \tloss: 0.5181, \taccuracy: 0.8214\n",
            "epoch: 152, \tloss: 0.5366, \taccuracy: 0.8304\n",
            "epoch: 153, \tloss: 0.5284, \taccuracy: 0.7679\n",
            "epoch: 154, \tloss: 0.5511, \taccuracy: 0.7589\n",
            "epoch: 155, \tloss: 0.5351, \taccuracy: 0.8036\n",
            "epoch: 156, \tloss: 0.5537, \taccuracy: 0.7946\n",
            "epoch: 157, \tloss: 0.4805, \taccuracy: 0.8393\n",
            "epoch: 158, \tloss: 0.4255, \taccuracy: 0.8571\n",
            "epoch: 159, \tloss: 0.4601, \taccuracy: 0.8482\n",
            "epoch: 160, \tloss: 0.4943, \taccuracy: 0.7768\n",
            "epoch: 161, \tloss: 0.5213, \taccuracy: 0.7857\n",
            "epoch: 162, \tloss: 0.4963, \taccuracy: 0.8125\n",
            "epoch: 163, \tloss: 0.4396, \taccuracy: 0.8661\n",
            "epoch: 164, \tloss: 0.479, \taccuracy: 0.8125\n",
            "epoch: 165, \tloss: 0.5541, \taccuracy: 0.7946\n",
            "epoch: 166, \tloss: 0.5076, \taccuracy: 0.8125\n",
            "epoch: 167, \tloss: 0.5471, \taccuracy: 0.8125\n",
            "epoch: 168, \tloss: 0.5074, \taccuracy: 0.8125\n",
            "epoch: 169, \tloss: 0.532, \taccuracy: 0.75\n",
            "epoch: 170, \tloss: 0.5903, \taccuracy: 0.7768\n",
            "epoch: 171, \tloss: 0.4928, \taccuracy: 0.8393\n",
            "epoch: 172, \tloss: 0.5408, \taccuracy: 0.7946\n",
            "epoch: 173, \tloss: 0.4264, \taccuracy: 0.8393\n",
            "epoch: 174, \tloss: 0.4516, \taccuracy: 0.8214\n",
            "epoch: 175, \tloss: 0.5468, \taccuracy: 0.7857\n",
            "epoch: 176, \tloss: 0.529, \taccuracy: 0.7857\n",
            "epoch: 177, \tloss: 0.5117, \taccuracy: 0.7857\n",
            "epoch: 178, \tloss: 0.5706, \taccuracy: 0.7589\n",
            "epoch: 179, \tloss: 0.3876, \taccuracy: 0.875\n",
            "epoch: 180, \tloss: 0.4945, \taccuracy: 0.8304\n",
            "epoch: 181, \tloss: 0.5454, \taccuracy: 0.7589\n",
            "epoch: 182, \tloss: 0.3718, \taccuracy: 0.8929\n",
            "epoch: 183, \tloss: 0.5149, \taccuracy: 0.7768\n",
            "epoch: 184, \tloss: 0.4603, \taccuracy: 0.7946\n",
            "epoch: 185, \tloss: 0.4793, \taccuracy: 0.7946\n",
            "epoch: 186, \tloss: 0.4733, \taccuracy: 0.8304\n",
            "epoch: 187, \tloss: 0.512, \taccuracy: 0.8125\n",
            "epoch: 188, \tloss: 0.4566, \taccuracy: 0.8482\n",
            "epoch: 189, \tloss: 0.4488, \taccuracy: 0.7857\n",
            "epoch: 190, \tloss: 0.6177, \taccuracy: 0.75\n",
            "epoch: 191, \tloss: 0.5093, \taccuracy: 0.8125\n",
            "epoch: 192, \tloss: 0.5257, \taccuracy: 0.75\n",
            "epoch: 193, \tloss: 0.3951, \taccuracy: 0.8393\n",
            "epoch: 194, \tloss: 0.5064, \taccuracy: 0.8214\n",
            "epoch: 195, \tloss: 0.4528, \taccuracy: 0.8304\n",
            "epoch: 196, \tloss: 0.4754, \taccuracy: 0.8125\n",
            "epoch: 197, \tloss: 0.4293, \taccuracy: 0.8661\n",
            "epoch: 198, \tloss: 0.5383, \taccuracy: 0.7857\n",
            "epoch: 199, \tloss: 0.5586, \taccuracy: 0.7411\n",
            "epoch: 200, \tloss: 0.4688, \taccuracy: 0.8125\n"
          ]
        }
      ]
    },
    {
      "cell_type": "code",
      "source": [
        "import matplotlib.pyplot as plt\n",
        "\n",
        "plt.figure(figsize=(20, 5))\n",
        "plt.subplots_adjust(wspace=0.2)\n",
        "\n",
        "plt.subplot(1, 2, 1)\n",
        "plt.title('$loss$', fontsize=18)\n",
        "plt.plot(losses)\n",
        "plt.grid()\n",
        "plt.xlabel('$epochs$', fontsize=16)\n",
        "plt.xticks(fontsize=14)\n",
        "plt.yticks(fontsize=14)\n",
        "\n",
        "plt.subplot(1, 2, 2)\n",
        "plt.title('$accuracy$', fontsize=18)\n",
        "plt.plot(accuracies)\n",
        "plt.grid()\n",
        "plt.xlabel('$epochs$', fontsize=16)\n",
        "plt.xticks(fontsize=14)\n",
        "plt.yticks(fontsize=14)\n",
        "\n",
        "plt.show()"
      ],
      "metadata": {
        "id": "jEWM2lxBmE7N",
        "colab": {
          "base_uri": "https://localhost:8080/",
          "height": 507
        },
        "outputId": "682a62fb-59ef-4c8c-ffda-af7418cf6123"
      },
      "execution_count": 32,
      "outputs": [
        {
          "output_type": "display_data",
          "data": {
            "text/plain": [
              "<Figure size 2000x500 with 2 Axes>"
            ],
            "image/png": "[encoded data removed]"
          },
          "metadata": {}
        }
      ]
    },
    {
      "cell_type": "code",
      "source": [
        "# Test\n",
        "X_test = X_test.to(device)\n",
        "y_test = y_test.to(device)\n",
        "output = net(X_test)\n",
        "print(torch.max(output, dim=1))\n",
        "_, predicted = torch.max(output, dim=1)\n",
        "accuracy = round((predicted == y_test).sum().item() / len(y_test), 4)\n",
        "\n",
        "print(f'test_set accuracy : {round(accuracy, 4)}')"
      ],
      "metadata": {
        "colab": {
          "base_uri": "https://localhost:8080/"
        },
        "id": "v3it78JZdfXV",
        "outputId": "8bf150be-5ed7-4b11-e224-731622e2afc1"
      },
      "execution_count": 33,
      "outputs": [
        {
          "output_type": "stream",
          "name": "stdout",
          "text": [
            "torch.return_types.max(\n",
            "values=tensor([2.3600, 0.9951, 1.3199, 1.2082, 0.7657, 1.3701, 0.9096, 0.9951, 1.2465,\n",
            "        2.3857, 2.0668, 1.0373, 1.5889, 1.4076, 1.2741, 1.0093, 2.0393, 1.1491,\n",
            "        1.2641, 1.0051, 0.6571, 1.4101, 2.0484, 0.9712, 2.3394, 1.2428, 3.1322,\n",
            "        2.1091, 1.3051, 1.4055, 1.3781, 1.9677, 1.5115, 1.4544, 1.2404, 1.4305,\n",
            "        2.2228, 0.9179], device='cuda:0', grad_fn=<MaxBackward0>),\n",
            "indices=tensor([2, 1, 0, 1, 0, 0, 2, 1, 1, 0, 0, 0, 0, 1, 0, 2, 0, 2, 1, 2, 2, 2, 2, 1,\n",
            "        0, 2, 2, 2, 1, 1, 1, 2, 0, 1, 0, 0, 2, 1], device='cuda:0'))\n",
            "test_set accuracy : 0.9737\n"
          ]
        }
      ]
    },
    {
      "cell_type": "markdown",
      "source": [
        "---"
      ],
      "metadata": {
        "id": "5Kzig3C1d8QG"
      }
    },
    {
      "cell_type": "code",
      "source": [
        "import tensorflow as tf"
      ],
      "metadata": {
        "id": "0oJEv6oFebO9"
      },
      "execution_count": 34,
      "outputs": []
    },
    {
      "cell_type": "code",
      "source": [
        "tf.__version__"
      ],
      "metadata": {
        "colab": {
          "base_uri": "https://localhost:8080/",
          "height": 35
        },
        "id": "Gl8yeN3qecaq",
        "outputId": "7179e03a-fda8-44be-a7b1-1c125a2085fc"
      },
      "execution_count": 35,
      "outputs": [
        {
          "output_type": "execute_result",
          "data": {
            "text/plain": [
              "'2.12.0'"
            ],
            "application/vnd.google.colaboratory.intrinsic+json": {
              "type": "string"
            }
          },
          "metadata": {},
          "execution_count": 35
        }
      ]
    },
    {
      "cell_type": "code",
      "source": [
        "x = tf.ones([2, 2])"
      ],
      "metadata": {
        "id": "ijcXXuVPegGm"
      },
      "execution_count": 36,
      "outputs": []
    },
    {
      "cell_type": "code",
      "source": [
        "print(x)"
      ],
      "metadata": {
        "colab": {
          "base_uri": "https://localhost:8080/"
        },
        "id": "cJn514wDen_Y",
        "outputId": "22d731ac-d4e5-4726-db58-6ded84165e7d"
      },
      "execution_count": 37,
      "outputs": [
        {
          "output_type": "stream",
          "name": "stdout",
          "text": [
            "tf.Tensor(\n",
            "[[1. 1.]\n",
            " [1. 1.]], shape=(2, 2), dtype=float32)\n"
          ]
        }
      ]
    },
    {
      "cell_type": "code",
      "source": [
        "from tensorflow import keras\n",
        "from tensorflow.keras import layers"
      ],
      "metadata": {
        "id": "j7KPYG6QeqA7"
      },
      "execution_count": 38,
      "outputs": []
    },
    {
      "cell_type": "code",
      "source": [
        "model = keras.Sequential(\n",
        "    [\n",
        "        layers.Dense(2, activation='relu', name='layer1'),\n",
        "        layers.Dense(3, activation='relu', name='layer2'),\n",
        "        layers.Dense(4, name='layer3')\n",
        "    ]\n",
        ")\n",
        "\n",
        "x = tf.ones((3, 3))\n",
        "y=  model(x)\n",
        "print(y)"
      ],
      "metadata": {
        "colab": {
          "base_uri": "https://localhost:8080/"
        },
        "id": "961t-g60gJC9",
        "outputId": "7d9911f9-6a09-4873-ee80-a7a6f850e393"
      },
      "execution_count": 39,
      "outputs": [
        {
          "output_type": "stream",
          "name": "stdout",
          "text": [
            "tf.Tensor(\n",
            "[[0. 0. 0. 0.]\n",
            " [0. 0. 0. 0.]\n",
            " [0. 0. 0. 0.]], shape=(3, 4), dtype=float32)\n"
          ]
        }
      ]
    },
    {
      "cell_type": "code",
      "source": [
        "import tensorflow as tf\n",
        "from tensorflow import keras\n",
        "\n",
        "import numpy as np\n",
        "import matplotlib.pyplot as plt\n",
        "\n",
        "print(tf.__version__)"
      ],
      "metadata": {
        "colab": {
          "base_uri": "https://localhost:8080/"
        },
        "id": "EoBHLZytgy8p",
        "outputId": "473ea09c-df95-4aba-8c99-a4ba94e12061"
      },
      "execution_count": 40,
      "outputs": [
        {
          "output_type": "stream",
          "name": "stdout",
          "text": [
            "2.12.0\n"
          ]
        }
      ]
    },
    {
      "cell_type": "code",
      "source": [
        "fashion_mnist = keras.datasets.fashion_mnist\n",
        "\n",
        "(train_images, train_labels), (test_images, test_labels) = fashion_mnist.load_data()"
      ],
      "metadata": {
        "colab": {
          "base_uri": "https://localhost:8080/"
        },
        "id": "9piyrmQhh_wF",
        "outputId": "79d9a336-8b38-428a-db7f-6ceef9c363f0"
      },
      "execution_count": 42,
      "outputs": [
        {
          "output_type": "stream",
          "name": "stdout",
          "text": [
            "Downloading data from https://storage.googleapis.com/tensorflow/tf-keras-datasets/train-labels-idx1-ubyte.gz\n",
            "29515/29515 [==============================] - 0s 1us/step\n",
            "Downloading data from https://storage.googleapis.com/tensorflow/tf-keras-datasets/train-images-idx3-ubyte.gz\n",
            "26421880/26421880 [==============================] - 2s 0us/step\n",
            "Downloading data from https://storage.googleapis.com/tensorflow/tf-keras-datasets/t10k-labels-idx1-ubyte.gz\n",
            "5148/5148 [==============================] - 0s 0us/step\n",
            "Downloading data from https://storage.googleapis.com/tensorflow/tf-keras-datasets/t10k-images-idx3-ubyte.gz\n",
            "4422102/4422102 [==============================] - 1s 0us/step\n"
          ]
        }
      ]
    },
    {
      "cell_type": "code",
      "source": [
        "class_names = ['T-shirt/top', 'Trouser', 'Pullover', 'Dress', 'Coat',\n",
        "               'Sandal', 'Shirt', 'Sneaker', 'Bag', 'Ankle boot']"
      ],
      "metadata": {
        "id": "lev-T2sdTkWz"
      },
      "execution_count": 43,
      "outputs": []
    },
    {
      "cell_type": "code",
      "source": [
        "len(class_names)"
      ],
      "metadata": {
        "colab": {
          "base_uri": "https://localhost:8080/"
        },
        "id": "T14EYx7-UAdp",
        "outputId": "81ca42e3-7ec4-442a-b41b-3ed0c302014b"
      },
      "execution_count": 44,
      "outputs": [
        {
          "output_type": "execute_result",
          "data": {
            "text/plain": [
              "10"
            ]
          },
          "metadata": {},
          "execution_count": 44
        }
      ]
    },
    {
      "cell_type": "code",
      "source": [
        "train_images.shape"
      ],
      "metadata": {
        "colab": {
          "base_uri": "https://localhost:8080/"
        },
        "id": "lecSoScmUGzM",
        "outputId": "5d1e4980-b4a5-4056-a0d1-34d57bb2f544"
      },
      "execution_count": 45,
      "outputs": [
        {
          "output_type": "execute_result",
          "data": {
            "text/plain": [
              "(60000, 28, 28)"
            ]
          },
          "metadata": {},
          "execution_count": 45
        }
      ]
    },
    {
      "cell_type": "code",
      "source": [
        "len(train_labels)"
      ],
      "metadata": {
        "colab": {
          "base_uri": "https://localhost:8080/"
        },
        "id": "UhGXELyiUHvj",
        "outputId": "23530b8e-ee98-496a-d612-9e7a1e36d4db"
      },
      "execution_count": 46,
      "outputs": [
        {
          "output_type": "execute_result",
          "data": {
            "text/plain": [
              "60000"
            ]
          },
          "metadata": {},
          "execution_count": 46
        }
      ]
    },
    {
      "cell_type": "code",
      "source": [
        "from collections import Counter\n",
        "\n",
        "label_dict = Counter(train_labels)"
      ],
      "metadata": {
        "id": "vDp24JDQUIzN"
      },
      "execution_count": 50,
      "outputs": []
    },
    {
      "cell_type": "code",
      "source": [
        "label_dict"
      ],
      "metadata": {
        "colab": {
          "base_uri": "https://localhost:8080/"
        },
        "id": "oD_CVmjXUJ2W",
        "outputId": "ea71a25a-a60f-48bc-b051-5e87b6d8ae19"
      },
      "execution_count": 51,
      "outputs": [
        {
          "output_type": "execute_result",
          "data": {
            "text/plain": [
              "Counter({9: 6000,\n",
              "         0: 6000,\n",
              "         3: 6000,\n",
              "         2: 6000,\n",
              "         7: 6000,\n",
              "         5: 6000,\n",
              "         1: 6000,\n",
              "         6: 6000,\n",
              "         4: 6000,\n",
              "         8: 6000})"
            ]
          },
          "metadata": {},
          "execution_count": 51
        }
      ]
    },
    {
      "cell_type": "code",
      "source": [
        "plt.figure()\n",
        "plt.imshow(train_images[0])\n",
        "plt.colorbar()\n",
        "plt.grid(False)\n",
        "plt.show()"
      ],
      "metadata": {
        "colab": {
          "base_uri": "https://localhost:8080/",
          "height": 430
        },
        "id": "a7-fKhjMUbGe",
        "outputId": "3d57b051-24d9-4292-942d-142e1b0b6342"
      },
      "execution_count": 52,
      "outputs": [
        {
          "output_type": "display_data",
          "data": {
            "text/plain": [
              "<Figure size 640x480 with 2 Axes>"
            ],
            "image/png": "[encoded data removed]"
          },
          "metadata": {}
        }
      ]
    },
    {
      "cell_type": "code",
      "source": [
        "train_images = train_images / 255.0\n",
        "\n",
        "test_images = test_images / 255.0"
      ],
      "metadata": {
        "id": "m6kwZ4AeUqXE"
      },
      "execution_count": 53,
      "outputs": []
    },
    {
      "cell_type": "code",
      "source": [
        "plt.figure(figsize=(10, 10))\n",
        "for i in range(25):\n",
        "  plt.subplot(5, 5, i+1)\n",
        "  plt.xticks([])\n",
        "  plt.yticks([])\n",
        "  plt.grid(False)\n",
        "  plt.imshow(train_images[i], cmap=plt.cm.binary)\n",
        "  plt.xlabel(class_names[train_labels[i]])\n",
        "plt.show()"
      ],
      "metadata": {
        "colab": {
          "base_uri": "https://localhost:8080/",
          "height": 826
        },
        "id": "eB95elGpU6J7",
        "outputId": "248a782e-f174-4d33-eafd-a89d7a715501"
      },
      "execution_count": 54,
      "outputs": [
        {
          "output_type": "display_data",
          "data": {
            "text/plain": [
              "<Figure size 1000x1000 with 25 Axes>"
            ],
            "image/png": "[encoded data removed]"
          },
          "metadata": {}
        }
      ]
    },
    {
      "cell_type": "code",
      "source": [
        "model = keras.Sequential([\n",
        "    keras.layers.Flatten(input_shape=(28, 28)),\n",
        "    keras.layers.Dense(128, activation='relu'),\n",
        "    keras.layers.Dense(10, activation='softmax')\n",
        "])"
      ],
      "metadata": {
        "id": "_UNOguvRVPFG"
      },
      "execution_count": 55,
      "outputs": []
    },
    {
      "cell_type": "code",
      "source": [
        "model.summary()"
      ],
      "metadata": {
        "colab": {
          "base_uri": "https://localhost:8080/"
        },
        "id": "9zYkPY1vVqGL",
        "outputId": "f82dc3ed-db16-465e-8f1a-1603ac78d4b0"
      },
      "execution_count": 56,
      "outputs": [
        {
          "output_type": "stream",
          "name": "stdout",
          "text": [
            "Model: \"sequential_1\"\n",
            "_________________________________________________________________\n",
            " Layer (type)                Output Shape              Param #   \n",
            "=================================================================\n",
            " flatten (Flatten)           (None, 784)               0         \n",
            "                                                                 \n",
            " dense (Dense)               (None, 128)               100480    \n",
            "                                                                 \n",
            " dense_1 (Dense)             (None, 10)                1290      \n",
            "                                                                 \n",
            "=================================================================\n",
            "Total params: 101,770\n",
            "Trainable params: 101,770\n",
            "Non-trainable params: 0\n",
            "_________________________________________________________________\n"
          ]
        }
      ]
    },
    {
      "cell_type": "code",
      "source": [
        "keras.utils.plot_model(model, show_shapes=True)"
      ],
      "metadata": {
        "colab": {
          "base_uri": "https://localhost:8080/",
          "height": 422
        },
        "id": "ilxbn-afVq4v",
        "outputId": "6135bab1-abc9-476a-9134-e0e21741b806"
      },
      "execution_count": 57,
      "outputs": [
        {
          "output_type": "execute_result",
          "data": {
            "image/png": "[encoded data removed]",
            "text/plain": [
              "<IPython.core.display.Image object>"
            ]
          },
          "metadata": {},
          "execution_count": 57
        }
      ]
    },
    {
      "cell_type": "code",
      "source": [
        "model.compile(optimizer='adam', loss='sparse_categorical_crossentropy', metrics=['accuracy'])"
      ],
      "metadata": {
        "id": "VCyl5qLPV7sU"
      },
      "execution_count": 58,
      "outputs": []
    },
    {
      "cell_type": "code",
      "source": [
        "model.fit(train_images, train_labels, epochs=5)"
      ],
      "metadata": {
        "colab": {
          "base_uri": "https://localhost:8080/"
        },
        "id": "idC3j_woWFMC",
        "outputId": "588d8cfa-0d5f-4abd-f726-26ceb7cccbe6"
      },
      "execution_count": 59,
      "outputs": [
        {
          "output_type": "stream",
          "name": "stdout",
          "text": [
            "Epoch 1/5\n",
            "1875/1875 [==============================] - 6s 2ms/step - loss: 0.4988 - accuracy: 0.8234\n",
            "Epoch 2/5\n",
            "1875/1875 [==============================] - 4s 2ms/step - loss: 0.3775 - accuracy: 0.8642\n",
            "Epoch 3/5\n",
            "1875/1875 [==============================] - 4s 2ms/step - loss: 0.3367 - accuracy: 0.8782\n",
            "Epoch 4/5\n",
            "1875/1875 [==============================] - 4s 2ms/step - loss: 0.3113 - accuracy: 0.8861\n",
            "Epoch 5/5\n",
            "1875/1875 [==============================] - 4s 2ms/step - loss: 0.2956 - accuracy: 0.8912\n"
          ]
        },
        {
          "output_type": "execute_result",
          "data": {
            "text/plain": [
              "<keras.callbacks.History at 0x7f1fd93a3610>"
            ]
          },
          "metadata": {},
          "execution_count": 59
        }
      ]
    },
    {
      "cell_type": "code",
      "source": [
        "test_loss, test_acc = model.evaluate(test_images, test_labels, verbose=2)\n",
        "\n",
        "print(\"Test Loss:\", test_loss)\n",
        "print(\"Test accuracy:\", test_acc)"
      ],
      "metadata": {
        "colab": {
          "base_uri": "https://localhost:8080/"
        },
        "id": "3uH-iyifWIhF",
        "outputId": "5be708c0-aa75-4480-cf52-406277941d2b"
      },
      "execution_count": 60,
      "outputs": [
        {
          "output_type": "stream",
          "name": "stdout",
          "text": [
            "313/313 - 1s - loss: 0.3595 - accuracy: 0.8731 - 606ms/epoch - 2ms/step\n",
            "Test Loss: 0.35945069789886475\n",
            "Test accuracy: 0.8730999827384949\n"
          ]
        }
      ]
    },
    {
      "cell_type": "code",
      "source": [],
      "metadata": {
        "id": "za5_c6PhWuyr"
      },
      "execution_count": null,
      "outputs": []
    }
  ]
}