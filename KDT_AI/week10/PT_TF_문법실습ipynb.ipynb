{
  "nbformat": 4,
  "nbformat_minor": 0,
  "metadata": {
    "colab": {
      "provenance": [],
      "machine_shape": "hm",
      "gpuType": "T4"
    },
    "kernelspec": {
      "name": "python3",
      "display_name": "Python 3"
    },
    "language_info": {
      "name": "python"
    },
    "accelerator": "GPU",
    "gpuClass": "standard"
  },
  "cells": [
    {
      "cell_type": "code",
      "execution_count": 1,
      "metadata": {
        "id": "4uQJ7yuow28M"
      },
      "outputs": [],
      "source": [
        "%matplotlib inline"
      ]
    },
    {
      "cell_type": "code",
      "source": [
        "from __future__ import print_function\n",
        "import torch"
      ],
      "metadata": {
        "id": "NueOmF1Xw_lJ"
      },
      "execution_count": 2,
      "outputs": []
    },
    {
      "cell_type": "code",
      "source": [
        "torch.__version__"
      ],
      "metadata": {
        "colab": {
          "base_uri": "https://localhost:8080/",
          "height": 35
        },
        "id": "azgH0klyyu5N",
        "outputId": "2b5e7358-1a68-45be-9edd-4e25eadde5ee"
      },
      "execution_count": 3,
      "outputs": [
        {
          "output_type": "execute_result",
          "data": {
            "text/plain": [
              "'2.0.0+cu118'"
            ],
            "application/vnd.google.colaboratory.intrinsic+json": {
              "type": "string"
            }
          },
          "metadata": {},
          "execution_count": 3
        }
      ]
    },
    {
      "cell_type": "code",
      "source": [
        "# 초기화되지 않은 5x3 행렬 생성\n",
        "x = torch.empty(5, 3)\n",
        "print(x)"
      ],
      "metadata": {
        "colab": {
          "base_uri": "https://localhost:8080/"
        },
        "id": "iBqlG3v5ywPQ",
        "outputId": "1dbe582b-75d8-4e8b-ddc8-b09d498ad1b2"
      },
      "execution_count": 4,
      "outputs": [
        {
          "output_type": "stream",
          "name": "stdout",
          "text": [
            "tensor([[4.2193e-08, 1.0781e-08, 2.1707e-18],\n",
            "        [4.5447e+30, 7.0062e+22, 2.1715e-18],\n",
            "        [4.5447e+30, 7.0062e+22, 2.1707e-18],\n",
            "        [1.9284e+31, 3.2314e-18, 7.4767e+20],\n",
            "        [6.6657e-10, 1.0027e-11, 2.5935e-09]])\n"
          ]
        }
      ]
    },
    {
      "cell_type": "code",
      "source": [
        "x = torch.randn(5, 3) # normal distribution에서 생성\n",
        "print(x)\n",
        "x = torch.rand(5, 3)\n",
        "print(x)"
      ],
      "metadata": {
        "colab": {
          "base_uri": "https://localhost:8080/"
        },
        "id": "Ap766twTy8Iv",
        "outputId": "b0d952a1-f693-45b1-ecb3-0dec4db1ad20"
      },
      "execution_count": 5,
      "outputs": [
        {
          "output_type": "stream",
          "name": "stdout",
          "text": [
            "tensor([[-0.6904,  2.0403,  2.1867],\n",
            "        [-1.0009, -1.5196, -0.2559],\n",
            "        [ 1.0840,  0.3173, -0.7619],\n",
            "        [-0.4850, -0.5771,  0.3900],\n",
            "        [ 0.4547, -0.4450, -1.0569]])\n",
            "tensor([[0.8725, 0.3021, 0.6527],\n",
            "        [0.6728, 0.6136, 0.8231],\n",
            "        [0.3023, 0.0694, 0.0631],\n",
            "        [0.0266, 0.6160, 0.0149],\n",
            "        [0.3209, 0.5182, 0.8789]])\n"
          ]
        }
      ]
    },
    {
      "cell_type": "code",
      "source": [
        "# dtype이 long이고 0으로 채워진 행렬을 생성.\n",
        "x = torch.zeros(5, 3, dtype=torch.long)\n",
        "print(x)"
      ],
      "metadata": {
        "colab": {
          "base_uri": "https://localhost:8080/"
        },
        "id": "ZwSBvEPEzNT6",
        "outputId": "e0fdc385-af56-495e-83ad-9d70b3119225"
      },
      "execution_count": 6,
      "outputs": [
        {
          "output_type": "stream",
          "name": "stdout",
          "text": [
            "tensor([[0, 0, 0],\n",
            "        [0, 0, 0],\n",
            "        [0, 0, 0],\n",
            "        [0, 0, 0],\n",
            "        [0, 0, 0]])\n"
          ]
        }
      ]
    },
    {
      "cell_type": "code",
      "source": [
        "x = torch.ones(5, 3, dtype=torch.long)\n",
        "print(x)"
      ],
      "metadata": {
        "colab": {
          "base_uri": "https://localhost:8080/"
        },
        "id": "ma2DE6PMzdwG",
        "outputId": "f9f3bb8a-13aa-4f61-81ab-2d2761ad667c"
      },
      "execution_count": 7,
      "outputs": [
        {
          "output_type": "stream",
          "name": "stdout",
          "text": [
            "tensor([[1, 1, 1],\n",
            "        [1, 1, 1],\n",
            "        [1, 1, 1],\n",
            "        [1, 1, 1],\n",
            "        [1, 1, 1]])\n"
          ]
        }
      ]
    },
    {
      "cell_type": "code",
      "source": [
        "x = x.new_ones(5, 3, dtype=torch.double)\n",
        "print(x)"
      ],
      "metadata": {
        "colab": {
          "base_uri": "https://localhost:8080/"
        },
        "id": "ioqlnN8KzmzF",
        "outputId": "c2ea606f-c0ef-48a5-d8bb-fcb33e1919ee"
      },
      "execution_count": 8,
      "outputs": [
        {
          "output_type": "stream",
          "name": "stdout",
          "text": [
            "tensor([[1., 1., 1.],\n",
            "        [1., 1., 1.],\n",
            "        [1., 1., 1.],\n",
            "        [1., 1., 1.],\n",
            "        [1., 1., 1.]], dtype=torch.float64)\n"
          ]
        }
      ]
    },
    {
      "cell_type": "code",
      "source": [
        "x = torch.randn_like(x, dtype=torch.float)"
      ],
      "metadata": {
        "id": "c38NYsdRz8WO"
      },
      "execution_count": 9,
      "outputs": []
    },
    {
      "cell_type": "code",
      "source": [
        "print(x)"
      ],
      "metadata": {
        "colab": {
          "base_uri": "https://localhost:8080/"
        },
        "id": "6dCeBfAP0D21",
        "outputId": "e56b6604-ef08-449e-80aa-34fd0227d638"
      },
      "execution_count": 10,
      "outputs": [
        {
          "output_type": "stream",
          "name": "stdout",
          "text": [
            "tensor([[-0.1666,  1.7148,  0.2463],\n",
            "        [-1.6418,  0.6305,  0.3013],\n",
            "        [-0.3545, -0.1393,  0.0510],\n",
            "        [-0.0360,  1.9027,  0.3356],\n",
            "        [-0.3992, -0.8955,  0.3509]])\n"
          ]
        }
      ]
    },
    {
      "cell_type": "code",
      "source": [
        "print(x.dtype)"
      ],
      "metadata": {
        "colab": {
          "base_uri": "https://localhost:8080/"
        },
        "id": "hrE4GihJ0Eqa",
        "outputId": "bfc37518-5f5b-4216-9542-2fbb6ef152ab"
      },
      "execution_count": 11,
      "outputs": [
        {
          "output_type": "stream",
          "name": "stdout",
          "text": [
            "torch.float32\n"
          ]
        }
      ]
    },
    {
      "cell_type": "code",
      "source": [
        "print(x.size())\n",
        "print(x.shape)"
      ],
      "metadata": {
        "colab": {
          "base_uri": "https://localhost:8080/"
        },
        "id": "57o9QOqc0J_m",
        "outputId": "b6502d8e-bdb5-4ee1-ca93-0ff0dea8ebec"
      },
      "execution_count": 12,
      "outputs": [
        {
          "output_type": "stream",
          "name": "stdout",
          "text": [
            "torch.Size([5, 3])\n",
            "torch.Size([5, 3])\n"
          ]
        }
      ]
    },
    {
      "cell_type": "code",
      "source": [
        "y = torch.rand(5, 3)\n",
        "print(x)\n",
        "print(y)\n",
        "print(x + y)"
      ],
      "metadata": {
        "colab": {
          "base_uri": "https://localhost:8080/"
        },
        "id": "clVb0rHP0UwJ",
        "outputId": "0f21d805-5f5e-49be-91c6-c683bbba4d5a"
      },
      "execution_count": 13,
      "outputs": [
        {
          "output_type": "stream",
          "name": "stdout",
          "text": [
            "tensor([[-0.1666,  1.7148,  0.2463],\n",
            "        [-1.6418,  0.6305,  0.3013],\n",
            "        [-0.3545, -0.1393,  0.0510],\n",
            "        [-0.0360,  1.9027,  0.3356],\n",
            "        [-0.3992, -0.8955,  0.3509]])\n",
            "tensor([[0.3524, 0.1740, 0.6961],\n",
            "        [0.9466, 0.4499, 0.8839],\n",
            "        [0.0397, 0.0315, 0.0437],\n",
            "        [0.4536, 0.8321, 0.3937],\n",
            "        [0.8804, 0.9897, 0.0273]])\n",
            "tensor([[ 0.1858,  1.8888,  0.9424],\n",
            "        [-0.6952,  1.0804,  1.1852],\n",
            "        [-0.3149, -0.1078,  0.0947],\n",
            "        [ 0.4176,  2.7348,  0.7293],\n",
            "        [ 0.4812,  0.0942,  0.3782]])\n"
          ]
        }
      ]
    },
    {
      "cell_type": "code",
      "source": [
        "print(torch.add(x, y))"
      ],
      "metadata": {
        "colab": {
          "base_uri": "https://localhost:8080/"
        },
        "id": "U3fZC5Tz0e9w",
        "outputId": "9113fb86-f243-4a58-9927-c3f14df42013"
      },
      "execution_count": 14,
      "outputs": [
        {
          "output_type": "stream",
          "name": "stdout",
          "text": [
            "tensor([[ 0.1858,  1.8888,  0.9424],\n",
            "        [-0.6952,  1.0804,  1.1852],\n",
            "        [-0.3149, -0.1078,  0.0947],\n",
            "        [ 0.4176,  2.7348,  0.7293],\n",
            "        [ 0.4812,  0.0942,  0.3782]])\n"
          ]
        }
      ]
    },
    {
      "cell_type": "code",
      "source": [
        "result = torch.empty(5, 3)\n",
        "print(result)\n",
        "torch.add(x, y, out=result)\n",
        "print(result)"
      ],
      "metadata": {
        "colab": {
          "base_uri": "https://localhost:8080/"
        },
        "id": "U3UG89Qi0n9O",
        "outputId": "efd7a558-35f2-4fcf-a053-ba3dd7e44f3b"
      },
      "execution_count": 15,
      "outputs": [
        {
          "output_type": "stream",
          "name": "stdout",
          "text": [
            "tensor([[ 3.5918e-34,  0.0000e+00,  4.1840e-35],\n",
            "        [ 0.0000e+00, -3.1502e+21,  4.5879e-41],\n",
            "        [ 1.4013e-45,  0.0000e+00,  2.1019e-44],\n",
            "        [ 0.0000e+00,  0.0000e+00,  0.0000e+00],\n",
            "        [ 0.0000e+00,  0.0000e+00,  0.0000e+00]])\n",
            "tensor([[ 0.1858,  1.8888,  0.9424],\n",
            "        [-0.6952,  1.0804,  1.1852],\n",
            "        [-0.3149, -0.1078,  0.0947],\n",
            "        [ 0.4176,  2.7348,  0.7293],\n",
            "        [ 0.4812,  0.0942,  0.3782]])\n"
          ]
        }
      ]
    },
    {
      "cell_type": "code",
      "source": [
        "print(y)\n",
        "y.add_(x) #inplace 방식, 새로운 텐서를 생성하는게 아니라 기존 y에 덮어쓴다?\n",
        "print(y)"
      ],
      "metadata": {
        "colab": {
          "base_uri": "https://localhost:8080/"
        },
        "id": "bxr4Bcgr1Ai7",
        "outputId": "223a305f-df99-4871-d721-958e7fee1e08"
      },
      "execution_count": 16,
      "outputs": [
        {
          "output_type": "stream",
          "name": "stdout",
          "text": [
            "tensor([[0.3524, 0.1740, 0.6961],\n",
            "        [0.9466, 0.4499, 0.8839],\n",
            "        [0.0397, 0.0315, 0.0437],\n",
            "        [0.4536, 0.8321, 0.3937],\n",
            "        [0.8804, 0.9897, 0.0273]])\n",
            "tensor([[ 0.1858,  1.8888,  0.9424],\n",
            "        [-0.6952,  1.0804,  1.1852],\n",
            "        [-0.3149, -0.1078,  0.0947],\n",
            "        [ 0.4176,  2.7348,  0.7293],\n",
            "        [ 0.4812,  0.0942,  0.3782]])\n"
          ]
        }
      ]
    },
    {
      "cell_type": "code",
      "source": [
        "print(x)\n",
        "print(x[:, 1])"
      ],
      "metadata": {
        "colab": {
          "base_uri": "https://localhost:8080/"
        },
        "id": "iXYaZrLG1PiO",
        "outputId": "dbf36990-0fe0-4102-fef2-1d9048d45cb8"
      },
      "execution_count": 17,
      "outputs": [
        {
          "output_type": "stream",
          "name": "stdout",
          "text": [
            "tensor([[-0.1666,  1.7148,  0.2463],\n",
            "        [-1.6418,  0.6305,  0.3013],\n",
            "        [-0.3545, -0.1393,  0.0510],\n",
            "        [-0.0360,  1.9027,  0.3356],\n",
            "        [-0.3992, -0.8955,  0.3509]])\n",
            "tensor([ 1.7148,  0.6305, -0.1393,  1.9027, -0.8955])\n"
          ]
        }
      ]
    },
    {
      "cell_type": "code",
      "source": [
        "x = torch.randn(4, 4)\n",
        "print(x)\n",
        "y = x.view(-1)\n",
        "z = y.view(-1, 2)\n",
        "q = x.view(-1, 1)\n",
        "print(y)\n",
        "print(z)\n",
        "print(q)\n",
        "print(y.shape, z.shape, q.shape)"
      ],
      "metadata": {
        "colab": {
          "base_uri": "https://localhost:8080/"
        },
        "id": "SE0Q-guq1dm7",
        "outputId": "108898bd-2e7d-48ed-e051-99bc50a75615"
      },
      "execution_count": 18,
      "outputs": [
        {
          "output_type": "stream",
          "name": "stdout",
          "text": [
            "tensor([[ 0.8570,  0.0647, -0.8299,  0.6369],\n",
            "        [-0.3652, -1.4014, -0.4168, -0.0702],\n",
            "        [-0.0054, -0.1026,  0.2425, -1.3273],\n",
            "        [ 0.6861,  1.3469,  1.2109,  0.4528]])\n",
            "tensor([ 0.8570,  0.0647, -0.8299,  0.6369, -0.3652, -1.4014, -0.4168, -0.0702,\n",
            "        -0.0054, -0.1026,  0.2425, -1.3273,  0.6861,  1.3469,  1.2109,  0.4528])\n",
            "tensor([[ 0.8570,  0.0647],\n",
            "        [-0.8299,  0.6369],\n",
            "        [-0.3652, -1.4014],\n",
            "        [-0.4168, -0.0702],\n",
            "        [-0.0054, -0.1026],\n",
            "        [ 0.2425, -1.3273],\n",
            "        [ 0.6861,  1.3469],\n",
            "        [ 1.2109,  0.4528]])\n",
            "tensor([[ 0.8570],\n",
            "        [ 0.0647],\n",
            "        [-0.8299],\n",
            "        [ 0.6369],\n",
            "        [-0.3652],\n",
            "        [-1.4014],\n",
            "        [-0.4168],\n",
            "        [-0.0702],\n",
            "        [-0.0054],\n",
            "        [-0.1026],\n",
            "        [ 0.2425],\n",
            "        [-1.3273],\n",
            "        [ 0.6861],\n",
            "        [ 1.3469],\n",
            "        [ 1.2109],\n",
            "        [ 0.4528]])\n",
            "torch.Size([16]) torch.Size([8, 2]) torch.Size([16, 1])\n"
          ]
        }
      ]
    },
    {
      "cell_type": "code",
      "source": [
        "# 텐서에 값이 1개밖에 없을때 가져오기\n",
        "x = torch.randn(1)\n",
        "print(x)\n",
        "print(type(x), print(x.item()))\n",
        "print(type(x.item()))"
      ],
      "metadata": {
        "colab": {
          "base_uri": "https://localhost:8080/"
        },
        "id": "1nb4P4OO1wat",
        "outputId": "1d161e5b-2fa5-4550-d533-4597f9e2ad82"
      },
      "execution_count": 19,
      "outputs": [
        {
          "output_type": "stream",
          "name": "stdout",
          "text": [
            "tensor([0.2782])\n",
            "0.2782163918018341\n",
            "<class 'torch.Tensor'> None\n",
            "<class 'float'>\n"
          ]
        }
      ]
    },
    {
      "cell_type": "code",
      "source": [
        "a = torch.ones(5)\n",
        "print(a)"
      ],
      "metadata": {
        "colab": {
          "base_uri": "https://localhost:8080/"
        },
        "id": "Us9r_HxC2UKa",
        "outputId": "fd1b1367-40a1-4291-f305-70be183ef5fc"
      },
      "execution_count": 20,
      "outputs": [
        {
          "output_type": "stream",
          "name": "stdout",
          "text": [
            "tensor([1., 1., 1., 1., 1.])\n"
          ]
        }
      ]
    },
    {
      "cell_type": "code",
      "source": [
        "b = a.numpy()\n",
        "print(b)"
      ],
      "metadata": {
        "colab": {
          "base_uri": "https://localhost:8080/"
        },
        "id": "AAsCBAIX2wNe",
        "outputId": "83940267-7584-4a63-f623-003a3cae1310"
      },
      "execution_count": 21,
      "outputs": [
        {
          "output_type": "stream",
          "name": "stdout",
          "text": [
            "[1. 1. 1. 1. 1.]\n"
          ]
        }
      ]
    },
    {
      "cell_type": "code",
      "source": [
        "a.add_(1)"
      ],
      "metadata": {
        "colab": {
          "base_uri": "https://localhost:8080/"
        },
        "id": "LrwuL1lC2yCs",
        "outputId": "edfb9d6b-d398-4c8f-ec7b-2165567ffa0d"
      },
      "execution_count": 22,
      "outputs": [
        {
          "output_type": "execute_result",
          "data": {
            "text/plain": [
              "tensor([2., 2., 2., 2., 2.])"
            ]
          },
          "metadata": {},
          "execution_count": 22
        }
      ]
    },
    {
      "cell_type": "code",
      "source": [
        "print(a)\n",
        "print(b)"
      ],
      "metadata": {
        "colab": {
          "base_uri": "https://localhost:8080/"
        },
        "id": "X_kCMijl20mt",
        "outputId": "8cd0bced-c8aa-4718-f014-a86be90d552c"
      },
      "execution_count": 23,
      "outputs": [
        {
          "output_type": "stream",
          "name": "stdout",
          "text": [
            "tensor([2., 2., 2., 2., 2.])\n",
            "[2. 2. 2. 2. 2.]\n"
          ]
        }
      ]
    },
    {
      "cell_type": "code",
      "source": [
        "temp = a.clone()\n",
        "temp_numpy = temp.numpy()\n",
        "\n",
        "a.add_(1)\n",
        "print(a)\n",
        "print(temp)\n",
        "print(temp_numpy)"
      ],
      "metadata": {
        "colab": {
          "base_uri": "https://localhost:8080/"
        },
        "id": "IU-gXjaX22h0",
        "outputId": "0dbd613c-9948-4ffb-9767-751667078c4c"
      },
      "execution_count": 24,
      "outputs": [
        {
          "output_type": "stream",
          "name": "stdout",
          "text": [
            "tensor([3., 3., 3., 3., 3.])\n",
            "tensor([2., 2., 2., 2., 2.])\n",
            "[2. 2. 2. 2. 2.]\n"
          ]
        }
      ]
    },
    {
      "cell_type": "code",
      "source": [
        "import numpy as np\n",
        "a = np.ones(5)\n",
        "print(a)\n",
        "b = torch.from_numpy(a)\n",
        "np.add(a, 1, out=a)\n",
        "print(a)\n",
        "print(b)"
      ],
      "metadata": {
        "colab": {
          "base_uri": "https://localhost:8080/"
        },
        "id": "DnU5qeXr3GMI",
        "outputId": "0948de53-3993-4c76-8c5d-27d3a965e9ba"
      },
      "execution_count": 25,
      "outputs": [
        {
          "output_type": "stream",
          "name": "stdout",
          "text": [
            "[1. 1. 1. 1. 1.]\n",
            "[2. 2. 2. 2. 2.]\n",
            "tensor([2., 2., 2., 2., 2.], dtype=torch.float64)\n"
          ]
        }
      ]
    },
    {
      "cell_type": "code",
      "source": [
        "from torch.cuda import is_available\n",
        "x = torch.randn(4, 4)\n",
        "if torch.cuda.is_available():\n",
        "  device = \"cuda:0\"\n",
        "  y = torch.ones_like(x, device=device)\n",
        "  print(y)\n",
        "\n",
        "  x = x.to(device)\n",
        "  z = x + y\n",
        "  print(z)\n",
        "  print(z.to(\"cpu\", torch.double))"
      ],
      "metadata": {
        "colab": {
          "base_uri": "https://localhost:8080/"
        },
        "id": "p8n_k9ug3Vj4",
        "outputId": "36551379-8eb8-4958-9e6f-a1b284ef3996"
      },
      "execution_count": 26,
      "outputs": [
        {
          "output_type": "stream",
          "name": "stdout",
          "text": [
            "tensor([[1., 1., 1., 1.],\n",
            "        [1., 1., 1., 1.],\n",
            "        [1., 1., 1., 1.],\n",
            "        [1., 1., 1., 1.]], device='cuda:0')\n",
            "tensor([[-0.3607,  0.4543,  1.0969,  0.2680],\n",
            "        [-0.2994, -0.2952,  0.3038,  1.0042],\n",
            "        [ 0.0150,  1.8328,  0.1844,  2.0240],\n",
            "        [-0.4421,  1.3867,  1.3950, -0.3633]], device='cuda:0')\n",
            "tensor([[-0.3607,  0.4543,  1.0969,  0.2680],\n",
            "        [-0.2994, -0.2952,  0.3038,  1.0042],\n",
            "        [ 0.0150,  1.8328,  0.1844,  2.0240],\n",
            "        [-0.4421,  1.3867,  1.3950, -0.3633]], dtype=torch.float64)\n"
          ]
        }
      ]
    },
    {
      "cell_type": "code",
      "source": [
        "x = x.cuda()"
      ],
      "metadata": {
        "id": "3qNPYx3C4E6F"
      },
      "execution_count": 27,
      "outputs": []
    },
    {
      "cell_type": "code",
      "source": [
        "print(x)"
      ],
      "metadata": {
        "colab": {
          "base_uri": "https://localhost:8080/"
        },
        "id": "t0Ks9Lup4Smb",
        "outputId": "257deba6-a2c0-4818-be23-24925f46552f"
      },
      "execution_count": 28,
      "outputs": [
        {
          "output_type": "stream",
          "name": "stdout",
          "text": [
            "tensor([[-1.3607, -0.5457,  0.0969, -0.7320],\n",
            "        [-1.2994, -1.2952, -0.6962,  0.0042],\n",
            "        [-0.9850,  0.8328, -0.8156,  1.0240],\n",
            "        [-1.4421,  0.3867,  0.3950, -1.3633]], device='cuda:0')\n"
          ]
        }
      ]
    },
    {
      "cell_type": "markdown",
      "source": [
        "---"
      ],
      "metadata": {
        "id": "ccMy29qZ4TRi"
      }
    },
    {
      "cell_type": "code",
      "source": [
        "import tensorflow as tf\n",
        "print(tf.__version__)"
      ],
      "metadata": {
        "colab": {
          "base_uri": "https://localhost:8080/"
        },
        "id": "KhQT0O5q4pqG",
        "outputId": "921c43de-08e4-4dd4-8a0f-ae93f59e2234"
      },
      "execution_count": 29,
      "outputs": [
        {
          "output_type": "stream",
          "name": "stdout",
          "text": [
            "2.12.0\n"
          ]
        }
      ]
    },
    {
      "cell_type": "code",
      "source": [
        "my_variable = tf.Variable(tf.zeros([1, 2, 3]))\n",
        "my_variable"
      ],
      "metadata": {
        "colab": {
          "base_uri": "https://localhost:8080/"
        },
        "id": "Fys4OAKQ4uWF",
        "outputId": "2f0dddb6-d688-416f-8106-5a8cfeb22548"
      },
      "execution_count": 30,
      "outputs": [
        {
          "output_type": "execute_result",
          "data": {
            "text/plain": [
              "<tf.Variable 'Variable:0' shape=(1, 2, 3) dtype=float32, numpy=\n",
              "array([[[0., 0., 0.],\n",
              "        [0., 0., 0.]]], dtype=float32)>"
            ]
          },
          "metadata": {},
          "execution_count": 30
        }
      ]
    },
    {
      "cell_type": "code",
      "source": [
        "v = tf.Variable(0.0)\n",
        "print(v)\n",
        "w = v + 1\n",
        "print(w)"
      ],
      "metadata": {
        "colab": {
          "base_uri": "https://localhost:8080/"
        },
        "id": "jrVHIo_K445T",
        "outputId": "232b60d9-257f-47f2-8665-eedc0b6178be"
      },
      "execution_count": 31,
      "outputs": [
        {
          "output_type": "stream",
          "name": "stdout",
          "text": [
            "<tf.Variable 'Variable:0' shape=() dtype=float32, numpy=0.0>\n",
            "tf.Tensor(1.0, shape=(), dtype=float32)\n"
          ]
        }
      ]
    },
    {
      "cell_type": "code",
      "source": [
        "a = tf.Variable(0.0)\n",
        "a.assign_add(1)\n",
        "a.read_value()"
      ],
      "metadata": {
        "colab": {
          "base_uri": "https://localhost:8080/"
        },
        "id": "ykg-QIKv5LdQ",
        "outputId": "d32be010-b0a4-49a8-c11c-c069ddbffbe7"
      },
      "execution_count": 32,
      "outputs": [
        {
          "output_type": "execute_result",
          "data": {
            "text/plain": [
              "<tf.Tensor: shape=(), dtype=float32, numpy=1.0>"
            ]
          },
          "metadata": {},
          "execution_count": 32
        }
      ]
    },
    {
      "cell_type": "code",
      "source": [
        "mammal = tf.Variable(\"코끼리\", tf.string)\n",
        "ignition = tf.Variable(451, tf.int16)\n",
        "floating = tf.Variable(3.14159265359, tf.float64)\n",
        "its_complicated = tf.Variable(12.3 - 4.85j, tf.complex64)\n",
        "\n",
        "print(mammal)\n",
        "print(ignition)\n",
        "print(floating)\n",
        "print(its_complicated)"
      ],
      "metadata": {
        "colab": {
          "base_uri": "https://localhost:8080/"
        },
        "id": "YfburVo15f8g",
        "outputId": "7e026a61-215b-41ac-a0c2-00f9ba99d465"
      },
      "execution_count": 33,
      "outputs": [
        {
          "output_type": "stream",
          "name": "stdout",
          "text": [
            "<tf.Variable 'Variable:0' shape=() dtype=string, numpy=b'\\xec\\xbd\\x94\\xeb\\x81\\xbc\\xeb\\xa6\\xac'>\n",
            "<tf.Variable 'Variable:0' shape=() dtype=int32, numpy=451>\n",
            "<tf.Variable 'Variable:0' shape=() dtype=float32, numpy=3.1415927>\n",
            "<tf.Variable 'Variable:0' shape=() dtype=complex128, numpy=(12.3-4.85j)>\n"
          ]
        }
      ]
    },
    {
      "cell_type": "code",
      "source": [
        "mystr = tf.Variable([\"안녕하세요\"], tf.string)\n",
        "cool_numbers  = tf.Variable([3.14159, 2.71828], tf.float32)\n",
        "first_primes = tf.Variable([2, 3, 5, 7, 11], tf.int32)\n",
        "its_very_complicated = tf.Variable([12.3 - 4.85j, 7.5 - 6.23j], tf.complex64)\n",
        "\n",
        "print(mystr)\n",
        "print(cool_numbers)\n",
        "print(first_primes)\n",
        "print(its_very_complicated)\n",
        "tf.rank(mystr)"
      ],
      "metadata": {
        "colab": {
          "base_uri": "https://localhost:8080/"
        },
        "id": "jGh0ZilA6DzT",
        "outputId": "69295056-45b3-43aa-ed95-59ba10eef6fb"
      },
      "execution_count": 34,
      "outputs": [
        {
          "output_type": "stream",
          "name": "stdout",
          "text": [
            "<tf.Variable 'Variable:0' shape=(1,) dtype=string, numpy=\n",
            "array([b'\\xec\\x95\\x88\\xeb\\x85\\x95\\xed\\x95\\x98\\xec\\x84\\xb8\\xec\\x9a\\x94'],\n",
            "      dtype=object)>\n",
            "<tf.Variable 'Variable:0' shape=(2,) dtype=float32, numpy=array([3.14159, 2.71828], dtype=float32)>\n",
            "<tf.Variable 'Variable:0' shape=(5,) dtype=int32, numpy=array([ 2,  3,  5,  7, 11], dtype=int32)>\n",
            "<tf.Variable 'Variable:0' shape=(2,) dtype=complex128, numpy=array([12.3-4.85j,  7.5-6.23j])>\n"
          ]
        },
        {
          "output_type": "execute_result",
          "data": {
            "text/plain": [
              "<tf.Tensor: shape=(), dtype=int32, numpy=1>"
            ]
          },
          "metadata": {},
          "execution_count": 34
        }
      ]
    },
    {
      "cell_type": "code",
      "source": [
        "mymat = tf.Variable([[7],[11]], tf.int16)\n",
        "myxor = tf.Variable([[False, True],[True, False]], tf.bool)\n",
        "linear_squares = tf.Variable([[4], [9], [16], [25]], tf.int32)\n",
        "squarish_squares = tf.Variable([ [4, 9], [16, 25] ], tf.int32)\n",
        "\n",
        "#tf.rank : 객체의 랭크 구하기 \n",
        "rank_of_squares = tf.rank(squarish_squares)\n",
        "mymatC = tf.Variable([[7],[11]], tf.int32)\n",
        "\n",
        "print(mymat)\n",
        "print(rank_of_squares)"
      ],
      "metadata": {
        "colab": {
          "base_uri": "https://localhost:8080/"
        },
        "id": "ZArDzacJ6HVA",
        "outputId": "7fdd177c-e725-4f23-9b11-31a781e4ca80"
      },
      "execution_count": 35,
      "outputs": [
        {
          "output_type": "stream",
          "name": "stdout",
          "text": [
            "<tf.Variable 'Variable:0' shape=(2, 1) dtype=int32, numpy=\n",
            "array([[ 7],\n",
            "       [11]], dtype=int32)>\n",
            "tf.Tensor(2, shape=(), dtype=int32)\n"
          ]
        }
      ]
    },
    {
      "cell_type": "code",
      "source": [
        "my_image = tf.zeros([10, 299, 299, 3]) # 배치 x 높이 x 너비 x 색상"
      ],
      "metadata": {
        "id": "D4cAAxzX64Hg"
      },
      "execution_count": 36,
      "outputs": []
    },
    {
      "cell_type": "code",
      "source": [
        "r = tf.rank(my_image)\n",
        "print(r)"
      ],
      "metadata": {
        "colab": {
          "base_uri": "https://localhost:8080/"
        },
        "id": "Uo4ENR5_7J7l",
        "outputId": "e9b28173-9b4a-4adf-f846-5b29ea2442fa"
      },
      "execution_count": 37,
      "outputs": [
        {
          "output_type": "stream",
          "name": "stdout",
          "text": [
            "tf.Tensor(4, shape=(), dtype=int32)\n"
          ]
        }
      ]
    },
    {
      "cell_type": "code",
      "source": [
        "rank_three_tensor = tf.ones([3, 4, 5])\n",
        "print(rank_three_tensor)\n",
        "matrix = tf.reshape(rank_three_tensor, [6, 10])\n",
        "print(matrix.shape)\n",
        "matrixB = tf.reshape(matrix, [3, -1])\n",
        "print(matrixB.shape)\n",
        "\n",
        "matrixAlt = tf.reshape(matrixB, [4, 3, -1])\n",
        "print(matrixAlt.shape)\n",
        "\n",
        "# yet_another = tf.reshape(matrixAlt, [13, 2, -1])"
      ],
      "metadata": {
        "colab": {
          "base_uri": "https://localhost:8080/"
        },
        "id": "6ieuntxK7Vpa",
        "outputId": "aae9861e-124c-4bc5-964d-d635d3f3a89b"
      },
      "execution_count": 39,
      "outputs": [
        {
          "output_type": "stream",
          "name": "stdout",
          "text": [
            "tf.Tensor(\n",
            "[[[1. 1. 1. 1. 1.]\n",
            "  [1. 1. 1. 1. 1.]\n",
            "  [1. 1. 1. 1. 1.]\n",
            "  [1. 1. 1. 1. 1.]]\n",
            "\n",
            " [[1. 1. 1. 1. 1.]\n",
            "  [1. 1. 1. 1. 1.]\n",
            "  [1. 1. 1. 1. 1.]\n",
            "  [1. 1. 1. 1. 1.]]\n",
            "\n",
            " [[1. 1. 1. 1. 1.]\n",
            "  [1. 1. 1. 1. 1.]\n",
            "  [1. 1. 1. 1. 1.]\n",
            "  [1. 1. 1. 1. 1.]]], shape=(3, 4, 5), dtype=float32)\n",
            "(6, 10)\n",
            "(3, 20)\n",
            "(4, 3, 5)\n"
          ]
        }
      ]
    },
    {
      "cell_type": "code",
      "source": [],
      "metadata": {
        "id": "R5HgJFrC9wTF"
      },
      "execution_count": null,
      "outputs": []
    }
  ]
}