{
  "nbformat": 4,
  "nbformat_minor": 0,
  "metadata": {
    "colab": {
      "private_outputs": true,
      "provenance": []
    },
    "kernelspec": {
      "name": "python3",
      "display_name": "Python 3"
    },
    "language_info": {
      "name": "python"
    },
    "accelerator": "GPU",
    "gpuClass": "standard"
  },
  "cells": [
    {
      "cell_type": "code",
      "execution_count": null,
      "metadata": {
        "id": "beo0C74ZMw3i"
      },
      "outputs": [],
      "source": [
        "import os\n",
        "import pandas as pd\n",
        "from matplotlib import pyplot as plt\n",
        "import seaborn as sns\n",
        "%matplotlib inline\n",
        "\n",
        "import warnings\n",
        "warnings.filterwarnings('ignore')"
      ]
    },
    {
      "cell_type": "markdown",
      "source": [
        "## MovieLens 데이터 불러오기"
      ],
      "metadata": {
        "id": "mLEuyS6DQ2qM"
      }
    },
    {
      "cell_type": "code",
      "source": [
        "from google.colab import drive\n",
        "drive.mount('/content/drive')"
      ],
      "metadata": {
        "id": "-J75frqSQ7vP"
      },
      "execution_count": null,
      "outputs": []
    },
    {
      "cell_type": "code",
      "source": [
        "path = '/content/drive/MyDrive/data/movielens/'"
      ],
      "metadata": {
        "id": "SmcPinoZRAtG"
      },
      "execution_count": null,
      "outputs": []
    },
    {
      "cell_type": "code",
      "source": [
        "tags_df = pd.read_csv(os.path.join(path, 'tags.csv'), encoding='utf-8')\n",
        "ratings_df = pd.read_csv(os.path.join(path, 'ratings.csv'), index_col='userId', encoding='utf-8')\n",
        "movies_df = pd.read_csv(os.path.join(path, 'movies.csv'), index_col='movieId', encoding='utf-8')"
      ],
      "metadata": {
        "id": "I1e2nAOKRLCW"
      },
      "execution_count": null,
      "outputs": []
    },
    {
      "cell_type": "code",
      "source": [
        "print(ratings_df.shape)\n",
        "print(movies_df.shape)"
      ],
      "metadata": {
        "id": "qd2FGN4ERclM"
      },
      "execution_count": null,
      "outputs": []
    },
    {
      "cell_type": "markdown",
      "source": [
        "## 장르 분석하기\n",
        "  * 전체 장르 파악하기"
      ],
      "metadata": {
        "id": "_w_ogJNZSXCg"
      }
    },
    {
      "cell_type": "code",
      "source": [
        "movies_df.head()"
      ],
      "metadata": {
        "id": "9lg83X4ASbIj"
      },
      "execution_count": null,
      "outputs": []
    },
    {
      "cell_type": "code",
      "source": [
        "all_genres = [x.split('|') for x in movies_df['genres'].values]"
      ],
      "metadata": {
        "id": "sKF87XrXScVa"
      },
      "execution_count": null,
      "outputs": []
    },
    {
      "cell_type": "code",
      "source": [
        "all_genres[:5]"
      ],
      "metadata": {
        "id": "XugcyAc7SwAs"
      },
      "execution_count": null,
      "outputs": []
    },
    {
      "cell_type": "code",
      "source": [
        "import itertools\n",
        "genres = list(set(list(itertools.chain(*all_genres))))\n",
        "print(len(all_genres))\n",
        "print(len(genres))\n",
        "print(genres)"
      ],
      "metadata": {
        "id": "2ZrpzCQfSxnm"
      },
      "execution_count": null,
      "outputs": []
    },
    {
      "cell_type": "code",
      "source": [
        "genres_df = pd.DataFrame(columns=genres, index=movies_df.index)\n",
        "genres_df.head()"
      ],
      "metadata": {
        "id": "-v9aINojTHzG"
      },
      "execution_count": null,
      "outputs": []
    },
    {
      "cell_type": "code",
      "source": [
        "ct = 0\n",
        "for i, row in genres_df.iterrows():\n",
        "  movie_id = row.name\n",
        "  list_of_genres = movies_df.loc[movie_id]['genres'].split('|')\n",
        "  genres_df.loc[movie_id][list_of_genres] = 1\n"
      ],
      "metadata": {
        "id": "PROdXkz4TyvW"
      },
      "execution_count": null,
      "outputs": []
    },
    {
      "cell_type": "code",
      "source": [
        "genres_df.head()"
      ],
      "metadata": {
        "id": "-pb0RnZxaJnn"
      },
      "execution_count": null,
      "outputs": []
    },
    {
      "cell_type": "code",
      "source": [
        "genres_df = genres_df.fillna(0)\n",
        "genres_df['num_genres'] = genres_df.sum(axis=1)\n",
        "print(genres_df.shape)\n",
        "print(genres_df)"
      ],
      "metadata": {
        "id": "OLxz2PQmaXSY"
      },
      "execution_count": null,
      "outputs": []
    },
    {
      "cell_type": "markdown",
      "source": [
        "* get dummies 활용하기"
      ],
      "metadata": {
        "id": "cZabV_wCak5k"
      }
    },
    {
      "cell_type": "code",
      "source": [
        "genres_df = movies_df['genres'].str.get_dummies(sep='|')\n",
        "genres_df.head()"
      ],
      "metadata": {
        "id": "r1ZfQuhbgrAQ"
      },
      "execution_count": null,
      "outputs": []
    },
    {
      "cell_type": "code",
      "source": [
        "movies_df = pd.concat([movies_df, genres_df], axis=1)\n",
        "movies_df.head()"
      ],
      "metadata": {
        "id": "oduPO-lwgyKd"
      },
      "execution_count": null,
      "outputs": []
    },
    {
      "cell_type": "code",
      "source": [
        "movies_df.drop('genres', axis=1, inplace=True)"
      ],
      "metadata": {
        "id": "wLGNqmP-hCx2"
      },
      "execution_count": null,
      "outputs": []
    },
    {
      "cell_type": "code",
      "source": [
        "movies_df.head()"
      ],
      "metadata": {
        "id": "LxGiQMc3hNq6"
      },
      "execution_count": null,
      "outputs": []
    },
    {
      "cell_type": "markdown",
      "source": [
        "## 특정 장르의 평점과 user 분석"
      ],
      "metadata": {
        "id": "0j39TDPohRdT"
      }
    },
    {
      "cell_type": "code",
      "source": [
        "movies_df.columns"
      ],
      "metadata": {
        "id": "-VzDWKu8hbES"
      },
      "execution_count": null,
      "outputs": []
    },
    {
      "cell_type": "code",
      "source": [
        "movieId_list = movies_df['title'][movies_df.Animation == 1]\n",
        "movieId_list.index[:5]"
      ],
      "metadata": {
        "id": "aK8sSzYchcxe"
      },
      "execution_count": null,
      "outputs": []
    },
    {
      "cell_type": "code",
      "source": [
        "animation_df = ratings_df[ratings_df['movieId'].isin(movieId_list.index)]\n",
        "animation_df.head()"
      ],
      "metadata": {
        "id": "sMeZ8R6Chvwm"
      },
      "execution_count": null,
      "outputs": []
    },
    {
      "cell_type": "code",
      "source": [
        "animation_df.groupby('userId')['rating'].mean()"
      ],
      "metadata": {
        "id": "iEG8RxyNiHI3"
      },
      "execution_count": null,
      "outputs": []
    },
    {
      "cell_type": "markdown",
      "source": [
        "## 장르간 상관관계"
      ],
      "metadata": {
        "id": "hbFuZ_3miRs0"
      }
    },
    {
      "cell_type": "code",
      "source": [
        "genres_df.corr()"
      ],
      "metadata": {
        "id": "U_ffBQEoikQ_"
      },
      "execution_count": null,
      "outputs": []
    },
    {
      "cell_type": "code",
      "source": [
        "plt.figure(figsize=(40, 40))\n",
        "sns.heatmap(genres_df.corr(), annot=True)"
      ],
      "metadata": {
        "id": "1K5sErALilLF"
      },
      "execution_count": null,
      "outputs": []
    },
    {
      "cell_type": "markdown",
      "source": [
        "## 영화 이름, 연도 분석"
      ],
      "metadata": {
        "id": "vcp8a2tqi64s"
      }
    },
    {
      "cell_type": "code",
      "source": [
        "movies_df.head()"
      ],
      "metadata": {
        "id": "oA7N0wsGjQ2P"
      },
      "execution_count": null,
      "outputs": []
    },
    {
      "cell_type": "code",
      "source": [
        "title_df = movies_df.copy()\n",
        "title_df.copy()"
      ],
      "metadata": {
        "id": "uqVOZlv9jSKb"
      },
      "execution_count": null,
      "outputs": []
    },
    {
      "cell_type": "code",
      "source": [
        "title_df['year'] = title_df['title'].str.extract('(\\(\\d\\d\\d\\d\\))')\n",
        "title_df.head()"
      ],
      "metadata": {
        "id": "4zwYJLdjjc1w"
      },
      "execution_count": null,
      "outputs": []
    },
    {
      "cell_type": "code",
      "source": [
        "title_df.isna().sum()"
      ],
      "metadata": {
        "id": "juziFOwtjsoQ"
      },
      "execution_count": null,
      "outputs": []
    },
    {
      "cell_type": "code",
      "source": [
        "title_df[title_df['year'].isnull()]"
      ],
      "metadata": {
        "id": "6UEBnM0Gj6xf"
      },
      "execution_count": null,
      "outputs": []
    },
    {
      "cell_type": "code",
      "source": [
        "# 연도가 없는 영화 또는 no genres listed라고 표시된 영화는 드랍할 수 있다.\n",
        "title_df[title_df['(no genres listed)'] == 1].shape"
      ],
      "metadata": {
        "id": "KIiuGujMj_il"
      },
      "execution_count": null,
      "outputs": []
    },
    {
      "cell_type": "code",
      "source": [
        "title_df.dropna(axis=0, inplace=True)\n",
        "title_df['year'] = title_df['year'].apply(lambda x: x.replace('(', '').replace(')',''))\n",
        "title_df.head()"
      ],
      "metadata": {
        "id": "r0n-QOOkkUTu"
      },
      "execution_count": null,
      "outputs": []
    },
    {
      "cell_type": "markdown",
      "source": [
        "## 연도별 영화 데이터 분석"
      ],
      "metadata": {
        "id": "AuBYgrUJk0_0"
      }
    },
    {
      "cell_type": "code",
      "source": [
        "year_freq_df = title_df.groupby('year')['title'].count()"
      ],
      "metadata": {
        "id": "AKQAv0T7k9Qj"
      },
      "execution_count": null,
      "outputs": []
    },
    {
      "cell_type": "code",
      "source": [
        "year_freq_df"
      ],
      "metadata": {
        "id": "qaTU9lU7lCWC"
      },
      "execution_count": null,
      "outputs": []
    },
    {
      "cell_type": "code",
      "source": [
        "year_freq_df.sort_values(ascending=False)"
      ],
      "metadata": {
        "id": "P2e__0ielDv2"
      },
      "execution_count": null,
      "outputs": []
    },
    {
      "cell_type": "code",
      "source": [
        "year_freq_df.describe()"
      ],
      "metadata": {
        "id": "FMwD6n-blIqO"
      },
      "execution_count": null,
      "outputs": []
    },
    {
      "cell_type": "markdown",
      "source": [
        "## 영화와 개봉연도, 그리고 평점"
      ],
      "metadata": {
        "id": "mnDFya66lNRr"
      }
    },
    {
      "cell_type": "code",
      "source": [
        "movies_df.head()"
      ],
      "metadata": {
        "id": "VnQt4WQYlP4L"
      },
      "execution_count": null,
      "outputs": []
    },
    {
      "cell_type": "code",
      "source": [
        "title_df"
      ],
      "metadata": {
        "id": "cnK6O8B7lRQJ"
      },
      "execution_count": null,
      "outputs": []
    },
    {
      "cell_type": "code",
      "source": [
        "title_df[title_df['year']=='2017']"
      ],
      "metadata": {
        "id": "dIpmoNg1lR07"
      },
      "execution_count": null,
      "outputs": []
    },
    {
      "cell_type": "code",
      "source": [
        "# 2017년 영화 평점 평균\n",
        "ratings_df['rating'][ratings_df['movieId'].isin(title_df[title_df['year'] == '2017'].index)].mean()"
      ],
      "metadata": {
        "id": "obr6FkxulVq2"
      },
      "execution_count": null,
      "outputs": []
    },
    {
      "cell_type": "code",
      "source": [
        "ratings_df.head()"
      ],
      "metadata": {
        "id": "OBsLcRA0l67H"
      },
      "execution_count": null,
      "outputs": []
    },
    {
      "cell_type": "code",
      "source": [
        "results = []\n",
        "for year in title_df['year'].unique():\n",
        "  avg_ratings = ratings_df['rating'][ratings_df['movieId'].isin(title_df[title_df['year'] == str(year)].index)].mean()\n",
        "  results.append((year, avg_ratings))\n",
        "results_df = pd.DataFrame(results, columns=['year', 'avg_ratings'])\n",
        "results_df.sort_values(by='year')"
      ],
      "metadata": {
        "id": "u4eanMr-lk26"
      },
      "execution_count": null,
      "outputs": []
    },
    {
      "cell_type": "code",
      "source": [
        "results_df.hist()"
      ],
      "metadata": {
        "id": "4bGtkVwumf8j"
      },
      "execution_count": null,
      "outputs": []
    },
    {
      "cell_type": "code",
      "source": [],
      "metadata": {
        "id": "X4j5zQwVm3nD"
      },
      "execution_count": null,
      "outputs": []
    }
  ]
}