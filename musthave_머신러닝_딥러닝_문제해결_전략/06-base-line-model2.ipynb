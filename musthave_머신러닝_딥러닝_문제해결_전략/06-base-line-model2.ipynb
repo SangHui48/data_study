{
 "cells": [
  {
   "cell_type": "code",
   "execution_count": 1,
   "id": "a13acdb3",
   "metadata": {
    "execution": {
     "iopub.execute_input": "2022-11-20T12:17:14.737005Z",
     "iopub.status.busy": "2022-11-20T12:17:14.735797Z",
     "iopub.status.idle": "2022-11-20T12:17:14.757824Z",
     "shell.execute_reply": "2022-11-20T12:17:14.758408Z",
     "shell.execute_reply.started": "2022-11-20T11:39:57.039414Z"
    },
    "papermill": {
     "duration": 0.059861,
     "end_time": "2022-11-20T12:17:14.758774",
     "exception": false,
     "start_time": "2022-11-20T12:17:14.698913",
     "status": "completed"
    },
    "tags": []
   },
   "outputs": [],
   "source": [
    "%config Completer.use_jedi = False"
   ]
  },
  {
   "cell_type": "code",
   "execution_count": 2,
   "id": "0bba0ecd",
   "metadata": {
    "execution": {
     "iopub.execute_input": "2022-11-20T12:17:14.830796Z",
     "iopub.status.busy": "2022-11-20T12:17:14.830105Z",
     "iopub.status.idle": "2022-11-20T12:17:14.912149Z",
     "shell.execute_reply": "2022-11-20T12:17:14.912719Z",
     "shell.execute_reply.started": "2022-11-20T11:39:57.068191Z"
    },
    "papermill": {
     "duration": 0.1196,
     "end_time": "2022-11-20T12:17:14.912931",
     "exception": false,
     "start_time": "2022-11-20T12:17:14.793331",
     "status": "completed"
    },
    "tags": []
   },
   "outputs": [],
   "source": [
    "import pandas as pd\n",
    "\n",
    "data_path = '/kaggle/input/bike-sharing-demand/'\n",
    "\n",
    "train = pd.read_csv(data_path + 'train.csv')\n",
    "test= pd.read_csv(data_path + 'test.csv')\n",
    "submission = pd.read_csv(data_path + 'sampleSubmission.csv')"
   ]
  },
  {
   "cell_type": "markdown",
   "id": "db5f81e5",
   "metadata": {
    "papermill": {
     "duration": 0.029272,
     "end_time": "2022-11-20T12:17:14.975458",
     "exception": false,
     "start_time": "2022-11-20T12:17:14.946186",
     "status": "completed"
    },
    "tags": []
   },
   "source": [
    "### 6.4.1 피처 엔지니어링"
   ]
  },
  {
   "cell_type": "markdown",
   "id": "6e136b5b",
   "metadata": {
    "papermill": {
     "duration": 0.030081,
     "end_time": "2022-11-20T12:17:15.036183",
     "exception": false,
     "start_time": "2022-11-20T12:17:15.006102",
     "status": "completed"
    },
    "tags": []
   },
   "source": [
    "* 이상치 제거"
   ]
  },
  {
   "cell_type": "code",
   "execution_count": 3,
   "id": "8fe70b4a",
   "metadata": {
    "execution": {
     "iopub.execute_input": "2022-11-20T12:17:15.104116Z",
     "iopub.status.busy": "2022-11-20T12:17:15.098702Z",
     "iopub.status.idle": "2022-11-20T12:17:15.111022Z",
     "shell.execute_reply": "2022-11-20T12:17:15.111501Z",
     "shell.execute_reply.started": "2022-11-20T11:39:57.136678Z"
    },
    "papermill": {
     "duration": 0.045834,
     "end_time": "2022-11-20T12:17:15.111743",
     "exception": false,
     "start_time": "2022-11-20T12:17:15.065909",
     "status": "completed"
    },
    "tags": []
   },
   "outputs": [],
   "source": [
    "# 훈련 데이터에서 weather가 4가 아닌 데이터만 추출\n",
    "train = train[train['weather'] != 4]"
   ]
  },
  {
   "cell_type": "markdown",
   "id": "ab577676",
   "metadata": {
    "papermill": {
     "duration": 0.029826,
     "end_time": "2022-11-20T12:17:15.171527",
     "exception": false,
     "start_time": "2022-11-20T12:17:15.141701",
     "status": "completed"
    },
    "tags": []
   },
   "source": [
    "* 데이터 합치기"
   ]
  },
  {
   "cell_type": "code",
   "execution_count": 4,
   "id": "afda74ec",
   "metadata": {
    "execution": {
     "iopub.execute_input": "2022-11-20T12:17:15.244304Z",
     "iopub.status.busy": "2022-11-20T12:17:15.243619Z",
     "iopub.status.idle": "2022-11-20T12:17:15.275990Z",
     "shell.execute_reply": "2022-11-20T12:17:15.276634Z",
     "shell.execute_reply.started": "2022-11-20T11:39:57.148215Z"
    },
    "papermill": {
     "duration": 0.074706,
     "end_time": "2022-11-20T12:17:15.276817",
     "exception": false,
     "start_time": "2022-11-20T12:17:15.202111",
     "status": "completed"
    },
    "tags": []
   },
   "outputs": [
    {
     "data": {
      "text/html": [
       "<div>\n",
       "<style scoped>\n",
       "    .dataframe tbody tr th:only-of-type {\n",
       "        vertical-align: middle;\n",
       "    }\n",
       "\n",
       "    .dataframe tbody tr th {\n",
       "        vertical-align: top;\n",
       "    }\n",
       "\n",
       "    .dataframe thead th {\n",
       "        text-align: right;\n",
       "    }\n",
       "</style>\n",
       "<table border=\"1\" class=\"dataframe\">\n",
       "  <thead>\n",
       "    <tr style=\"text-align: right;\">\n",
       "      <th></th>\n",
       "      <th>datetime</th>\n",
       "      <th>season</th>\n",
       "      <th>holiday</th>\n",
       "      <th>workingday</th>\n",
       "      <th>weather</th>\n",
       "      <th>temp</th>\n",
       "      <th>atemp</th>\n",
       "      <th>humidity</th>\n",
       "      <th>windspeed</th>\n",
       "      <th>casual</th>\n",
       "      <th>registered</th>\n",
       "      <th>count</th>\n",
       "    </tr>\n",
       "  </thead>\n",
       "  <tbody>\n",
       "    <tr>\n",
       "      <th>0</th>\n",
       "      <td>2011-01-01 00:00:00</td>\n",
       "      <td>1</td>\n",
       "      <td>0</td>\n",
       "      <td>0</td>\n",
       "      <td>1</td>\n",
       "      <td>9.84</td>\n",
       "      <td>14.395</td>\n",
       "      <td>81</td>\n",
       "      <td>0.0000</td>\n",
       "      <td>3.0</td>\n",
       "      <td>13.0</td>\n",
       "      <td>16.0</td>\n",
       "    </tr>\n",
       "    <tr>\n",
       "      <th>1</th>\n",
       "      <td>2011-01-01 01:00:00</td>\n",
       "      <td>1</td>\n",
       "      <td>0</td>\n",
       "      <td>0</td>\n",
       "      <td>1</td>\n",
       "      <td>9.02</td>\n",
       "      <td>13.635</td>\n",
       "      <td>80</td>\n",
       "      <td>0.0000</td>\n",
       "      <td>8.0</td>\n",
       "      <td>32.0</td>\n",
       "      <td>40.0</td>\n",
       "    </tr>\n",
       "    <tr>\n",
       "      <th>2</th>\n",
       "      <td>2011-01-01 02:00:00</td>\n",
       "      <td>1</td>\n",
       "      <td>0</td>\n",
       "      <td>0</td>\n",
       "      <td>1</td>\n",
       "      <td>9.02</td>\n",
       "      <td>13.635</td>\n",
       "      <td>80</td>\n",
       "      <td>0.0000</td>\n",
       "      <td>5.0</td>\n",
       "      <td>27.0</td>\n",
       "      <td>32.0</td>\n",
       "    </tr>\n",
       "    <tr>\n",
       "      <th>3</th>\n",
       "      <td>2011-01-01 03:00:00</td>\n",
       "      <td>1</td>\n",
       "      <td>0</td>\n",
       "      <td>0</td>\n",
       "      <td>1</td>\n",
       "      <td>9.84</td>\n",
       "      <td>14.395</td>\n",
       "      <td>75</td>\n",
       "      <td>0.0000</td>\n",
       "      <td>3.0</td>\n",
       "      <td>10.0</td>\n",
       "      <td>13.0</td>\n",
       "    </tr>\n",
       "    <tr>\n",
       "      <th>4</th>\n",
       "      <td>2011-01-01 04:00:00</td>\n",
       "      <td>1</td>\n",
       "      <td>0</td>\n",
       "      <td>0</td>\n",
       "      <td>1</td>\n",
       "      <td>9.84</td>\n",
       "      <td>14.395</td>\n",
       "      <td>75</td>\n",
       "      <td>0.0000</td>\n",
       "      <td>0.0</td>\n",
       "      <td>1.0</td>\n",
       "      <td>1.0</td>\n",
       "    </tr>\n",
       "    <tr>\n",
       "      <th>...</th>\n",
       "      <td>...</td>\n",
       "      <td>...</td>\n",
       "      <td>...</td>\n",
       "      <td>...</td>\n",
       "      <td>...</td>\n",
       "      <td>...</td>\n",
       "      <td>...</td>\n",
       "      <td>...</td>\n",
       "      <td>...</td>\n",
       "      <td>...</td>\n",
       "      <td>...</td>\n",
       "      <td>...</td>\n",
       "    </tr>\n",
       "    <tr>\n",
       "      <th>6488</th>\n",
       "      <td>2012-12-31 19:00:00</td>\n",
       "      <td>1</td>\n",
       "      <td>0</td>\n",
       "      <td>1</td>\n",
       "      <td>2</td>\n",
       "      <td>10.66</td>\n",
       "      <td>12.880</td>\n",
       "      <td>60</td>\n",
       "      <td>11.0014</td>\n",
       "      <td>NaN</td>\n",
       "      <td>NaN</td>\n",
       "      <td>NaN</td>\n",
       "    </tr>\n",
       "    <tr>\n",
       "      <th>6489</th>\n",
       "      <td>2012-12-31 20:00:00</td>\n",
       "      <td>1</td>\n",
       "      <td>0</td>\n",
       "      <td>1</td>\n",
       "      <td>2</td>\n",
       "      <td>10.66</td>\n",
       "      <td>12.880</td>\n",
       "      <td>60</td>\n",
       "      <td>11.0014</td>\n",
       "      <td>NaN</td>\n",
       "      <td>NaN</td>\n",
       "      <td>NaN</td>\n",
       "    </tr>\n",
       "    <tr>\n",
       "      <th>6490</th>\n",
       "      <td>2012-12-31 21:00:00</td>\n",
       "      <td>1</td>\n",
       "      <td>0</td>\n",
       "      <td>1</td>\n",
       "      <td>1</td>\n",
       "      <td>10.66</td>\n",
       "      <td>12.880</td>\n",
       "      <td>60</td>\n",
       "      <td>11.0014</td>\n",
       "      <td>NaN</td>\n",
       "      <td>NaN</td>\n",
       "      <td>NaN</td>\n",
       "    </tr>\n",
       "    <tr>\n",
       "      <th>6491</th>\n",
       "      <td>2012-12-31 22:00:00</td>\n",
       "      <td>1</td>\n",
       "      <td>0</td>\n",
       "      <td>1</td>\n",
       "      <td>1</td>\n",
       "      <td>10.66</td>\n",
       "      <td>13.635</td>\n",
       "      <td>56</td>\n",
       "      <td>8.9981</td>\n",
       "      <td>NaN</td>\n",
       "      <td>NaN</td>\n",
       "      <td>NaN</td>\n",
       "    </tr>\n",
       "    <tr>\n",
       "      <th>6492</th>\n",
       "      <td>2012-12-31 23:00:00</td>\n",
       "      <td>1</td>\n",
       "      <td>0</td>\n",
       "      <td>1</td>\n",
       "      <td>1</td>\n",
       "      <td>10.66</td>\n",
       "      <td>13.635</td>\n",
       "      <td>65</td>\n",
       "      <td>8.9981</td>\n",
       "      <td>NaN</td>\n",
       "      <td>NaN</td>\n",
       "      <td>NaN</td>\n",
       "    </tr>\n",
       "  </tbody>\n",
       "</table>\n",
       "<p>17378 rows × 12 columns</p>\n",
       "</div>"
      ],
      "text/plain": [
       "                 datetime  season  holiday  workingday  weather   temp  \\\n",
       "0     2011-01-01 00:00:00       1        0           0        1   9.84   \n",
       "1     2011-01-01 01:00:00       1        0           0        1   9.02   \n",
       "2     2011-01-01 02:00:00       1        0           0        1   9.02   \n",
       "3     2011-01-01 03:00:00       1        0           0        1   9.84   \n",
       "4     2011-01-01 04:00:00       1        0           0        1   9.84   \n",
       "...                   ...     ...      ...         ...      ...    ...   \n",
       "6488  2012-12-31 19:00:00       1        0           1        2  10.66   \n",
       "6489  2012-12-31 20:00:00       1        0           1        2  10.66   \n",
       "6490  2012-12-31 21:00:00       1        0           1        1  10.66   \n",
       "6491  2012-12-31 22:00:00       1        0           1        1  10.66   \n",
       "6492  2012-12-31 23:00:00       1        0           1        1  10.66   \n",
       "\n",
       "       atemp  humidity  windspeed  casual  registered  count  \n",
       "0     14.395        81     0.0000     3.0        13.0   16.0  \n",
       "1     13.635        80     0.0000     8.0        32.0   40.0  \n",
       "2     13.635        80     0.0000     5.0        27.0   32.0  \n",
       "3     14.395        75     0.0000     3.0        10.0   13.0  \n",
       "4     14.395        75     0.0000     0.0         1.0    1.0  \n",
       "...      ...       ...        ...     ...         ...    ...  \n",
       "6488  12.880        60    11.0014     NaN         NaN    NaN  \n",
       "6489  12.880        60    11.0014     NaN         NaN    NaN  \n",
       "6490  12.880        60    11.0014     NaN         NaN    NaN  \n",
       "6491  13.635        56     8.9981     NaN         NaN    NaN  \n",
       "6492  13.635        65     8.9981     NaN         NaN    NaN  \n",
       "\n",
       "[17378 rows x 12 columns]"
      ]
     },
     "execution_count": 4,
     "metadata": {},
     "output_type": "execute_result"
    }
   ],
   "source": [
    "all_data_tmp = pd.concat([train, test])\n",
    "all_data_tmp"
   ]
  },
  {
   "cell_type": "code",
   "execution_count": 5,
   "id": "4e38ffbd",
   "metadata": {
    "execution": {
     "iopub.execute_input": "2022-11-20T12:17:15.344644Z",
     "iopub.status.busy": "2022-11-20T12:17:15.343955Z",
     "iopub.status.idle": "2022-11-20T12:17:15.377661Z",
     "shell.execute_reply": "2022-11-20T12:17:15.378158Z",
     "shell.execute_reply.started": "2022-11-20T11:39:57.177665Z"
    },
    "papermill": {
     "duration": 0.070396,
     "end_time": "2022-11-20T12:17:15.378357",
     "exception": false,
     "start_time": "2022-11-20T12:17:15.307961",
     "status": "completed"
    },
    "tags": []
   },
   "outputs": [
    {
     "data": {
      "text/html": [
       "<div>\n",
       "<style scoped>\n",
       "    .dataframe tbody tr th:only-of-type {\n",
       "        vertical-align: middle;\n",
       "    }\n",
       "\n",
       "    .dataframe tbody tr th {\n",
       "        vertical-align: top;\n",
       "    }\n",
       "\n",
       "    .dataframe thead th {\n",
       "        text-align: right;\n",
       "    }\n",
       "</style>\n",
       "<table border=\"1\" class=\"dataframe\">\n",
       "  <thead>\n",
       "    <tr style=\"text-align: right;\">\n",
       "      <th></th>\n",
       "      <th>datetime</th>\n",
       "      <th>season</th>\n",
       "      <th>holiday</th>\n",
       "      <th>workingday</th>\n",
       "      <th>weather</th>\n",
       "      <th>temp</th>\n",
       "      <th>atemp</th>\n",
       "      <th>humidity</th>\n",
       "      <th>windspeed</th>\n",
       "      <th>casual</th>\n",
       "      <th>registered</th>\n",
       "      <th>count</th>\n",
       "    </tr>\n",
       "  </thead>\n",
       "  <tbody>\n",
       "    <tr>\n",
       "      <th>0</th>\n",
       "      <td>2011-01-01 00:00:00</td>\n",
       "      <td>1</td>\n",
       "      <td>0</td>\n",
       "      <td>0</td>\n",
       "      <td>1</td>\n",
       "      <td>9.84</td>\n",
       "      <td>14.395</td>\n",
       "      <td>81</td>\n",
       "      <td>0.0000</td>\n",
       "      <td>3.0</td>\n",
       "      <td>13.0</td>\n",
       "      <td>16.0</td>\n",
       "    </tr>\n",
       "    <tr>\n",
       "      <th>1</th>\n",
       "      <td>2011-01-01 01:00:00</td>\n",
       "      <td>1</td>\n",
       "      <td>0</td>\n",
       "      <td>0</td>\n",
       "      <td>1</td>\n",
       "      <td>9.02</td>\n",
       "      <td>13.635</td>\n",
       "      <td>80</td>\n",
       "      <td>0.0000</td>\n",
       "      <td>8.0</td>\n",
       "      <td>32.0</td>\n",
       "      <td>40.0</td>\n",
       "    </tr>\n",
       "    <tr>\n",
       "      <th>2</th>\n",
       "      <td>2011-01-01 02:00:00</td>\n",
       "      <td>1</td>\n",
       "      <td>0</td>\n",
       "      <td>0</td>\n",
       "      <td>1</td>\n",
       "      <td>9.02</td>\n",
       "      <td>13.635</td>\n",
       "      <td>80</td>\n",
       "      <td>0.0000</td>\n",
       "      <td>5.0</td>\n",
       "      <td>27.0</td>\n",
       "      <td>32.0</td>\n",
       "    </tr>\n",
       "    <tr>\n",
       "      <th>3</th>\n",
       "      <td>2011-01-01 03:00:00</td>\n",
       "      <td>1</td>\n",
       "      <td>0</td>\n",
       "      <td>0</td>\n",
       "      <td>1</td>\n",
       "      <td>9.84</td>\n",
       "      <td>14.395</td>\n",
       "      <td>75</td>\n",
       "      <td>0.0000</td>\n",
       "      <td>3.0</td>\n",
       "      <td>10.0</td>\n",
       "      <td>13.0</td>\n",
       "    </tr>\n",
       "    <tr>\n",
       "      <th>4</th>\n",
       "      <td>2011-01-01 04:00:00</td>\n",
       "      <td>1</td>\n",
       "      <td>0</td>\n",
       "      <td>0</td>\n",
       "      <td>1</td>\n",
       "      <td>9.84</td>\n",
       "      <td>14.395</td>\n",
       "      <td>75</td>\n",
       "      <td>0.0000</td>\n",
       "      <td>0.0</td>\n",
       "      <td>1.0</td>\n",
       "      <td>1.0</td>\n",
       "    </tr>\n",
       "    <tr>\n",
       "      <th>...</th>\n",
       "      <td>...</td>\n",
       "      <td>...</td>\n",
       "      <td>...</td>\n",
       "      <td>...</td>\n",
       "      <td>...</td>\n",
       "      <td>...</td>\n",
       "      <td>...</td>\n",
       "      <td>...</td>\n",
       "      <td>...</td>\n",
       "      <td>...</td>\n",
       "      <td>...</td>\n",
       "      <td>...</td>\n",
       "    </tr>\n",
       "    <tr>\n",
       "      <th>17373</th>\n",
       "      <td>2012-12-31 19:00:00</td>\n",
       "      <td>1</td>\n",
       "      <td>0</td>\n",
       "      <td>1</td>\n",
       "      <td>2</td>\n",
       "      <td>10.66</td>\n",
       "      <td>12.880</td>\n",
       "      <td>60</td>\n",
       "      <td>11.0014</td>\n",
       "      <td>NaN</td>\n",
       "      <td>NaN</td>\n",
       "      <td>NaN</td>\n",
       "    </tr>\n",
       "    <tr>\n",
       "      <th>17374</th>\n",
       "      <td>2012-12-31 20:00:00</td>\n",
       "      <td>1</td>\n",
       "      <td>0</td>\n",
       "      <td>1</td>\n",
       "      <td>2</td>\n",
       "      <td>10.66</td>\n",
       "      <td>12.880</td>\n",
       "      <td>60</td>\n",
       "      <td>11.0014</td>\n",
       "      <td>NaN</td>\n",
       "      <td>NaN</td>\n",
       "      <td>NaN</td>\n",
       "    </tr>\n",
       "    <tr>\n",
       "      <th>17375</th>\n",
       "      <td>2012-12-31 21:00:00</td>\n",
       "      <td>1</td>\n",
       "      <td>0</td>\n",
       "      <td>1</td>\n",
       "      <td>1</td>\n",
       "      <td>10.66</td>\n",
       "      <td>12.880</td>\n",
       "      <td>60</td>\n",
       "      <td>11.0014</td>\n",
       "      <td>NaN</td>\n",
       "      <td>NaN</td>\n",
       "      <td>NaN</td>\n",
       "    </tr>\n",
       "    <tr>\n",
       "      <th>17376</th>\n",
       "      <td>2012-12-31 22:00:00</td>\n",
       "      <td>1</td>\n",
       "      <td>0</td>\n",
       "      <td>1</td>\n",
       "      <td>1</td>\n",
       "      <td>10.66</td>\n",
       "      <td>13.635</td>\n",
       "      <td>56</td>\n",
       "      <td>8.9981</td>\n",
       "      <td>NaN</td>\n",
       "      <td>NaN</td>\n",
       "      <td>NaN</td>\n",
       "    </tr>\n",
       "    <tr>\n",
       "      <th>17377</th>\n",
       "      <td>2012-12-31 23:00:00</td>\n",
       "      <td>1</td>\n",
       "      <td>0</td>\n",
       "      <td>1</td>\n",
       "      <td>1</td>\n",
       "      <td>10.66</td>\n",
       "      <td>13.635</td>\n",
       "      <td>65</td>\n",
       "      <td>8.9981</td>\n",
       "      <td>NaN</td>\n",
       "      <td>NaN</td>\n",
       "      <td>NaN</td>\n",
       "    </tr>\n",
       "  </tbody>\n",
       "</table>\n",
       "<p>17378 rows × 12 columns</p>\n",
       "</div>"
      ],
      "text/plain": [
       "                  datetime  season  holiday  workingday  weather   temp  \\\n",
       "0      2011-01-01 00:00:00       1        0           0        1   9.84   \n",
       "1      2011-01-01 01:00:00       1        0           0        1   9.02   \n",
       "2      2011-01-01 02:00:00       1        0           0        1   9.02   \n",
       "3      2011-01-01 03:00:00       1        0           0        1   9.84   \n",
       "4      2011-01-01 04:00:00       1        0           0        1   9.84   \n",
       "...                    ...     ...      ...         ...      ...    ...   \n",
       "17373  2012-12-31 19:00:00       1        0           1        2  10.66   \n",
       "17374  2012-12-31 20:00:00       1        0           1        2  10.66   \n",
       "17375  2012-12-31 21:00:00       1        0           1        1  10.66   \n",
       "17376  2012-12-31 22:00:00       1        0           1        1  10.66   \n",
       "17377  2012-12-31 23:00:00       1        0           1        1  10.66   \n",
       "\n",
       "        atemp  humidity  windspeed  casual  registered  count  \n",
       "0      14.395        81     0.0000     3.0        13.0   16.0  \n",
       "1      13.635        80     0.0000     8.0        32.0   40.0  \n",
       "2      13.635        80     0.0000     5.0        27.0   32.0  \n",
       "3      14.395        75     0.0000     3.0        10.0   13.0  \n",
       "4      14.395        75     0.0000     0.0         1.0    1.0  \n",
       "...       ...       ...        ...     ...         ...    ...  \n",
       "17373  12.880        60    11.0014     NaN         NaN    NaN  \n",
       "17374  12.880        60    11.0014     NaN         NaN    NaN  \n",
       "17375  12.880        60    11.0014     NaN         NaN    NaN  \n",
       "17376  13.635        56     8.9981     NaN         NaN    NaN  \n",
       "17377  13.635        65     8.9981     NaN         NaN    NaN  \n",
       "\n",
       "[17378 rows x 12 columns]"
      ]
     },
     "execution_count": 5,
     "metadata": {},
     "output_type": "execute_result"
    }
   ],
   "source": [
    "all_data = pd.concat([train, test], ignore_index=True)\n",
    "all_data"
   ]
  },
  {
   "cell_type": "code",
   "execution_count": 6,
   "id": "a85093f7",
   "metadata": {
    "execution": {
     "iopub.execute_input": "2022-11-20T12:17:15.456668Z",
     "iopub.status.busy": "2022-11-20T12:17:15.451279Z",
     "iopub.status.idle": "2022-11-20T12:17:15.693458Z",
     "shell.execute_reply": "2022-11-20T12:17:15.692316Z",
     "shell.execute_reply.started": "2022-11-20T11:39:57.207370Z"
    },
    "papermill": {
     "duration": 0.283176,
     "end_time": "2022-11-20T12:17:15.693921",
     "exception": false,
     "start_time": "2022-11-20T12:17:15.410745",
     "status": "completed"
    },
    "tags": []
   },
   "outputs": [],
   "source": [
    "from datetime import datetime\n",
    "\n",
    "#날짜 피처 생성\n",
    "all_data['date'] = all_data['datetime'].apply(lambda x: x.split()[0])\n",
    "#연도 피처 생성\n",
    "all_data['year'] = all_data['datetime'].apply(lambda x: x.split()[0].split('-')[0])\n",
    "# 월 피처 생성\n",
    "all_data['month'] = all_data['datetime'].apply(lambda x: x.split()[0].split('-')[1])\n",
    "# 시 피처 생성\n",
    "all_data['hour'] = all_data['datetime'].apply(lambda x: x.split()[1].split(':')[0])\n",
    "#요일 피처 생성\n",
    "all_data['weekday'] = all_data['date'].apply(lambda dateString: datetime.strptime(dateString, '%Y-%m-%d').weekday())"
   ]
  },
  {
   "cell_type": "markdown",
   "id": "ff6f8c45",
   "metadata": {
    "papermill": {
     "duration": 0.036679,
     "end_time": "2022-11-20T12:17:15.778213",
     "exception": false,
     "start_time": "2022-11-20T12:17:15.741534",
     "status": "completed"
    },
    "tags": []
   },
   "source": [
    "* 필요 없는 피처 제거"
   ]
  },
  {
   "cell_type": "code",
   "execution_count": 7,
   "id": "b61f696d",
   "metadata": {
    "execution": {
     "iopub.execute_input": "2022-11-20T12:17:15.847281Z",
     "iopub.status.busy": "2022-11-20T12:17:15.846561Z",
     "iopub.status.idle": "2022-11-20T12:17:15.859935Z",
     "shell.execute_reply": "2022-11-20T12:17:15.859372Z",
     "shell.execute_reply.started": "2022-11-20T11:39:57.449982Z"
    },
    "papermill": {
     "duration": 0.051105,
     "end_time": "2022-11-20T12:17:15.860096",
     "exception": false,
     "start_time": "2022-11-20T12:17:15.808991",
     "status": "completed"
    },
    "tags": []
   },
   "outputs": [],
   "source": [
    "drop_features = ['casual', 'registered', 'datetime', 'date', 'windspeed', 'month']\n",
    "all_data = all_data.drop(drop_features, axis=1)"
   ]
  },
  {
   "cell_type": "markdown",
   "id": "7fa956b6",
   "metadata": {
    "papermill": {
     "duration": 0.030654,
     "end_time": "2022-11-20T12:17:15.922057",
     "exception": false,
     "start_time": "2022-11-20T12:17:15.891403",
     "status": "completed"
    },
    "tags": []
   },
   "source": [
    "**피처 선택**  \n",
    "모델링 시 데이터의 특징을 잘 나타내는 주요 피처만 선택하는 작업을 **피처 선택**(feature selection)이라고 한다. 피처 선택은 머신러닝 모델 성능에 큰 영향을 준다. 타깃값 예측과 관련 없는 피처가 많다면 오히려 예측 성능이 떨어진다. 피처 선택 방법에는 정답이 없다. 어떤 피처를 선택해야 성능이 가장 좋을지 바로 알 방법은 없다. 탐색적 데이터 분석, 피처 중요도(feature importance), 상관관계 매트릭스 등을 활용해 종합적으로 판단해야 한다."
   ]
  },
  {
   "cell_type": "markdown",
   "id": "335e3e95",
   "metadata": {
    "papermill": {
     "duration": 0.030401,
     "end_time": "2022-11-20T12:17:15.984260",
     "exception": false,
     "start_time": "2022-11-20T12:17:15.953859",
     "status": "completed"
    },
    "tags": []
   },
   "source": [
    "* 데이터 나누기"
   ]
  },
  {
   "cell_type": "code",
   "execution_count": 8,
   "id": "db5767f6",
   "metadata": {
    "execution": {
     "iopub.execute_input": "2022-11-20T12:17:16.065781Z",
     "iopub.status.busy": "2022-11-20T12:17:16.065046Z",
     "iopub.status.idle": "2022-11-20T12:17:16.069023Z",
     "shell.execute_reply": "2022-11-20T12:17:16.068306Z",
     "shell.execute_reply.started": "2022-11-20T11:39:57.465092Z"
    },
    "papermill": {
     "duration": 0.052262,
     "end_time": "2022-11-20T12:17:16.069183",
     "exception": false,
     "start_time": "2022-11-20T12:17:16.016921",
     "status": "completed"
    },
    "tags": []
   },
   "outputs": [],
   "source": [
    "X_train = all_data[~pd.isnull(all_data['count'])]\n",
    "X_test = all_data[pd.isnull(all_data['count'])]\n",
    "\n",
    "X_train = X_train.drop(['count'], axis=1)\n",
    "X_test = X_test.drop(['count'], axis=1)\n",
    "\n",
    "y = train['count']"
   ]
  },
  {
   "cell_type": "code",
   "execution_count": 9,
   "id": "09512597",
   "metadata": {
    "execution": {
     "iopub.execute_input": "2022-11-20T12:17:16.150267Z",
     "iopub.status.busy": "2022-11-20T12:17:16.149533Z",
     "iopub.status.idle": "2022-11-20T12:17:16.154807Z",
     "shell.execute_reply": "2022-11-20T12:17:16.154206Z",
     "shell.execute_reply.started": "2022-11-20T11:39:57.480014Z"
    },
    "papermill": {
     "duration": 0.053983,
     "end_time": "2022-11-20T12:17:16.154971",
     "exception": false,
     "start_time": "2022-11-20T12:17:16.100988",
     "status": "completed"
    },
    "tags": []
   },
   "outputs": [
    {
     "data": {
      "text/html": [
       "<div>\n",
       "<style scoped>\n",
       "    .dataframe tbody tr th:only-of-type {\n",
       "        vertical-align: middle;\n",
       "    }\n",
       "\n",
       "    .dataframe tbody tr th {\n",
       "        vertical-align: top;\n",
       "    }\n",
       "\n",
       "    .dataframe thead th {\n",
       "        text-align: right;\n",
       "    }\n",
       "</style>\n",
       "<table border=\"1\" class=\"dataframe\">\n",
       "  <thead>\n",
       "    <tr style=\"text-align: right;\">\n",
       "      <th></th>\n",
       "      <th>season</th>\n",
       "      <th>holiday</th>\n",
       "      <th>workingday</th>\n",
       "      <th>weather</th>\n",
       "      <th>temp</th>\n",
       "      <th>atemp</th>\n",
       "      <th>humidity</th>\n",
       "      <th>year</th>\n",
       "      <th>hour</th>\n",
       "      <th>weekday</th>\n",
       "    </tr>\n",
       "  </thead>\n",
       "  <tbody>\n",
       "    <tr>\n",
       "      <th>0</th>\n",
       "      <td>1</td>\n",
       "      <td>0</td>\n",
       "      <td>0</td>\n",
       "      <td>1</td>\n",
       "      <td>9.84</td>\n",
       "      <td>14.395</td>\n",
       "      <td>81</td>\n",
       "      <td>2011</td>\n",
       "      <td>00</td>\n",
       "      <td>5</td>\n",
       "    </tr>\n",
       "    <tr>\n",
       "      <th>1</th>\n",
       "      <td>1</td>\n",
       "      <td>0</td>\n",
       "      <td>0</td>\n",
       "      <td>1</td>\n",
       "      <td>9.02</td>\n",
       "      <td>13.635</td>\n",
       "      <td>80</td>\n",
       "      <td>2011</td>\n",
       "      <td>01</td>\n",
       "      <td>5</td>\n",
       "    </tr>\n",
       "    <tr>\n",
       "      <th>2</th>\n",
       "      <td>1</td>\n",
       "      <td>0</td>\n",
       "      <td>0</td>\n",
       "      <td>1</td>\n",
       "      <td>9.02</td>\n",
       "      <td>13.635</td>\n",
       "      <td>80</td>\n",
       "      <td>2011</td>\n",
       "      <td>02</td>\n",
       "      <td>5</td>\n",
       "    </tr>\n",
       "    <tr>\n",
       "      <th>3</th>\n",
       "      <td>1</td>\n",
       "      <td>0</td>\n",
       "      <td>0</td>\n",
       "      <td>1</td>\n",
       "      <td>9.84</td>\n",
       "      <td>14.395</td>\n",
       "      <td>75</td>\n",
       "      <td>2011</td>\n",
       "      <td>03</td>\n",
       "      <td>5</td>\n",
       "    </tr>\n",
       "    <tr>\n",
       "      <th>4</th>\n",
       "      <td>1</td>\n",
       "      <td>0</td>\n",
       "      <td>0</td>\n",
       "      <td>1</td>\n",
       "      <td>9.84</td>\n",
       "      <td>14.395</td>\n",
       "      <td>75</td>\n",
       "      <td>2011</td>\n",
       "      <td>04</td>\n",
       "      <td>5</td>\n",
       "    </tr>\n",
       "  </tbody>\n",
       "</table>\n",
       "</div>"
      ],
      "text/plain": [
       "   season  holiday  workingday  weather  temp   atemp  humidity  year hour  \\\n",
       "0       1        0           0        1  9.84  14.395        81  2011   00   \n",
       "1       1        0           0        1  9.02  13.635        80  2011   01   \n",
       "2       1        0           0        1  9.02  13.635        80  2011   02   \n",
       "3       1        0           0        1  9.84  14.395        75  2011   03   \n",
       "4       1        0           0        1  9.84  14.395        75  2011   04   \n",
       "\n",
       "   weekday  \n",
       "0        5  \n",
       "1        5  \n",
       "2        5  \n",
       "3        5  \n",
       "4        5  "
      ]
     },
     "execution_count": 9,
     "metadata": {},
     "output_type": "execute_result"
    }
   ],
   "source": [
    "X_train.head()"
   ]
  },
  {
   "cell_type": "markdown",
   "id": "2703cc71",
   "metadata": {
    "papermill": {
     "duration": 0.031218,
     "end_time": "2022-11-20T12:17:16.217714",
     "exception": false,
     "start_time": "2022-11-20T12:17:16.186496",
     "status": "completed"
    },
    "tags": []
   },
   "source": [
    "### 6.4.2 평가지표 계산 함수 작성"
   ]
  },
  {
   "cell_type": "code",
   "execution_count": 10,
   "id": "570d4382",
   "metadata": {
    "execution": {
     "iopub.execute_input": "2022-11-20T12:17:16.292196Z",
     "iopub.status.busy": "2022-11-20T12:17:16.291459Z",
     "iopub.status.idle": "2022-11-20T12:17:16.295133Z",
     "shell.execute_reply": "2022-11-20T12:17:16.294466Z",
     "shell.execute_reply.started": "2022-11-20T11:39:57.498632Z"
    },
    "papermill": {
     "duration": 0.044367,
     "end_time": "2022-11-20T12:17:16.295296",
     "exception": false,
     "start_time": "2022-11-20T12:17:16.250929",
     "status": "completed"
    },
    "tags": []
   },
   "outputs": [],
   "source": [
    "import numpy as np\n",
    "\n",
    "def rmsle(y_true, y_pred, convertExp=True):\n",
    "    # 지수 변환\n",
    "    if convertExp:\n",
    "        y_true = np.exp(y_true)\n",
    "        y_pred = np.exp(y_pred)\n",
    "    \n",
    "    # 로그변환 후 결측값을 0으로 변환\n",
    "    log_true = np.nan_to_num(np.log(y_true + 1))\n",
    "    log_pred = np.nan_to_num(np.log(y_pred + 1))\n",
    "    \n",
    "    #RMSLE 계산\n",
    "    output = np.sqrt(np.mean((log_true - log_pred) ** 2))\n",
    "    return output\n",
    "    "
   ]
  },
  {
   "cell_type": "markdown",
   "id": "48fc55a2",
   "metadata": {
    "papermill": {
     "duration": 0.031915,
     "end_time": "2022-11-20T12:17:16.359992",
     "exception": false,
     "start_time": "2022-11-20T12:17:16.328077",
     "status": "completed"
    },
    "tags": []
   },
   "source": [
    "### 6.4.3 모델 훈련"
   ]
  },
  {
   "cell_type": "code",
   "execution_count": 11,
   "id": "c144c907",
   "metadata": {
    "execution": {
     "iopub.execute_input": "2022-11-20T12:17:16.429363Z",
     "iopub.status.busy": "2022-11-20T12:17:16.428632Z",
     "iopub.status.idle": "2022-11-20T12:17:17.519813Z",
     "shell.execute_reply": "2022-11-20T12:17:17.518846Z",
     "shell.execute_reply.started": "2022-11-20T11:39:57.510110Z"
    },
    "papermill": {
     "duration": 1.128259,
     "end_time": "2022-11-20T12:17:17.519982",
     "exception": false,
     "start_time": "2022-11-20T12:17:16.391723",
     "status": "completed"
    },
    "tags": []
   },
   "outputs": [],
   "source": [
    "from sklearn.linear_model import LinearRegression\n",
    "\n",
    "linear_reg_model = LinearRegression()"
   ]
  },
  {
   "cell_type": "code",
   "execution_count": 12,
   "id": "acbb049e",
   "metadata": {
    "execution": {
     "iopub.execute_input": "2022-11-20T12:17:17.594700Z",
     "iopub.status.busy": "2022-11-20T12:17:17.593981Z",
     "iopub.status.idle": "2022-11-20T12:17:17.633007Z",
     "shell.execute_reply": "2022-11-20T12:17:17.634147Z",
     "shell.execute_reply.started": "2022-11-20T11:39:57.526637Z"
    },
    "papermill": {
     "duration": 0.080604,
     "end_time": "2022-11-20T12:17:17.634512",
     "exception": false,
     "start_time": "2022-11-20T12:17:17.553908",
     "status": "completed"
    },
    "tags": []
   },
   "outputs": [
    {
     "data": {
      "text/plain": [
       "LinearRegression()"
      ]
     },
     "execution_count": 12,
     "metadata": {},
     "output_type": "execute_result"
    }
   ],
   "source": [
    "\n",
    "log_y = np.log(y) #타깃값 로그 변환\n",
    "linear_reg_model.fit(X_train, log_y) #모델 훈련"
   ]
  },
  {
   "cell_type": "markdown",
   "id": "ece179cb",
   "metadata": {
    "papermill": {
     "duration": 0.045142,
     "end_time": "2022-11-20T12:17:17.762763",
     "exception": false,
     "start_time": "2022-11-20T12:17:17.717621",
     "status": "completed"
    },
    "tags": []
   },
   "source": [
    "### 6.4.4 모델 성능 검증"
   ]
  },
  {
   "cell_type": "code",
   "execution_count": 13,
   "id": "75d0564b",
   "metadata": {
    "execution": {
     "iopub.execute_input": "2022-11-20T12:17:17.835095Z",
     "iopub.status.busy": "2022-11-20T12:17:17.833992Z",
     "iopub.status.idle": "2022-11-20T12:17:17.847092Z",
     "shell.execute_reply": "2022-11-20T12:17:17.848545Z",
     "shell.execute_reply.started": "2022-11-20T11:39:57.562072Z"
    },
    "papermill": {
     "duration": 0.053585,
     "end_time": "2022-11-20T12:17:17.848967",
     "exception": false,
     "start_time": "2022-11-20T12:17:17.795382",
     "status": "completed"
    },
    "tags": []
   },
   "outputs": [],
   "source": [
    "preds = linear_reg_model.predict(X_train)"
   ]
  },
  {
   "cell_type": "code",
   "execution_count": 14,
   "id": "718698aa",
   "metadata": {
    "execution": {
     "iopub.execute_input": "2022-11-20T12:17:17.987383Z",
     "iopub.status.busy": "2022-11-20T12:17:17.986735Z",
     "iopub.status.idle": "2022-11-20T12:17:17.992105Z",
     "shell.execute_reply": "2022-11-20T12:17:17.992709Z",
     "shell.execute_reply.started": "2022-11-20T11:39:57.585724Z"
    },
    "papermill": {
     "duration": 0.062914,
     "end_time": "2022-11-20T12:17:17.992953",
     "exception": false,
     "start_time": "2022-11-20T12:17:17.930039",
     "status": "completed"
    },
    "tags": []
   },
   "outputs": [
    {
     "name": "stdout",
     "output_type": "stream",
     "text": [
      "선형 회귀의 rmsle 값:  1.0205\n"
     ]
    }
   ],
   "source": [
    "print(f'선형 회귀의 rmsle 값: {rmsle(log_y, preds, True): .4f}')"
   ]
  },
  {
   "cell_type": "markdown",
   "id": "2a29528e",
   "metadata": {
    "papermill": {
     "duration": 0.033135,
     "end_time": "2022-11-20T12:17:18.060250",
     "exception": false,
     "start_time": "2022-11-20T12:17:18.027115",
     "status": "completed"
    },
    "tags": []
   },
   "source": [
    "### 6.4.5 예측 및 결과 제출"
   ]
  },
  {
   "cell_type": "code",
   "execution_count": 15,
   "id": "3b379f5a",
   "metadata": {
    "execution": {
     "iopub.execute_input": "2022-11-20T12:17:18.131651Z",
     "iopub.status.busy": "2022-11-20T12:17:18.130942Z",
     "iopub.status.idle": "2022-11-20T12:17:18.201988Z",
     "shell.execute_reply": "2022-11-20T12:17:18.203130Z",
     "shell.execute_reply.started": "2022-11-20T11:39:57.600274Z"
    },
    "papermill": {
     "duration": 0.110991,
     "end_time": "2022-11-20T12:17:18.203483",
     "exception": false,
     "start_time": "2022-11-20T12:17:18.092492",
     "status": "completed"
    },
    "tags": []
   },
   "outputs": [],
   "source": [
    "linearreg_preds = linear_reg_model.predict(X_test) #테스트 데이터로 예측\n",
    "submission['count'] = np.exp(linearreg_preds) # 지수 변환\n",
    "submission.to_csv('submission.csv', index=False)"
   ]
  },
  {
   "cell_type": "markdown",
   "id": "b501971f",
   "metadata": {
    "papermill": {
     "duration": 0.032294,
     "end_time": "2022-11-20T12:17:18.304417",
     "exception": false,
     "start_time": "2022-11-20T12:17:18.272123",
     "status": "completed"
    },
    "tags": []
   },
   "source": [
    "## 6.5 성능 개선1: 릿지 회귀 모델"
   ]
  },
  {
   "cell_type": "markdown",
   "id": "b9a7ef98",
   "metadata": {
    "papermill": {
     "duration": 0.033112,
     "end_time": "2022-11-20T12:17:18.369976",
     "exception": false,
     "start_time": "2022-11-20T12:17:18.336864",
     "status": "completed"
    },
    "tags": []
   },
   "source": [
    "* 릿지 회귀 모델은 L2 규제를 적용한 회귀 모델이다. **규제**(regularization)란 모델이 훈련 데이터에 과대적합(overfitting)되지 않도록 해주는 방법이다. 훈련 데이터에 과댁적합되면 모델이 훈련 데이터에만 너무 잘 들어맞고, 테스트 데이터로는 제대로 예측하지 못한다. "
   ]
  },
  {
   "cell_type": "markdown",
   "id": "82cb5da5",
   "metadata": {
    "papermill": {
     "duration": 0.033986,
     "end_time": "2022-11-20T12:17:18.437300",
     "exception": false,
     "start_time": "2022-11-20T12:17:18.403314",
     "status": "completed"
    },
    "tags": []
   },
   "source": [
    "### 6.5.1 하이퍼파라미터 최적화(모델 훈련)"
   ]
  },
  {
   "cell_type": "markdown",
   "id": "8421e4de",
   "metadata": {
    "papermill": {
     "duration": 0.033083,
     "end_time": "2022-11-20T12:17:18.504845",
     "exception": false,
     "start_time": "2022-11-20T12:17:18.471762",
     "status": "completed"
    },
    "tags": []
   },
   "source": [
    "* 모델 생성"
   ]
  },
  {
   "cell_type": "code",
   "execution_count": 16,
   "id": "6603d320",
   "metadata": {
    "execution": {
     "iopub.execute_input": "2022-11-20T12:17:18.576979Z",
     "iopub.status.busy": "2022-11-20T12:17:18.576276Z",
     "iopub.status.idle": "2022-11-20T12:17:18.579880Z",
     "shell.execute_reply": "2022-11-20T12:17:18.579279Z",
     "shell.execute_reply.started": "2022-11-20T11:55:39.680231Z"
    },
    "papermill": {
     "duration": 0.042977,
     "end_time": "2022-11-20T12:17:18.580030",
     "exception": false,
     "start_time": "2022-11-20T12:17:18.537053",
     "status": "completed"
    },
    "tags": []
   },
   "outputs": [],
   "source": [
    "from sklearn.linear_model import Ridge\n",
    "from sklearn.model_selection import GridSearchCV\n",
    "from sklearn import metrics\n",
    "\n",
    "ridge_model = Ridge()"
   ]
  },
  {
   "cell_type": "code",
   "execution_count": 17,
   "id": "bd821906",
   "metadata": {
    "execution": {
     "iopub.execute_input": "2022-11-20T12:17:18.649157Z",
     "iopub.status.busy": "2022-11-20T12:17:18.648430Z",
     "iopub.status.idle": "2022-11-20T12:17:18.654889Z",
     "shell.execute_reply": "2022-11-20T12:17:18.655376Z",
     "shell.execute_reply.started": "2022-11-20T11:58:27.528468Z"
    },
    "papermill": {
     "duration": 0.043088,
     "end_time": "2022-11-20T12:17:18.655593",
     "exception": false,
     "start_time": "2022-11-20T12:17:18.612505",
     "status": "completed"
    },
    "tags": []
   },
   "outputs": [],
   "source": [
    "# 하이퍼파라미터 값 목록\n",
    "ridge_params = {'max_iter': [3000], 'alpha': [0.1, 1, 2, 3, 4, 10, 30, 100, 200, 300, 400, 800, 900, 1000]}\n",
    "\n",
    "# 교차 검증용 평가 함수(RMSLE 점수 계산)\n",
    "rmsle_scorer = metrics.make_scorer(rmsle, greater_is_better=False)\n",
    "\n",
    "# 그리드서치(with 릿지) 객체 생성\n",
    "gridsearch_ridge_model = GridSearchCV(estimator=ridge_model,\n",
    "                                      param_grid=ridge_params,\n",
    "                                      scoring=rmsle_scorer,\n",
    "                                      cv=5)"
   ]
  },
  {
   "cell_type": "code",
   "execution_count": 18,
   "id": "fd95c50e",
   "metadata": {
    "execution": {
     "iopub.execute_input": "2022-11-20T12:17:18.726752Z",
     "iopub.status.busy": "2022-11-20T12:17:18.726031Z",
     "iopub.status.idle": "2022-11-20T12:17:21.668439Z",
     "shell.execute_reply": "2022-11-20T12:17:21.669521Z",
     "shell.execute_reply.started": "2022-11-20T11:59:27.484855Z"
    },
    "papermill": {
     "duration": 2.997185,
     "end_time": "2022-11-20T12:17:21.685131",
     "exception": false,
     "start_time": "2022-11-20T12:17:18.687946",
     "status": "completed"
    },
    "tags": []
   },
   "outputs": [
    {
     "data": {
      "text/plain": [
       "GridSearchCV(cv=5, estimator=Ridge(),\n",
       "             param_grid={'alpha': [0.1, 1, 2, 3, 4, 10, 30, 100, 200, 300, 400,\n",
       "                                   800, 900, 1000],\n",
       "                         'max_iter': [3000]},\n",
       "             scoring=make_scorer(rmsle, greater_is_better=False))"
      ]
     },
     "execution_count": 18,
     "metadata": {},
     "output_type": "execute_result"
    }
   ],
   "source": [
    "log_y = np.log(y)\n",
    "gridsearch_ridge_model.fit(X_train, log_y)"
   ]
  },
  {
   "cell_type": "code",
   "execution_count": 19,
   "id": "6736b26d",
   "metadata": {
    "execution": {
     "iopub.execute_input": "2022-11-20T12:17:21.808087Z",
     "iopub.status.busy": "2022-11-20T12:17:21.807148Z",
     "iopub.status.idle": "2022-11-20T12:17:21.810955Z",
     "shell.execute_reply": "2022-11-20T12:17:21.811698Z",
     "shell.execute_reply.started": "2022-11-20T12:00:03.215269Z"
    },
    "papermill": {
     "duration": 0.043211,
     "end_time": "2022-11-20T12:17:21.811962",
     "exception": false,
     "start_time": "2022-11-20T12:17:21.768751",
     "status": "completed"
    },
    "tags": []
   },
   "outputs": [
    {
     "name": "stdout",
     "output_type": "stream",
     "text": [
      "최적 하이퍼파라미터 : {'alpha': 0.1, 'max_iter': 3000}\n"
     ]
    }
   ],
   "source": [
    "print('최적 하이퍼파라미터 :', gridsearch_ridge_model.best_params_)"
   ]
  },
  {
   "cell_type": "markdown",
   "id": "441dc075",
   "metadata": {
    "papermill": {
     "duration": 0.033989,
     "end_time": "2022-11-20T12:17:21.881234",
     "exception": false,
     "start_time": "2022-11-20T12:17:21.847245",
     "status": "completed"
    },
    "tags": []
   },
   "source": [
    "### 6.5.2 성능 검증"
   ]
  },
  {
   "cell_type": "code",
   "execution_count": 20,
   "id": "257539b0",
   "metadata": {
    "execution": {
     "iopub.execute_input": "2022-11-20T12:17:21.954323Z",
     "iopub.status.busy": "2022-11-20T12:17:21.953184Z",
     "iopub.status.idle": "2022-11-20T12:17:21.980242Z",
     "shell.execute_reply": "2022-11-20T12:17:21.981351Z",
     "shell.execute_reply.started": "2022-11-20T12:01:20.511443Z"
    },
    "papermill": {
     "duration": 0.066347,
     "end_time": "2022-11-20T12:17:21.981763",
     "exception": false,
     "start_time": "2022-11-20T12:17:21.915416",
     "status": "completed"
    },
    "tags": []
   },
   "outputs": [
    {
     "name": "stdout",
     "output_type": "stream",
     "text": [
      "릿지 회귀 RMSLE 값 : 1.0205\n"
     ]
    }
   ],
   "source": [
    "# 예측\n",
    "preds = gridsearch_ridge_model.best_estimator_.predict(X_train)\n",
    "\n",
    "# 평가\n",
    "print(f'릿지 회귀 RMSLE 값 : {rmsle(log_y, preds, True):.4f}')"
   ]
  },
  {
   "cell_type": "markdown",
   "id": "7e638630",
   "metadata": {
    "papermill": {
     "duration": 0.05404,
     "end_time": "2022-11-20T12:17:22.111284",
     "exception": false,
     "start_time": "2022-11-20T12:17:22.057244",
     "status": "completed"
    },
    "tags": []
   },
   "source": [
    "## 6.6 성능개선2: 라쏘 회귀 모델"
   ]
  },
  {
   "cell_type": "markdown",
   "id": "48f148cf",
   "metadata": {
    "papermill": {
     "duration": 0.034431,
     "end_time": "2022-11-20T12:17:22.182792",
     "exception": false,
     "start_time": "2022-11-20T12:17:22.148361",
     "status": "completed"
    },
    "tags": []
   },
   "source": [
    "* 라쏘 회귀 모델은 L1 규제를 적용한 선형 회귀 모델이다."
   ]
  },
  {
   "cell_type": "markdown",
   "id": "95281efd",
   "metadata": {
    "papermill": {
     "duration": 0.036636,
     "end_time": "2022-11-20T12:17:22.255266",
     "exception": false,
     "start_time": "2022-11-20T12:17:22.218630",
     "status": "completed"
    },
    "tags": []
   },
   "source": [
    "### 6.6.1 하이퍼파라미터 최적화(모델 훈련)"
   ]
  },
  {
   "cell_type": "code",
   "execution_count": 21,
   "id": "e9f66b1e",
   "metadata": {
    "execution": {
     "iopub.execute_input": "2022-11-20T12:17:22.336779Z",
     "iopub.status.busy": "2022-11-20T12:17:22.335530Z",
     "iopub.status.idle": "2022-11-20T12:17:26.356058Z",
     "shell.execute_reply": "2022-11-20T12:17:26.357362Z",
     "shell.execute_reply.started": "2022-11-20T12:05:31.321360Z"
    },
    "papermill": {
     "duration": 4.068206,
     "end_time": "2022-11-20T12:17:26.357833",
     "exception": false,
     "start_time": "2022-11-20T12:17:22.289627",
     "status": "completed"
    },
    "tags": []
   },
   "outputs": [
    {
     "name": "stdout",
     "output_type": "stream",
     "text": [
      "최적 하이퍼파라미터 : {'alpha': 0.00125, 'max_iter': 3000}\n"
     ]
    }
   ],
   "source": [
    "from sklearn.linear_model import Lasso\n",
    "\n",
    "# 모델 생성\n",
    "lasso_model = Lasso()\n",
    "# 하이퍼파라미터 값 목록\n",
    "lasso_alpha = 1/np.array([0.1, 1, 2, 3, 4, 10, 30, 100, 200, 300, 400, 800, 900, 1000])\n",
    "lasso_params = {'max_iter': [3000], 'alpha': lasso_alpha}\n",
    "# 그리드서치(with 라쏘) 객체 생성\n",
    "gridsearch_lasso_model = GridSearchCV(estimator=lasso_model,\n",
    "                                      param_grid=lasso_params,\n",
    "                                      scoring=rmsle_scorer,\n",
    "                                      cv=5)\n",
    "\n",
    "# 그리드 서치 수행\n",
    "log_y = np.log(y)\n",
    "gridsearch_lasso_model.fit(X_train, log_y)\n",
    "\n",
    "print('최적 하이퍼파라미터 :', gridsearch_lasso_model.best_params_)"
   ]
  },
  {
   "cell_type": "markdown",
   "id": "709cc99f",
   "metadata": {
    "papermill": {
     "duration": 0.04891,
     "end_time": "2022-11-20T12:17:26.493480",
     "exception": false,
     "start_time": "2022-11-20T12:17:26.444570",
     "status": "completed"
    },
    "tags": []
   },
   "source": [
    "### 6.6.2 성능 검증"
   ]
  },
  {
   "cell_type": "code",
   "execution_count": 22,
   "id": "92c3beb4",
   "metadata": {
    "execution": {
     "iopub.execute_input": "2022-11-20T12:17:26.569221Z",
     "iopub.status.busy": "2022-11-20T12:17:26.568453Z",
     "iopub.status.idle": "2022-11-20T12:17:26.587827Z",
     "shell.execute_reply": "2022-11-20T12:17:26.589010Z",
     "shell.execute_reply.started": "2022-11-20T12:06:45.902873Z"
    },
    "papermill": {
     "duration": 0.061529,
     "end_time": "2022-11-20T12:17:26.589398",
     "exception": false,
     "start_time": "2022-11-20T12:17:26.527869",
     "status": "completed"
    },
    "tags": []
   },
   "outputs": [
    {
     "name": "stdout",
     "output_type": "stream",
     "text": [
      "라쏘 회귀 RMSLE 값 : 1.0205\n"
     ]
    }
   ],
   "source": [
    "# 예측\n",
    "preds = gridsearch_lasso_model.best_estimator_.predict(X_train)\n",
    "# 평가\n",
    "print(f'라쏘 회귀 RMSLE 값 : {rmsle(log_y, preds, True):.4f}')"
   ]
  },
  {
   "cell_type": "markdown",
   "id": "e1607568",
   "metadata": {
    "papermill": {
     "duration": 0.054611,
     "end_time": "2022-11-20T12:17:26.755788",
     "exception": false,
     "start_time": "2022-11-20T12:17:26.701177",
     "status": "completed"
    },
    "tags": []
   },
   "source": [
    "## 6.7 성능 개선3: 랜덤 포레스트 회귀 모델"
   ]
  },
  {
   "cell_type": "markdown",
   "id": "1b9c1f49",
   "metadata": {
    "papermill": {
     "duration": 0.035205,
     "end_time": "2022-11-20T12:17:26.835448",
     "exception": false,
     "start_time": "2022-11-20T12:17:26.800243",
     "status": "completed"
    },
    "tags": []
   },
   "source": [
    "### 6.7.1 하이퍼파라미터 최적화(모델 훈련)"
   ]
  },
  {
   "cell_type": "code",
   "execution_count": 23,
   "id": "6e263c48",
   "metadata": {
    "execution": {
     "iopub.execute_input": "2022-11-20T12:17:26.911718Z",
     "iopub.status.busy": "2022-11-20T12:17:26.910958Z",
     "iopub.status.idle": "2022-11-20T12:18:23.117141Z",
     "shell.execute_reply": "2022-11-20T12:18:23.117779Z",
     "shell.execute_reply.started": "2022-11-20T12:10:55.008479Z"
    },
    "papermill": {
     "duration": 56.248095,
     "end_time": "2022-11-20T12:18:23.118056",
     "exception": false,
     "start_time": "2022-11-20T12:17:26.869961",
     "status": "completed"
    },
    "tags": []
   },
   "outputs": [
    {
     "name": "stdout",
     "output_type": "stream",
     "text": [
      "최적 하이퍼파라미터 : {'n_estimators': 140, 'random_state': 42}\n"
     ]
    }
   ],
   "source": [
    "from sklearn.ensemble import RandomForestRegressor\n",
    "\n",
    "randomforest_model = RandomForestRegressor()\n",
    "\n",
    "# 그리드서치 객체 생성\n",
    "rf_params = {'random_state': [42], 'n_estimators':[100, 120, 140]}\n",
    "gridsearch_random_forest_model = GridSearchCV(estimator=randomforest_model, param_grid=rf_params, scoring=rmsle_scorer, cv=5)\n",
    "\n",
    "# 그리드서치 수행\n",
    "log_y = np.log(y)\n",
    "gridsearch_random_forest_model.fit(X_train, log_y)\n",
    "print('최적 하이퍼파라미터 :', gridsearch_random_forest_model.best_params_)"
   ]
  },
  {
   "cell_type": "code",
   "execution_count": 24,
   "id": "660b23cd",
   "metadata": {
    "execution": {
     "iopub.execute_input": "2022-11-20T12:18:23.196402Z",
     "iopub.status.busy": "2022-11-20T12:18:23.195649Z",
     "iopub.status.idle": "2022-11-20T12:18:23.487798Z",
     "shell.execute_reply": "2022-11-20T12:18:23.488331Z",
     "shell.execute_reply.started": "2022-11-20T12:12:02.064194Z"
    },
    "papermill": {
     "duration": 0.335247,
     "end_time": "2022-11-20T12:18:23.488537",
     "exception": false,
     "start_time": "2022-11-20T12:18:23.153290",
     "status": "completed"
    },
    "tags": []
   },
   "outputs": [
    {
     "name": "stdout",
     "output_type": "stream",
     "text": [
      "랜덤 포레스트 회귀 RMSLE 값 : 0.1126\n"
     ]
    }
   ],
   "source": [
    "# 예측\n",
    "preds = gridsearch_random_forest_model.best_estimator_.predict(X_train)\n",
    "# 평가\n",
    "print(f'랜덤 포레스트 회귀 RMSLE 값 : {rmsle(log_y, preds, True):.4f}')"
   ]
  },
  {
   "cell_type": "markdown",
   "id": "dc7eca2d",
   "metadata": {
    "papermill": {
     "duration": 0.033976,
     "end_time": "2022-11-20T12:18:23.557324",
     "exception": false,
     "start_time": "2022-11-20T12:18:23.523348",
     "status": "completed"
    },
    "tags": []
   },
   "source": [
    "### 6.7.3 예측 및 결과 제출"
   ]
  },
  {
   "cell_type": "code",
   "execution_count": 25,
   "id": "5b00aae4",
   "metadata": {
    "execution": {
     "iopub.execute_input": "2022-11-20T12:18:23.629940Z",
     "iopub.status.busy": "2022-11-20T12:18:23.628853Z",
     "iopub.status.idle": "2022-11-20T12:18:24.847463Z",
     "shell.execute_reply": "2022-11-20T12:18:24.847994Z",
     "shell.execute_reply.started": "2022-11-20T12:15:48.720489Z"
    },
    "papermill": {
     "duration": 1.256629,
     "end_time": "2022-11-20T12:18:24.848176",
     "exception": false,
     "start_time": "2022-11-20T12:18:23.591547",
     "status": "completed"
    },
    "scrolled": true,
    "tags": []
   },
   "outputs": [
    {
     "data": {
      "image/png": "[encoded data removed]",
      "text/plain": [
       "<Figure size 720x288 with 2 Axes>"
      ]
     },
     "metadata": {
      "needs_background": "light"
     },
     "output_type": "display_data"
    }
   ],
   "source": [
    "import seaborn as sns\n",
    "import matplotlib.pyplot as plt\n",
    "\n",
    "\n",
    "randomforest_preds = gridsearch_random_forest_model.best_estimator_.predict(X_test)\n",
    "\n",
    "figure, axes = plt.subplots(ncols=2)\n",
    "figure.set_size_inches(10, 4)\n",
    "\n",
    "sns.histplot(y, bins=50, ax=axes[0])\n",
    "axes[0].set_title('Train Data Distribution')\n",
    "sns.histplot(np.exp(randomforest_preds), bins=50, ax=axes[1])\n",
    "axes[1].set_title('Predicted Test Data Distribution');"
   ]
  },
  {
   "cell_type": "code",
   "execution_count": 26,
   "id": "0803dd9a",
   "metadata": {
    "execution": {
     "iopub.execute_input": "2022-11-20T12:18:24.931781Z",
     "iopub.status.busy": "2022-11-20T12:18:24.929860Z",
     "iopub.status.idle": "2022-11-20T12:18:24.957968Z",
     "shell.execute_reply": "2022-11-20T12:18:24.957263Z",
     "shell.execute_reply.started": "2022-11-20T12:16:41.361830Z"
    },
    "papermill": {
     "duration": 0.069808,
     "end_time": "2022-11-20T12:18:24.958187",
     "exception": false,
     "start_time": "2022-11-20T12:18:24.888379",
     "status": "completed"
    },
    "tags": []
   },
   "outputs": [],
   "source": [
    "submission['count'] = np.exp(randomforest_preds) # 지수 변환\n",
    "submission.to_csv('submission.csv', index=False)\n"
   ]
  },
  {
   "cell_type": "code",
   "execution_count": null,
   "id": "135c6be7",
   "metadata": {
    "papermill": {
     "duration": 0.037488,
     "end_time": "2022-11-20T12:18:25.032894",
     "exception": false,
     "start_time": "2022-11-20T12:18:24.995406",
     "status": "completed"
    },
    "tags": []
   },
   "outputs": [],
   "source": []
  }
 ],
 "metadata": {
  "kernelspec": {
   "display_name": "Python 3",
   "language": "python",
   "name": "python3"
  },
  "language_info": {
   "codemirror_mode": {
    "name": "ipython",
    "version": 3
   },
   "file_extension": ".py",
   "mimetype": "text/x-python",
   "name": "python",
   "nbconvert_exporter": "python",
   "pygments_lexer": "ipython3",
   "version": "3.7.10"
  },
  "papermill": {
   "default_parameters": {},
   "duration": 81.014892,
   "end_time": "2022-11-20T12:18:26.770018",
   "environment_variables": {},
   "exception": null,
   "input_path": "__notebook__.ipynb",
   "output_path": "__notebook__.ipynb",
   "parameters": {},
   "start_time": "2022-11-20T12:17:05.755126",
   "version": "2.3.3"
  }
 },
 "nbformat": 4,
 "nbformat_minor": 5
}
