{
 "cells": [
  {
   "cell_type": "markdown",
   "metadata": {},
   "source": [
    "## 3.1 머신러닝 문제해결 프로세스"
   ]
  },
  {
   "cell_type": "markdown",
   "metadata": {},
   "source": [
    "* 문제(경진대회) 이해 : 어떤 일이든 주어진 문제를 이해하는 데서 시작해야 한다. 문제를 정확하게 이해해야 목표점을 정확히 설정할 수 있다.\n",
    "* 탐색적 데이터 분석(Exploratory Data Analysis) :주어진 데이터를 면밀히 분석한다. 머신러닝은 결국 데이터를 다루는 기술이므로 데이터를 잘 알아야 다음 단계에서 가장 효과적인 모델을 찾고 최적화 할 수 있다.\n",
    "* (데이터 전처리) : 머신러닝에 이용되는 현실 세계 데이터에는 다양한 잡음이 섞여 있고 형태도 일정하지 않아서 솎아주거나 형태를 일치시키는 등의 전처리 작업을 해줘야 한다. 다만 캐글 경진대회들은 대부분 전처리가 상당 수준 이루어진 데이터를 제공하므로 이 책에서는 전처리 단계를 따로 구분해 설명하지 않는다.\n",
    "* 베이스라인 모델\n",
    "* 성능 개선"
   ]
  },
  {
   "cell_type": "markdown",
   "metadata": {},
   "source": [
    "## 3.2 딥러닝 문제해결 프로세스"
   ]
  },
  {
   "cell_type": "code",
   "execution_count": null,
   "metadata": {},
   "outputs": [],
   "source": []
  }
 ],
 "metadata": {
  "kernelspec": {
   "display_name": "Python 3.8.13 ('myenv1')",
   "language": "python",
   "name": "python3"
  },
  "language_info": {
   "name": "python",
   "version": "3.8.13"
  },
  "orig_nbformat": 4,
  "vscode": {
   "interpreter": {
    "hash": "e1acd79579433d099a774017ba86d1314ddef5b0bdc137c47399c89169a3fec8"
   }
  }
 },
 "nbformat": 4,
 "nbformat_minor": 2
}
