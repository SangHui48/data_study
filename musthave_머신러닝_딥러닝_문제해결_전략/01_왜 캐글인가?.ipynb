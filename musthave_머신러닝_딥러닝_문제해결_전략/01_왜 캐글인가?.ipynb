{
 "cells": [
  {
   "cell_type": "markdown",
   "metadata": {},
   "source": [
    "* 캐글은 데이터 과학 및 머신러닝 역량을 키우기에 굉장히 훌륭한 플랫폼이다.\n",
    "* 경진대회, 데이터셋, 노트북, 토론 섹션으로 구성되어 있고 각 섹션마다 메달을 취득하여 등급을 올릴 수 있다.\n",
    "* 메달은 동메달, 은메달, 금메달로 나뉘고, 등급은 Novice, Contributor, Expert, Master, GrandMaster로 나뉜다.\n",
    "* 개인이 접할 수 없는 기업 데이터를 분석할 수 있고, 전 세계 유능한 데이터 과학자와 커뮤니케이션 할 수 있다."
   ]
  },
  {
   "cell_type": "markdown",
   "metadata": {},
   "source": []
  }
 ],
 "metadata": {
  "kernelspec": {
   "display_name": "Python 3.8.13 ('myenv1')",
   "language": "python",
   "name": "python3"
  },
  "language_info": {
   "name": "python",
   "version": "3.8.13"
  },
  "orig_nbformat": 4,
  "vscode": {
   "interpreter": {
    "hash": "e1acd79579433d099a774017ba86d1314ddef5b0bdc137c47399c89169a3fec8"
   }
  }
 },
 "nbformat": 4,
 "nbformat_minor": 2
}
