{
 "cells": [
  {
   "cell_type": "markdown",
   "metadata": {},
   "source": [
    "* 정밀도  \n",
    "정밀도(precision)는 양성 예측의 정확도를 의미.  \n",
    "$TP \\over TP + FP$ . \n",
    "정밀도는 음성을 양성으로 잘못 판단하면 문제가 되는 경우가 사용한다. 예를 들어 스팸 메일 필터링 시스템에서 스팸메일을 양성, 일반 메일을 음성이라고 할때, 스팸을 일반메일로 잘못 판단하는 경우(FP)는 필터링을 제대로 못해줫네 지우면 끝이지만,  \n",
    "반대의 경우 실제 일반메일인데 스팸메일로 잘못 판단한 경우(FN) 업무상 중요한 메일을 받지 못할 수 있습니다.  \n",
    "참고로 검출하기 원하는 상태를 보통 양성으로 놓는 경우가 많다. 내가 더 중요하게 봐야할 부분에 맞는 평가 지표를 고르는 것이 중요한것 같다."
   ]
  },
  {
   "cell_type": "markdown",
   "metadata": {},
   "source": [
    "* 재현율  \n",
    "재현율(recall) 은 실제 양성 값(TP + FN)중 양성으로 잘 예측한 값(TP)의 비율. 민감도라고도 하고 TPR이라고도 한다.  \n",
    "$TP \\over TP + FN$  \n",
    "재현율은 양성을 음성으로 잘못 판단하면 문제가 되는 경우 사용한다. 암을 진단하는 상황을 예로 들면 암인데(양성) 암이 아니라고 진단하면 큰 문제가 발생한다. 반대로 암이 아닌데(음성) 암이라고 판단하면 치료비의 낭비 뭐 이런일은 있을수 있지만 솔직히 생명에 지장까지 없을 것.  \n"
   ]
  },
  {
   "cell_type": "markdown",
   "metadata": {},
   "source": [
    "* F1 점수\n",
    "F1 점수(F1 score)는 정밀도와 재현율을 조합한 평가지표이다."
   ]
  },
  {
   "cell_type": "markdown",
   "metadata": {},
   "source": [
    "* 참 음성비율(TNR)은 음성을 얼마나 정확히 예측하는지 나타내는 지표. 특이도(specificity)라고도 한다.\n",
    "## $TN \\over TN + FP$ . \n",
    "FPR은 1 - TNR이다. 즉  \n",
    "## $FP \\over TN + FP$"
   ]
  }
 ],
 "metadata": {
  "kernelspec": {
   "display_name": "Python 3.8.9 64-bit",
   "language": "python",
   "name": "python3"
  },
  "language_info": {
   "name": "python",
   "version": "3.8.9"
  },
  "orig_nbformat": 4,
  "vscode": {
   "interpreter": {
    "hash": "31f2aee4e71d21fbe5cf8b01ff0e069b9275f58929596ceb00d14d90e3e16cd6"
   }
  }
 },
 "nbformat": 4,
 "nbformat_minor": 2
}
