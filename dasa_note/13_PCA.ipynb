{
 "cells": [
  {
   "cell_type": "markdown",
   "metadata": {},
   "source": [
    "* PCA(Principal Component Analysis)\n",
    "* 장점\n",
    "    * 다차원을 2차원에 적합하도록 차원 축소하여 시각화에 유용하다.\n",
    "    * 변수 간의 높은 상관관계 문제를 해결해준다.\n",
    "* 단점\n",
    "    * 기존 변수가 아닌 새로운 변수를 사용하여 해석하는데 어려움이 있다.\n",
    "    * 차원이 축소됨에 따라 정보 손실이 불가피하다.\n",
    "* 유용한 곳\n",
    "    * 다차원 변수들을 2차원 그래프로 표현하는데 사용할 수 있다.\n",
    "    * 변수가 너무 많아 모델 학습에 시간이 너무 오래 걸릴 때(차원 축소를 진행하면 학습에 드는 시간을 줄일 수 있어) 유용하다.\n",
    "    * 오버피팅을 방지하는 용도로 사용할 수 있다."
   ]
  },
  {
   "cell_type": "markdown",
   "metadata": {},
   "source": [
    "## 13.1 차원을 축소해서 그래프 그리기: 고객 데이터셋"
   ]
  },
  {
   "cell_type": "markdown",
   "metadata": {},
   "source": [
    "### 13.1.1 문제 정의: 한눈에 보는 예측 목표\n",
    "\n",
    "* 미션: 데이터의 차원을 축소하여 이해하기 쉽게 시각화하라.\n",
    "* 알고리즘 : 주성분 \n",
    "* 문제유형 : 비지도 학습\n",
    "* 평가 지표 : 기존 분산 반영 비율"
   ]
  },
  {
   "cell_type": "markdown",
   "metadata": {},
   "source": [
    "### 13.1.2 라이브러리 및 데이터 불러오기"
   ]
  },
  {
   "cell_type": "code",
   "execution_count": 1,
   "metadata": {},
   "outputs": [],
   "source": [
    "import pandas as pd\n",
    "import numpy as np\n",
    "import matplotlib.pyplot as plt\n",
    "import seaborn as sns\n",
    "\n",
    "file_url = 'https://raw.githubusercontent.com/snkn1959/data_source/main/customer_pca.csv'\n",
    "customer = pd.read_csv(file_url)"
   ]
  },
  {
   "cell_type": "code",
   "execution_count": 3,
   "metadata": {},
   "outputs": [
    {
     "data": {
      "text/html": [
       "<div>\n",
       "<style scoped>\n",
       "    .dataframe tbody tr th:only-of-type {\n",
       "        vertical-align: middle;\n",
       "    }\n",
       "\n",
       "    .dataframe tbody tr th {\n",
       "        vertical-align: top;\n",
       "    }\n",
       "\n",
       "    .dataframe thead th {\n",
       "        text-align: right;\n",
       "    }\n",
       "</style>\n",
       "<table border=\"1\" class=\"dataframe\">\n",
       "  <thead>\n",
       "    <tr style=\"text-align: right;\">\n",
       "      <th></th>\n",
       "      <th>amt</th>\n",
       "      <th>category_entertainment</th>\n",
       "      <th>category_food_dining</th>\n",
       "      <th>category_gas_transport</th>\n",
       "      <th>category_grocery</th>\n",
       "      <th>category_health_fitness</th>\n",
       "      <th>category_home</th>\n",
       "      <th>category_kids_pets</th>\n",
       "      <th>category_misc</th>\n",
       "      <th>category_personal_care</th>\n",
       "      <th>category_shopping</th>\n",
       "      <th>category_travel</th>\n",
       "      <th>label</th>\n",
       "    </tr>\n",
       "  </thead>\n",
       "  <tbody>\n",
       "    <tr>\n",
       "      <th>0</th>\n",
       "      <td>-1.402327</td>\n",
       "      <td>-1.135617</td>\n",
       "      <td>-0.971069</td>\n",
       "      <td>-1.000180</td>\n",
       "      <td>-1.118217</td>\n",
       "      <td>-1.561756</td>\n",
       "      <td>-1.145051</td>\n",
       "      <td>-1.276913</td>\n",
       "      <td>-1.124693</td>\n",
       "      <td>-1.070260</td>\n",
       "      <td>-1.141424</td>\n",
       "      <td>-0.619930</td>\n",
       "      <td>0</td>\n",
       "    </tr>\n",
       "    <tr>\n",
       "      <th>1</th>\n",
       "      <td>1.079407</td>\n",
       "      <td>0.414075</td>\n",
       "      <td>0.168880</td>\n",
       "      <td>2.090013</td>\n",
       "      <td>0.767268</td>\n",
       "      <td>1.040236</td>\n",
       "      <td>0.844969</td>\n",
       "      <td>1.127922</td>\n",
       "      <td>1.210503</td>\n",
       "      <td>1.807350</td>\n",
       "      <td>0.659967</td>\n",
       "      <td>-0.222587</td>\n",
       "      <td>3</td>\n",
       "    </tr>\n",
       "    <tr>\n",
       "      <th>2</th>\n",
       "      <td>1.200151</td>\n",
       "      <td>0.747127</td>\n",
       "      <td>1.622968</td>\n",
       "      <td>-0.606627</td>\n",
       "      <td>0.439476</td>\n",
       "      <td>1.376630</td>\n",
       "      <td>2.126364</td>\n",
       "      <td>0.378610</td>\n",
       "      <td>-0.196523</td>\n",
       "      <td>0.127825</td>\n",
       "      <td>1.299938</td>\n",
       "      <td>2.766891</td>\n",
       "      <td>1</td>\n",
       "    </tr>\n",
       "    <tr>\n",
       "      <th>3</th>\n",
       "      <td>-1.474915</td>\n",
       "      <td>-1.129427</td>\n",
       "      <td>-1.539741</td>\n",
       "      <td>-0.930355</td>\n",
       "      <td>-1.079803</td>\n",
       "      <td>-1.222903</td>\n",
       "      <td>-1.572733</td>\n",
       "      <td>-1.516610</td>\n",
       "      <td>-1.274986</td>\n",
       "      <td>-1.185705</td>\n",
       "      <td>-1.166127</td>\n",
       "      <td>-0.601675</td>\n",
       "      <td>0</td>\n",
       "    </tr>\n",
       "    <tr>\n",
       "      <th>4</th>\n",
       "      <td>0.901491</td>\n",
       "      <td>0.257905</td>\n",
       "      <td>-0.320220</td>\n",
       "      <td>2.083588</td>\n",
       "      <td>0.540547</td>\n",
       "      <td>0.705908</td>\n",
       "      <td>1.097814</td>\n",
       "      <td>0.955178</td>\n",
       "      <td>1.198524</td>\n",
       "      <td>1.640103</td>\n",
       "      <td>0.578781</td>\n",
       "      <td>-0.484796</td>\n",
       "      <td>3</td>\n",
       "    </tr>\n",
       "  </tbody>\n",
       "</table>\n",
       "</div>"
      ],
      "text/plain": [
       "        amt  category_entertainment  category_food_dining  \\\n",
       "0 -1.402327               -1.135617             -0.971069   \n",
       "1  1.079407                0.414075              0.168880   \n",
       "2  1.200151                0.747127              1.622968   \n",
       "3 -1.474915               -1.129427             -1.539741   \n",
       "4  0.901491                0.257905             -0.320220   \n",
       "\n",
       "   category_gas_transport  category_grocery  category_health_fitness  \\\n",
       "0               -1.000180         -1.118217                -1.561756   \n",
       "1                2.090013          0.767268                 1.040236   \n",
       "2               -0.606627          0.439476                 1.376630   \n",
       "3               -0.930355         -1.079803                -1.222903   \n",
       "4                2.083588          0.540547                 0.705908   \n",
       "\n",
       "   category_home  category_kids_pets  category_misc  category_personal_care  \\\n",
       "0      -1.145051           -1.276913      -1.124693               -1.070260   \n",
       "1       0.844969            1.127922       1.210503                1.807350   \n",
       "2       2.126364            0.378610      -0.196523                0.127825   \n",
       "3      -1.572733           -1.516610      -1.274986               -1.185705   \n",
       "4       1.097814            0.955178       1.198524                1.640103   \n",
       "\n",
       "   category_shopping  category_travel  label  \n",
       "0          -1.141424        -0.619930      0  \n",
       "1           0.659967        -0.222587      3  \n",
       "2           1.299938         2.766891      1  \n",
       "3          -1.166127        -0.601675      0  \n",
       "4           0.578781        -0.484796      3  "
      ]
     },
     "execution_count": 3,
     "metadata": {},
     "output_type": "execute_result"
    }
   ],
   "source": [
    "customer.head()"
   ]
  },
  {
   "cell_type": "code",
   "execution_count": 4,
   "metadata": {},
   "outputs": [],
   "source": [
    "customer_X = customer.drop('label', axis=1) # 독립변수 지정\n",
    "customer_Y = customer['label'] # 종속변수 지정"
   ]
  },
  {
   "cell_type": "markdown",
   "metadata": {},
   "source": [
    "### 13.1.3 그래프 표현을 위한 차원 축소"
   ]
  },
  {
   "cell_type": "code",
   "execution_count": 5,
   "metadata": {},
   "outputs": [],
   "source": [
    "from sklearn.decomposition import PCA"
   ]
  },
  {
   "cell_type": "code",
   "execution_count": 6,
   "metadata": {},
   "outputs": [],
   "source": [
    "pca = PCA(n_components=2) # 주성분 개수 지정"
   ]
  },
  {
   "cell_type": "code",
   "execution_count": 7,
   "metadata": {},
   "outputs": [],
   "source": [
    "pca.fit(customer_X)\n",
    "customer_pca = pca.transform(customer_X)"
   ]
  },
  {
   "cell_type": "code",
   "execution_count": 8,
   "metadata": {},
   "outputs": [
    {
     "data": {
      "text/plain": [
       "array([[-3.92906072e+00,  1.02604491e-01],\n",
       "       [ 3.10758276e+00, -1.74887930e+00],\n",
       "       [ 3.02379272e+00,  3.21221215e+00],\n",
       "       [-4.28241767e+00,  1.13781030e-02],\n",
       "       [ 2.59065802e+00, -1.90612064e+00],\n",
       "       [ 8.70343520e-01, -1.79154348e-02],\n",
       "       [-1.16508938e+00,  2.00387900e+00],\n",
       "       [ 1.41163657e+00, -1.21220170e+00],\n",
       "       [ 1.79302072e-01, -1.15337545e+00],\n",
       "       [-2.74166293e+00, -3.48112299e-02],\n",
       "       [ 4.03108363e-01, -2.56426911e-01],\n",
       "       [-4.32816586e+00,  1.09280479e-01],\n",
       "       [-1.06779010e+00, -4.71336448e-01],\n",
       "       [-3.54208654e+00,  2.09373453e-01],\n",
       "       [ 3.00321739e+00,  6.85140300e-02],\n",
       "       [ 5.08464052e+00, -1.92234923e+00],\n",
       "       [-1.39044460e+00,  3.22162225e-01],\n",
       "       [-2.64318989e+00, -4.59744830e-01],\n",
       "       [-7.37714393e-01, -9.30393910e-01],\n",
       "       [-3.93420145e+00,  1.62749639e-01],\n",
       "       [ 3.16675507e-01, -4.22288613e-01],\n",
       "       [ 7.31864853e+00,  5.17885391e-02],\n",
       "       [ 6.60448573e-01, -1.13828656e+00],\n",
       "       [-3.96099431e+00, -5.54999191e-02],\n",
       "       [ 2.88515690e+00, -1.50950875e+00],\n",
       "       [-9.13413956e-01, -2.84250823e-01],\n",
       "       [ 7.47738674e+00,  4.13602819e-01],\n",
       "       [ 8.51161986e-01,  2.66450095e+00],\n",
       "       [ 3.11683289e+00,  3.55512199e+00],\n",
       "       [-2.61734209e+00, -2.27449931e-03],\n",
       "       [-1.22771428e-01, -3.31216229e-01],\n",
       "       [ 9.13108512e-01,  3.00138893e+00],\n",
       "       [-9.55686582e-02, -2.02640440e-01],\n",
       "       [ 2.51249575e+00, -6.33108713e-01],\n",
       "       [ 3.12230426e+00,  3.70599880e+00],\n",
       "       [ 3.14778237e+00,  4.33267256e+00],\n",
       "       [ 6.06549063e-01, -9.86110799e-01],\n",
       "       [-3.46744343e+00,  1.08940594e+00],\n",
       "       [ 6.18615770e-02, -1.27174586e+00],\n",
       "       [ 2.87266476e-01, -1.05338012e+00],\n",
       "       [ 5.08834370e-01, -2.02343984e-01],\n",
       "       [-9.01515768e-01, -2.68070767e-01],\n",
       "       [-8.05819264e-02, -6.27176745e-01],\n",
       "       [-2.57697663e+00, -1.32747276e-01],\n",
       "       [ 2.92716445e+00,  4.17160726e-01],\n",
       "       [ 7.53139122e+00,  8.91638114e-01],\n",
       "       [ 2.37952005e+00, -1.70940926e+00],\n",
       "       [-1.24997746e+00,  2.93538981e-01],\n",
       "       [ 5.08939438e-01,  5.05213153e-01],\n",
       "       [ 2.00027356e+00, -5.82652255e-01],\n",
       "       [-4.11163191e+00,  1.20451458e-02],\n",
       "       [ 7.19921286e-01, -1.02373898e+00],\n",
       "       [ 5.13207228e+00, -3.55005462e-02],\n",
       "       [-1.30152112e+00, -2.92916652e-01],\n",
       "       [-1.26229904e+00,  1.99571763e+00],\n",
       "       [-3.92072783e+00,  4.19591569e-01],\n",
       "       [-3.92335605e+00,  2.90238232e-01],\n",
       "       [-1.07974232e+00, -7.56236332e-01],\n",
       "       [ 2.29847276e+00, -1.71731618e+00],\n",
       "       [-2.41712125e+00, -1.65314491e-01],\n",
       "       [-1.94038751e+00,  8.65325435e-02],\n",
       "       [ 9.61908159e-01,  3.07626115e+00],\n",
       "       [ 3.07761364e+00,  6.23734925e-01],\n",
       "       [ 6.98825143e-02, -1.26850385e+00],\n",
       "       [-3.83324310e+00,  1.04062564e-01],\n",
       "       [ 5.07062308e+00,  3.66619197e-01],\n",
       "       [ 3.03194691e+00,  3.70983803e+00],\n",
       "       [-3.79352069e+00,  2.43265665e-01],\n",
       "       [ 8.44571030e-01, -9.03608885e-01],\n",
       "       [ 1.10497065e+00, -5.69239958e-01],\n",
       "       [-1.20868859e+00, -5.47974662e-01],\n",
       "       [-3.74634015e+00,  6.45711112e-01],\n",
       "       [ 6.55382011e-01, -6.80909837e-01],\n",
       "       [ 3.18270985e+00, -1.60458982e+00],\n",
       "       [-6.86581666e-01,  4.12809181e-02],\n",
       "       [-1.14472565e+00, -5.80928792e-01],\n",
       "       [ 2.25158156e+00, -1.86551742e+00],\n",
       "       [-4.11846276e+00,  2.43692755e-01],\n",
       "       [-3.61019796e+00,  3.80018798e-01],\n",
       "       [-2.39950827e+00, -2.99975577e-01],\n",
       "       [-1.38050726e+00,  2.37925206e-01],\n",
       "       [ 5.69227545e-01, -9.45067658e-01],\n",
       "       [-7.54661391e-01, -5.46883930e-02],\n",
       "       [-2.06403817e+00, -2.02782822e-01],\n",
       "       [-1.25451597e+00, -5.30717565e-02],\n",
       "       [ 5.47010496e-01, -1.18056800e+00],\n",
       "       [ 7.28182232e+00,  3.68954923e-01],\n",
       "       [ 1.51779943e-01, -2.94127566e-01],\n",
       "       [-1.06550470e+00, -6.32866500e-01],\n",
       "       [ 2.20734751e+00, -1.60190057e+00],\n",
       "       [ 5.58915914e-01,  2.22725170e-01],\n",
       "       [-4.39374365e+00,  1.84102321e-02],\n",
       "       [-2.09512738e+00, -2.05503210e-01],\n",
       "       [-1.93572397e+00, -1.86190550e-01],\n",
       "       [ 1.57812958e-01, -5.61152392e-01],\n",
       "       [ 3.05786793e+00, -2.07006100e+00],\n",
       "       [-1.98087248e+00, -1.85123765e-01],\n",
       "       [-3.46538499e+00,  1.02229842e+00],\n",
       "       [-3.27716415e+00,  1.39247995e+00],\n",
       "       [ 2.17218468e+00, -6.13946378e-01]])"
      ]
     },
     "execution_count": 8,
     "metadata": {},
     "output_type": "execute_result"
    }
   ],
   "source": [
    "customer_pca"
   ]
  },
  {
   "cell_type": "code",
   "execution_count": 9,
   "metadata": {},
   "outputs": [],
   "source": [
    "customer_pca = pd.DataFrame(customer_pca, columns=['PC1', 'PC2'])"
   ]
  },
  {
   "cell_type": "code",
   "execution_count": 10,
   "metadata": {},
   "outputs": [],
   "source": [
    "customer_pca = customer_pca.join(customer_Y)"
   ]
  },
  {
   "cell_type": "code",
   "execution_count": 11,
   "metadata": {},
   "outputs": [
    {
     "data": {
      "text/html": [
       "<div>\n",
       "<style scoped>\n",
       "    .dataframe tbody tr th:only-of-type {\n",
       "        vertical-align: middle;\n",
       "    }\n",
       "\n",
       "    .dataframe tbody tr th {\n",
       "        vertical-align: top;\n",
       "    }\n",
       "\n",
       "    .dataframe thead th {\n",
       "        text-align: right;\n",
       "    }\n",
       "</style>\n",
       "<table border=\"1\" class=\"dataframe\">\n",
       "  <thead>\n",
       "    <tr style=\"text-align: right;\">\n",
       "      <th></th>\n",
       "      <th>PC1</th>\n",
       "      <th>PC2</th>\n",
       "      <th>label</th>\n",
       "    </tr>\n",
       "  </thead>\n",
       "  <tbody>\n",
       "    <tr>\n",
       "      <th>0</th>\n",
       "      <td>-3.929061</td>\n",
       "      <td>0.102604</td>\n",
       "      <td>0</td>\n",
       "    </tr>\n",
       "    <tr>\n",
       "      <th>1</th>\n",
       "      <td>3.107583</td>\n",
       "      <td>-1.748879</td>\n",
       "      <td>3</td>\n",
       "    </tr>\n",
       "    <tr>\n",
       "      <th>2</th>\n",
       "      <td>3.023793</td>\n",
       "      <td>3.212212</td>\n",
       "      <td>1</td>\n",
       "    </tr>\n",
       "    <tr>\n",
       "      <th>3</th>\n",
       "      <td>-4.282418</td>\n",
       "      <td>0.011378</td>\n",
       "      <td>0</td>\n",
       "    </tr>\n",
       "    <tr>\n",
       "      <th>4</th>\n",
       "      <td>2.590658</td>\n",
       "      <td>-1.906121</td>\n",
       "      <td>3</td>\n",
       "    </tr>\n",
       "  </tbody>\n",
       "</table>\n",
       "</div>"
      ],
      "text/plain": [
       "        PC1       PC2  label\n",
       "0 -3.929061  0.102604      0\n",
       "1  3.107583 -1.748879      3\n",
       "2  3.023793  3.212212      1\n",
       "3 -4.282418  0.011378      0\n",
       "4  2.590658 -1.906121      3"
      ]
     },
     "execution_count": 11,
     "metadata": {},
     "output_type": "execute_result"
    }
   ],
   "source": [
    "customer_pca.head()"
   ]
  },
  {
   "cell_type": "code",
   "execution_count": 13,
   "metadata": {},
   "outputs": [
    {
     "data": {
      "text/plain": [
       "<AxesSubplot:xlabel='PC1', ylabel='PC2'>"
      ]
     },
     "execution_count": 13,
     "metadata": {},
     "output_type": "execute_result"
    },
    {
     "data": {
      "image/png": "[encoded data removed]",
      "text/plain": [
       "<Figure size 432x288 with 1 Axes>"
      ]
     },
     "metadata": {
      "needs_background": "light"
     },
     "output_type": "display_data"
    }
   ],
   "source": [
    "sns.scatterplot(x='PC1', y='PC2', hue='label', data=customer_pca, palette='rainbow')"
   ]
  },
  {
   "cell_type": "code",
   "execution_count": 14,
   "metadata": {},
   "outputs": [
    {
     "data": {
      "text/plain": [
       "array([[ 0.3484681 ,  0.32447242,  0.30303652,  0.14186907,  0.30618347,\n",
       "         0.31297263,  0.29718852,  0.3045823 ,  0.29341337,  0.30287672,\n",
       "         0.32053447,  0.08927503],\n",
       "       [ 0.05827591,  0.06034266,  0.15264674, -0.54435586,  0.03109502,\n",
       "         0.03790586,  0.23809571, -0.2315275 , -0.2471928 , -0.20898284,\n",
       "         0.14479001,  0.65946781]])"
      ]
     },
     "execution_count": 14,
     "metadata": {},
     "output_type": "execute_result"
    }
   ],
   "source": [
    "pca.components_ # 주성분과 변수의 관계 확인"
   ]
  },
  {
   "cell_type": "code",
   "execution_count": 15,
   "metadata": {},
   "outputs": [],
   "source": [
    "df_comp = pd.DataFrame(pca.components_, columns=customer_X.columns)"
   ]
  },
  {
   "cell_type": "code",
   "execution_count": 16,
   "metadata": {},
   "outputs": [
    {
     "data": {
      "text/html": [
       "<div>\n",
       "<style scoped>\n",
       "    .dataframe tbody tr th:only-of-type {\n",
       "        vertical-align: middle;\n",
       "    }\n",
       "\n",
       "    .dataframe tbody tr th {\n",
       "        vertical-align: top;\n",
       "    }\n",
       "\n",
       "    .dataframe thead th {\n",
       "        text-align: right;\n",
       "    }\n",
       "</style>\n",
       "<table border=\"1\" class=\"dataframe\">\n",
       "  <thead>\n",
       "    <tr style=\"text-align: right;\">\n",
       "      <th></th>\n",
       "      <th>amt</th>\n",
       "      <th>category_entertainment</th>\n",
       "      <th>category_food_dining</th>\n",
       "      <th>category_gas_transport</th>\n",
       "      <th>category_grocery</th>\n",
       "      <th>category_health_fitness</th>\n",
       "      <th>category_home</th>\n",
       "      <th>category_kids_pets</th>\n",
       "      <th>category_misc</th>\n",
       "      <th>category_personal_care</th>\n",
       "      <th>category_shopping</th>\n",
       "      <th>category_travel</th>\n",
       "    </tr>\n",
       "  </thead>\n",
       "  <tbody>\n",
       "    <tr>\n",
       "      <th>0</th>\n",
       "      <td>0.348468</td>\n",
       "      <td>0.324472</td>\n",
       "      <td>0.303037</td>\n",
       "      <td>0.141869</td>\n",
       "      <td>0.306183</td>\n",
       "      <td>0.312973</td>\n",
       "      <td>0.297189</td>\n",
       "      <td>0.304582</td>\n",
       "      <td>0.293413</td>\n",
       "      <td>0.302877</td>\n",
       "      <td>0.320534</td>\n",
       "      <td>0.089275</td>\n",
       "    </tr>\n",
       "    <tr>\n",
       "      <th>1</th>\n",
       "      <td>0.058276</td>\n",
       "      <td>0.060343</td>\n",
       "      <td>0.152647</td>\n",
       "      <td>-0.544356</td>\n",
       "      <td>0.031095</td>\n",
       "      <td>0.037906</td>\n",
       "      <td>0.238096</td>\n",
       "      <td>-0.231528</td>\n",
       "      <td>-0.247193</td>\n",
       "      <td>-0.208983</td>\n",
       "      <td>0.144790</td>\n",
       "      <td>0.659468</td>\n",
       "    </tr>\n",
       "  </tbody>\n",
       "</table>\n",
       "</div>"
      ],
      "text/plain": [
       "        amt  category_entertainment  category_food_dining  \\\n",
       "0  0.348468                0.324472              0.303037   \n",
       "1  0.058276                0.060343              0.152647   \n",
       "\n",
       "   category_gas_transport  category_grocery  category_health_fitness  \\\n",
       "0                0.141869          0.306183                 0.312973   \n",
       "1               -0.544356          0.031095                 0.037906   \n",
       "\n",
       "   category_home  category_kids_pets  category_misc  category_personal_care  \\\n",
       "0       0.297189            0.304582       0.293413                0.302877   \n",
       "1       0.238096           -0.231528      -0.247193               -0.208983   \n",
       "\n",
       "   category_shopping  category_travel  \n",
       "0           0.320534         0.089275  \n",
       "1           0.144790         0.659468  "
      ]
     },
     "execution_count": 16,
     "metadata": {},
     "output_type": "execute_result"
    }
   ],
   "source": [
    "df_comp"
   ]
  },
  {
   "cell_type": "code",
   "execution_count": 17,
   "metadata": {},
   "outputs": [
    {
     "data": {
      "text/plain": [
       "<AxesSubplot:>"
      ]
     },
     "execution_count": 17,
     "metadata": {},
     "output_type": "execute_result"
    },
    {
     "data": {
      "image/png": "[encoded data removed]",
      "text/plain": [
       "<Figure size 432x288 with 2 Axes>"
      ]
     },
     "metadata": {
      "needs_background": "light"
     },
     "output_type": "display_data"
    }
   ],
   "source": [
    "sns.heatmap(df_comp, cmap='coolwarm')"
   ]
  },
  {
   "cell_type": "markdown",
   "metadata": {},
   "source": [
    "## 13.2 속도와 예측력을 향상시키기 : 익명 데이터셋"
   ]
  },
  {
   "cell_type": "markdown",
   "metadata": {},
   "source": [
    "### 13.2.1 문제 정의: 한눈에 보는 예측 목표\n",
    "\n",
    "* 미션: 데이터의 차원을 축소해 학습 시간을 줄이고 성능을 향상시켜라\n",
    "* 알고리즘: 주성분 분석\n",
    "* 문제 유형: 비지도 학습\n",
    "* 평가 지표: AUC"
   ]
  },
  {
   "cell_type": "markdown",
   "metadata": {},
   "source": [
    "### 13.2.2 다차원 데이터 불러오기"
   ]
  },
  {
   "cell_type": "code",
   "execution_count": 18,
   "metadata": {},
   "outputs": [],
   "source": [
    "file_url = 'https://media.githubusercontent.com/media/musthave-ML10/data_source/main/anonymous.csv'\n",
    "anonymous = pd.read_csv(file_url)"
   ]
  },
  {
   "cell_type": "code",
   "execution_count": 19,
   "metadata": {},
   "outputs": [
    {
     "data": {
      "text/html": [
       "<div>\n",
       "<style scoped>\n",
       "    .dataframe tbody tr th:only-of-type {\n",
       "        vertical-align: middle;\n",
       "    }\n",
       "\n",
       "    .dataframe tbody tr th {\n",
       "        vertical-align: top;\n",
       "    }\n",
       "\n",
       "    .dataframe thead th {\n",
       "        text-align: right;\n",
       "    }\n",
       "</style>\n",
       "<table border=\"1\" class=\"dataframe\">\n",
       "  <thead>\n",
       "    <tr style=\"text-align: right;\">\n",
       "      <th></th>\n",
       "      <th>class</th>\n",
       "      <th>V1</th>\n",
       "      <th>V2</th>\n",
       "      <th>V3</th>\n",
       "      <th>V4</th>\n",
       "      <th>V5</th>\n",
       "      <th>V6</th>\n",
       "      <th>V7</th>\n",
       "      <th>V8</th>\n",
       "      <th>V9</th>\n",
       "      <th>...</th>\n",
       "      <th>V4287</th>\n",
       "      <th>V4288</th>\n",
       "      <th>V4289</th>\n",
       "      <th>V4290</th>\n",
       "      <th>V4291</th>\n",
       "      <th>V4292</th>\n",
       "      <th>V4293</th>\n",
       "      <th>V4294</th>\n",
       "      <th>V4295</th>\n",
       "      <th>V4296</th>\n",
       "    </tr>\n",
       "  </thead>\n",
       "  <tbody>\n",
       "    <tr>\n",
       "      <th>0</th>\n",
       "      <td>1</td>\n",
       "      <td>0.0</td>\n",
       "      <td>0.0</td>\n",
       "      <td>0.56758</td>\n",
       "      <td>0.0</td>\n",
       "      <td>0.0</td>\n",
       "      <td>0.0</td>\n",
       "      <td>0.0</td>\n",
       "      <td>0.82585</td>\n",
       "      <td>0.83788</td>\n",
       "      <td>...</td>\n",
       "      <td>-0.25777</td>\n",
       "      <td>0.12220</td>\n",
       "      <td>0.348620</td>\n",
       "      <td>0.12957</td>\n",
       "      <td>0.43846</td>\n",
       "      <td>-0.108020</td>\n",
       "      <td>0.128330</td>\n",
       "      <td>0.318820</td>\n",
       "      <td>-0.041559</td>\n",
       "      <td>0.22589</td>\n",
       "    </tr>\n",
       "    <tr>\n",
       "      <th>1</th>\n",
       "      <td>1</td>\n",
       "      <td>0.0</td>\n",
       "      <td>0.0</td>\n",
       "      <td>0.56758</td>\n",
       "      <td>0.0</td>\n",
       "      <td>0.0</td>\n",
       "      <td>0.0</td>\n",
       "      <td>0.0</td>\n",
       "      <td>0.82585</td>\n",
       "      <td>0.83788</td>\n",
       "      <td>...</td>\n",
       "      <td>-0.15316</td>\n",
       "      <td>0.14062</td>\n",
       "      <td>-0.030201</td>\n",
       "      <td>0.10134</td>\n",
       "      <td>-0.14546</td>\n",
       "      <td>-0.166650</td>\n",
       "      <td>0.401300</td>\n",
       "      <td>0.035392</td>\n",
       "      <td>0.019906</td>\n",
       "      <td>0.31952</td>\n",
       "    </tr>\n",
       "    <tr>\n",
       "      <th>2</th>\n",
       "      <td>1</td>\n",
       "      <td>0.0</td>\n",
       "      <td>0.0</td>\n",
       "      <td>0.56758</td>\n",
       "      <td>0.0</td>\n",
       "      <td>0.0</td>\n",
       "      <td>0.0</td>\n",
       "      <td>0.0</td>\n",
       "      <td>0.82585</td>\n",
       "      <td>0.83788</td>\n",
       "      <td>...</td>\n",
       "      <td>-0.40122</td>\n",
       "      <td>0.13790</td>\n",
       "      <td>0.138350</td>\n",
       "      <td>0.15746</td>\n",
       "      <td>0.51216</td>\n",
       "      <td>-0.330690</td>\n",
       "      <td>0.070346</td>\n",
       "      <td>0.179250</td>\n",
       "      <td>-0.188740</td>\n",
       "      <td>0.16386</td>\n",
       "    </tr>\n",
       "    <tr>\n",
       "      <th>3</th>\n",
       "      <td>1</td>\n",
       "      <td>0.0</td>\n",
       "      <td>0.0</td>\n",
       "      <td>0.56758</td>\n",
       "      <td>0.0</td>\n",
       "      <td>0.0</td>\n",
       "      <td>0.0</td>\n",
       "      <td>0.0</td>\n",
       "      <td>0.82585</td>\n",
       "      <td>0.83788</td>\n",
       "      <td>...</td>\n",
       "      <td>-0.15587</td>\n",
       "      <td>-0.26686</td>\n",
       "      <td>0.158930</td>\n",
       "      <td>-0.13204</td>\n",
       "      <td>0.32221</td>\n",
       "      <td>-0.042086</td>\n",
       "      <td>0.588970</td>\n",
       "      <td>0.526990</td>\n",
       "      <td>-0.574320</td>\n",
       "      <td>0.20891</td>\n",
       "    </tr>\n",
       "    <tr>\n",
       "      <th>4</th>\n",
       "      <td>1</td>\n",
       "      <td>0.0</td>\n",
       "      <td>0.0</td>\n",
       "      <td>0.56758</td>\n",
       "      <td>0.0</td>\n",
       "      <td>0.0</td>\n",
       "      <td>0.0</td>\n",
       "      <td>0.0</td>\n",
       "      <td>0.82585</td>\n",
       "      <td>0.83788</td>\n",
       "      <td>...</td>\n",
       "      <td>0.24020</td>\n",
       "      <td>0.44605</td>\n",
       "      <td>-0.163560</td>\n",
       "      <td>0.45311</td>\n",
       "      <td>0.59073</td>\n",
       "      <td>0.356800</td>\n",
       "      <td>0.395780</td>\n",
       "      <td>0.035871</td>\n",
       "      <td>-0.293430</td>\n",
       "      <td>0.38124</td>\n",
       "    </tr>\n",
       "  </tbody>\n",
       "</table>\n",
       "<p>5 rows × 4297 columns</p>\n",
       "</div>"
      ],
      "text/plain": [
       "   class   V1   V2       V3   V4   V5   V6   V7       V8       V9  ...  \\\n",
       "0      1  0.0  0.0  0.56758  0.0  0.0  0.0  0.0  0.82585  0.83788  ...   \n",
       "1      1  0.0  0.0  0.56758  0.0  0.0  0.0  0.0  0.82585  0.83788  ...   \n",
       "2      1  0.0  0.0  0.56758  0.0  0.0  0.0  0.0  0.82585  0.83788  ...   \n",
       "3      1  0.0  0.0  0.56758  0.0  0.0  0.0  0.0  0.82585  0.83788  ...   \n",
       "4      1  0.0  0.0  0.56758  0.0  0.0  0.0  0.0  0.82585  0.83788  ...   \n",
       "\n",
       "     V4287    V4288     V4289    V4290    V4291     V4292     V4293     V4294  \\\n",
       "0 -0.25777  0.12220  0.348620  0.12957  0.43846 -0.108020  0.128330  0.318820   \n",
       "1 -0.15316  0.14062 -0.030201  0.10134 -0.14546 -0.166650  0.401300  0.035392   \n",
       "2 -0.40122  0.13790  0.138350  0.15746  0.51216 -0.330690  0.070346  0.179250   \n",
       "3 -0.15587 -0.26686  0.158930 -0.13204  0.32221 -0.042086  0.588970  0.526990   \n",
       "4  0.24020  0.44605 -0.163560  0.45311  0.59073  0.356800  0.395780  0.035871   \n",
       "\n",
       "      V4295    V4296  \n",
       "0 -0.041559  0.22589  \n",
       "1  0.019906  0.31952  \n",
       "2 -0.188740  0.16386  \n",
       "3 -0.574320  0.20891  \n",
       "4 -0.293430  0.38124  \n",
       "\n",
       "[5 rows x 4297 columns]"
      ]
     },
     "execution_count": 19,
     "metadata": {},
     "output_type": "execute_result"
    }
   ],
   "source": [
    "anonymous.head()"
   ]
  },
  {
   "cell_type": "code",
   "execution_count": 21,
   "metadata": {},
   "outputs": [
    {
     "data": {
      "text/plain": [
       "0.25"
      ]
     },
     "execution_count": 21,
     "metadata": {},
     "output_type": "execute_result"
    }
   ],
   "source": [
    "anonymous['class'].mean()"
   ]
  },
  {
   "cell_type": "code",
   "execution_count": 22,
   "metadata": {},
   "outputs": [
    {
     "data": {
      "text/plain": [
       "0"
      ]
     },
     "execution_count": 22,
     "metadata": {},
     "output_type": "execute_result"
    }
   ],
   "source": [
    "anonymous.isna().sum().sum()"
   ]
  },
  {
   "cell_type": "markdown",
   "metadata": {},
   "source": [
    "### 13.2.3 PCA에 따른 모델링 성능/결과 비교하기"
   ]
  },
  {
   "cell_type": "code",
   "execution_count": 23,
   "metadata": {},
   "outputs": [],
   "source": [
    "from sklearn.model_selection import train_test_split\n",
    "\n",
    "X_train, X_test, y_train, y_test = train_test_split(anonymous.drop('class', axis=1), anonymous['class'], test_size=0.2, random_state=100)"
   ]
  },
  {
   "cell_type": "code",
   "execution_count": 24,
   "metadata": {},
   "outputs": [],
   "source": [
    "from sklearn.preprocessing import StandardScaler\n",
    "\n",
    "scaler = StandardScaler()\n",
    "scaler.fit(X_train)\n",
    "\n",
    "X_train_scaled = scaler.transform(X_train)\n",
    "X_test_scaled = scaler.transform(X_test)"
   ]
  },
  {
   "cell_type": "code",
   "execution_count": 25,
   "metadata": {},
   "outputs": [],
   "source": [
    "from sklearn.ensemble import RandomForestClassifier\n",
    "model_1 = RandomForestClassifier(random_state=100)"
   ]
  },
  {
   "cell_type": "code",
   "execution_count": 26,
   "metadata": {},
   "outputs": [
    {
     "name": "stdout",
     "output_type": "stream",
     "text": [
      "59.80581307411194\n"
     ]
    }
   ],
   "source": [
    "import time\n",
    "start_time = time.time()\n",
    "model_1.fit(X_train_scaled, y_train)\n",
    "print(time.time() - start_time)"
   ]
  },
  {
   "cell_type": "code",
   "execution_count": 27,
   "metadata": {},
   "outputs": [
    {
     "data": {
      "text/plain": [
       "0.958"
      ]
     },
     "execution_count": 27,
     "metadata": {},
     "output_type": "execute_result"
    }
   ],
   "source": [
    "from sklearn.metrics import accuracy_score, roc_auc_score\n",
    "\n",
    "pred_1 = model_1.predict(X_test_scaled)\n",
    "accuracy_score(y_test, pred_1)"
   ]
  },
  {
   "cell_type": "code",
   "execution_count": 29,
   "metadata": {},
   "outputs": [
    {
     "data": {
      "text/plain": [
       "0.9982541957107813"
      ]
     },
     "execution_count": 29,
     "metadata": {},
     "output_type": "execute_result"
    }
   ],
   "source": [
    "proba_1 = model_1.predict_proba(X_test_scaled)\n",
    "roc_auc_score(y_test, proba_1[:, 1])"
   ]
  },
  {
   "cell_type": "code",
   "execution_count": 30,
   "metadata": {},
   "outputs": [
    {
     "data": {
      "text/html": [
       "<style>#sk-container-id-1 {color: black;background-color: white;}#sk-container-id-1 pre{padding: 0;}#sk-container-id-1 div.sk-toggleable {background-color: white;}#sk-container-id-1 label.sk-toggleable__label {cursor: pointer;display: block;width: 100%;margin-bottom: 0;padding: 0.3em;box-sizing: border-box;text-align: center;}#sk-container-id-1 label.sk-toggleable__label-arrow:before {content: \"▸\";float: left;margin-right: 0.25em;color: #696969;}#sk-container-id-1 label.sk-toggleable__label-arrow:hover:before {color: black;}#sk-container-id-1 div.sk-estimator:hover label.sk-toggleable__label-arrow:before {color: black;}#sk-container-id-1 div.sk-toggleable__content {max-height: 0;max-width: 0;overflow: hidden;text-align: left;background-color: #f0f8ff;}#sk-container-id-1 div.sk-toggleable__content pre {margin: 0.2em;color: black;border-radius: 0.25em;background-color: #f0f8ff;}#sk-container-id-1 input.sk-toggleable__control:checked~div.sk-toggleable__content {max-height: 200px;max-width: 100%;overflow: auto;}#sk-container-id-1 input.sk-toggleable__control:checked~label.sk-toggleable__label-arrow:before {content: \"▾\";}#sk-container-id-1 div.sk-estimator input.sk-toggleable__control:checked~label.sk-toggleable__label {background-color: #d4ebff;}#sk-container-id-1 div.sk-label input.sk-toggleable__control:checked~label.sk-toggleable__label {background-color: #d4ebff;}#sk-container-id-1 input.sk-hidden--visually {border: 0;clip: rect(1px 1px 1px 1px);clip: rect(1px, 1px, 1px, 1px);height: 1px;margin: -1px;overflow: hidden;padding: 0;position: absolute;width: 1px;}#sk-container-id-1 div.sk-estimator {font-family: monospace;background-color: #f0f8ff;border: 1px dotted black;border-radius: 0.25em;box-sizing: border-box;margin-bottom: 0.5em;}#sk-container-id-1 div.sk-estimator:hover {background-color: #d4ebff;}#sk-container-id-1 div.sk-parallel-item::after {content: \"\";width: 100%;border-bottom: 1px solid gray;flex-grow: 1;}#sk-container-id-1 div.sk-label:hover label.sk-toggleable__label {background-color: #d4ebff;}#sk-container-id-1 div.sk-serial::before {content: \"\";position: absolute;border-left: 1px solid gray;box-sizing: border-box;top: 0;bottom: 0;left: 50%;z-index: 0;}#sk-container-id-1 div.sk-serial {display: flex;flex-direction: column;align-items: center;background-color: white;padding-right: 0.2em;padding-left: 0.2em;position: relative;}#sk-container-id-1 div.sk-item {position: relative;z-index: 1;}#sk-container-id-1 div.sk-parallel {display: flex;align-items: stretch;justify-content: center;background-color: white;position: relative;}#sk-container-id-1 div.sk-item::before, #sk-container-id-1 div.sk-parallel-item::before {content: \"\";position: absolute;border-left: 1px solid gray;box-sizing: border-box;top: 0;bottom: 0;left: 50%;z-index: -1;}#sk-container-id-1 div.sk-parallel-item {display: flex;flex-direction: column;z-index: 1;position: relative;background-color: white;}#sk-container-id-1 div.sk-parallel-item:first-child::after {align-self: flex-end;width: 50%;}#sk-container-id-1 div.sk-parallel-item:last-child::after {align-self: flex-start;width: 50%;}#sk-container-id-1 div.sk-parallel-item:only-child::after {width: 0;}#sk-container-id-1 div.sk-dashed-wrapped {border: 1px dashed gray;margin: 0 0.4em 0.5em 0.4em;box-sizing: border-box;padding-bottom: 0.4em;background-color: white;}#sk-container-id-1 div.sk-label label {font-family: monospace;font-weight: bold;display: inline-block;line-height: 1.2em;}#sk-container-id-1 div.sk-label-container {text-align: center;}#sk-container-id-1 div.sk-container {/* jupyter's `normalize.less` sets `[hidden] { display: none; }` but bootstrap.min.css set `[hidden] { display: none !important; }` so we also need the `!important` here to be able to override the default hidden behavior on the sphinx rendered scikit-learn.org. See: https://github.com/scikit-learn/scikit-learn/issues/21755 */display: inline-block !important;position: relative;}#sk-container-id-1 div.sk-text-repr-fallback {display: none;}</style><div id=\"sk-container-id-1\" class=\"sk-top-container\"><div class=\"sk-text-repr-fallback\"><pre>PCA(n_components=2)</pre><b>In a Jupyter environment, please rerun this cell to show the HTML representation or trust the notebook. <br />On GitHub, the HTML representation is unable to render, please try loading this page with nbviewer.org.</b></div><div class=\"sk-container\" hidden><div class=\"sk-item\"><div class=\"sk-estimator sk-toggleable\"><input class=\"sk-toggleable__control sk-hidden--visually\" id=\"sk-estimator-id-1\" type=\"checkbox\" checked><label for=\"sk-estimator-id-1\" class=\"sk-toggleable__label sk-toggleable__label-arrow\">PCA</label><div class=\"sk-toggleable__content\"><pre>PCA(n_components=2)</pre></div></div></div></div></div>"
      ],
      "text/plain": [
       "PCA(n_components=2)"
      ]
     },
     "execution_count": 30,
     "metadata": {},
     "output_type": "execute_result"
    }
   ],
   "source": [
    "pca = PCA(n_components=2)\n",
    "pca.fit(X_train_scaled)"
   ]
  },
  {
   "cell_type": "code",
   "execution_count": 31,
   "metadata": {},
   "outputs": [
    {
     "data": {
      "text/plain": [
       "array([0.04992445, 0.03331409])"
      ]
     },
     "execution_count": 31,
     "metadata": {},
     "output_type": "execute_result"
    }
   ],
   "source": [
    "pca.explained_variance_ratio_"
   ]
  },
  {
   "cell_type": "code",
   "execution_count": 32,
   "metadata": {},
   "outputs": [],
   "source": [
    "var_ratio = []\n",
    "for i in range(100, 550, 50):\n",
    "    pca = PCA(n_components =i)\n",
    "    pca.fit_transform(X_train_scaled)\n",
    "    ratio = pca.explained_variance_ratio_.sum()\n",
    "    var_ratio.append(ratio)"
   ]
  },
  {
   "cell_type": "code",
   "execution_count": 33,
   "metadata": {},
   "outputs": [
    {
     "data": {
      "text/plain": [
       "<AxesSubplot:>"
      ]
     },
     "execution_count": 33,
     "metadata": {},
     "output_type": "execute_result"
    },
    {
     "data": {
      "image/png": "[encoded data removed]",
      "text/plain": [
       "<Figure size 432x288 with 1 Axes>"
      ]
     },
     "metadata": {
      "needs_background": "light"
     },
     "output_type": "display_data"
    }
   ],
   "source": [
    "sns.lineplot(x=range(100, 550, 50), y=var_ratio)"
   ]
  },
  {
   "cell_type": "code",
   "execution_count": 36,
   "metadata": {},
   "outputs": [],
   "source": [
    "pca = PCA(n_components=400, random_state=100)\n",
    "pca.fit(X_train_scaled)\n",
    "X_train_scaled_pca = pca.transform(X_train_scaled)\n",
    "X_test_scaled_pca = pca.transform(X_test_scaled)"
   ]
  },
  {
   "cell_type": "code",
   "execution_count": 37,
   "metadata": {},
   "outputs": [
    {
     "name": "stdout",
     "output_type": "stream",
     "text": [
      "35.722187995910645\n"
     ]
    }
   ],
   "source": [
    "model_2 = RandomForestClassifier(random_state=100)\n",
    "start_time = time.time()\n",
    "model_2.fit(X_train_scaled_pca, y_train)\n",
    "print(time.time()-start_time\n",
    ")"
   ]
  },
  {
   "cell_type": "code",
   "execution_count": 38,
   "metadata": {},
   "outputs": [
    {
     "data": {
      "text/plain": [
       "0.98925"
      ]
     },
     "execution_count": 38,
     "metadata": {},
     "output_type": "execute_result"
    }
   ],
   "source": [
    "pred_2 = model_2.predict(X_test_scaled_pca)\n",
    "accuracy_score(y_test, pred_2)"
   ]
  },
  {
   "cell_type": "code",
   "execution_count": 39,
   "metadata": {},
   "outputs": [
    {
     "data": {
      "text/plain": [
       "0.9982517669346417"
      ]
     },
     "execution_count": 39,
     "metadata": {},
     "output_type": "execute_result"
    }
   ],
   "source": [
    "proba_2 = model_2.predict_proba(X_test_scaled_pca)\n",
    "roc_auc_score(y_test, proba_2[:, 1])"
   ]
  },
  {
   "cell_type": "code",
   "execution_count": null,
   "metadata": {},
   "outputs": [],
   "source": []
  }
 ],
 "metadata": {
  "kernelspec": {
   "display_name": "Python 3.8.13 ('myenv1')",
   "language": "python",
   "name": "python3"
  },
  "language_info": {
   "codemirror_mode": {
    "name": "ipython",
    "version": 3
   },
   "file_extension": ".py",
   "mimetype": "text/x-python",
   "name": "python",
   "nbconvert_exporter": "python",
   "pygments_lexer": "ipython3",
   "version": "3.8.13"
  },
  "orig_nbformat": 4,
  "vscode": {
   "interpreter": {
    "hash": "e1acd79579433d099a774017ba86d1314ddef5b0bdc137c47399c89169a3fec8"
   }
  }
 },
 "nbformat": 4,
 "nbformat_minor": 2
}
